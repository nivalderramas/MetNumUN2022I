{
  "nbformat": 4,
  "nbformat_minor": 0,
  "metadata": {
    "colab": {
      "name": "groupXSymPyLab.ipynb",
      "provenance": [],
      "collapsed_sections": []
    },
    "kernelspec": {
      "name": "python3",
      "display_name": "Python 3"
    }
  },
  "cells": [
    {
      "cell_type": "markdown",
      "metadata": {
        "id": "vtY1shFnMal_"
      },
      "source": [
        "# SymPyLab\n",
        "\n",
        "SymPy’s documentation\n",
        "- https://docs.sympy.org/latest/index.html\n"
      ]
    },
    {
      "cell_type": "markdown",
      "metadata": {
        "id": "2U0fAIf5G4rR"
      },
      "source": [
        "## SymPy’s polynomials \n",
        "- https://docs.sympy.org/latest/modules/polys/basics.html#polynomials \n",
        "\n",
        "$$ P_n(x) =  a_n x^n + a_{n-1} x^{n-1} + a_{n-2} x^{n-2} +\\cdots +  a_1 x  + a_0$$\n",
        "\n",
        "$$P_n(x) = 0 $$\n",
        "\n",
        "$$a_n x^n + a_{n-1} x^{n-1} + a_{n-2} x^{n-2} +\\cdots +  a_1 x  + a_0 = 0$$\n",
        "\n",
        "$$(x-r_1) Q_{n-1}(x) = P_n(x)$$\n",
        "$$(x-r_1) (x - r_2) Q_{n-2}(x) = P_n(x)$$\n",
        "$$ \\vdots $$\n",
        "\n",
        "- $(x+1)(x+2)(x-13)(x-2)(x-6)(x-12)(x-7)(x-2)(x-9)(x+4) = \n",
        "x^{10} - 44 x^9 + 714 x^8 - 4740 x^7 + 3213 x^6 + 103248 x^5 - 344488 x^4 - 254560 x^3 + 1752336 x^2 - 319104 x - 1886976$\n",
        "\n",
        "- $(x^{10} - 44 x^9 + 714 x^8 - 4740 x^7 + 3213 x^6 + 103248 x^5 - 344488 x^4 - 254560 x^3 + 1752336 x^2 - 319104 x - 1886976 ) / (x+4) = (1 + x) (2 + x) (-13 + x) (-2 + x)^2 (-6 + x) (-12 + x) (-7 + x) (-9 + x)  (for x!=-4)$"
      ]
    },
    {
      "cell_type": "markdown",
      "metadata": {
        "id": "GSRpl42A6UXg"
      },
      "source": [
        "<img src=\"https://raw.githubusercontent.com/nivalderramas/MetNumUN2022I/main/Lab4/img/lab4-1.png\" />"
      ]
    },
    {
      "cell_type": "code",
      "metadata": {
        "id": "Fw1yPZWLMb5P",
        "colab": {
          "base_uri": "https://localhost:8080/"
        },
        "outputId": "a643e60d-7cfa-4f81-bd10-0e6d1af3db18"
      },
      "source": [
        "from sympy import Symbol\n",
        "from sympy import div\n",
        "\n",
        "x = Symbol('x')\n",
        "\n",
        "p = x**10 - 44*x**9 + 714*x**8 - 4740*x**7 + 3213*x**6 + 13248*x**5 + 344488*x**4 - 254560*x**3 + 1752336*x**2 + 319104*x - 1886976\n",
        "p, r = div(p,  x+1)\n",
        "\n",
        "print(p)\n",
        "print(r)\n",
        "\n",
        "p, r = div(p,  x-2)\n",
        "\n",
        "print(p)\n",
        "print(r)\n",
        "\n",
        "p, r = div(p,  x-3)\n",
        "\n",
        "print(p)\n",
        "print(r)\n",
        "\n",
        "p, r = div(p,  x-4)\n",
        "\n",
        "print(p)\n",
        "print(r)\n",
        "\n"
      ],
      "execution_count": 10,
      "outputs": [
        {
          "output_type": "stream",
          "name": "stdout",
          "text": [
            "x**9 - 45*x**8 + 759*x**7 - 5499*x**6 + 8712*x**5 + 4536*x**4 + 339952*x**3 - 594512*x**2 + 2346848*x - 2027744\n",
            "140768\n",
            "x**8 - 43*x**7 + 673*x**6 - 4153*x**5 + 406*x**4 + 5348*x**3 + 350648*x**2 + 106784*x + 2560416\n",
            "3093088\n",
            "x**7 - 40*x**6 + 553*x**5 - 2494*x**4 - 7076*x**3 - 15880*x**2 + 303008*x + 1015808\n",
            "5607840\n",
            "x**6 - 36*x**5 + 409*x**4 - 858*x**3 - 10508*x**2 - 57912*x + 71360\n",
            "1301248\n"
          ]
        }
      ]
    },
    {
      "cell_type": "code",
      "metadata": {
        "colab": {
          "base_uri": "https://localhost:8080/"
        },
        "id": "gQ-VwywTarYw",
        "outputId": "804e973d-2968-4966-8382-fc1a7ded4fa8"
      },
      "source": [
        "p = x**10 - 44*x**9 + 714*x**8 - 4740*x**7 + 3213*x**6 + 13248*x**5 + 344488*x**4 - 254560*x**3 + 1752336*x**2 + 319104*x - 1886976\n",
        "\n",
        "p, r = div(p,  x+4)\n",
        "\n",
        "print(p)\n",
        "print(r)"
      ],
      "execution_count": 11,
      "outputs": [
        {
          "output_type": "stream",
          "name": "stdout",
          "text": [
            "x**9 - 48*x**8 + 906*x**7 - 8364*x**6 + 36669*x**5 - 133428*x**4 + 878200*x**3 - 3767360*x**2 + 16821776*x - 66968000\n",
            "265985024\n"
          ]
        }
      ]
    },
    {
      "cell_type": "markdown",
      "metadata": {
        "id": "LrP1xT6VKZrE"
      },
      "source": [
        "## SymPy’s polynomial simple univariate polynomial factorization\n",
        "- https://docs.sympy.org/latest/modules/polys/wester.html#simple-univariate-polynomial-factorization\n",
        "- factor(x^10 - 44 x^9 + 714 x^8 - 4740 x^7 + 3213 x^6 + 103248 x^5 - 344488 x^4 - 254560 x^3 + 1752336 x^2 - 319104 x - 1886976)"
      ]
    },
    {
      "cell_type": "markdown",
      "metadata": {
        "id": "2NPChCoPLsls"
      },
      "source": [
        "<img src=\"https://raw.githubusercontent.com/nivalderramas/MetNumUN2022I/main/Lab4/img/Lab4-3.png\" />\n",
        "\n"
      ]
    },
    {
      "cell_type": "code",
      "metadata": {
        "id": "i2vHjXOIKvQu",
        "colab": {
          "base_uri": "https://localhost:8080/",
          "height": 39
        },
        "outputId": "803561b4-99d8-4717-eff5-a3a42df86c40"
      },
      "source": [
        "from sympy import Symbol,factor\n",
        "x = Symbol('x')\n",
        "factor(x**10 - 44*x**9 + 714*x**8 - 4740*x**7 + 3213*x**6 + 13248*x**5 + 344488*x**4 - 254560*x**3 + 1752336*x**2 + 319104*x - 1886976)"
      ],
      "execution_count": 12,
      "outputs": [
        {
          "output_type": "execute_result",
          "data": {
            "text/plain": [
              "x**10 - 44*x**9 + 714*x**8 - 4740*x**7 + 3213*x**6 + 13248*x**5 + 344488*x**4 - 254560*x**3 + 1752336*x**2 + 319104*x - 1886976"
            ],
            "text/latex": "$\\displaystyle x^{10} - 44 x^{9} + 714 x^{8} - 4740 x^{7} + 3213 x^{6} + 13248 x^{5} + 344488 x^{4} - 254560 x^{3} + 1752336 x^{2} + 319104 x - 1886976$"
          },
          "metadata": {},
          "execution_count": 12
        }
      ]
    },
    {
      "cell_type": "markdown",
      "metadata": {
        "id": "xoq8A5ipMdRa"
      },
      "source": [
        "## SymPy’s solvers\n",
        "- https://docs.sympy.org/latest/tutorial/solvers.html\n",
        "- (x+1) * (x+2) * (x-13) * (x-2) * (x-6) * (x-12) * (x-7) * (x-2) * (x-9) * (x+4) = 0"
      ]
    },
    {
      "cell_type": "markdown",
      "metadata": {
        "id": "UpEjlqXZMk8i"
      },
      "source": [
        "<img src=\"https://raw.githubusercontent.com/nivalderramas/MetNumUN2022I/main/Lab4/img/Lab4-2.png\" />\n"
      ]
    },
    {
      "cell_type": "code",
      "metadata": {
        "id": "DLzUsS8YMlNK",
        "colab": {
          "base_uri": "https://localhost:8080/",
          "height": 38
        },
        "outputId": "1060e8cb-ee5c-426c-ecc5-745a3691266e"
      },
      "source": [
        "from sympy import Symbol, solveset, Eq\n",
        "x = Symbol('x')\n",
        "solveset(Eq((x+1)*(x+2)*(x-13)*(x-2)*(x-6)*(x-12)*(x-7)*(x-2)*(x-9)*(x+4), 0), x)\n"
      ],
      "execution_count": 13,
      "outputs": [
        {
          "output_type": "execute_result",
          "data": {
            "text/plain": [
              "FiniteSet(-4, -2, -1, 2, 6, 7, 9, 12, 13)"
            ],
            "text/latex": "$\\displaystyle \\left\\{-4, -2, -1, 2, 6, 7, 9, 12, 13\\right\\}$"
          },
          "metadata": {},
          "execution_count": 13
        }
      ]
    },
    {
      "cell_type": "markdown",
      "source": [
        "<img src=\"https://raw.githubusercontent.com/nivalderramas/MetNumUN2022I/main/Lab4/img/Lab4-4.png\" />\n"
      ],
      "metadata": {
        "id": "pi7rUwG472tc"
      }
    },
    {
      "cell_type": "code",
      "metadata": {
        "colab": {
          "base_uri": "https://localhost:8080/",
          "height": 81
        },
        "id": "ALzYmizCcXvv",
        "outputId": "7fce222b-6945-4e74-c880-3207e82dde28"
      },
      "source": [
        "from sympy import Symbol, solveset, Eq, sqrt, pi, E, euler, real_roots, S\n",
        "from math import e\n",
        "x = Symbol('x',real=True)\n",
        "solveset(Eq(x**10 + 3*x**4 + 20*x, 0), x,domain=S.Reals)\n"
      ],
      "execution_count": 20,
      "outputs": [
        {
          "output_type": "execute_result",
          "data": {
            "text/plain": [
              "FiniteSet(0, -(-1 + (10 + sqrt(101))**(2/3))**(1/3)/(10 + sqrt(101))**(1/9))"
            ],
            "text/latex": "$\\displaystyle \\left\\{0, - \\frac{\\sqrt[3]{-1 + \\left(10 + \\sqrt{101}\\right)^{\\frac{2}{3}}}}{\\sqrt[9]{10 + \\sqrt{101}}}\\right\\}$"
          },
          "metadata": {},
          "execution_count": 20
        }
      ]
    },
    {
      "cell_type": "markdown",
      "metadata": {
        "id": "kw48-B_Z_vQc"
      },
      "source": [
        "*   Reference docs for the Poly Domains https://docs.sympy.org/dev/modules/polys/domainsref.html\n",
        "\n",
        "*   Introducing the Domains of the poly module https://docs.sympy.org/dev/modules/polys/domainsintro.html\n",
        "\n",
        "*   Internals of the Polynomial Manipulation Module https://docs.sympy.org/latest/modules/polys/internals.html"
      ]
    },
    {
      "cell_type": "markdown",
      "source": [
        "<img src=\"https://raw.githubusercontent.com/danperezma/MetNumUN2022I/main/Lab4/facto01.jpg\" />"
      ],
      "metadata": {
        "id": "G4hb9Ak_-ujE"
      }
    },
    {
      "cell_type": "code",
      "source": [
        "from sympy import Symbol,factor\n",
        "x = Symbol('x')\n",
        "factor(x**6 - 36*x**5 + 409*x**4 - 85*x**3 - 105*x**2 - 52*x + 60 ,domain='GF(3)')"
      ],
      "metadata": {
        "colab": {
          "base_uri": "https://localhost:8080/",
          "height": 40
        },
        "id": "EdK4Tfz0-dLW",
        "outputId": "33b85d7e-fe45-47e7-876a-16c328a19143"
      },
      "execution_count": 15,
      "outputs": [
        {
          "output_type": "execute_result",
          "data": {
            "text/plain": [
              "x*(x - 1)**3*(x**2 + 1)"
            ],
            "text/latex": "$\\displaystyle x \\left(x - 1\\right)^{3} \\left(x^{2} + 1\\right)$"
          },
          "metadata": {},
          "execution_count": 15
        }
      ]
    },
    {
      "cell_type": "markdown",
      "metadata": {
        "id": "OtsxSwPmV3Vs"
      },
      "source": [
        "## SymPy’s Symbolic and Numercical Complex Evaluations\n",
        "- https://docs.sympy.org/latest/modules/evalf.html](https://)\n",
        "- x = x1 + I*x2,y = y1 + I*y2, z = z1 + I*z2, x*y*z"
      ]
    },
    {
      "cell_type": "markdown",
      "metadata": {
        "id": "XxWt-AcaZxdp"
      },
      "source": [
        "<img src=\"https://raw.githubusercontent.com/danperezma/MetNumUN2022I/main/Lab4/reales01.jpg\" />\n"
      ]
    },
    {
      "cell_type": "code",
      "metadata": {
        "id": "ENDQbfLGV31r",
        "colab": {
          "base_uri": "https://localhost:8080/"
        },
        "outputId": "32485343-7e34-4917-ccdd-21c4d7e9838f"
      },
      "source": [
        "from sympy import symbols, I, N, pi, expand\n",
        "x1, x2, y1, y2, z1, z2 = symbols(\"x1 x2 y1 y2 z1 z2\", real=True)  \n",
        "x = x1 + I*x2\n",
        "y = y1 - I*y2\n",
        "z = z1 + I*z2\n",
        "\n",
        "print(x*y*z)\n",
        "print(expand(x*y/z))\n",
        "print(expand((x*y)/z))\n",
        "print(expand(x*(y/z)))\n",
        "\n",
        "w=N(1/(pi + I), 20)\n",
        "print('w=',w)"
      ],
      "execution_count": 16,
      "outputs": [
        {
          "output_type": "stream",
          "name": "stdout",
          "text": [
            "(x1 + I*x2)*(y1 - I*y2)*(z1 + I*z2)\n",
            "x1*y1/(z1 + I*z2) - I*x1*y2/(z1 + I*z2) + I*x2*y1/(z1 + I*z2) + x2*y2/(z1 + I*z2)\n",
            "x1*y1/(z1 + I*z2) - I*x1*y2/(z1 + I*z2) + I*x2*y1/(z1 + I*z2) + x2*y2/(z1 + I*z2)\n",
            "x1*y1/(z1 + I*z2) - I*x1*y2/(z1 + I*z2) + I*x2*y1/(z1 + I*z2) + x2*y2/(z1 + I*z2)\n",
            "w= 0.28902548222223624241 - 0.091999668350375232456*I\n"
          ]
        }
      ]
    },
    {
      "cell_type": "markdown",
      "metadata": {
        "id": "eaqIgmnkPNVT"
      },
      "source": [
        "## Wolfram alpha answers quastion in natural languaje\n",
        "- what is the prime number closest to 20??\n",
        "\n",
        "<img src=\"https://raw.githubusercontent.com/danperezma/MetNumUN2022I/main/Lab4/naturallanguaje01.jpg\" />\n"
      ]
    },
    {
      "cell_type": "markdown",
      "source": [
        "## SymPy’s integrate\n",
        "\n",
        "<img src=\"https://raw.githubusercontent.com/danperezma/MetNumUN2022I/main/Lab4/integral01.jpg\" />\n"
      ],
      "metadata": {
        "id": "FIbSSOvEC8R0"
      }
    },
    {
      "cell_type": "code",
      "source": [
        "from sympy import Symbol, integrate, sin, cos\n",
        "x = Symbol('x')\n",
        "integrate(7 * cos (x) +  sin (x) - 1, x)"
      ],
      "metadata": {
        "colab": {
          "base_uri": "https://localhost:8080/",
          "height": 39
        },
        "id": "p5wwxfa7BtzU",
        "outputId": "56e665b0-ece7-47be-9580-9b694396d101"
      },
      "execution_count": 17,
      "outputs": [
        {
          "output_type": "execute_result",
          "data": {
            "text/plain": [
              "-x + 7*sin(x) - cos(x)"
            ],
            "text/latex": "$\\displaystyle - x + 7 \\sin{\\left(x \\right)} - \\cos{\\left(x \\right)}$"
          },
          "metadata": {},
          "execution_count": 17
        }
      ]
    },
    {
      "cell_type": "markdown",
      "source": [
        "<img src=\"https://raw.githubusercontent.com/danperezma/MetNumUN2022I/main/Lab4/integral02.jpg\" />\n"
      ],
      "metadata": {
        "id": "JkW8LPxbD2Eq"
      }
    },
    {
      "cell_type": "code",
      "source": [
        "from sympy import Symbol, integrate, sin, cos\n",
        "x = Symbol('x')\n",
        "integrate(7 * cos (x) +  sin (x) - 1, (x,0,6))\n"
      ],
      "metadata": {
        "colab": {
          "base_uri": "https://localhost:8080/",
          "height": 38
        },
        "id": "EoipdE0UD7Aa",
        "outputId": "f0e550cb-5280-406a-a30f-313a9a77101a"
      },
      "execution_count": 18,
      "outputs": [
        {
          "output_type": "execute_result",
          "data": {
            "text/plain": [
              "-5 + 7*sin(6) - cos(6)"
            ],
            "text/latex": "$\\displaystyle -5 + 7 \\sin{\\left(6 \\right)} - \\cos{\\left(6 \\right)}$"
          },
          "metadata": {},
          "execution_count": 18
        }
      ]
    },
    {
      "cell_type": "code",
      "source": [
        "from sympy import Symbol, integrate, sin, N, sin\n",
        "x = Symbol('x')\n",
        "N(integrate(7 * cos (x) +  sin (x) - 1, (x,0,6)))\n"
      ],
      "metadata": {
        "colab": {
          "base_uri": "https://localhost:8080/",
          "height": 38
        },
        "id": "rFRmuWfnEPWb",
        "outputId": "087a22fd-bc1c-4790-c810-7791f0b21290"
      },
      "execution_count": 19,
      "outputs": [
        {
          "output_type": "execute_result",
          "data": {
            "text/plain": [
              "-7.91607877404285"
            ],
            "text/latex": "$\\displaystyle -7.91607877404285$"
          },
          "metadata": {},
          "execution_count": 19
        }
      ]
    }
  ]
}