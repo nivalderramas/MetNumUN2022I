{
  "cells": [
    {
      "cell_type": "markdown",
      "metadata": {
        "id": "FEFysBKmcO-_"
      },
      "source": [
        "#Introduction to the Research Environment\n",
        "\n",
        "The research environment is powered by IPython notebooks, which allow one to perform a great deal of data analysis and statistical validation. We'll demonstrate a few simple techniques here."
      ]
    },
    {
      "cell_type": "markdown",
      "metadata": {
        "id": "WD9Zt3gAcO_M"
      },
      "source": [
        "##Code Cells vs. Text Cells\n",
        "\n",
        "As you can see, each cell can be either code or text. To select between them, choose from the 'Cell Type' dropdown menu on the top left."
      ]
    },
    {
      "cell_type": "markdown",
      "metadata": {
        "id": "25vXbJSMcO_N"
      },
      "source": [
        "##Executing a Command\n",
        "\n",
        "A code cell will be evaluated when you press play, or when you press the shortcut, shift-enter. Evaluating a cell evaluates each line of code in sequence, and prints the results of the last line below the cell."
      ]
    },
    {
      "cell_type": "code",
      "execution_count": null,
      "metadata": {
        "id": "xIu9HW4XcO_O",
        "colab": {
          "base_uri": "https://localhost:8080/"
        },
        "outputId": "579ee4af-1e9b-44d7-c0ba-29c8b93377d2"
      },
      "outputs": [
        {
          "output_type": "execute_result",
          "data": {
            "text/plain": [
              "4"
            ]
          },
          "metadata": {},
          "execution_count": 27
        }
      ],
      "source": [
        "2 + 2"
      ]
    },
    {
      "cell_type": "markdown",
      "metadata": {
        "id": "SLq2VFlScO_P"
      },
      "source": [
        "Sometimes there is no result to be printed, as is the case with assignment."
      ]
    },
    {
      "cell_type": "code",
      "execution_count": null,
      "metadata": {
        "collapsed": true,
        "id": "SVQ1R5vecO_Q"
      },
      "outputs": [],
      "source": [
        "X = 2"
      ]
    },
    {
      "cell_type": "markdown",
      "metadata": {
        "id": "8R2X7mTPcO_R"
      },
      "source": [
        "Remember that only the result from the last line is printed."
      ]
    },
    {
      "cell_type": "code",
      "execution_count": null,
      "metadata": {
        "colab": {
          "base_uri": "https://localhost:8080/"
        },
        "id": "Oiom5Zp5cO_R",
        "outputId": "f7f79461-13c0-4a5e-a539-415da89438ea"
      },
      "outputs": [
        {
          "output_type": "execute_result",
          "data": {
            "text/plain": [
              "6"
            ]
          },
          "metadata": {},
          "execution_count": 29
        }
      ],
      "source": [
        "2 + 2\n",
        "3 + 3"
      ]
    },
    {
      "cell_type": "markdown",
      "source": [
        "**My own example 1**"
      ],
      "metadata": {
        "id": "BZWUQIgha2PO"
      }
    },
    {
      "cell_type": "code",
      "execution_count": null,
      "metadata": {
        "colab": {
          "base_uri": "https://localhost:8080/"
        },
        "outputId": "7c8f62fa-de4a-4412-b6de-ace7c0ec516c",
        "id": "K6RS7ADZ1uGQ"
      },
      "outputs": [
        {
          "output_type": "execute_result",
          "data": {
            "text/plain": [
              "3300"
            ]
          },
          "metadata": {},
          "execution_count": 30
        }
      ],
      "source": [
        "2 + 2\n",
        "3100 + 200"
      ]
    },
    {
      "cell_type": "markdown",
      "metadata": {
        "id": "6i6Od1MFcO_S"
      },
      "source": [
        "However, you can print whichever lines you want using the `print` statement."
      ]
    },
    {
      "cell_type": "code",
      "execution_count": null,
      "metadata": {
        "id": "j4pVAGf_cO_T",
        "colab": {
          "base_uri": "https://localhost:8080/"
        },
        "outputId": "d56cd19b-3749-4e69-f83a-e3f221b36eab"
      },
      "outputs": [
        {
          "output_type": "stream",
          "name": "stdout",
          "text": [
            "4\n"
          ]
        },
        {
          "output_type": "execute_result",
          "data": {
            "text/plain": [
              "6"
            ]
          },
          "metadata": {},
          "execution_count": 31
        }
      ],
      "source": [
        "print(2 + 2)\n",
        "3 + 3"
      ]
    },
    {
      "cell_type": "markdown",
      "metadata": {
        "id": "5xSfd4omcO_T"
      },
      "source": [
        "##Knowing When a Cell is Running\n",
        "\n",
        "While a cell is running, a `[*]` will display on the left. When a cell has yet to be executed, `[ ]` will display. When it has been run, a number will display indicating the order in which it was run during the execution of the notebook `[5]`. Try on this cell and note it happening."
      ]
    },
    {
      "cell_type": "code",
      "execution_count": null,
      "metadata": {
        "id": "wJq7_eNvcO_U",
        "colab": {
          "base_uri": "https://localhost:8080/"
        },
        "outputId": "df09a277-dfdd-4df0-9023-534317e303c1"
      },
      "outputs": [
        {
          "output_type": "execute_result",
          "data": {
            "text/plain": [
              "49999995000000"
            ]
          },
          "metadata": {},
          "execution_count": 32
        }
      ],
      "source": [
        "#Take some time to run something\n",
        "c = 0\n",
        "for i in range(10000000):\n",
        "    c = c + i\n",
        "c"
      ]
    },
    {
      "cell_type": "markdown",
      "metadata": {
        "id": "z7jutyo3cO_U"
      },
      "source": [
        "##Importing Libraries\n",
        "\n",
        "The vast majority of the time, you'll want to use functions from pre-built libraries. You can't import every library on Quantopian due to security issues, but you can import most of the common scientific ones. Here I import numpy and pandas, the two most common and useful libraries in quant finance. I recommend copying this import statement to every new notebook.\n",
        "\n",
        "Notice that you can rename libraries to whatever you want after importing. The `as` statement allows this. Here we use `np` and `pd` as aliases for `numpy` and `pandas`. This is a very common aliasing and will be found in most code snippets around the web. The point behind this is to allow you to type fewer characters when you are frequently accessing these libraries."
      ]
    },
    {
      "cell_type": "code",
      "execution_count": null,
      "metadata": {
        "collapsed": true,
        "id": "gK1dhDmhcO_V"
      },
      "outputs": [],
      "source": [
        "import numpy as np\n",
        "import pandas as pd\n",
        "\n",
        "# This is a plotting library for pretty pictures.\n",
        "import matplotlib.pyplot as plt"
      ]
    },
    {
      "cell_type": "markdown",
      "metadata": {
        "id": "MyokVlIZcO_V"
      },
      "source": [
        "##Tab Autocomplete\n",
        "\n",
        "Pressing tab will give you a list of IPython's best guesses for what you might want to type next. This is incredibly valuable and will save you a lot of time. If there is only one possible option for what you could type next, IPython will fill that in for you. Try pressing tab very frequently, it will seldom fill in anything you don't want, as if there is ambiguity a list will be shown. This is a great way to see what functions are available in a library.\n",
        "\n",
        "Try placing your cursor after the `.` and pressing tab."
      ]
    },
    {
      "cell_type": "code",
      "execution_count": null,
      "metadata": {
        "id": "gtCG8-8kcO_W",
        "colab": {
          "base_uri": "https://localhost:8080/"
        },
        "outputId": "4cd9c354-3e18-4d6e-edd4-e3950015a4f2"
      },
      "outputs": [
        {
          "output_type": "execute_result",
          "data": {
            "text/plain": [
              "<module 'numpy.random' from '/usr/local/lib/python3.7/dist-packages/numpy/random/__init__.py'>"
            ]
          },
          "metadata": {},
          "execution_count": 34
        }
      ],
      "source": [
        "np.random"
      ]
    },
    {
      "cell_type": "markdown",
      "metadata": {
        "id": "y9VzLG9FcO_X"
      },
      "source": [
        "##Getting Documentation Help\n",
        "\n",
        "Placing a question mark after a function and executing that line of code will give you the documentation IPython has for that function. It's often best to do this in a new cell, as you avoid re-executing other code and running into bugs."
      ]
    },
    {
      "cell_type": "code",
      "execution_count": null,
      "metadata": {
        "collapsed": true,
        "id": "Y6LdJmoJcO_X"
      },
      "outputs": [],
      "source": [
        "np.random.normal?"
      ]
    },
    {
      "cell_type": "markdown",
      "metadata": {
        "id": "WabNNai1cO_Y"
      },
      "source": [
        "##Sampling\n",
        "\n",
        "We'll sample some random data using a function from `numpy`."
      ]
    },
    {
      "cell_type": "code",
      "execution_count": null,
      "metadata": {
        "id": "b08x2g5OcO_Y",
        "colab": {
          "base_uri": "https://localhost:8080/"
        },
        "outputId": "46afe769-6d70-411f-f59b-36533bd4fe5a"
      },
      "outputs": [
        {
          "output_type": "execute_result",
          "data": {
            "text/plain": [
              "array([-4.28148743e-01, -1.29073209e+00,  9.15121547e-02,  1.40447096e-01,\n",
              "       -1.99704189e+00, -8.38698706e-01, -8.64023771e-01, -5.43428609e-01,\n",
              "       -1.57743433e-01, -1.09854692e+00, -8.14860199e-02, -2.46738202e+00,\n",
              "        8.58788771e-01,  2.21163295e-01, -4.58744142e-04, -8.99584082e-01,\n",
              "       -1.55775514e-01,  1.15944831e+00,  6.43841250e-01, -4.57693181e-01,\n",
              "        1.62319777e+00,  8.61460164e-01, -6.86384537e-01, -5.76723144e-01,\n",
              "        1.34304306e+00, -9.90297988e-01, -4.22047269e-01,  1.65070499e+00,\n",
              "       -1.73032566e+00, -3.74828219e-01,  1.23241963e-01, -3.94944394e-01,\n",
              "       -1.59501548e-01,  9.47364161e-02,  6.94740602e-01,  6.99852815e-01,\n",
              "        6.75856569e-01,  1.99062635e-01, -1.00879887e+00, -4.12617178e-01,\n",
              "        1.06444394e-01, -1.40341031e-02, -1.17750402e+00, -9.02331379e-01,\n",
              "        6.60834822e-01,  2.10078810e+00, -9.48205184e-01,  1.42594861e+00,\n",
              "        2.62482605e-01, -6.05498962e-01, -1.17246772e+00, -7.72092111e-01,\n",
              "       -2.83323537e-01, -2.70953332e-01,  2.67383474e+00,  1.84466180e-01,\n",
              "       -3.84668600e-01, -6.82596896e-01, -4.93502924e-01, -8.01971688e-01,\n",
              "        8.02358946e-01,  3.74527087e-01,  3.96144345e-01, -1.33297509e-01,\n",
              "       -6.75470642e-01,  1.66381925e+00,  5.03314713e-01, -6.41714837e-01,\n",
              "        1.65559351e+00,  1.90227665e+00,  2.08943819e+00,  2.76306618e+00,\n",
              "        9.10437149e-01,  1.23134684e+00, -1.65670014e+00, -2.57017792e-01,\n",
              "        3.65262597e-01, -5.50018534e-01,  1.00682399e-01, -6.75651510e-01,\n",
              "        7.97650399e-01,  1.59819133e-01, -6.09360673e-01,  7.98593496e-03,\n",
              "        4.00396126e-01,  6.40825559e-01,  7.41194854e-01,  2.42390378e-03,\n",
              "       -1.01092943e+00,  1.42814459e-01,  1.04389991e+00,  4.14906866e-01,\n",
              "       -1.76662767e+00,  3.53130786e-01, -1.98210311e+00, -7.37077986e-01,\n",
              "       -8.88710284e-01, -4.14523193e-01, -4.25927021e-01, -7.57967822e-02])"
            ]
          },
          "metadata": {},
          "execution_count": 36
        }
      ],
      "source": [
        "# Sample 100 points with a mean of 0 and an std of 1. This is a standard normal distribution.\n",
        "X = np.random.normal(0, 1, 100)\n",
        "X"
      ]
    },
    {
      "cell_type": "markdown",
      "metadata": {
        "id": "MxjJfIjXcO_Z"
      },
      "source": [
        "##Plotting\n",
        "\n",
        "We can use the plotting library we imported as follows."
      ]
    },
    {
      "cell_type": "code",
      "execution_count": null,
      "metadata": {
        "colab": {
          "base_uri": "https://localhost:8080/",
          "height": 286
        },
        "id": "2_a8R5YtcO_Z",
        "outputId": "a64b6008-5deb-4557-f771-f107c21c582c"
      },
      "outputs": [
        {
          "output_type": "execute_result",
          "data": {
            "text/plain": [
              "[<matplotlib.lines.Line2D at 0x7fa32e4cd110>]"
            ]
          },
          "metadata": {},
          "execution_count": 37
        },
        {
          "output_type": "display_data",
          "data": {
            "text/plain": [
              "<Figure size 432x288 with 1 Axes>"
            ],
            "image/png": "[encoded data removed]"
          },
          "metadata": {
            "needs_background": "light"
          }
        }
      ],
      "source": [
        "plt.plot(X)"
      ]
    },
    {
      "cell_type": "markdown",
      "metadata": {
        "id": "3t_0gXgfcO_Z"
      },
      "source": [
        "###Squelching Line Output\n",
        "\n",
        "You might have noticed the annoying line of the form `[<matplotlib.lines.Line2D at 0x7f72fdbc1710>]` before the plots. This is because the `.plot` function actually produces output. Sometimes we wish not to display output, we can accomplish this with the semi-colon as follows."
      ]
    },
    {
      "cell_type": "code",
      "execution_count": null,
      "metadata": {
        "colab": {
          "base_uri": "https://localhost:8080/",
          "height": 268
        },
        "id": "rNY5JsETcO_a",
        "outputId": "3d5b94f5-5de4-4450-cc50-9642e649ba1c"
      },
      "outputs": [
        {
          "output_type": "display_data",
          "data": {
            "text/plain": [
              "<Figure size 432x288 with 1 Axes>"
            ],
            "image/png": "[encoded data removed]"
          },
          "metadata": {
            "needs_background": "light"
          }
        }
      ],
      "source": [
        "plt.plot(X);"
      ]
    },
    {
      "cell_type": "markdown",
      "metadata": {
        "id": "UY_RZmWVcO_a"
      },
      "source": [
        "###Adding Axis Labels\n",
        "\n",
        "No self-respecting quant leaves a graph without labeled axes. Here are some commands to help with that."
      ]
    },
    {
      "cell_type": "code",
      "execution_count": null,
      "metadata": {
        "colab": {
          "base_uri": "https://localhost:8080/",
          "height": 279
        },
        "id": "a43Pgt47cO_b",
        "outputId": "b392562b-3714-45aa-8f42-32c467de724b"
      },
      "outputs": [
        {
          "output_type": "display_data",
          "data": {
            "text/plain": [
              "<Figure size 432x288 with 1 Axes>"
            ],
            "image/png": "[encoded data removed]"
          },
          "metadata": {
            "needs_background": "light"
          }
        }
      ],
      "source": [
        "X = np.random.normal(0, 1, 100)\n",
        "X2 = np.random.normal(0, 1, 100)\n",
        "\n",
        "plt.plot(X);\n",
        "plt.plot(X2);\n",
        "plt.xlabel('Time') # The data we generated is unitless, but don't forget units in general.\n",
        "plt.ylabel('Returns')\n",
        "plt.legend(['X', 'X2']);"
      ]
    },
    {
      "cell_type": "markdown",
      "metadata": {
        "id": "aOwHK3xQcO_b"
      },
      "source": [
        "##Generating Statistics\n",
        "\n",
        "Let's use `numpy` to take some simple statistics."
      ]
    },
    {
      "cell_type": "code",
      "execution_count": null,
      "metadata": {
        "colab": {
          "base_uri": "https://localhost:8080/"
        },
        "id": "FTry3ZrUcO_b",
        "outputId": "fe9bf4b1-656f-42b7-baf1-8d0fdbc8f907"
      },
      "outputs": [
        {
          "output_type": "execute_result",
          "data": {
            "text/plain": [
              "0.008091922824734034"
            ]
          },
          "metadata": {},
          "execution_count": 40
        }
      ],
      "source": [
        "np.mean(X)"
      ]
    },
    {
      "cell_type": "code",
      "execution_count": null,
      "metadata": {
        "colab": {
          "base_uri": "https://localhost:8080/"
        },
        "id": "LdmY6JqFcO_c",
        "outputId": "67ae367b-2602-4401-f6a8-083340ec0628"
      },
      "outputs": [
        {
          "output_type": "execute_result",
          "data": {
            "text/plain": [
              "0.9912456954319464"
            ]
          },
          "metadata": {},
          "execution_count": 41
        }
      ],
      "source": [
        "np.std(X)"
      ]
    },
    {
      "cell_type": "markdown",
      "metadata": {
        "id": "yOHdY0uicO_c"
      },
      "source": [
        "##Getting Real Pricing Data\n",
        "\n",
        "Randomly sampled data can be great for testing ideas, but let's get some real data. We can use `get_pricing` to do that. You can use the `?` syntax as discussed above to get more information on `get_pricing`'s arguments."
      ]
    },
    {
      "cell_type": "code",
      "execution_count": null,
      "metadata": {
        "id": "44f3qboncO_d"
      },
      "outputs": [],
      "source": [
        "data = pd.read_csv(\"MSFT.csv\")"
      ]
    },
    {
      "cell_type": "markdown",
      "metadata": {
        "id": "hDFv2FJEcO_d"
      },
      "source": [
        "Our data is now a dataframe. You can see the datetime index and the colums with different pricing data."
      ]
    },
    {
      "cell_type": "code",
      "execution_count": null,
      "metadata": {
        "colab": {
          "base_uri": "https://localhost:8080/",
          "height": 424
        },
        "id": "JqdQPqFKcO_d",
        "outputId": "cc1b64de-6266-426a-c7ef-b94d670a21dc"
      },
      "outputs": [
        {
          "output_type": "execute_result",
          "data": {
            "text/plain": [
              "         Date   Open   High    Low  Close    Volume  Adj. Close*\n",
              "0   19-Sep-03  29.76  29.97  29.52  29.96  92433800        29.79\n",
              "1   18-Sep-03  28.49  29.51  28.42  29.50  67268096        29.34\n",
              "2   17-Sep-03  28.76  28.95  28.47  28.50  47221600        28.34\n",
              "3   16-Sep-03  28.41  28.95  28.32  28.90  52060600        28.74\n",
              "4   15-Sep-03  28.37  28.61  28.33  28.36  41432300        28.20\n",
              "..        ...    ...    ...    ...    ...       ...          ...\n",
              "60  25-Jun-03  25.64  25.99  25.14  25.26  60483500        25.12\n",
              "61  24-Jun-03  25.65  26.04  25.52  25.70  51820300        25.56\n",
              "62  23-Jun-03  26.14  26.24  25.49  25.78  52584500        25.64\n",
              "63  20-Jun-03  26.34  26.38  26.01  26.33  86048896        26.18\n",
              "64  19-Jun-03  26.09  26.39  26.01  26.07  63626900        25.92\n",
              "\n",
              "[65 rows x 7 columns]"
            ],
            "text/html": [
              "\n",
              "  <div id=\"df-6ef6b5fe-76e0-4fb2-87ed-0d211fbd3f36\">\n",
              "    <div class=\"colab-df-container\">\n",
              "      <div>\n",
              "<style scoped>\n",
              "    .dataframe tbody tr th:only-of-type {\n",
              "        vertical-align: middle;\n",
              "    }\n",
              "\n",
              "    .dataframe tbody tr th {\n",
              "        vertical-align: top;\n",
              "    }\n",
              "\n",
              "    .dataframe thead th {\n",
              "        text-align: right;\n",
              "    }\n",
              "</style>\n",
              "<table border=\"1\" class=\"dataframe\">\n",
              "  <thead>\n",
              "    <tr style=\"text-align: right;\">\n",
              "      <th></th>\n",
              "      <th>Date</th>\n",
              "      <th>Open</th>\n",
              "      <th>High</th>\n",
              "      <th>Low</th>\n",
              "      <th>Close</th>\n",
              "      <th>Volume</th>\n",
              "      <th>Adj. Close*</th>\n",
              "    </tr>\n",
              "  </thead>\n",
              "  <tbody>\n",
              "    <tr>\n",
              "      <th>0</th>\n",
              "      <td>19-Sep-03</td>\n",
              "      <td>29.76</td>\n",
              "      <td>29.97</td>\n",
              "      <td>29.52</td>\n",
              "      <td>29.96</td>\n",
              "      <td>92433800</td>\n",
              "      <td>29.79</td>\n",
              "    </tr>\n",
              "    <tr>\n",
              "      <th>1</th>\n",
              "      <td>18-Sep-03</td>\n",
              "      <td>28.49</td>\n",
              "      <td>29.51</td>\n",
              "      <td>28.42</td>\n",
              "      <td>29.50</td>\n",
              "      <td>67268096</td>\n",
              "      <td>29.34</td>\n",
              "    </tr>\n",
              "    <tr>\n",
              "      <th>2</th>\n",
              "      <td>17-Sep-03</td>\n",
              "      <td>28.76</td>\n",
              "      <td>28.95</td>\n",
              "      <td>28.47</td>\n",
              "      <td>28.50</td>\n",
              "      <td>47221600</td>\n",
              "      <td>28.34</td>\n",
              "    </tr>\n",
              "    <tr>\n",
              "      <th>3</th>\n",
              "      <td>16-Sep-03</td>\n",
              "      <td>28.41</td>\n",
              "      <td>28.95</td>\n",
              "      <td>28.32</td>\n",
              "      <td>28.90</td>\n",
              "      <td>52060600</td>\n",
              "      <td>28.74</td>\n",
              "    </tr>\n",
              "    <tr>\n",
              "      <th>4</th>\n",
              "      <td>15-Sep-03</td>\n",
              "      <td>28.37</td>\n",
              "      <td>28.61</td>\n",
              "      <td>28.33</td>\n",
              "      <td>28.36</td>\n",
              "      <td>41432300</td>\n",
              "      <td>28.20</td>\n",
              "    </tr>\n",
              "    <tr>\n",
              "      <th>...</th>\n",
              "      <td>...</td>\n",
              "      <td>...</td>\n",
              "      <td>...</td>\n",
              "      <td>...</td>\n",
              "      <td>...</td>\n",
              "      <td>...</td>\n",
              "      <td>...</td>\n",
              "    </tr>\n",
              "    <tr>\n",
              "      <th>60</th>\n",
              "      <td>25-Jun-03</td>\n",
              "      <td>25.64</td>\n",
              "      <td>25.99</td>\n",
              "      <td>25.14</td>\n",
              "      <td>25.26</td>\n",
              "      <td>60483500</td>\n",
              "      <td>25.12</td>\n",
              "    </tr>\n",
              "    <tr>\n",
              "      <th>61</th>\n",
              "      <td>24-Jun-03</td>\n",
              "      <td>25.65</td>\n",
              "      <td>26.04</td>\n",
              "      <td>25.52</td>\n",
              "      <td>25.70</td>\n",
              "      <td>51820300</td>\n",
              "      <td>25.56</td>\n",
              "    </tr>\n",
              "    <tr>\n",
              "      <th>62</th>\n",
              "      <td>23-Jun-03</td>\n",
              "      <td>26.14</td>\n",
              "      <td>26.24</td>\n",
              "      <td>25.49</td>\n",
              "      <td>25.78</td>\n",
              "      <td>52584500</td>\n",
              "      <td>25.64</td>\n",
              "    </tr>\n",
              "    <tr>\n",
              "      <th>63</th>\n",
              "      <td>20-Jun-03</td>\n",
              "      <td>26.34</td>\n",
              "      <td>26.38</td>\n",
              "      <td>26.01</td>\n",
              "      <td>26.33</td>\n",
              "      <td>86048896</td>\n",
              "      <td>26.18</td>\n",
              "    </tr>\n",
              "    <tr>\n",
              "      <th>64</th>\n",
              "      <td>19-Jun-03</td>\n",
              "      <td>26.09</td>\n",
              "      <td>26.39</td>\n",
              "      <td>26.01</td>\n",
              "      <td>26.07</td>\n",
              "      <td>63626900</td>\n",
              "      <td>25.92</td>\n",
              "    </tr>\n",
              "  </tbody>\n",
              "</table>\n",
              "<p>65 rows × 7 columns</p>\n",
              "</div>\n",
              "      <button class=\"colab-df-convert\" onclick=\"convertToInteractive('df-6ef6b5fe-76e0-4fb2-87ed-0d211fbd3f36')\"\n",
              "              title=\"Convert this dataframe to an interactive table.\"\n",
              "              style=\"display:none;\">\n",
              "        \n",
              "  <svg xmlns=\"http://www.w3.org/2000/svg\" height=\"24px\"viewBox=\"0 0 24 24\"\n",
              "       width=\"24px\">\n",
              "    <path d=\"M0 0h24v24H0V0z\" fill=\"none\"/>\n",
              "    <path d=\"M18.56 5.44l.94 2.06.94-2.06 2.06-.94-2.06-.94-.94-2.06-.94 2.06-2.06.94zm-11 1L8.5 8.5l.94-2.06 2.06-.94-2.06-.94L8.5 2.5l-.94 2.06-2.06.94zm10 10l.94 2.06.94-2.06 2.06-.94-2.06-.94-.94-2.06-.94 2.06-2.06.94z\"/><path d=\"M17.41 7.96l-1.37-1.37c-.4-.4-.92-.59-1.43-.59-.52 0-1.04.2-1.43.59L10.3 9.45l-7.72 7.72c-.78.78-.78 2.05 0 2.83L4 21.41c.39.39.9.59 1.41.59.51 0 1.02-.2 1.41-.59l7.78-7.78 2.81-2.81c.8-.78.8-2.07 0-2.86zM5.41 20L4 18.59l7.72-7.72 1.47 1.35L5.41 20z\"/>\n",
              "  </svg>\n",
              "      </button>\n",
              "      \n",
              "  <style>\n",
              "    .colab-df-container {\n",
              "      display:flex;\n",
              "      flex-wrap:wrap;\n",
              "      gap: 12px;\n",
              "    }\n",
              "\n",
              "    .colab-df-convert {\n",
              "      background-color: #E8F0FE;\n",
              "      border: none;\n",
              "      border-radius: 50%;\n",
              "      cursor: pointer;\n",
              "      display: none;\n",
              "      fill: #1967D2;\n",
              "      height: 32px;\n",
              "      padding: 0 0 0 0;\n",
              "      width: 32px;\n",
              "    }\n",
              "\n",
              "    .colab-df-convert:hover {\n",
              "      background-color: #E2EBFA;\n",
              "      box-shadow: 0px 1px 2px rgba(60, 64, 67, 0.3), 0px 1px 3px 1px rgba(60, 64, 67, 0.15);\n",
              "      fill: #174EA6;\n",
              "    }\n",
              "\n",
              "    [theme=dark] .colab-df-convert {\n",
              "      background-color: #3B4455;\n",
              "      fill: #D2E3FC;\n",
              "    }\n",
              "\n",
              "    [theme=dark] .colab-df-convert:hover {\n",
              "      background-color: #434B5C;\n",
              "      box-shadow: 0px 1px 3px 1px rgba(0, 0, 0, 0.15);\n",
              "      filter: drop-shadow(0px 1px 2px rgba(0, 0, 0, 0.3));\n",
              "      fill: #FFFFFF;\n",
              "    }\n",
              "  </style>\n",
              "\n",
              "      <script>\n",
              "        const buttonEl =\n",
              "          document.querySelector('#df-6ef6b5fe-76e0-4fb2-87ed-0d211fbd3f36 button.colab-df-convert');\n",
              "        buttonEl.style.display =\n",
              "          google.colab.kernel.accessAllowed ? 'block' : 'none';\n",
              "\n",
              "        async function convertToInteractive(key) {\n",
              "          const element = document.querySelector('#df-6ef6b5fe-76e0-4fb2-87ed-0d211fbd3f36');\n",
              "          const dataTable =\n",
              "            await google.colab.kernel.invokeFunction('convertToInteractive',\n",
              "                                                     [key], {});\n",
              "          if (!dataTable) return;\n",
              "\n",
              "          const docLinkHtml = 'Like what you see? Visit the ' +\n",
              "            '<a target=\"_blank\" href=https://colab.research.google.com/notebooks/data_table.ipynb>data table notebook</a>'\n",
              "            + ' to learn more about interactive tables.';\n",
              "          element.innerHTML = '';\n",
              "          dataTable['output_type'] = 'display_data';\n",
              "          await google.colab.output.renderOutput(dataTable, element);\n",
              "          const docLink = document.createElement('div');\n",
              "          docLink.innerHTML = docLinkHtml;\n",
              "          element.appendChild(docLink);\n",
              "        }\n",
              "      </script>\n",
              "    </div>\n",
              "  </div>\n",
              "  "
            ]
          },
          "metadata": {},
          "execution_count": 43
        }
      ],
      "source": [
        "data"
      ]
    },
    {
      "cell_type": "markdown",
      "metadata": {
        "id": "xjT-gBrbcO_e"
      },
      "source": [
        "This is a pandas dataframe, so we can index in to just get price like this. For more info on pandas, please [click here](http://pandas.pydata.org/pandas-docs/stable/10min.html)."
      ]
    },
    {
      "cell_type": "code",
      "execution_count": null,
      "metadata": {
        "id": "_3TT5_hqcO_e"
      },
      "outputs": [],
      "source": [
        "X = data['Close']"
      ]
    },
    {
      "cell_type": "code",
      "execution_count": null,
      "metadata": {
        "colab": {
          "base_uri": "https://localhost:8080/"
        },
        "id": "8lLiuU9Ph52u",
        "outputId": "08366e8a-8a9a-4350-dc22-1b8fa633c13e"
      },
      "outputs": [
        {
          "output_type": "execute_result",
          "data": {
            "text/plain": [
              "0     29.96\n",
              "1     29.50\n",
              "2     28.50\n",
              "3     28.90\n",
              "4     28.36\n",
              "      ...  \n",
              "60    25.26\n",
              "61    25.70\n",
              "62    25.78\n",
              "63    26.33\n",
              "64    26.07\n",
              "Name: Close, Length: 65, dtype: float64"
            ]
          },
          "metadata": {},
          "execution_count": 45
        }
      ],
      "source": [
        "X"
      ]
    },
    {
      "cell_type": "markdown",
      "metadata": {
        "id": "7UqHiB1vcO_f"
      },
      "source": [
        "Because there is now also date information in our data, we provide two series to `.plot`. `X.index` gives us the datetime index, and `X.values` gives us the pricing values. These are used as the X and Y coordinates to make a graph."
      ]
    },
    {
      "cell_type": "code",
      "execution_count": null,
      "metadata": {
        "colab": {
          "base_uri": "https://localhost:8080/",
          "height": 265
        },
        "id": "svwGYp1XcO_f",
        "outputId": "ea5113c0-c432-41dd-e6a1-6854022d3f12"
      },
      "outputs": [
        {
          "output_type": "display_data",
          "data": {
            "text/plain": [
              "<Figure size 432x288 with 1 Axes>"
            ],
            "image/png": "[encoded data removed]"
          },
          "metadata": {
            "needs_background": "light"
          }
        }
      ],
      "source": [
        "plt.plot(X.index, X.values)\n",
        "plt.ylabel('Close')\n",
        "plt.legend(['MSFT']);"
      ]
    },
    {
      "cell_type": "markdown",
      "metadata": {
        "id": "7Nel0UqkcO_f"
      },
      "source": [
        "We can get statistics again on real data."
      ]
    },
    {
      "cell_type": "code",
      "execution_count": null,
      "metadata": {
        "colab": {
          "base_uri": "https://localhost:8080/"
        },
        "id": "rnc2uNm7cO_g",
        "outputId": "7cddd910-5b5f-4485-8c5c-d3f4167eaedb"
      },
      "outputs": [
        {
          "output_type": "execute_result",
          "data": {
            "text/plain": [
              "26.786000000000012"
            ]
          },
          "metadata": {},
          "execution_count": 47
        }
      ],
      "source": [
        "np.mean(X)"
      ]
    },
    {
      "cell_type": "code",
      "execution_count": null,
      "metadata": {
        "colab": {
          "base_uri": "https://localhost:8080/"
        },
        "id": "G-Sf6sZScO_g",
        "outputId": "13739fb6-44dc-436f-bf7b-58f0a2b1b766"
      },
      "outputs": [
        {
          "output_type": "execute_result",
          "data": {
            "text/plain": [
              "1.0788096003679954"
            ]
          },
          "metadata": {},
          "execution_count": 48
        }
      ],
      "source": [
        "np.std(X)"
      ]
    },
    {
      "cell_type": "markdown",
      "metadata": {
        "id": "-a0F7pPbcO_h"
      },
      "source": [
        "##Getting Returns from Prices\n",
        "\n",
        "We can use the `pct_change` function to get returns. Notice how we drop the first element after doing this, as it will be `NaN` (nothing -> something results in a NaN percent change)."
      ]
    },
    {
      "cell_type": "code",
      "execution_count": null,
      "metadata": {
        "id": "lKVYTCADcO_h"
      },
      "outputs": [],
      "source": [
        "R = X.pct_change()[1:]"
      ]
    },
    {
      "cell_type": "markdown",
      "metadata": {
        "id": "TA-C9DLVcO_h"
      },
      "source": [
        "We can plot the returns distribution as a histogram."
      ]
    },
    {
      "cell_type": "code",
      "execution_count": null,
      "metadata": {
        "colab": {
          "base_uri": "https://localhost:8080/",
          "height": 279
        },
        "id": "lCuuEFRWcO_k",
        "outputId": "fb66d1a2-c60b-416c-b879-dc9cb2596dc4"
      },
      "outputs": [
        {
          "output_type": "display_data",
          "data": {
            "text/plain": [
              "<Figure size 432x288 with 1 Axes>"
            ],
            "image/png": "[encoded data removed]"
          },
          "metadata": {
            "needs_background": "light"
          }
        }
      ],
      "source": [
        "plt.hist(R, bins=20)\n",
        "plt.xlabel('Return')\n",
        "plt.ylabel('Frequency')\n",
        "plt.legend(['MSFT Returns']);"
      ]
    },
    {
      "cell_type": "markdown",
      "metadata": {
        "id": "vylAB0FOcO_l"
      },
      "source": [
        "Get statistics again."
      ]
    },
    {
      "cell_type": "code",
      "execution_count": null,
      "metadata": {
        "colab": {
          "base_uri": "https://localhost:8080/"
        },
        "id": "WsAmlqRdcO_m",
        "outputId": "b8b80832-58af-41d1-9108-9ca594d2d9ff"
      },
      "outputs": [
        {
          "output_type": "execute_result",
          "data": {
            "text/plain": [
              "-0.002043158431090727"
            ]
          },
          "metadata": {},
          "execution_count": 51
        }
      ],
      "source": [
        "np.mean(R)"
      ]
    },
    {
      "cell_type": "code",
      "execution_count": null,
      "metadata": {
        "colab": {
          "base_uri": "https://localhost:8080/"
        },
        "id": "VcrETv3BcO_m",
        "outputId": "3cf6c124-58f0-4651-e54e-33e1b1046217"
      },
      "outputs": [
        {
          "output_type": "execute_result",
          "data": {
            "text/plain": [
              "0.015939793789086075"
            ]
          },
          "metadata": {},
          "execution_count": 52
        }
      ],
      "source": [
        "np.std(R)"
      ]
    },
    {
      "cell_type": "markdown",
      "metadata": {
        "id": "2t4oX31vcO_n"
      },
      "source": [
        "Now let's go backwards and generate data out of a normal distribution using the statistics we estimated from Microsoft's returns. We'll see that we have good reason to suspect Microsoft's returns may not be normal, as the resulting normal distribution looks far different."
      ]
    },
    {
      "cell_type": "code",
      "execution_count": null,
      "metadata": {
        "colab": {
          "base_uri": "https://localhost:8080/",
          "height": 279
        },
        "id": "rRM8BabZcO_o",
        "outputId": "94214cba-682b-4ac2-ec63-8976aae51b51"
      },
      "outputs": [
        {
          "output_type": "display_data",
          "data": {
            "text/plain": [
              "<Figure size 432x288 with 1 Axes>"
            ],
            "image/png": "[encoded data removed]"
          },
          "metadata": {
            "needs_background": "light"
          }
        }
      ],
      "source": [
        "plt.hist(np.random.normal(np.mean(R), np.std(R), 10000), bins=20)\n",
        "plt.xlabel('Return')\n",
        "plt.ylabel('Frequency')\n",
        "plt.legend(['Normally Distributed Returns']);"
      ]
    },
    {
      "cell_type": "markdown",
      "metadata": {
        "id": "Eb5wE22BcO_p"
      },
      "source": [
        "##Generating a Moving Average\n",
        "\n",
        "`pandas` has some nice tools to allow us to generate rolling statistics. Here's an example. Notice how there's no moving average for the first 60 days, as we don't have 60 days of data on which to generate the statistic."
      ]
    },
    {
      "cell_type": "code",
      "execution_count": null,
      "metadata": {
        "colab": {
          "base_uri": "https://localhost:8080/",
          "height": 265
        },
        "id": "4vML5JYWcO_q",
        "outputId": "eb9f4d90-0ce2-4d58-dce1-2e3ce84a1ceb"
      },
      "outputs": [
        {
          "output_type": "display_data",
          "data": {
            "text/plain": [
              "<Figure size 432x288 with 1 Axes>"
            ],
            "image/png": "[encoded data removed]"
          },
          "metadata": {
            "needs_background": "light"
          }
        }
      ],
      "source": [
        "# Take the average of the last 60 days at each timepoint.\n",
        "MAVG = pd.DataFrame.rolling(X, window=60).mean()\n",
        "plt.plot(X.index, X.values)\n",
        "plt.plot(MAVG.index, MAVG.values)\n",
        "plt.ylabel('Price')\n",
        "plt.legend(['MSFT', '60-day MAVG']);"
      ]
    },
    {
      "cell_type": "markdown",
      "metadata": {
        "id": "_NFxmxFqcO_q"
      },
      "source": [
        "This presentation is for informational purposes only and does not constitute an offer to sell, a solicitation to buy, or a recommendation for any security; nor does it constitute an offer to provide investment advisory or other services by Quantopian, Inc. (\"Quantopian\"). Nothing contained herein constitutes investment advice or offers any opinion with respect to the suitability of any security, and any views expressed herein should not be taken as advice to buy, sell, or hold any security or as an endorsement of any security or company. In preparing the information contained herein, Quantopian, Inc. has not taken into account the investment needs, objectives, and financial circumstances of any particular investor. Any views expressed and data illustrated herein were prepared based upon information, believed to be reliable, available to Quantopian, Inc. at the time of publication. Quantopian makes no guarantees as to their accuracy or completeness. All information is subject to change and may quickly become unreliable for various reasons, including changes in market conditions or economic circumstances."
      ]
    },
    {
      "cell_type": "markdown",
      "metadata": {
        "id": "QBS7pN-EczBi"
      },
      "source": [
        "# Introduction to Python\n",
        "by Maxwell Margenot\n",
        "\n",
        "Part of the Quantopian Lecture Series:\n",
        "\n",
        "* [www.quantopian.com/lectures](https://www.quantopian.com/lectures)\n",
        "* [github.com/quantopian/research_public](https://github.com/quantopian/research_public)\n",
        "\n",
        "\n",
        "---\n",
        "\n",
        "All of the coding that you will do on the Quantopian platform will be in Python. It is also just a good, jack-of-all-trades language to know! Here we will provide you with the basics so that you can feel confident going through our other lectures and understanding what is happening."
      ]
    },
    {
      "cell_type": "markdown",
      "metadata": {
        "id": "XpYuDpsPczCG"
      },
      "source": [
        "## Code Comments\n",
        "\n",
        "A comment is a note made by a programmer in the source code of a program. Its purpose is to clarify the source code and make it easier for people to follow along with what is happening. Anything in a comment is generally ignored when the code is actually run, making comments useful for including explanations and reasoning as well as removing specific lines of code that you may be unsure about. Comments in Python are created by using the pound symbol (`# Insert Text Here`). Including a `#` in a line of code will comment out anything that follows it."
      ]
    },
    {
      "cell_type": "code",
      "metadata": {
        "id": "OY4m3uOyczCI"
      },
      "source": [
        "# This is a comment\n",
        "# These lines of code will not change any values\n",
        "# Anything following the first # is not run as code"
      ],
      "execution_count": null,
      "outputs": []
    },
    {
      "cell_type": "code",
      "metadata": {
        "id": "tDuIafGLxI0Z"
      },
      "source": [
        "#print(\"Hola\")\n",
        "# Ejemplo"
      ],
      "execution_count": null,
      "outputs": []
    },
    {
      "cell_type": "markdown",
      "metadata": {
        "id": "1iM0H4IZczCK"
      },
      "source": [
        "You may hear text enclosed in triple quotes (`\"\"\" Insert Text Here \"\"\"`) referred to as multi-line comments, but this is not entirely accurate. This is a special type of `string` (a data type we will cover), called a `docstring`, used to explain the purpose of a function."
      ]
    },
    {
      "cell_type": "code",
      "metadata": {
        "id": "-r26AOLtczCM",
        "colab": {
          "base_uri": "https://localhost:8080/",
          "height": 36
        },
        "outputId": "f6e25c53-8faa-44f4-eb54-b8d60a8b29fd"
      },
      "source": [
        "\"\"\" This is a special string \"\"\""
      ],
      "execution_count": null,
      "outputs": [
        {
          "output_type": "execute_result",
          "data": {
            "text/plain": [
              "' This is a special string '"
            ],
            "application/vnd.google.colaboratory.intrinsic+json": {
              "type": "string"
            }
          },
          "metadata": {},
          "execution_count": 57
        }
      ]
    },
    {
      "cell_type": "markdown",
      "source": [
        "**My own example 2**"
      ],
      "metadata": {
        "id": "ordXbqWk2GYl"
      }
    },
    {
      "cell_type": "code",
      "metadata": {
        "colab": {
          "base_uri": "https://localhost:8080/",
          "height": 36
        },
        "id": "5cFgaCMXxONh",
        "outputId": "136266db-5f7c-4da2-bd1c-3a7dbf79f1f4"
      },
      "source": [
        "''' Código de ejemplo largo '''"
      ],
      "execution_count": null,
      "outputs": [
        {
          "output_type": "execute_result",
          "data": {
            "text/plain": [
              "' Código de ejemplo largo '"
            ],
            "application/vnd.google.colaboratory.intrinsic+json": {
              "type": "string"
            }
          },
          "metadata": {},
          "execution_count": 58
        }
      ]
    },
    {
      "cell_type": "markdown",
      "metadata": {
        "id": "Mj7_wcOVczCP"
      },
      "source": [
        "Make sure you read the comments within each code cell (if they are there). They will provide more real-time explanations of what is going on as you look at each line of code."
      ]
    },
    {
      "cell_type": "markdown",
      "metadata": {
        "id": "7pK_ibBEczCP"
      },
      "source": [
        "## Variables\n",
        "\n",
        "Variables provide names for values in programming. If you want to save a value for later or repeated use, you give the value a name, storing the contents in a variable. Variables in programming work in a fundamentally similar way to variables in algebra, but in Python they can take on various different data types.\n",
        "\n",
        "The basic variable types that we will cover in this section are `integers`, `floating point numbers`, `booleans`, and `strings`. \n",
        "\n",
        "An `integer` in programming is the same as in mathematics, a round number with no values after the decimal point. We use the built-in `print` function here to display the values of our variables as well as their types!"
      ]
    },
    {
      "cell_type": "code",
      "metadata": {
        "colab": {
          "base_uri": "https://localhost:8080/"
        },
        "id": "1xBY-0XrczCQ",
        "outputId": "5252e630-a107-4f43-a582-198bb2af9ac2"
      },
      "source": [
        "my_integer = 50\n",
        "print(my_integer, type(my_integer))"
      ],
      "execution_count": null,
      "outputs": [
        {
          "output_type": "stream",
          "name": "stdout",
          "text": [
            "50 <class 'int'>\n"
          ]
        }
      ]
    },
    {
      "cell_type": "markdown",
      "source": [
        "**My own example 3**"
      ],
      "metadata": {
        "id": "BMOtGGU_2JZL"
      }
    },
    {
      "cell_type": "code",
      "metadata": {
        "colab": {
          "base_uri": "https://localhost:8080/"
        },
        "id": "M5CTuuXJwC04",
        "outputId": "fed8134c-b1cf-4e5e-9f3d-2e147032e364"
      },
      "source": [
        "an_integer = 4032\n",
        "print(an_integer, type(an_integer))"
      ],
      "execution_count": null,
      "outputs": [
        {
          "output_type": "stream",
          "name": "stdout",
          "text": [
            "4032 <class 'int'>\n"
          ]
        }
      ]
    },
    {
      "cell_type": "markdown",
      "metadata": {
        "id": "r5HnkvCMczCR"
      },
      "source": [
        "Variables, regardless of type, are assigned by using a single equals sign (`=`). Variables are case-sensitive so any changes in variation in the capitals of a variable name will reference a different variable entirely."
      ]
    },
    {
      "cell_type": "code",
      "metadata": {
        "colab": {
          "base_uri": "https://localhost:8080/"
        },
        "id": "A-iAsMKpczCS",
        "outputId": "2af26364-8836-4529-e112-872638cbca69"
      },
      "source": [
        "one = 1\n",
        "print(one)"
      ],
      "execution_count": null,
      "outputs": [
        {
          "output_type": "stream",
          "name": "stdout",
          "text": [
            "1\n"
          ]
        }
      ]
    },
    {
      "cell_type": "markdown",
      "source": [
        "**My own example 4**"
      ],
      "metadata": {
        "id": "dGZo9WrY2Qfk"
      }
    },
    {
      "cell_type": "code",
      "metadata": {
        "colab": {
          "base_uri": "https://localhost:8080/"
        },
        "id": "LdIneMk6BKdX",
        "outputId": "cf688e77-d097-4959-d4d4-946aa15523dc"
      },
      "source": [
        "frase = \"Hola mundo\"\n",
        "print(frase)"
      ],
      "execution_count": null,
      "outputs": [
        {
          "output_type": "stream",
          "name": "stdout",
          "text": [
            "Hola mundo\n"
          ]
        }
      ]
    },
    {
      "cell_type": "markdown",
      "metadata": {
        "id": "qu0K24ncczCT"
      },
      "source": [
        "A `floating point` number, or a `float` is a fancy name for a real number (again as in mathematics). To define a `float`, we need to either include a decimal point or specify that the value is a float."
      ]
    },
    {
      "cell_type": "code",
      "metadata": {
        "scrolled": true,
        "colab": {
          "base_uri": "https://localhost:8080/"
        },
        "id": "HMqSpQp7czCU",
        "outputId": "8ab49616-4554-4fb5-ee63-a3b9d370e0d9"
      },
      "source": [
        "my_float = 1.0\n",
        "print(my_float, type(my_float))\n",
        "my_float = float(1)\n",
        "print(my_float, type(my_float))"
      ],
      "execution_count": null,
      "outputs": [
        {
          "output_type": "stream",
          "name": "stdout",
          "text": [
            "1.0 <class 'float'>\n",
            "1.0 <class 'float'>\n"
          ]
        }
      ]
    },
    {
      "cell_type": "markdown",
      "source": [
        "**My own example 5**"
      ],
      "metadata": {
        "id": "oOInba-m2SgH"
      }
    },
    {
      "cell_type": "code",
      "metadata": {
        "colab": {
          "base_uri": "https://localhost:8080/"
        },
        "id": "3YvWWMgCxjw8",
        "outputId": "0b5aa5b1-2dda-4742-890f-d1518f043661"
      },
      "source": [
        "a_float = 658.435\n",
        "print(a_float, type(a_float))\n",
        "a_float = float(7182)\n",
        "print(a_float, type(a_float))"
      ],
      "execution_count": null,
      "outputs": [
        {
          "output_type": "stream",
          "name": "stdout",
          "text": [
            "658.435 <class 'float'>\n",
            "7182.0 <class 'float'>\n"
          ]
        }
      ]
    },
    {
      "cell_type": "markdown",
      "metadata": {
        "id": "8JMSO8a4czCU"
      },
      "source": [
        "A variable of type `float` will not round the number that you store in it, while a variable of type `integer` will. This makes `floats` more suitable for mathematical calculations where you want more than just integers.\n",
        "\n",
        "Note that as we used the `float()` function to force an number to be considered a `float`, we can use the `int()` function to force a number to be considered an `int`."
      ]
    },
    {
      "cell_type": "code",
      "metadata": {
        "id": "k-j2TUKNczCV",
        "colab": {
          "base_uri": "https://localhost:8080/"
        },
        "outputId": "6758de03-1f7f-4852-a47e-f8d3aefe56f2"
      },
      "source": [
        "my_int = int(3.14159)\n",
        "print(my_int, type(my_int))"
      ],
      "execution_count": null,
      "outputs": [
        {
          "output_type": "stream",
          "name": "stdout",
          "text": [
            "3 <class 'int'>\n"
          ]
        }
      ]
    },
    {
      "cell_type": "markdown",
      "source": [
        "**My own example 6**"
      ],
      "metadata": {
        "id": "NKl7P-RB2UKy"
      }
    },
    {
      "cell_type": "code",
      "metadata": {
        "colab": {
          "base_uri": "https://localhost:8080/"
        },
        "id": "SjO1n3SIx17L",
        "outputId": "3c8363ef-d6e8-4db7-d2ea-c04fb252c539"
      },
      "source": [
        "an_int = int(823.4674)\n",
        "print(an_int, type(an_int))"
      ],
      "execution_count": null,
      "outputs": [
        {
          "output_type": "stream",
          "name": "stdout",
          "text": [
            "823 <class 'int'>\n"
          ]
        }
      ]
    },
    {
      "cell_type": "markdown",
      "metadata": {
        "id": "Tjcepr5kczCV"
      },
      "source": [
        "The `int()` function will also truncate any digits that a number may have after the decimal point!\n",
        "\n",
        "Strings allow you to include text as a variable to operate on. They are defined using either single quotes ('') or double quotes (\"\")."
      ]
    },
    {
      "cell_type": "code",
      "metadata": {
        "id": "T-OT2nrhczCW",
        "colab": {
          "base_uri": "https://localhost:8080/"
        },
        "outputId": "48338ef8-c097-4b11-fc19-faca19153393"
      },
      "source": [
        "my_string = 'This is a string with single quotes'\n",
        "print(my_string)\n",
        "my_string = \"This is a string with double quotes\"\n",
        "print(my_string)"
      ],
      "execution_count": null,
      "outputs": [
        {
          "output_type": "stream",
          "name": "stdout",
          "text": [
            "This is a string with single quotes\n",
            "This is a string with double quotes\n"
          ]
        }
      ]
    },
    {
      "cell_type": "markdown",
      "source": [
        "**My own example 7**"
      ],
      "metadata": {
        "id": "f35c-21x2Uyi"
      }
    },
    {
      "cell_type": "code",
      "metadata": {
        "colab": {
          "base_uri": "https://localhost:8080/"
        },
        "id": "ZYZqbPkmyNTk",
        "outputId": "c334b303-3422-4d0e-d7c0-88e648029b18"
      },
      "source": [
        "a_string = 'Ejemplo con corchete simple'\n",
        "print(a_string)\n",
        "a_string = \"Ejemplo con doble corchete\"\n",
        "print(a_string)"
      ],
      "execution_count": null,
      "outputs": [
        {
          "output_type": "stream",
          "name": "stdout",
          "text": [
            "Ejemplo con corchete simple\n",
            "Ejemplo con doble corchete\n"
          ]
        }
      ]
    },
    {
      "cell_type": "markdown",
      "metadata": {
        "id": "1_xxLyKuczCW"
      },
      "source": [
        "Both are allowed so that we can include apostrophes or quotation marks in a string if we so choose."
      ]
    },
    {
      "cell_type": "code",
      "metadata": {
        "id": "LurHa3JxczCX",
        "colab": {
          "base_uri": "https://localhost:8080/"
        },
        "outputId": "ac48518a-7e15-4929-8629-dd45a1130d17"
      },
      "source": [
        "my_string = '\"Jabberwocky\", by Lewis Carroll'\n",
        "print(my_string)\n",
        "my_string = \"'Twas brillig, and the slithy toves / Did gyre and gimble in the wabe;\"\n",
        "print(my_string)"
      ],
      "execution_count": null,
      "outputs": [
        {
          "output_type": "stream",
          "name": "stdout",
          "text": [
            "\"Jabberwocky\", by Lewis Carroll\n",
            "'Twas brillig, and the slithy toves / Did gyre and gimble in the wabe;\n"
          ]
        }
      ]
    },
    {
      "cell_type": "markdown",
      "source": [
        "**My own example 8**"
      ],
      "metadata": {
        "id": "OMc5ujF82VcK"
      }
    },
    {
      "cell_type": "code",
      "metadata": {
        "colab": {
          "base_uri": "https://localhost:8080/"
        },
        "id": "2BelZ0rQyeoT",
        "outputId": "6cee48f8-4162-4375-e8de-fe36cdfa7a15"
      },
      "source": [
        "my_string = '\"100 años de soledad\" por Gabriel Garcia Marquez'\n",
        "print(my_string)\n",
        "my_string = \"'Hola', exclamó juan\"\n",
        "print(my_string)"
      ],
      "execution_count": null,
      "outputs": [
        {
          "output_type": "stream",
          "name": "stdout",
          "text": [
            "\"100 años de soledad\" por Gabriel Garcia Marquez\n",
            "'Hola', exclamó juan\n"
          ]
        }
      ]
    },
    {
      "cell_type": "markdown",
      "metadata": {
        "id": "Ua6GwLPTczCX"
      },
      "source": [
        "Booleans, or `bools` are binary variable types. A `bool` can only take on one of two values, these being `True` or `False`. There is much more to this idea of truth values when it comes to programming, which we cover later in the [Logical Operators](#id-section5) of this notebook."
      ]
    },
    {
      "cell_type": "code",
      "metadata": {
        "colab": {
          "base_uri": "https://localhost:8080/"
        },
        "id": "MocoL-ybczCX",
        "outputId": "eb1a4f40-3900-4a44-bdad-16949fdf56ed"
      },
      "source": [
        "my_bool = True\n",
        "print(my_bool, type(my_bool))"
      ],
      "execution_count": null,
      "outputs": [
        {
          "output_type": "stream",
          "name": "stdout",
          "text": [
            "True <class 'bool'>\n"
          ]
        }
      ]
    },
    {
      "cell_type": "markdown",
      "source": [
        "**My own example 9**"
      ],
      "metadata": {
        "id": "cnEEraRt2XZV"
      }
    },
    {
      "cell_type": "code",
      "metadata": {
        "colab": {
          "base_uri": "https://localhost:8080/"
        },
        "id": "jejp1IcN0jZY",
        "outputId": "e7abedf0-6adb-4423-f91f-1500310a74e6"
      },
      "source": [
        "my_bool = (False and True)\n",
        "print(my_bool, type(my_bool))"
      ],
      "execution_count": null,
      "outputs": [
        {
          "output_type": "stream",
          "name": "stdout",
          "text": [
            "False <class 'bool'>\n"
          ]
        }
      ]
    },
    {
      "cell_type": "markdown",
      "metadata": {
        "id": "CKMN7uFJczCX"
      },
      "source": [
        "There are many more data types that you can assign as variables in Python, but these are the basic ones! We will cover a few more later as we move through this tutorial."
      ]
    },
    {
      "cell_type": "markdown",
      "metadata": {
        "id": "Felsqmo4czCY"
      },
      "source": [
        "## Basic Math\n",
        "\n",
        "Python has a number of built-in math functions. These can be extended even further by importing the **math** package or by including any number of other calculation-based packages.\n",
        "\n",
        "All of the basic arithmetic operations are supported: `+`, `-`, `/`, and `*`. You can create exponents by using `**` and modular arithmetic is introduced with the mod operator, `%`."
      ]
    },
    {
      "cell_type": "code",
      "metadata": {
        "colab": {
          "base_uri": "https://localhost:8080/"
        },
        "id": "kbrEznXgczCY",
        "outputId": "b54d7ac7-eb62-421a-aee4-f89507732f8a"
      },
      "source": [
        "print('Addition: ', 2 + 2)\n",
        "print('Subtraction: ', 7 - 4)\n",
        "print('Multiplication: ', 2 * 5)\n",
        "print('Division: ', 10 / 2)\n",
        "print('Exponentiation: ', 3**2)"
      ],
      "execution_count": null,
      "outputs": [
        {
          "output_type": "stream",
          "name": "stdout",
          "text": [
            "Addition:  4\n",
            "Subtraction:  3\n",
            "Multiplication:  10\n",
            "Division:  5.0\n",
            "Exponentiation:  9\n"
          ]
        }
      ]
    },
    {
      "cell_type": "markdown",
      "source": [
        "**My own example 10**"
      ],
      "metadata": {
        "id": "EDRdq9Fc2YTR"
      }
    },
    {
      "cell_type": "code",
      "metadata": {
        "colab": {
          "base_uri": "https://localhost:8080/"
        },
        "id": "7k405kRG1zsL",
        "outputId": "ab4601d1-0094-47c4-bfa6-d0d55c410b4f"
      },
      "source": [
        "print('Addition: ', 2321 + 24.4)\n",
        "print('Subtraction: ', 7 - 424)\n",
        "print('Multiplication: ', 23 * 5.4)\n",
        "print('Division: ', 10 / 5)\n",
        "print('Exponentiation: ', 4**0.5)"
      ],
      "execution_count": null,
      "outputs": [
        {
          "output_type": "stream",
          "name": "stdout",
          "text": [
            "Addition:  2345.4\n",
            "Subtraction:  -417\n",
            "Multiplication:  124.2\n",
            "Division:  2.0\n",
            "Exponentiation:  2.0\n"
          ]
        }
      ]
    },
    {
      "cell_type": "markdown",
      "metadata": {
        "id": "3S1__yKpczCY"
      },
      "source": [
        "If you are not familiar with the the mod operator, it operates like a remainder function. If we type $15 \\ \\% \\ 4$, it will return the remainder after dividing $15$ by $4$."
      ]
    },
    {
      "cell_type": "code",
      "metadata": {
        "colab": {
          "base_uri": "https://localhost:8080/"
        },
        "id": "xKQlbS2VczCZ",
        "outputId": "dfec485f-5256-48be-d7e8-c61a808f84d3"
      },
      "source": [
        "print('Modulo: ', 15 % 4)"
      ],
      "execution_count": null,
      "outputs": [
        {
          "output_type": "stream",
          "name": "stdout",
          "text": [
            "Modulo:  3\n"
          ]
        }
      ]
    },
    {
      "cell_type": "markdown",
      "source": [
        "**My own example 11**"
      ],
      "metadata": {
        "id": "0xPh-DZk2ZHj"
      }
    },
    {
      "cell_type": "code",
      "metadata": {
        "colab": {
          "base_uri": "https://localhost:8080/"
        },
        "id": "CT2YF_Kp1_aT",
        "outputId": "2615e566-4059-4385-c645-94ade2d96910"
      },
      "source": [
        "print('Modulo: ', 15 % -4)"
      ],
      "execution_count": null,
      "outputs": [
        {
          "output_type": "stream",
          "name": "stdout",
          "text": [
            "Modulo:  -1\n"
          ]
        }
      ]
    },
    {
      "cell_type": "markdown",
      "metadata": {
        "id": "HLadBPFgczCZ"
      },
      "source": [
        "Mathematical functions also work on variables!"
      ]
    },
    {
      "cell_type": "code",
      "metadata": {
        "scrolled": true,
        "colab": {
          "base_uri": "https://localhost:8080/"
        },
        "id": "z3fXltxcczCZ",
        "outputId": "7661c41d-7987-4a3e-9a99-0db103ef28d1"
      },
      "source": [
        "first_integer = 4\n",
        "second_integer = 5\n",
        "print(first_integer * second_integer)"
      ],
      "execution_count": null,
      "outputs": [
        {
          "output_type": "stream",
          "name": "stdout",
          "text": [
            "20\n"
          ]
        }
      ]
    },
    {
      "cell_type": "markdown",
      "source": [
        "**My own example 12**"
      ],
      "metadata": {
        "id": "dI5wSjuO2Zpd"
      }
    },
    {
      "cell_type": "code",
      "metadata": {
        "colab": {
          "base_uri": "https://localhost:8080/"
        },
        "id": "Keuhp6572cCQ",
        "outputId": "9ce9ac03-6a8c-41c9-d87a-8f9048d22710"
      },
      "source": [
        "first_integer = 41\n",
        "second_integer = 52\n",
        "third_integer = 63\n",
        "print(first_integer * second_integer + third_integer)"
      ],
      "execution_count": null,
      "outputs": [
        {
          "output_type": "stream",
          "name": "stdout",
          "text": [
            "2195\n"
          ]
        }
      ]
    },
    {
      "cell_type": "markdown",
      "metadata": {
        "id": "BkK5FfzOczCa"
      },
      "source": [
        "Make sure that your variables are floats if you want to have decimal points in your answer. If you perform math exclusively with integers, you get an integer. Including any float in the calculation will make the result a float."
      ]
    },
    {
      "cell_type": "code",
      "metadata": {
        "colab": {
          "base_uri": "https://localhost:8080/"
        },
        "id": "Tql3klm2czCa",
        "outputId": "46335934-a2d4-4828-83bb-0078038cb8c5"
      },
      "source": [
        "first_integer = 11\n",
        "second_integer = 3\n",
        "print(first_integer / second_integer)"
      ],
      "execution_count": null,
      "outputs": [
        {
          "output_type": "stream",
          "name": "stdout",
          "text": [
            "3.6666666666666665\n"
          ]
        }
      ]
    },
    {
      "cell_type": "markdown",
      "source": [
        "**My own example 13**"
      ],
      "metadata": {
        "id": "Uak9wpLX2aJH"
      }
    },
    {
      "cell_type": "code",
      "metadata": {
        "colab": {
          "base_uri": "https://localhost:8080/"
        },
        "id": "i2x9vKEF2npb",
        "outputId": "f6277563-f5e0-4d3a-a341-ae15bcc25fe1"
      },
      "source": [
        "first_integer = 120\n",
        "second_integer = 35\n",
        "print(first_integer / second_integer)"
      ],
      "execution_count": null,
      "outputs": [
        {
          "output_type": "stream",
          "name": "stdout",
          "text": [
            "3.4285714285714284\n"
          ]
        }
      ]
    },
    {
      "cell_type": "code",
      "metadata": {
        "colab": {
          "base_uri": "https://localhost:8080/"
        },
        "id": "7Ci82dvIczCb",
        "outputId": "175b5f57-82d6-4aff-da11-0a4606951a74"
      },
      "source": [
        "first_number = 11.0\n",
        "second_number = 3.0\n",
        "print(first_number / second_number)"
      ],
      "execution_count": null,
      "outputs": [
        {
          "output_type": "stream",
          "name": "stdout",
          "text": [
            "3.6666666666666665\n"
          ]
        }
      ]
    },
    {
      "cell_type": "markdown",
      "source": [
        "**My own example 14**"
      ],
      "metadata": {
        "id": "TanhQBjM2bVT"
      }
    },
    {
      "cell_type": "code",
      "metadata": {
        "colab": {
          "base_uri": "https://localhost:8080/"
        },
        "id": "y28_3C4t2vVC",
        "outputId": "d997eea5-d854-4340-e296-0da9a789d66d"
      },
      "source": [
        "first_number = 120.0\n",
        "second_number = 35.0\n",
        "print(first_number / second_number)"
      ],
      "execution_count": null,
      "outputs": [
        {
          "output_type": "stream",
          "name": "stdout",
          "text": [
            "3.4285714285714284\n"
          ]
        }
      ]
    },
    {
      "cell_type": "markdown",
      "metadata": {
        "id": "JWK_QFf0czCb"
      },
      "source": [
        "Python has a few built-in math functions. The most notable of these are:\n",
        "\n",
        "* `abs()`\n",
        "* `round()`\n",
        "* `max()`\n",
        "* `min()`\n",
        "* `sum()`\n",
        "\n",
        "These functions all act as you would expect, given their names. Calling `abs()` on a number will return its absolute value. The `round()` function will round a number to a specified number of the decimal points (the default is $0$). Calling `max()` or `min()` on a collection of numbers will return, respectively, the maximum or minimum value in the collection. Calling `sum()` on a collection of numbers will add them all up. If you're not familiar with how collections of values in Python work, don't worry! We will cover collections in-depth in the next section. \n",
        "\n",
        "Additional math functionality can be added in with the `math` package."
      ]
    },
    {
      "cell_type": "code",
      "metadata": {
        "id": "ehGNptQ8czCb"
      },
      "source": [
        "import math"
      ],
      "execution_count": null,
      "outputs": []
    },
    {
      "cell_type": "markdown",
      "metadata": {
        "id": "i1fqVnOgczCc"
      },
      "source": [
        "The math library adds a long list of new mathematical functions to Python. Feel free to check out the [documentation](https://docs.python.org/2/library/math.html) for the full list and details. It concludes some mathematical constants"
      ]
    },
    {
      "cell_type": "code",
      "metadata": {
        "colab": {
          "base_uri": "https://localhost:8080/"
        },
        "id": "NjXcyqvtczCc",
        "outputId": "676ab0b3-572b-4975-d546-c336bd3e6bec"
      },
      "source": [
        "print('Pi: ', math.pi)\n",
        "print(\"Euler's Constant: \", math.e)"
      ],
      "execution_count": null,
      "outputs": [
        {
          "output_type": "stream",
          "name": "stdout",
          "text": [
            "Pi:  3.141592653589793\n",
            "Euler's Constant:  2.718281828459045\n"
          ]
        }
      ]
    },
    {
      "cell_type": "markdown",
      "metadata": {
        "id": "A3BfRq-DczCc"
      },
      "source": [
        "As well as some commonly used math functions"
      ]
    },
    {
      "cell_type": "code",
      "metadata": {
        "colab": {
          "base_uri": "https://localhost:8080/"
        },
        "id": "Jf_3x_ADczCc",
        "outputId": "eba94339-9ba0-407f-c188-28c2939ffca4"
      },
      "source": [
        "print('Cosine of pi: ', math.cos(math.pi))"
      ],
      "execution_count": null,
      "outputs": [
        {
          "output_type": "stream",
          "name": "stdout",
          "text": [
            "Cosine of pi:  -1.0\n"
          ]
        }
      ]
    },
    {
      "cell_type": "markdown",
      "source": [
        "**My own example 15**"
      ],
      "metadata": {
        "id": "Z5F0mu_Q2iRg"
      }
    },
    {
      "cell_type": "code",
      "metadata": {
        "colab": {
          "base_uri": "https://localhost:8080/"
        },
        "id": "MTfZ4_lU24La",
        "outputId": "740edbe3-0719-46fb-b7f4-0056b0614804"
      },
      "source": [
        "print('Sine of pi: ', math.sin(math.pi))"
      ],
      "execution_count": null,
      "outputs": [
        {
          "output_type": "stream",
          "name": "stdout",
          "text": [
            "Sine of pi:  1.2246467991473532e-16\n"
          ]
        }
      ]
    },
    {
      "cell_type": "markdown",
      "metadata": {
        "id": "7r_socRVczCd"
      },
      "source": [
        "## Collections\n",
        "### Lists\n",
        "\n",
        "A `list` in Python is an ordered collection of objects that can contain any data type. We define a `list` using brackets (`[]`)."
      ]
    },
    {
      "cell_type": "code",
      "metadata": {
        "colab": {
          "base_uri": "https://localhost:8080/"
        },
        "id": "k0A3F8fUczCd",
        "outputId": "f95cc59a-1d50-488d-eb7f-b5199bb12eff"
      },
      "source": [
        "my_list = [1, 2, 3]\n",
        "print(my_list)"
      ],
      "execution_count": null,
      "outputs": [
        {
          "output_type": "stream",
          "name": "stdout",
          "text": [
            "[1, 2, 3]\n"
          ]
        }
      ]
    },
    {
      "cell_type": "markdown",
      "source": [
        "**My own example 16**"
      ],
      "metadata": {
        "id": "0zwvWkbY2i3W"
      }
    },
    {
      "cell_type": "code",
      "metadata": {
        "colab": {
          "base_uri": "https://localhost:8080/"
        },
        "id": "Y1plsqXj3KJY",
        "outputId": "3baef997-69e5-4059-ee67-f113f648d63c"
      },
      "source": [
        "my_list1 = [10, 9, 8, 7, 6, 5]\n",
        "print(my_list1)"
      ],
      "execution_count": null,
      "outputs": [
        {
          "output_type": "stream",
          "name": "stdout",
          "text": [
            "[10, 9, 8, 7, 6, 5]\n"
          ]
        }
      ]
    },
    {
      "cell_type": "markdown",
      "metadata": {
        "id": "Y9J7NLTqczCe"
      },
      "source": [
        "We can access and index the list by using brackets as well. In order to select an individual element, simply type the list name followed by the index of the item you are looking for in braces."
      ]
    },
    {
      "cell_type": "code",
      "metadata": {
        "colab": {
          "base_uri": "https://localhost:8080/"
        },
        "id": "sLZyvPN_czCe",
        "outputId": "bc68c097-c6d5-483d-fa43-96b530f1b04a"
      },
      "source": [
        "print(my_list[0])\n",
        "print(my_list[2])"
      ],
      "execution_count": null,
      "outputs": [
        {
          "output_type": "stream",
          "name": "stdout",
          "text": [
            "1\n",
            "3\n"
          ]
        }
      ]
    },
    {
      "cell_type": "markdown",
      "source": [
        "**My own example 17**"
      ],
      "metadata": {
        "id": "3mZFGpZ02jcD"
      }
    },
    {
      "cell_type": "code",
      "metadata": {
        "colab": {
          "base_uri": "https://localhost:8080/"
        },
        "id": "Jq5miA0j3Q3Q",
        "outputId": "33e93495-48eb-4d16-ca44-08b535eba4b4"
      },
      "source": [
        "print(my_list1[4])\n",
        "print(my_list1[2])"
      ],
      "execution_count": null,
      "outputs": [
        {
          "output_type": "stream",
          "name": "stdout",
          "text": [
            "6\n",
            "8\n"
          ]
        }
      ]
    },
    {
      "cell_type": "markdown",
      "metadata": {
        "id": "SOpzqgQ5czCe"
      },
      "source": [
        "Indexing in Python starts from $0$. If you have a list of length $n$, the first element of the list is at index $0$, the second element is at index $1$, and so on and so forth. The final element of the list will be at index $n-1$. Be careful! Trying to access a non-existent index will cause an error."
      ]
    },
    {
      "cell_type": "code",
      "metadata": {
        "colab": {
          "base_uri": "https://localhost:8080/",
          "height": 205
        },
        "id": "WsF74OLkczCe",
        "outputId": "b5727431-02b5-43dc-ebde-e18b14e7c54f"
      },
      "source": [
        "print('The first, second, and third list elements: ', my_list[0], my_list[1], my_list[2])\n",
        "print('Accessing outside the list bounds causes an error: ', my_list[3])"
      ],
      "execution_count": null,
      "outputs": [
        {
          "output_type": "stream",
          "name": "stdout",
          "text": [
            "The first, second, and third list elements:  1 2 3\n"
          ]
        },
        {
          "output_type": "error",
          "ename": "IndexError",
          "evalue": "ignored",
          "traceback": [
            "\u001b[0;31m---------------------------------------------------------------------------\u001b[0m",
            "\u001b[0;31mIndexError\u001b[0m                                Traceback (most recent call last)",
            "\u001b[0;32m<ipython-input-91-a098d5dd42c3>\u001b[0m in \u001b[0;36m<module>\u001b[0;34m()\u001b[0m\n\u001b[1;32m      1\u001b[0m \u001b[0mprint\u001b[0m\u001b[0;34m(\u001b[0m\u001b[0;34m'The first, second, and third list elements: '\u001b[0m\u001b[0;34m,\u001b[0m \u001b[0mmy_list\u001b[0m\u001b[0;34m[\u001b[0m\u001b[0;36m0\u001b[0m\u001b[0;34m]\u001b[0m\u001b[0;34m,\u001b[0m \u001b[0mmy_list\u001b[0m\u001b[0;34m[\u001b[0m\u001b[0;36m1\u001b[0m\u001b[0;34m]\u001b[0m\u001b[0;34m,\u001b[0m \u001b[0mmy_list\u001b[0m\u001b[0;34m[\u001b[0m\u001b[0;36m2\u001b[0m\u001b[0;34m]\u001b[0m\u001b[0;34m)\u001b[0m\u001b[0;34m\u001b[0m\u001b[0;34m\u001b[0m\u001b[0m\n\u001b[0;32m----> 2\u001b[0;31m \u001b[0mprint\u001b[0m\u001b[0;34m(\u001b[0m\u001b[0;34m'Accessing outside the list bounds causes an error: '\u001b[0m\u001b[0;34m,\u001b[0m \u001b[0mmy_list\u001b[0m\u001b[0;34m[\u001b[0m\u001b[0;36m3\u001b[0m\u001b[0;34m]\u001b[0m\u001b[0;34m)\u001b[0m\u001b[0;34m\u001b[0m\u001b[0;34m\u001b[0m\u001b[0m\n\u001b[0m",
            "\u001b[0;31mIndexError\u001b[0m: list index out of range"
          ]
        }
      ]
    },
    {
      "cell_type": "markdown",
      "source": [
        "**My own example 18**"
      ],
      "metadata": {
        "id": "-hiiqRDs2o-0"
      }
    },
    {
      "cell_type": "code",
      "metadata": {
        "colab": {
          "base_uri": "https://localhost:8080/",
          "height": 205
        },
        "id": "Bwr-pZkt3WsY",
        "outputId": "fc60b234-bc77-406d-bbb0-1de00470e96d"
      },
      "source": [
        "print('The first, second, and third list elements: ', my_list1[0], my_list1[1], my_list1[2])\n",
        "print('Accessing outside the list bounds causes an error: ', my_list1[6])"
      ],
      "execution_count": null,
      "outputs": [
        {
          "output_type": "stream",
          "name": "stdout",
          "text": [
            "The first, second, and third list elements:  10 9 8\n"
          ]
        },
        {
          "output_type": "error",
          "ename": "IndexError",
          "evalue": "ignored",
          "traceback": [
            "\u001b[0;31m---------------------------------------------------------------------------\u001b[0m",
            "\u001b[0;31mIndexError\u001b[0m                                Traceback (most recent call last)",
            "\u001b[0;32m<ipython-input-92-c091a075a920>\u001b[0m in \u001b[0;36m<module>\u001b[0;34m()\u001b[0m\n\u001b[1;32m      1\u001b[0m \u001b[0mprint\u001b[0m\u001b[0;34m(\u001b[0m\u001b[0;34m'The first, second, and third list elements: '\u001b[0m\u001b[0;34m,\u001b[0m \u001b[0mmy_list1\u001b[0m\u001b[0;34m[\u001b[0m\u001b[0;36m0\u001b[0m\u001b[0;34m]\u001b[0m\u001b[0;34m,\u001b[0m \u001b[0mmy_list1\u001b[0m\u001b[0;34m[\u001b[0m\u001b[0;36m1\u001b[0m\u001b[0;34m]\u001b[0m\u001b[0;34m,\u001b[0m \u001b[0mmy_list1\u001b[0m\u001b[0;34m[\u001b[0m\u001b[0;36m2\u001b[0m\u001b[0;34m]\u001b[0m\u001b[0;34m)\u001b[0m\u001b[0;34m\u001b[0m\u001b[0;34m\u001b[0m\u001b[0m\n\u001b[0;32m----> 2\u001b[0;31m \u001b[0mprint\u001b[0m\u001b[0;34m(\u001b[0m\u001b[0;34m'Accessing outside the list bounds causes an error: '\u001b[0m\u001b[0;34m,\u001b[0m \u001b[0mmy_list1\u001b[0m\u001b[0;34m[\u001b[0m\u001b[0;36m6\u001b[0m\u001b[0;34m]\u001b[0m\u001b[0;34m)\u001b[0m\u001b[0;34m\u001b[0m\u001b[0;34m\u001b[0m\u001b[0m\n\u001b[0m",
            "\u001b[0;31mIndexError\u001b[0m: list index out of range"
          ]
        }
      ]
    },
    {
      "cell_type": "markdown",
      "metadata": {
        "id": "4SLzUzxsczCf"
      },
      "source": [
        "We can see the number of elements in a list by calling the `len()` function."
      ]
    },
    {
      "cell_type": "code",
      "metadata": {
        "colab": {
          "base_uri": "https://localhost:8080/"
        },
        "id": "MVYPLZbmczCf",
        "outputId": "0635d79e-385c-46a4-9df8-d33d60445196"
      },
      "source": [
        "print(len(my_list))"
      ],
      "execution_count": null,
      "outputs": [
        {
          "output_type": "stream",
          "name": "stdout",
          "text": [
            "3\n"
          ]
        }
      ]
    },
    {
      "cell_type": "markdown",
      "source": [
        "**My own example 19**"
      ],
      "metadata": {
        "id": "5GIskFql20Px"
      }
    },
    {
      "cell_type": "code",
      "metadata": {
        "colab": {
          "base_uri": "https://localhost:8080/"
        },
        "id": "5qQMP8lP3amg",
        "outputId": "a41c09d8-1994-4c50-da77-4dd850ee2bcb"
      },
      "source": [
        "print(len(my_list1))"
      ],
      "execution_count": null,
      "outputs": [
        {
          "output_type": "stream",
          "name": "stdout",
          "text": [
            "6\n"
          ]
        }
      ]
    },
    {
      "cell_type": "markdown",
      "metadata": {
        "id": "gCSULoe5czCf"
      },
      "source": [
        "We can update and change a list by accessing an index and assigning new value."
      ]
    },
    {
      "cell_type": "code",
      "metadata": {
        "colab": {
          "base_uri": "https://localhost:8080/"
        },
        "id": "8t5r7lGGczCf",
        "outputId": "182d5b26-4153-4e1f-b0ea-5116df0610cd"
      },
      "source": [
        "print(my_list)\n",
        "my_list[0] = 42\n",
        "print(my_list)"
      ],
      "execution_count": null,
      "outputs": [
        {
          "output_type": "stream",
          "name": "stdout",
          "text": [
            "[1, 2, 3]\n",
            "[42, 2, 3]\n"
          ]
        }
      ]
    },
    {
      "cell_type": "markdown",
      "source": [
        "**My own example 20**"
      ],
      "metadata": {
        "id": "HNt0PeUe201g"
      }
    },
    {
      "cell_type": "code",
      "metadata": {
        "colab": {
          "base_uri": "https://localhost:8080/"
        },
        "id": "abCquZvs4iLJ",
        "outputId": "fbd423b6-df94-43cf-93d3-54b94845eadb"
      },
      "source": [
        "print(my_list1)\n",
        "my_list1[3] = 1\n",
        "my_list1[5] = 2\n",
        "print(my_list1)"
      ],
      "execution_count": null,
      "outputs": [
        {
          "output_type": "stream",
          "name": "stdout",
          "text": [
            "[10, 9, 8, 7, 6, 5]\n",
            "[10, 9, 8, 1, 6, 2]\n"
          ]
        }
      ]
    },
    {
      "cell_type": "markdown",
      "metadata": {
        "id": "nqDdhae6czCg"
      },
      "source": [
        "This is fundamentally different from how strings are handled. A `list` is mutable, meaning that you can change a `list`'s elements without changing the list itself. Some data types, like `strings`, are immutable, meaning you cannot change them at all. Once a `string` or other immutable data type has been created, it cannot be directly modified without creating an entirely new object."
      ]
    },
    {
      "cell_type": "code",
      "metadata": {
        "colab": {
          "base_uri": "https://localhost:8080/",
          "height": 187
        },
        "id": "r3y0ClV4czCh",
        "outputId": "4b1fa241-0cb6-4193-dbd7-f671730e1558"
      },
      "source": [
        "my_string = \"Strings never change\"\n",
        "my_string[0] = 'Z'"
      ],
      "execution_count": null,
      "outputs": [
        {
          "output_type": "error",
          "ename": "TypeError",
          "evalue": "ignored",
          "traceback": [
            "\u001b[0;31m---------------------------------------------------------------------------\u001b[0m",
            "\u001b[0;31mTypeError\u001b[0m                                 Traceback (most recent call last)",
            "\u001b[0;32m<ipython-input-98-85065ecd61ab>\u001b[0m in \u001b[0;36m<module>\u001b[0;34m()\u001b[0m\n\u001b[1;32m      1\u001b[0m \u001b[0mmy_string\u001b[0m \u001b[0;34m=\u001b[0m \u001b[0;34m\"Strings never change\"\u001b[0m\u001b[0;34m\u001b[0m\u001b[0;34m\u001b[0m\u001b[0m\n\u001b[0;32m----> 2\u001b[0;31m \u001b[0mmy_string\u001b[0m\u001b[0;34m[\u001b[0m\u001b[0;36m0\u001b[0m\u001b[0;34m]\u001b[0m \u001b[0;34m=\u001b[0m \u001b[0;34m'Z'\u001b[0m\u001b[0;34m\u001b[0m\u001b[0;34m\u001b[0m\u001b[0m\n\u001b[0m",
            "\u001b[0;31mTypeError\u001b[0m: 'str' object does not support item assignment"
          ]
        }
      ]
    },
    {
      "cell_type": "markdown",
      "source": [
        "**My own example 21**"
      ],
      "metadata": {
        "id": "vEPISHEo21oH"
      }
    },
    {
      "cell_type": "code",
      "metadata": {
        "colab": {
          "base_uri": "https://localhost:8080/",
          "height": 187
        },
        "id": "NJnbMiYE4v-7",
        "outputId": "8fa39126-ad01-40d1-d075-39a3dc2d51c1"
      },
      "source": [
        "my_string = \"abcdefghijklmn\"\n",
        "my_string[1] = 'y'"
      ],
      "execution_count": null,
      "outputs": [
        {
          "output_type": "error",
          "ename": "TypeError",
          "evalue": "ignored",
          "traceback": [
            "\u001b[0;31m---------------------------------------------------------------------------\u001b[0m",
            "\u001b[0;31mTypeError\u001b[0m                                 Traceback (most recent call last)",
            "\u001b[0;32m<ipython-input-99-238bded3714e>\u001b[0m in \u001b[0;36m<module>\u001b[0;34m()\u001b[0m\n\u001b[1;32m      1\u001b[0m \u001b[0mmy_string\u001b[0m \u001b[0;34m=\u001b[0m \u001b[0;34m\"abcdefghijklmn\"\u001b[0m\u001b[0;34m\u001b[0m\u001b[0;34m\u001b[0m\u001b[0m\n\u001b[0;32m----> 2\u001b[0;31m \u001b[0mmy_string\u001b[0m\u001b[0;34m[\u001b[0m\u001b[0;36m1\u001b[0m\u001b[0;34m]\u001b[0m \u001b[0;34m=\u001b[0m \u001b[0;34m'y'\u001b[0m\u001b[0;34m\u001b[0m\u001b[0;34m\u001b[0m\u001b[0m\n\u001b[0m",
            "\u001b[0;31mTypeError\u001b[0m: 'str' object does not support item assignment"
          ]
        }
      ]
    },
    {
      "cell_type": "markdown",
      "metadata": {
        "id": "p7ufgaYDczCi"
      },
      "source": [
        "As we stated before, a list can contain any data type. Thus, lists can also contain strings."
      ]
    },
    {
      "cell_type": "code",
      "metadata": {
        "colab": {
          "base_uri": "https://localhost:8080/"
        },
        "id": "eYKZiMgQczCi",
        "outputId": "926a98b7-7878-4bc4-b5e5-1489eb595bc6"
      },
      "source": [
        "my_list_2 = ['one', 'two', 'three']\n",
        "print(my_list_2)"
      ],
      "execution_count": null,
      "outputs": [
        {
          "output_type": "stream",
          "name": "stdout",
          "text": [
            "['one', 'two', 'three']\n"
          ]
        }
      ]
    },
    {
      "cell_type": "markdown",
      "source": [
        "**My own example 22**"
      ],
      "metadata": {
        "id": "NqvY6l_l22WN"
      }
    },
    {
      "cell_type": "code",
      "metadata": {
        "colab": {
          "base_uri": "https://localhost:8080/"
        },
        "id": "jzq0pzE55C1v",
        "outputId": "dfe007ea-90d3-41e9-8d27-ae937af744e7"
      },
      "source": [
        "my_list1_2 = ['string', \"car\"]\n",
        "print(my_list1_2)"
      ],
      "execution_count": null,
      "outputs": [
        {
          "output_type": "stream",
          "name": "stdout",
          "text": [
            "['string', 'car']\n"
          ]
        }
      ]
    },
    {
      "cell_type": "markdown",
      "metadata": {
        "id": "IxaAh9EbczCj"
      },
      "source": [
        "Lists can also contain multiple different data types at once!"
      ]
    },
    {
      "cell_type": "code",
      "metadata": {
        "id": "LNoc4x6DczCk"
      },
      "source": [
        "my_list_3 = [True, 'False', 42]"
      ],
      "execution_count": null,
      "outputs": []
    },
    {
      "cell_type": "markdown",
      "metadata": {
        "id": "qKvXvRYDczCk"
      },
      "source": [
        "If you want to put two lists together, they can be combined with a `+` symbol."
      ]
    },
    {
      "cell_type": "code",
      "metadata": {
        "colab": {
          "base_uri": "https://localhost:8080/"
        },
        "id": "RLMbZCGv6mty",
        "outputId": "8fec9676-0144-4af4-aa0b-8b2d7cd3992d"
      },
      "source": [
        "my_list1_3 = [\"String\", 34, 82.23, 782.3, False]\n",
        "print(my_list1_3)"
      ],
      "execution_count": null,
      "outputs": [
        {
          "output_type": "stream",
          "name": "stdout",
          "text": [
            "['String', 34, 82.23, 782.3, False]\n"
          ]
        }
      ]
    },
    {
      "cell_type": "markdown",
      "source": [
        "**My own example 23**"
      ],
      "metadata": {
        "id": "pqNbHYR023Ou"
      }
    },
    {
      "cell_type": "code",
      "metadata": {
        "colab": {
          "base_uri": "https://localhost:8080/"
        },
        "id": "jEAXYbPlczCl",
        "outputId": "2997ac60-4797-4eb9-f9ea-19f57dbe857d"
      },
      "source": [
        "my_list_4 = my_list + my_list_2 + my_list_3\n",
        "print(my_list_4)"
      ],
      "execution_count": null,
      "outputs": [
        {
          "output_type": "stream",
          "name": "stdout",
          "text": [
            "[42, 2, 3, 'one', 'two', 'three', True, 'False', 42]\n"
          ]
        }
      ]
    },
    {
      "cell_type": "code",
      "metadata": {
        "colab": {
          "base_uri": "https://localhost:8080/"
        },
        "id": "BpXxeg7p64Ue",
        "outputId": "b403c172-0cf0-4950-bfad-ad02bc3649c3"
      },
      "source": [
        "my_list1_4 = my_list1 + my_list1_2 + my_list1_3\n",
        "print(my_list1_4)"
      ],
      "execution_count": null,
      "outputs": [
        {
          "output_type": "stream",
          "name": "stdout",
          "text": [
            "[10, 9, 8, 1, 6, 2, 'string', 'car', 'String', 34, 82.23, 782.3, False]\n"
          ]
        }
      ]
    },
    {
      "cell_type": "markdown",
      "metadata": {
        "id": "9bJj_VEZczCl"
      },
      "source": [
        "In addition to accessing individual elements of a list, we can access groups of elements through slicing."
      ]
    },
    {
      "cell_type": "code",
      "metadata": {
        "id": "VeMpgZXtczCl"
      },
      "source": [
        "my_list = ['friends', 'romans', 'countrymen', 'lend', 'me', 'your', 'ears']"
      ],
      "execution_count": null,
      "outputs": []
    },
    {
      "cell_type": "markdown",
      "source": [
        "**My own example 24**"
      ],
      "metadata": {
        "id": "JzhvdG-b25-v"
      }
    },
    {
      "cell_type": "code",
      "metadata": {
        "id": "syYYA_ax7AzG"
      },
      "source": [
        "my_list1 = [0, 1, 2, 3, 4, 5, 6, 7, 8]"
      ],
      "execution_count": null,
      "outputs": []
    },
    {
      "cell_type": "markdown",
      "metadata": {
        "id": "9mmpKhL9czCm"
      },
      "source": [
        "#### Slicing\n",
        "\n",
        "We use the colon (`:`) to slice lists. "
      ]
    },
    {
      "cell_type": "code",
      "metadata": {
        "scrolled": true,
        "colab": {
          "base_uri": "https://localhost:8080/"
        },
        "id": "CqMbETSTczCm",
        "outputId": "85f2e91f-79c1-4a18-e9de-c3856198aee6"
      },
      "source": [
        "print(my_list[2:4])"
      ],
      "execution_count": null,
      "outputs": [
        {
          "output_type": "stream",
          "name": "stdout",
          "text": [
            "['countrymen', 'lend']\n"
          ]
        }
      ]
    },
    {
      "cell_type": "markdown",
      "source": [
        "**My own example 25**"
      ],
      "metadata": {
        "id": "_5T4gvwz26nH"
      }
    },
    {
      "cell_type": "code",
      "metadata": {
        "colab": {
          "base_uri": "https://localhost:8080/"
        },
        "id": "V3qp2V2c8R-6",
        "outputId": "714be2ac-2190-467b-d6c5-ef02d60434d5"
      },
      "source": [
        "print(my_list1[3:7])"
      ],
      "execution_count": null,
      "outputs": [
        {
          "output_type": "stream",
          "name": "stdout",
          "text": [
            "[3, 4, 5, 6]\n"
          ]
        }
      ]
    },
    {
      "cell_type": "markdown",
      "metadata": {
        "id": "98mE0kbjczCn"
      },
      "source": [
        "Using `:` we can select a group of elements in the list starting from the first element indicated and going up to  (but not including) the last element indicated.\n",
        "\n",
        "We can also select everything after a certain point"
      ]
    },
    {
      "cell_type": "code",
      "metadata": {
        "scrolled": true,
        "colab": {
          "base_uri": "https://localhost:8080/"
        },
        "id": "XS1glfb8czCn",
        "outputId": "a13afcc5-9e46-4d14-b6b5-1694b39c1eee"
      },
      "source": [
        "print(my_list[1:])"
      ],
      "execution_count": null,
      "outputs": [
        {
          "output_type": "stream",
          "name": "stdout",
          "text": [
            "['romans', 'countrymen', 'lend', 'me', 'your', 'ears']\n"
          ]
        }
      ]
    },
    {
      "cell_type": "markdown",
      "source": [
        "**My own example 26**"
      ],
      "metadata": {
        "id": "g21vrwAC27Ja"
      }
    },
    {
      "cell_type": "code",
      "metadata": {
        "colab": {
          "base_uri": "https://localhost:8080/"
        },
        "id": "m43W4fIP80jh",
        "outputId": "815fe500-5d80-4691-b774-e0514593d520"
      },
      "source": [
        "print(my_list1[5:])"
      ],
      "execution_count": null,
      "outputs": [
        {
          "output_type": "stream",
          "name": "stdout",
          "text": [
            "[5, 6, 7, 8]\n"
          ]
        }
      ]
    },
    {
      "cell_type": "markdown",
      "metadata": {
        "id": "km6kFiwuczCo"
      },
      "source": [
        "And everything before a certain point"
      ]
    },
    {
      "cell_type": "code",
      "metadata": {
        "scrolled": true,
        "colab": {
          "base_uri": "https://localhost:8080/"
        },
        "id": "148wQOJ2czCo",
        "outputId": "5ba47f0b-f3c5-444e-ffaf-930768d269ff"
      },
      "source": [
        "print(my_list[:4])"
      ],
      "execution_count": null,
      "outputs": [
        {
          "output_type": "stream",
          "name": "stdout",
          "text": [
            "['friends', 'romans', 'countrymen', 'lend']\n"
          ]
        }
      ]
    },
    {
      "cell_type": "markdown",
      "source": [
        "**My own example 27**"
      ],
      "metadata": {
        "id": "YGMtH6Kg27mC"
      }
    },
    {
      "cell_type": "code",
      "metadata": {
        "colab": {
          "base_uri": "https://localhost:8080/"
        },
        "id": "huV72e3W83VH",
        "outputId": "f2d8eb90-8fd8-482e-b16a-409d7e109361"
      },
      "source": [
        "print(my_list1[:3])"
      ],
      "execution_count": null,
      "outputs": [
        {
          "output_type": "stream",
          "name": "stdout",
          "text": [
            "[0, 1, 2]\n"
          ]
        }
      ]
    },
    {
      "cell_type": "markdown",
      "metadata": {
        "id": "T8QqjSqpczCo"
      },
      "source": [
        "Using negative numbers will count from the end of the indices instead of from the beginning. For example, an index of `-1` indicates the last element of the list."
      ]
    },
    {
      "cell_type": "code",
      "metadata": {
        "colab": {
          "base_uri": "https://localhost:8080/"
        },
        "id": "lwmP1KfFczCp",
        "outputId": "eb93f8a4-2c68-4c18-ad5a-3b8e6e8e87d2"
      },
      "source": [
        "print(my_list[-1])"
      ],
      "execution_count": null,
      "outputs": [
        {
          "output_type": "stream",
          "name": "stdout",
          "text": [
            "ears\n"
          ]
        }
      ]
    },
    {
      "cell_type": "markdown",
      "source": [
        "**My own example 28**"
      ],
      "metadata": {
        "id": "JD-QZe6X28Bm"
      }
    },
    {
      "cell_type": "code",
      "metadata": {
        "colab": {
          "base_uri": "https://localhost:8080/"
        },
        "id": "dFgZt5wi87O1",
        "outputId": "af8bb58c-f4c3-4ff1-e07f-54d487efbe0a"
      },
      "source": [
        "print(my_list1[-5])"
      ],
      "execution_count": null,
      "outputs": [
        {
          "output_type": "stream",
          "name": "stdout",
          "text": [
            "4\n"
          ]
        }
      ]
    },
    {
      "cell_type": "markdown",
      "metadata": {
        "id": "xPI8x335czCp"
      },
      "source": [
        "You can also add a third component to slicing. Instead of simply indicating the first and final parts of your slice, you can specify the step size that you want to take. So instead of taking every single element, you can take every other element."
      ]
    },
    {
      "cell_type": "code",
      "metadata": {
        "colab": {
          "base_uri": "https://localhost:8080/"
        },
        "id": "eqaSoWivczCp",
        "outputId": "9ef7fa08-4e0a-47cb-deeb-fa8fd3491fa7"
      },
      "source": [
        "print(my_list[0:7:2])"
      ],
      "execution_count": null,
      "outputs": [
        {
          "output_type": "stream",
          "name": "stdout",
          "text": [
            "['friends', 'countrymen', 'me', 'ears']\n"
          ]
        }
      ]
    },
    {
      "cell_type": "markdown",
      "source": [
        "**My own example 29**"
      ],
      "metadata": {
        "id": "OSoXQwNW28fU"
      }
    },
    {
      "cell_type": "code",
      "metadata": {
        "colab": {
          "base_uri": "https://localhost:8080/"
        },
        "id": "VpfVR7um9UuQ",
        "outputId": "6fd5b8a2-91eb-4cb7-fb73-b8aaa4d96b18"
      },
      "source": [
        "print(my_list1[2:8:3])"
      ],
      "execution_count": null,
      "outputs": [
        {
          "output_type": "stream",
          "name": "stdout",
          "text": [
            "[2, 5]\n"
          ]
        }
      ]
    },
    {
      "cell_type": "markdown",
      "metadata": {
        "id": "dvZQ8CCfczCq"
      },
      "source": [
        "Here we have selected the entire list (because `0:7` will yield elements `0` through `6`) and we have selected a step size of `2`. So this will spit out element `0` , element `2`, element `4`, and so on through the list element selected. We can skip indicated the beginning and end of our slice, only indicating the step, if we like."
      ]
    },
    {
      "cell_type": "code",
      "metadata": {
        "colab": {
          "base_uri": "https://localhost:8080/"
        },
        "id": "wkS_aqoIczCq",
        "outputId": "9e579423-cdef-42b0-83da-81ac877ed75d"
      },
      "source": [
        "print(my_list[::2])"
      ],
      "execution_count": null,
      "outputs": [
        {
          "output_type": "stream",
          "name": "stdout",
          "text": [
            "['friends', 'countrymen', 'me', 'ears']\n"
          ]
        }
      ]
    },
    {
      "cell_type": "markdown",
      "source": [
        "**My own example 30**"
      ],
      "metadata": {
        "id": "kXi0Dzev28_M"
      }
    },
    {
      "cell_type": "code",
      "metadata": {
        "colab": {
          "base_uri": "https://localhost:8080/"
        },
        "id": "7tHvLjdF9aOE",
        "outputId": "e5e05196-3b11-4d56-f615-a911420b09ad"
      },
      "source": [
        "print(my_list1[::3])"
      ],
      "execution_count": null,
      "outputs": [
        {
          "output_type": "stream",
          "name": "stdout",
          "text": [
            "[0, 3, 6]\n"
          ]
        }
      ]
    },
    {
      "cell_type": "markdown",
      "metadata": {
        "id": "iqWiHWX8czCq"
      },
      "source": [
        "Lists implictly select the beginning and end of the list when not otherwise specified."
      ]
    },
    {
      "cell_type": "code",
      "metadata": {
        "colab": {
          "base_uri": "https://localhost:8080/"
        },
        "id": "PSvDobC-czCr",
        "outputId": "e260cf5e-a62a-43b6-dcd6-e7f7c405a7d0"
      },
      "source": [
        "print(my_list[:])"
      ],
      "execution_count": null,
      "outputs": [
        {
          "output_type": "stream",
          "name": "stdout",
          "text": [
            "['friends', 'romans', 'countrymen', 'lend', 'me', 'your', 'ears']\n"
          ]
        }
      ]
    },
    {
      "cell_type": "markdown",
      "source": [
        "**My own example 31**"
      ],
      "metadata": {
        "id": "ZGSeky5e29gk"
      }
    },
    {
      "cell_type": "code",
      "metadata": {
        "colab": {
          "base_uri": "https://localhost:8080/"
        },
        "id": "nNRWOIFo9ePD",
        "outputId": "325a1640-2058-430a-88df-ce8e94ccaf95"
      },
      "source": [
        "print(my_list1[:])"
      ],
      "execution_count": null,
      "outputs": [
        {
          "output_type": "stream",
          "name": "stdout",
          "text": [
            "[0, 1, 2, 3, 4, 5, 6, 7, 8]\n"
          ]
        }
      ]
    },
    {
      "cell_type": "markdown",
      "metadata": {
        "id": "dWpSfH1-czCr"
      },
      "source": [
        "With a negative step size we can even reverse the list!"
      ]
    },
    {
      "cell_type": "code",
      "metadata": {
        "colab": {
          "base_uri": "https://localhost:8080/"
        },
        "id": "am8ZYCCuczCs",
        "outputId": "9fed8b12-ac3b-48ad-c030-30eca141a9f9"
      },
      "source": [
        "print(my_list[::-1])"
      ],
      "execution_count": null,
      "outputs": [
        {
          "output_type": "stream",
          "name": "stdout",
          "text": [
            "['ears', 'your', 'me', 'lend', 'countrymen', 'romans', 'friends']\n"
          ]
        }
      ]
    },
    {
      "cell_type": "markdown",
      "source": [
        "**My own example 32**"
      ],
      "metadata": {
        "id": "2vjOupPX29-L"
      }
    },
    {
      "cell_type": "code",
      "metadata": {
        "colab": {
          "base_uri": "https://localhost:8080/"
        },
        "id": "Hj_xGkRT9jWP",
        "outputId": "ad1ff4f5-f781-44f7-f5fe-45318a7ecfa1"
      },
      "source": [
        "print(my_list1[::-2])"
      ],
      "execution_count": null,
      "outputs": [
        {
          "output_type": "stream",
          "name": "stdout",
          "text": [
            "[8, 6, 4, 2, 0]\n"
          ]
        }
      ]
    },
    {
      "cell_type": "markdown",
      "metadata": {
        "id": "McCgNP9XczCs"
      },
      "source": [
        "Python does not have native matrices, but with lists we can produce a working fascimile. Other packages, such as `numpy`, add matrices as a separate data type, but in base Python the best way to create a matrix is to use a list of lists."
      ]
    },
    {
      "cell_type": "markdown",
      "metadata": {
        "id": "giVPr5nSczCs"
      },
      "source": [
        "We can also use built-in functions to generate lists. In particular we will look at `range()` (because we will be using it later!). Range can take several different inputs and will return a list."
      ]
    },
    {
      "cell_type": "code",
      "metadata": {
        "colab": {
          "base_uri": "https://localhost:8080/"
        },
        "id": "BZAiZAgeczCt",
        "outputId": "b836fd72-f410-489a-dc62-539c44d9fe6d"
      },
      "source": [
        "b = 10\n",
        "my_list = range(b)\n",
        "print(my_list)"
      ],
      "execution_count": null,
      "outputs": [
        {
          "output_type": "stream",
          "name": "stdout",
          "text": [
            "range(0, 10)\n"
          ]
        }
      ]
    },
    {
      "cell_type": "markdown",
      "source": [
        "**My own example 33**"
      ],
      "metadata": {
        "id": "lGGc4DjK2-bU"
      }
    },
    {
      "cell_type": "code",
      "metadata": {
        "colab": {
          "base_uri": "https://localhost:8080/"
        },
        "id": "PZiopSMV9ops",
        "outputId": "2cce7e81-e4eb-47cc-bb99-99f5d32d4260"
      },
      "source": [
        "b = 25\n",
        "my_list1 = range(b)\n",
        "print(my_list1)"
      ],
      "execution_count": null,
      "outputs": [
        {
          "output_type": "stream",
          "name": "stdout",
          "text": [
            "range(0, 25)\n"
          ]
        }
      ]
    },
    {
      "cell_type": "markdown",
      "metadata": {
        "id": "BoIPHQTEczCt"
      },
      "source": [
        "Similar to our list-slicing methods from before, we can define both a start and an end for our range. This will return a list that is includes the start and excludes the end, just like a slice."
      ]
    },
    {
      "cell_type": "code",
      "metadata": {
        "colab": {
          "base_uri": "https://localhost:8080/"
        },
        "id": "53tWBR10czCt",
        "outputId": "f46fbba7-fd8a-4a8a-b638-696b1f110346"
      },
      "source": [
        "a = 0\n",
        "b = 10\n",
        "my_list = range(a, b)\n",
        "print(my_list)"
      ],
      "execution_count": null,
      "outputs": [
        {
          "output_type": "stream",
          "name": "stdout",
          "text": [
            "range(0, 10)\n"
          ]
        }
      ]
    },
    {
      "cell_type": "markdown",
      "source": [
        "**My own example 34**"
      ],
      "metadata": {
        "id": "unCeaF342_ER"
      }
    },
    {
      "cell_type": "code",
      "metadata": {
        "colab": {
          "base_uri": "https://localhost:8080/"
        },
        "id": "jj2iFjC09z9O",
        "outputId": "82c5b596-8910-408d-b408-f1715e80e600"
      },
      "source": [
        "a = 5\n",
        "b = 30\n",
        "my_list = range(a, b)\n",
        "print(my_list)"
      ],
      "execution_count": null,
      "outputs": [
        {
          "output_type": "stream",
          "name": "stdout",
          "text": [
            "range(5, 30)\n"
          ]
        }
      ]
    },
    {
      "cell_type": "markdown",
      "metadata": {
        "id": "34xEEDdWczCt"
      },
      "source": [
        "We can also specify a step size. This again has the same behavior as a slice."
      ]
    },
    {
      "cell_type": "code",
      "metadata": {
        "scrolled": true,
        "colab": {
          "base_uri": "https://localhost:8080/"
        },
        "id": "sAj3g4EUczCt",
        "outputId": "1f6eebb3-a8e8-480e-f76c-966c89e841ad"
      },
      "source": [
        "a = 0\n",
        "b = 10\n",
        "step = 2\n",
        "my_list = range(a, b, step)\n",
        "print(my_list)"
      ],
      "execution_count": null,
      "outputs": [
        {
          "output_type": "stream",
          "name": "stdout",
          "text": [
            "range(0, 10, 2)\n"
          ]
        }
      ]
    },
    {
      "cell_type": "markdown",
      "source": [
        "**My own example 35**"
      ],
      "metadata": {
        "id": "kMilUZbJ2_hS"
      }
    },
    {
      "cell_type": "code",
      "metadata": {
        "colab": {
          "base_uri": "https://localhost:8080/"
        },
        "id": "MV3RkeSW95GR",
        "outputId": "9351e599-d615-4ee9-8a08-a4bfb7bfe818"
      },
      "source": [
        "a = 5\n",
        "b = 35\n",
        "step = 5\n",
        "my_list = range(a, b, step)\n",
        "print(my_list)"
      ],
      "execution_count": null,
      "outputs": [
        {
          "output_type": "stream",
          "name": "stdout",
          "text": [
            "range(5, 35, 5)\n"
          ]
        }
      ]
    },
    {
      "cell_type": "markdown",
      "metadata": {
        "id": "NVyl3oMcczCu"
      },
      "source": [
        "### Tuples\n",
        "\n",
        "A `tuple` is a data type similar to a list in that it can hold different kinds of data types. The key difference here is that a `tuple` is immutable. We define a `tuple` by separating the elements we want to include by commas. It is conventional to surround a `tuple` with parentheses."
      ]
    },
    {
      "cell_type": "code",
      "metadata": {
        "id": "XuQca82hczCu",
        "colab": {
          "base_uri": "https://localhost:8080/"
        },
        "outputId": "f33d87fd-33f6-47c7-ad70-11b289aceabf"
      },
      "source": [
        "my_tuple = 'I', 'have', 30, 'cats'\n",
        "print(my_tuple)"
      ],
      "execution_count": null,
      "outputs": [
        {
          "output_type": "stream",
          "name": "stdout",
          "text": [
            "('I', 'have', 30, 'cats')\n"
          ]
        }
      ]
    },
    {
      "cell_type": "markdown",
      "source": [
        "**My own example 36**"
      ],
      "metadata": {
        "id": "mWFPti4m3AE8"
      }
    },
    {
      "cell_type": "code",
      "metadata": {
        "colab": {
          "base_uri": "https://localhost:8080/"
        },
        "id": "PTJwTU9OczCu",
        "outputId": "410f9240-03d0-4db2-f3a9-5b1a908458c4"
      },
      "source": [
        "my_tuple1 = ('Yo', 'tengo', 50, 'sillas')\n",
        "print(my_tuple1)"
      ],
      "execution_count": null,
      "outputs": [
        {
          "output_type": "stream",
          "name": "stdout",
          "text": [
            "('Yo', 'tengo', 50, 'sillas')\n"
          ]
        }
      ]
    },
    {
      "cell_type": "markdown",
      "metadata": {
        "id": "zdDhpO4jczCv"
      },
      "source": [
        "As mentioned before, tuples are immutable. You can't change any part of them without defining a new tuple."
      ]
    },
    {
      "cell_type": "code",
      "metadata": {
        "colab": {
          "base_uri": "https://localhost:8080/",
          "height": 169
        },
        "id": "gFkwCWOpczCv",
        "outputId": "285a3484-ed2a-4991-9f77-96adaa51b690"
      },
      "source": [
        "my_tuple[3] = 'dogs' # Attempts to change the 'cats' value stored in the the tuple to 'dogs'"
      ],
      "execution_count": null,
      "outputs": [
        {
          "output_type": "error",
          "ename": "TypeError",
          "evalue": "ignored",
          "traceback": [
            "\u001b[0;31m---------------------------------------------------------------------------\u001b[0m",
            "\u001b[0;31mTypeError\u001b[0m                                 Traceback (most recent call last)",
            "\u001b[0;32m<ipython-input-133-c821a6bdb1a6>\u001b[0m in \u001b[0;36m<module>\u001b[0;34m()\u001b[0m\n\u001b[0;32m----> 1\u001b[0;31m \u001b[0mmy_tuple\u001b[0m\u001b[0;34m[\u001b[0m\u001b[0;36m3\u001b[0m\u001b[0;34m]\u001b[0m \u001b[0;34m=\u001b[0m \u001b[0;34m'dogs'\u001b[0m \u001b[0;31m# Attempts to change the 'cats' value stored in the the tuple to 'dogs'\u001b[0m\u001b[0;34m\u001b[0m\u001b[0;34m\u001b[0m\u001b[0m\n\u001b[0m",
            "\u001b[0;31mTypeError\u001b[0m: 'tuple' object does not support item assignment"
          ]
        }
      ]
    },
    {
      "cell_type": "markdown",
      "source": [
        "**My own example 37**"
      ],
      "metadata": {
        "id": "gtwPbXfY3AqY"
      }
    },
    {
      "cell_type": "code",
      "metadata": {
        "colab": {
          "base_uri": "https://localhost:8080/",
          "height": 169
        },
        "id": "JJq-GXPg-PyP",
        "outputId": "7c31d509-e49e-469a-df9d-fe6c445775ed"
      },
      "source": [
        "my_tuple1[3] = 'mesas'"
      ],
      "execution_count": null,
      "outputs": [
        {
          "output_type": "error",
          "ename": "TypeError",
          "evalue": "ignored",
          "traceback": [
            "\u001b[0;31m---------------------------------------------------------------------------\u001b[0m",
            "\u001b[0;31mTypeError\u001b[0m                                 Traceback (most recent call last)",
            "\u001b[0;32m<ipython-input-134-91163bc410dd>\u001b[0m in \u001b[0;36m<module>\u001b[0;34m()\u001b[0m\n\u001b[0;32m----> 1\u001b[0;31m \u001b[0mmy_tuple1\u001b[0m\u001b[0;34m[\u001b[0m\u001b[0;36m3\u001b[0m\u001b[0;34m]\u001b[0m \u001b[0;34m=\u001b[0m \u001b[0;34m'mesas'\u001b[0m\u001b[0;34m\u001b[0m\u001b[0;34m\u001b[0m\u001b[0m\n\u001b[0m",
            "\u001b[0;31mTypeError\u001b[0m: 'tuple' object does not support item assignment"
          ]
        }
      ]
    },
    {
      "cell_type": "markdown",
      "metadata": {
        "id": "_PTi0rbsczCv"
      },
      "source": [
        "You can slice tuples the same way that you slice lists!"
      ]
    },
    {
      "cell_type": "code",
      "metadata": {
        "colab": {
          "base_uri": "https://localhost:8080/"
        },
        "id": "xRfzxkGkczCv",
        "outputId": "f477bfc0-413a-4768-d8fe-bae21ca85a95"
      },
      "source": [
        "print(my_tuple[1:3])"
      ],
      "execution_count": null,
      "outputs": [
        {
          "output_type": "stream",
          "name": "stdout",
          "text": [
            "('have', 30)\n"
          ]
        }
      ]
    },
    {
      "cell_type": "markdown",
      "source": [
        "**My own example 38**"
      ],
      "metadata": {
        "id": "Lvf6kITP3BOM"
      }
    },
    {
      "cell_type": "code",
      "metadata": {
        "colab": {
          "base_uri": "https://localhost:8080/"
        },
        "id": "KSsq_2Ge-Xig",
        "outputId": "29662cd6-b18e-4de1-97d6-0b406f16bc9e"
      },
      "source": [
        "print(my_tuple[0:2])"
      ],
      "execution_count": null,
      "outputs": [
        {
          "output_type": "stream",
          "name": "stdout",
          "text": [
            "('I', 'have')\n"
          ]
        }
      ]
    },
    {
      "cell_type": "markdown",
      "metadata": {
        "id": "6P-2weHPczCw"
      },
      "source": [
        "And concatenate them the way that you would with strings!"
      ]
    },
    {
      "cell_type": "code",
      "metadata": {
        "colab": {
          "base_uri": "https://localhost:8080/"
        },
        "id": "w17r4nkoczCw",
        "outputId": "0e448e00-93e0-4d8b-faaf-bc221ec578a4"
      },
      "source": [
        "my_other_tuple = ('make', 'that', 50)\n",
        "print(my_tuple + my_other_tuple)"
      ],
      "execution_count": null,
      "outputs": [
        {
          "output_type": "stream",
          "name": "stdout",
          "text": [
            "('I', 'have', 30, 'cats', 'make', 'that', 50)\n"
          ]
        }
      ]
    },
    {
      "cell_type": "markdown",
      "source": [
        "**My own example 39**"
      ],
      "metadata": {
        "id": "DY3vwWim3Bw4"
      }
    },
    {
      "cell_type": "code",
      "metadata": {
        "colab": {
          "base_uri": "https://localhost:8080/"
        },
        "id": "zy8971ew-a4x",
        "outputId": "0f140288-c6b8-42fa-9518-1f19ddfb9cd1"
      },
      "source": [
        "my_other_tuple1 = ('muy', 'bonitas', True)\n",
        "print(my_tuple1 + my_other_tuple1)"
      ],
      "execution_count": null,
      "outputs": [
        {
          "output_type": "stream",
          "name": "stdout",
          "text": [
            "('Yo', 'tengo', 50, 'sillas', 'muy', 'bonitas', True)\n"
          ]
        }
      ]
    },
    {
      "cell_type": "markdown",
      "metadata": {
        "id": "5djPJiBvczCw"
      },
      "source": [
        "We can 'pack' values together, creating a tuple (as above), or we can 'unpack' values from a tuple, taking them out."
      ]
    },
    {
      "cell_type": "code",
      "metadata": {
        "colab": {
          "base_uri": "https://localhost:8080/"
        },
        "id": "9TWPzXiRczCy",
        "outputId": "91032c79-6d90-487c-c738-7f2790422a81"
      },
      "source": [
        "str_1, str_2, int_1 = my_other_tuple\n",
        "print(str_1, str_2, int_1)"
      ],
      "execution_count": null,
      "outputs": [
        {
          "output_type": "stream",
          "name": "stdout",
          "text": [
            "make that 50\n"
          ]
        }
      ]
    },
    {
      "cell_type": "markdown",
      "source": [
        "**My own example 40**"
      ],
      "metadata": {
        "id": "xydQqPAd3CSR"
      }
    },
    {
      "cell_type": "code",
      "metadata": {
        "colab": {
          "base_uri": "https://localhost:8080/"
        },
        "id": "0uzLuwPS-lZB",
        "outputId": "ac9d3779-b842-48af-df61-0839fa89b666"
      },
      "source": [
        "str_1, str_2, int_1 = my_other_tuple1\n",
        "print(str_1, str_2, int_1)"
      ],
      "execution_count": null,
      "outputs": [
        {
          "output_type": "stream",
          "name": "stdout",
          "text": [
            "muy bonitas True\n"
          ]
        }
      ]
    },
    {
      "cell_type": "markdown",
      "metadata": {
        "id": "CdiudvhvczCz"
      },
      "source": [
        "Unpacking assigns each value of the tuple in order to each variable on the left hand side of the equals sign. Some functions, including user-defined functions, may return tuples, so we can use this to directly unpack them and access the values that we want."
      ]
    },
    {
      "cell_type": "markdown",
      "metadata": {
        "id": "84ITKINgczC0"
      },
      "source": [
        "### Sets\n",
        "\n",
        "A `set` is a collection of unordered, unique elements. It works almost exactly as you would expect a normal set of things in mathematics to work and is defined using braces (`{}`)."
      ]
    },
    {
      "cell_type": "code",
      "metadata": {
        "colab": {
          "base_uri": "https://localhost:8080/"
        },
        "id": "eIeY4ReGczC1",
        "outputId": "da8268ff-8029-42e8-8f84-2aecfec82dd9"
      },
      "source": [
        "things_i_like = {'dogs', 7, 'the number 4', 4, 4, 4, 42, 'lizards', 'man I just LOVE the number 4'}\n",
        "print(things_i_like, type(things_i_like))"
      ],
      "execution_count": null,
      "outputs": [
        {
          "output_type": "stream",
          "name": "stdout",
          "text": [
            "{'the number 4', 4, 7, 42, 'lizards', 'dogs', 'man I just LOVE the number 4'} <class 'set'>\n"
          ]
        }
      ]
    },
    {
      "cell_type": "markdown",
      "source": [
        "**My own example 41**"
      ],
      "metadata": {
        "id": "RekEDi9B3C5F"
      }
    },
    {
      "cell_type": "code",
      "metadata": {
        "colab": {
          "base_uri": "https://localhost:8080/"
        },
        "id": "gH1eI9ss--Jy",
        "outputId": "3744edd9-633d-4a46-92e3-28fa8a595191"
      },
      "source": [
        "cosas_random = {'loros', 720, 44, 42, 43, 41, 'carros', 'triciclos'}\n",
        "print(cosas_random, type(cosas_random))"
      ],
      "execution_count": null,
      "outputs": [
        {
          "output_type": "stream",
          "name": "stdout",
          "text": [
            "{'triciclos', 41, 42, 43, 44, 720, 'loros', 'carros'} <class 'set'>\n"
          ]
        }
      ]
    },
    {
      "cell_type": "markdown",
      "metadata": {
        "id": "JkgUzareczC1"
      },
      "source": [
        "Note how any extra instances of the same item are removed in the final set. We can also create a `set` from a list, using the `set()` function."
      ]
    },
    {
      "cell_type": "code",
      "metadata": {
        "colab": {
          "base_uri": "https://localhost:8080/"
        },
        "id": "cvI92LJkczC1",
        "outputId": "50eca6db-8637-4f22-dd7a-7d4388984f9e"
      },
      "source": [
        "animal_list = ['cats', 'dogs', 'dogs', 'dogs', 'lizards', 'sponges', 'cows', 'bats', 'sponges']\n",
        "animal_set = set(animal_list)\n",
        "print(animal_set) # Removes all extra instances from the list"
      ],
      "execution_count": null,
      "outputs": [
        {
          "output_type": "stream",
          "name": "stdout",
          "text": [
            "{'lizards', 'bats', 'cats', 'cows', 'dogs', 'sponges'}\n"
          ]
        }
      ]
    },
    {
      "cell_type": "markdown",
      "source": [
        "**My own example 42**"
      ],
      "metadata": {
        "id": "hL3PCcNe3DTH"
      }
    },
    {
      "cell_type": "code",
      "metadata": {
        "colab": {
          "base_uri": "https://localhost:8080/"
        },
        "id": "5V5l6kST_cPN",
        "outputId": "494cb43f-aafa-407b-e140-6b882e7ab662"
      },
      "source": [
        "cars_list = ['mazda', 'mercedez', 'hyundai', 'ferrari']\n",
        "cars_set = set(cars_list)\n",
        "print(cars_set) # Removes all extra instances from the list"
      ],
      "execution_count": null,
      "outputs": [
        {
          "output_type": "stream",
          "name": "stdout",
          "text": [
            "{'hyundai', 'ferrari', 'mercedez', 'mazda'}\n"
          ]
        }
      ]
    },
    {
      "cell_type": "markdown",
      "metadata": {
        "id": "iv1jWR34czC2"
      },
      "source": [
        "Calling `len()` on a set will tell you how many elements are in it."
      ]
    },
    {
      "cell_type": "code",
      "metadata": {
        "colab": {
          "base_uri": "https://localhost:8080/"
        },
        "id": "igtelFjuczC2",
        "outputId": "2ddaa3a1-72e7-48ec-ad02-426eea7ac652"
      },
      "source": [
        "print(len(animal_set))"
      ],
      "execution_count": null,
      "outputs": [
        {
          "output_type": "stream",
          "name": "stdout",
          "text": [
            "6\n"
          ]
        }
      ]
    },
    {
      "cell_type": "markdown",
      "source": [
        "**My own example 43**"
      ],
      "metadata": {
        "id": "Lq0yGfvp3D66"
      }
    },
    {
      "cell_type": "code",
      "metadata": {
        "colab": {
          "base_uri": "https://localhost:8080/"
        },
        "id": "3cEBRnRt_0jf",
        "outputId": "02fd9077-7796-4e4d-fe04-35dc8abcd386"
      },
      "source": [
        "print(len(cars_set))"
      ],
      "execution_count": null,
      "outputs": [
        {
          "output_type": "stream",
          "name": "stdout",
          "text": [
            "4\n"
          ]
        }
      ]
    },
    {
      "cell_type": "markdown",
      "metadata": {
        "id": "rgcg0ThLczC3"
      },
      "source": [
        "Because a `set` is unordered, we can't access individual elements using an index. We can, however, easily check for membership (to see if something is contained in a set) and take the unions and intersections of sets by using the built-in set functions."
      ]
    },
    {
      "cell_type": "code",
      "metadata": {
        "colab": {
          "base_uri": "https://localhost:8080/"
        },
        "id": "6u3CBzmNczC3",
        "outputId": "12c4ab82-53de-411f-c9a4-fc22b1e4277f"
      },
      "source": [
        "'cats' in animal_set # Here we check for membership using the `in` keyword."
      ],
      "execution_count": null,
      "outputs": [
        {
          "output_type": "execute_result",
          "data": {
            "text/plain": [
              "True"
            ]
          },
          "metadata": {},
          "execution_count": 148
        }
      ]
    },
    {
      "cell_type": "markdown",
      "source": [
        "**My own example 44**"
      ],
      "metadata": {
        "id": "onhfKMYT3EjY"
      }
    },
    {
      "cell_type": "code",
      "metadata": {
        "colab": {
          "base_uri": "https://localhost:8080/"
        },
        "id": "rCA9xKp3_usI",
        "outputId": "fdbbca5d-96cf-4be0-deb8-25bd3ee258b6"
      },
      "source": [
        "\"mazda\" in cars_set"
      ],
      "execution_count": null,
      "outputs": [
        {
          "output_type": "execute_result",
          "data": {
            "text/plain": [
              "True"
            ]
          },
          "metadata": {},
          "execution_count": 149
        }
      ]
    },
    {
      "cell_type": "markdown",
      "metadata": {
        "id": "yeJ0ZDyIczC4"
      },
      "source": [
        "Here we checked to see whether the string 'cats' was contained within our `animal_set` and it returned `True`, telling us that it is indeed in our set.\n",
        "\n",
        "We can connect sets by using typical mathematical set operators, namely `|`, for union, and `&`, for intersection. Using `|` or `&` will return exactly what you would expect if you are familiar with sets in mathematics."
      ]
    },
    {
      "cell_type": "code",
      "metadata": {
        "colab": {
          "base_uri": "https://localhost:8080/"
        },
        "id": "XgEEW9_lczC4",
        "outputId": "14977b8e-eb5b-4911-df60-fab75606966c"
      },
      "source": [
        "print(animal_set | things_i_like) # You can also write things_i_like | animal_set with no difference"
      ],
      "execution_count": null,
      "outputs": [
        {
          "output_type": "stream",
          "name": "stdout",
          "text": [
            "{'the number 4', 4, 7, 'lizards', 42, 'bats', 'cats', 'cows', 'dogs', 'sponges', 'man I just LOVE the number 4'}\n"
          ]
        }
      ]
    },
    {
      "cell_type": "markdown",
      "source": [
        "**My own example 45**"
      ],
      "metadata": {
        "id": "C2PUkYyZ3FWe"
      }
    },
    {
      "cell_type": "code",
      "metadata": {
        "colab": {
          "base_uri": "https://localhost:8080/"
        },
        "id": "lwbEtdAsAHIr",
        "outputId": "f6550f71-46e6-4dc1-87d8-39450b64a8e3"
      },
      "source": [
        "print(cars_set | cosas_random)"
      ],
      "execution_count": null,
      "outputs": [
        {
          "output_type": "stream",
          "name": "stdout",
          "text": [
            "{'hyundai', 'triciclos', 'ferrari', 41, 42, 43, 44, 'mercedez', 'mazda', 720, 'loros', 'carros'}\n"
          ]
        }
      ]
    },
    {
      "cell_type": "markdown",
      "metadata": {
        "id": "2XHGjsSVczC4"
      },
      "source": [
        "Pairing two sets together with `|` combines the sets, removing any repetitions to make every set element unique."
      ]
    },
    {
      "cell_type": "code",
      "metadata": {
        "colab": {
          "base_uri": "https://localhost:8080/"
        },
        "id": "JdUjL_gUczC4",
        "outputId": "f582c183-54c4-489a-b710-300054fbe765"
      },
      "source": [
        "print(animal_set & things_i_like) # You can also write things_i_like & animal_set with no difference"
      ],
      "execution_count": null,
      "outputs": [
        {
          "output_type": "stream",
          "name": "stdout",
          "text": [
            "{'lizards', 'dogs'}\n"
          ]
        }
      ]
    },
    {
      "cell_type": "markdown",
      "source": [
        "**My own example 46**"
      ],
      "metadata": {
        "id": "8Y8lZdnf3F6f"
      }
    },
    {
      "cell_type": "code",
      "metadata": {
        "colab": {
          "base_uri": "https://localhost:8080/"
        },
        "id": "4KKZo8CxAPyw",
        "outputId": "7e6214ff-b5d5-48a4-f0b4-ea157bdff4f2"
      },
      "source": [
        "print(cars_set & cosas_random)"
      ],
      "execution_count": null,
      "outputs": [
        {
          "output_type": "stream",
          "name": "stdout",
          "text": [
            "set()\n"
          ]
        }
      ]
    },
    {
      "cell_type": "markdown",
      "metadata": {
        "id": "VSEaQPZ8czC5"
      },
      "source": [
        "Pairing two sets together with `&` will calculate the intersection of both sets, returning a set that only contains what they have in common.\n",
        "\n",
        "If you are interested in learning more about the built-in functions for sets, feel free to check out the [documentation](https://docs.python.org/2/library/sets.html)."
      ]
    },
    {
      "cell_type": "markdown",
      "metadata": {
        "id": "WClAyth2czC5"
      },
      "source": [
        "### Dictionaries\n",
        "\n",
        "Another essential data structure in Python is the dictionary. Dictionaries are defined with a combination of curly braces (`{}`) and colons (`:`). The braces define the beginning and end of a dictionary and the colons indicate key-value pairs. A dictionary is essentially a set of key-value pairs. The key of any entry must be an immutable data type. This makes both strings and tuples candidates. Keys can be both added and deleted.\n",
        "\n",
        "In the following example, we have a dictionary composed of key-value pairs where the key is a genre of fiction (`string`) and the value is a list of books (`list`) within that genre. Since a collection is still considered a single entity, we can use one to collect multiple variables or values into one key-value pair."
      ]
    },
    {
      "cell_type": "code",
      "metadata": {
        "id": "8pbHkmNnczC5"
      },
      "source": [
        "my_dict = {\"High Fantasy\": [\"Wheel of Time\", \"Lord of the Rings\"], \n",
        "           \"Sci-fi\": [\"Book of the New Sun\", \"Neuromancer\", \"Snow Crash\"],\n",
        "           \"Weird Fiction\": [\"At the Mountains of Madness\", \"The House on the Borderland\"]}"
      ],
      "execution_count": null,
      "outputs": []
    },
    {
      "cell_type": "markdown",
      "source": [
        "**My own example 47**"
      ],
      "metadata": {
        "id": "ndobpu2o3HKU"
      }
    },
    {
      "cell_type": "code",
      "metadata": {
        "id": "UvQnQvqwAYI-"
      },
      "source": [
        "notas = {\"A\": 5.0,\n",
        "         \"B\": 4.0,\n",
        "         \"C\": 3.0,\n",
        "         \"D\": 2.5}"
      ],
      "execution_count": null,
      "outputs": []
    },
    {
      "cell_type": "markdown",
      "metadata": {
        "id": "MPVCDaPdczC5"
      },
      "source": [
        "After defining a dictionary, we can access any individual value by indicating its key in brackets."
      ]
    },
    {
      "cell_type": "code",
      "metadata": {
        "colab": {
          "base_uri": "https://localhost:8080/"
        },
        "id": "JHGDlnx9czC6",
        "outputId": "51987616-4dbe-4072-b620-c0436c59e288"
      },
      "source": [
        "print(my_dict[\"Sci-fi\"])"
      ],
      "execution_count": null,
      "outputs": [
        {
          "output_type": "stream",
          "name": "stdout",
          "text": [
            "['Book of the New Sun', 'Neuromancer', 'Snow Crash']\n"
          ]
        }
      ]
    },
    {
      "cell_type": "markdown",
      "source": [
        "**My own example 48**"
      ],
      "metadata": {
        "id": "80mX6V6O3HvB"
      }
    },
    {
      "cell_type": "code",
      "metadata": {
        "colab": {
          "base_uri": "https://localhost:8080/"
        },
        "id": "lp6BhNQOBAts",
        "outputId": "b46aa9d5-0d55-4907-872d-51cb7e253d6c"
      },
      "source": [
        "print(notas[\"B\"])"
      ],
      "execution_count": null,
      "outputs": [
        {
          "output_type": "stream",
          "name": "stdout",
          "text": [
            "4.0\n"
          ]
        }
      ]
    },
    {
      "cell_type": "markdown",
      "metadata": {
        "id": "jxCaL2-nczC6"
      },
      "source": [
        "We can also change the value associated with a given key"
      ]
    },
    {
      "cell_type": "code",
      "metadata": {
        "colab": {
          "base_uri": "https://localhost:8080/"
        },
        "id": "upJVVP-HczC6",
        "outputId": "ce0cdd7b-8010-453f-f118-4bd6009379a6"
      },
      "source": [
        "my_dict[\"Sci-fi\"] = \"I can't read\"\n",
        "print(my_dict[\"Sci-fi\"])"
      ],
      "execution_count": null,
      "outputs": [
        {
          "output_type": "stream",
          "name": "stdout",
          "text": [
            "I can't read\n"
          ]
        }
      ]
    },
    {
      "cell_type": "markdown",
      "source": [
        "**My own example 49**"
      ],
      "metadata": {
        "id": "COeFS5gy3IRi"
      }
    },
    {
      "cell_type": "code",
      "metadata": {
        "colab": {
          "base_uri": "https://localhost:8080/"
        },
        "id": "VJmgCtSdBEz9",
        "outputId": "c19a113b-b823-4d8f-d68d-aaf091bc45d1"
      },
      "source": [
        "notas[\"A\"] = 4.0\n",
        "print(notas[\"A\"])"
      ],
      "execution_count": null,
      "outputs": [
        {
          "output_type": "stream",
          "name": "stdout",
          "text": [
            "4.0\n"
          ]
        }
      ]
    },
    {
      "cell_type": "markdown",
      "metadata": {
        "id": "lkHX2pV-czC6"
      },
      "source": [
        "Adding a new key-value pair is as simple as defining it."
      ]
    },
    {
      "cell_type": "code",
      "metadata": {
        "colab": {
          "base_uri": "https://localhost:8080/"
        },
        "id": "9q4qEQHVczC7",
        "outputId": "0414dbf6-4c15-4182-9e31-219709c494d4"
      },
      "source": [
        "my_dict[\"Historical Fiction\"] = [\"Pillars of the Earth\"]\n",
        "print(my_dict[\"Historical Fiction\"])"
      ],
      "execution_count": null,
      "outputs": [
        {
          "output_type": "stream",
          "name": "stdout",
          "text": [
            "['Pillars of the Earth']\n"
          ]
        }
      ]
    },
    {
      "cell_type": "markdown",
      "source": [
        "**My own example 50**"
      ],
      "metadata": {
        "id": "VMuu-ZMJ3Iwm"
      }
    },
    {
      "cell_type": "code",
      "metadata": {
        "colab": {
          "base_uri": "https://localhost:8080/"
        },
        "id": "jqbOAyJ6HQct",
        "outputId": "ff12c904-74a6-4323-a0fd-47c00b6e8ae9"
      },
      "source": [
        "notas[\"E\"] = 4.5\n",
        "print(notas[\"E\"])"
      ],
      "execution_count": null,
      "outputs": [
        {
          "output_type": "stream",
          "name": "stdout",
          "text": [
            "4.5\n"
          ]
        }
      ]
    },
    {
      "cell_type": "code",
      "metadata": {
        "colab": {
          "base_uri": "https://localhost:8080/"
        },
        "id": "yed4ZiXkczC7",
        "outputId": "77b95071-84db-4a23-d571-dd83c9ea8f3c"
      },
      "source": [
        "print(my_dict)"
      ],
      "execution_count": null,
      "outputs": [
        {
          "output_type": "stream",
          "name": "stdout",
          "text": [
            "{'High Fantasy': ['Wheel of Time', 'Lord of the Rings'], 'Sci-fi': \"I can't read\", 'Weird Fiction': ['At the Mountains of Madness', 'The House on the Borderland'], 'Historical Fiction': ['Pillars of the Earth']}\n"
          ]
        }
      ]
    },
    {
      "cell_type": "markdown",
      "source": [
        "**My own example 51**"
      ],
      "metadata": {
        "id": "3rn-ySqX3JQY"
      }
    },
    {
      "cell_type": "code",
      "metadata": {
        "colab": {
          "base_uri": "https://localhost:8080/"
        },
        "id": "cc-Z9JGMHgRM",
        "outputId": "af9bc211-0013-4f5c-9fe9-d3ed0a9b8ecc"
      },
      "source": [
        "print(notas)"
      ],
      "execution_count": null,
      "outputs": [
        {
          "output_type": "stream",
          "name": "stdout",
          "text": [
            "{'A': 4.0, 'B': 4.0, 'C': 3.0, 'D': 2.5, 'E': 4.5}\n"
          ]
        }
      ]
    },
    {
      "cell_type": "markdown",
      "metadata": {
        "id": "7HSWRbEUczC7"
      },
      "source": [
        "## String Shenanigans\n",
        "\n",
        "We already know that strings are generally used for text. We can used built-in operations to combine, split, and format strings easily, depending on our needs.\n",
        "\n",
        "The `+` symbol indicates concatenation in string language. It will combine two strings into a longer string."
      ]
    },
    {
      "cell_type": "code",
      "metadata": {
        "id": "DgNlIDR3czC7",
        "colab": {
          "base_uri": "https://localhost:8080/"
        },
        "outputId": "09e08004-f835-42d8-f2df-6e1aebf8da23"
      },
      "source": [
        "first_string = '\"Beware the Jabberwock, my son! /The jaws that bite, the claws that catch! /'\n",
        "second_string = 'Beware the Jubjub bird, and shun /The frumious Bandersnatch!\"/'\n",
        "third_string = first_string + second_string\n",
        "print(third_string)"
      ],
      "execution_count": null,
      "outputs": [
        {
          "output_type": "stream",
          "name": "stdout",
          "text": [
            "\"Beware the Jabberwock, my son! /The jaws that bite, the claws that catch! /Beware the Jubjub bird, and shun /The frumious Bandersnatch!\"/\n"
          ]
        }
      ]
    },
    {
      "cell_type": "markdown",
      "source": [
        "**My own example 52**"
      ],
      "metadata": {
        "id": "stzMewlF3J3L"
      }
    },
    {
      "cell_type": "code",
      "metadata": {
        "colab": {
          "base_uri": "https://localhost:8080/"
        },
        "id": "LtXbOg7lJsvS",
        "outputId": "6647018c-2c6d-4377-d61e-c4388dbc184c"
      },
      "source": [
        "first_string = 'Hola, me llamo Nicolas'\n",
        "second_string = ', como estas?'\n",
        "third_string = first_string + second_string\n",
        "print(third_string)"
      ],
      "execution_count": null,
      "outputs": [
        {
          "output_type": "stream",
          "name": "stdout",
          "text": [
            "Hola, me llamo Nicolas, como estas?\n"
          ]
        }
      ]
    },
    {
      "cell_type": "markdown",
      "metadata": {
        "id": "8eBHlLpQczC8"
      },
      "source": [
        "Strings are also indexed much in the same way that lists are."
      ]
    },
    {
      "cell_type": "code",
      "metadata": {
        "colab": {
          "base_uri": "https://localhost:8080/"
        },
        "id": "Ak1LxH8uczC8",
        "outputId": "497115cf-0e57-44a6-e60a-ac38143982bf"
      },
      "source": [
        "my_string = 'Supercalifragilisticexpialidocious'\n",
        "print('The first letter is: ', my_string[0]) # Uppercase S\n",
        "print('The last letter is: ', my_string[-1]) # lowercase s\n",
        "print('The second to last letter is: ', my_string[-2]) # lowercase u\n",
        "print('The first five characters are: ', my_string[0:5]) # Remember: slicing doesn't include the final element!\n",
        "print('Reverse it!: ', my_string[::-1])"
      ],
      "execution_count": null,
      "outputs": [
        {
          "output_type": "stream",
          "name": "stdout",
          "text": [
            "The first letter is:  S\n",
            "The last letter is:  s\n",
            "The second to last letter is:  u\n",
            "The first five characters are:  Super\n",
            "Reverse it!:  suoicodilaipxecitsiligarfilacrepuS\n"
          ]
        }
      ]
    },
    {
      "cell_type": "markdown",
      "source": [
        "**My own example 53**"
      ],
      "metadata": {
        "id": "_rWjqMpp3KXO"
      }
    },
    {
      "cell_type": "code",
      "metadata": {
        "colab": {
          "base_uri": "https://localhost:8080/"
        },
        "id": "CKXffB9vJ1cn",
        "outputId": "57c0ec09-93b4-4063-aab3-19686e6d1b71"
      },
      "source": [
        "my_string = 'esternocleidomastuideo'\n",
        "print('The first letter is: ', my_string[0])\n",
        "print('The last letter is: ', my_string[-1])\n",
        "print('The fourth to last letter is: ', my_string[-4])\n",
        "print('The first seven characters are: ', my_string[0:7])\n",
        "print('Reverse it!: ', my_string[::-1])"
      ],
      "execution_count": null,
      "outputs": [
        {
          "output_type": "stream",
          "name": "stdout",
          "text": [
            "The first letter is:  e\n",
            "The last letter is:  o\n",
            "The fourth to last letter is:  i\n",
            "The first seven characters are:  esterno\n",
            "Reverse it!:  oediutsamodielconretse\n"
          ]
        }
      ]
    },
    {
      "cell_type": "markdown",
      "metadata": {
        "id": "sSQN8U1AczC8"
      },
      "source": [
        "Built-in objects and classes often have special functions associated with them that are called methods. We access these methods by using a period ('.'). We will cover objects and their associated methods more in another lecture!\n",
        "\n",
        "Using string methods we can count instances of a character or group of characters."
      ]
    },
    {
      "cell_type": "code",
      "metadata": {
        "colab": {
          "base_uri": "https://localhost:8080/"
        },
        "id": "FnS7ydwFKLB9",
        "outputId": "c4eb2c0c-0535-4e91-d148-56ddeea93058"
      },
      "source": [
        "print('Count of the letter e in Supercalifragilisticexpialidocious: ', my_string.count('i'))\n",
        "print('Count of \"li\" in the same word: ', my_string.count('li'))"
      ],
      "execution_count": null,
      "outputs": [
        {
          "output_type": "stream",
          "name": "stdout",
          "text": [
            "Count of the letter e in Supercalifragilisticexpialidocious:  2\n",
            "Count of \"li\" in the same word:  0\n"
          ]
        }
      ]
    },
    {
      "cell_type": "markdown",
      "source": [
        "**My own example 54**"
      ],
      "metadata": {
        "id": "1nAIqSTj3LCd"
      }
    },
    {
      "cell_type": "code",
      "metadata": {
        "colab": {
          "base_uri": "https://localhost:8080/"
        },
        "id": "Y5N1k8q0Kd-N",
        "outputId": "6531214e-4989-471b-8757-b97d5c8acd4a"
      },
      "source": [
        "print('Count of the letter e in esternocleidomastuideo: ', my_string.count('e'))\n",
        "print('Count of \"es\" in the same word: ', my_string.count('es'))"
      ],
      "execution_count": null,
      "outputs": [
        {
          "output_type": "stream",
          "name": "stdout",
          "text": [
            "Count of the letter e in esternocleidomastuideo:  4\n",
            "Count of \"es\" in the same word:  1\n"
          ]
        }
      ]
    },
    {
      "cell_type": "markdown",
      "metadata": {
        "id": "s6M75BGKczC9"
      },
      "source": [
        "We can also find the first instance of a character or group of characters in a string."
      ]
    },
    {
      "cell_type": "code",
      "metadata": {
        "colab": {
          "base_uri": "https://localhost:8080/"
        },
        "id": "MyZcJov2czC9",
        "outputId": "83440208-ae54-4d33-83bb-7fe0e92cc340"
      },
      "source": [
        "print('The first time i appears is at index: ', my_string.find('i'))"
      ],
      "execution_count": null,
      "outputs": [
        {
          "output_type": "stream",
          "name": "stdout",
          "text": [
            "The first time i appears is at index:  10\n"
          ]
        }
      ]
    },
    {
      "cell_type": "markdown",
      "source": [
        "**My own example 55**"
      ],
      "metadata": {
        "id": "K1QC1CXU3LoG"
      }
    },
    {
      "cell_type": "code",
      "metadata": {
        "colab": {
          "base_uri": "https://localhost:8080/"
        },
        "id": "lTJHtvmCKpux",
        "outputId": "487c247b-2146-4e7d-ade7-f5ec04813285"
      },
      "source": [
        "print('The first time t appears is at index: ', my_string.find('t'))"
      ],
      "execution_count": null,
      "outputs": [
        {
          "output_type": "stream",
          "name": "stdout",
          "text": [
            "The first time t appears is at index:  2\n"
          ]
        }
      ]
    },
    {
      "cell_type": "markdown",
      "metadata": {
        "id": "VqQUHo_UczC9"
      },
      "source": [
        "As well as replace characters in a string."
      ]
    },
    {
      "cell_type": "code",
      "metadata": {
        "colab": {
          "base_uri": "https://localhost:8080/"
        },
        "id": "bGWsLf2-czC9",
        "outputId": "a45553f6-a627-4b70-8b21-7a8a65a78f04"
      },
      "source": [
        "print(\"All i's are now a's: \", my_string.replace('i', 'a'))"
      ],
      "execution_count": null,
      "outputs": [
        {
          "output_type": "stream",
          "name": "stdout",
          "text": [
            "All i's are now a's:  esternocleadomastuadeo\n"
          ]
        }
      ]
    },
    {
      "cell_type": "markdown",
      "source": [
        "**My own example 56**"
      ],
      "metadata": {
        "id": "A94td9Ts3MMM"
      }
    },
    {
      "cell_type": "code",
      "metadata": {
        "colab": {
          "base_uri": "https://localhost:8080/"
        },
        "id": "wrTXIs32Kun4",
        "outputId": "0d789c0b-b006-44b0-cf67-8c71a456e9b1"
      },
      "source": [
        "print(\"All e's are now o's: \", my_string.replace('e', 'o'))"
      ],
      "execution_count": null,
      "outputs": [
        {
          "output_type": "stream",
          "name": "stdout",
          "text": [
            "All e's are now o's:  ostornocloidomastuidoo\n"
          ]
        }
      ]
    },
    {
      "cell_type": "code",
      "metadata": {
        "colab": {
          "base_uri": "https://localhost:8080/"
        },
        "id": "Vy5G6yIQczC-",
        "outputId": "ed14891d-ff41-4bc3-a230-9a76f7c5e611"
      },
      "source": [
        "print(\"It's raining cats and dogs\".replace('dogs', 'more cats'))"
      ],
      "execution_count": null,
      "outputs": [
        {
          "output_type": "stream",
          "name": "stdout",
          "text": [
            "It's raining cats and more cats\n"
          ]
        }
      ]
    },
    {
      "cell_type": "markdown",
      "source": [
        "**My own example 57**"
      ],
      "metadata": {
        "id": "Fuw2_lld3Msm"
      }
    },
    {
      "cell_type": "code",
      "metadata": {
        "colab": {
          "base_uri": "https://localhost:8080/"
        },
        "id": "nItYTk2hK1F8",
        "outputId": "f5f2281e-12ae-4faf-9b01-d3dc8430c8ae"
      },
      "source": [
        "print(\"Quiero tomar agua por favor\".replace('agua', 'vino'))"
      ],
      "execution_count": null,
      "outputs": [
        {
          "output_type": "stream",
          "name": "stdout",
          "text": [
            "Quiero tomar vino por favor\n"
          ]
        }
      ]
    },
    {
      "cell_type": "markdown",
      "metadata": {
        "id": "F5sfaA2IczC-"
      },
      "source": [
        "There are also some methods that are unique to strings. The function `upper()` will convert all characters in a string to uppercase, while `lower()` will convert all characters in a string to lowercase!"
      ]
    },
    {
      "cell_type": "code",
      "metadata": {
        "colab": {
          "base_uri": "https://localhost:8080/"
        },
        "id": "DF6fPOXoczC-",
        "outputId": "9305c154-a2c1-44a7-db19-4d855a0ed069"
      },
      "source": [
        "my_string = \"I can't hear you\"\n",
        "print(my_string.upper())\n",
        "my_string = \"I said HELLO\"\n",
        "print(my_string.lower())"
      ],
      "execution_count": null,
      "outputs": [
        {
          "output_type": "stream",
          "name": "stdout",
          "text": [
            "I CAN'T HEAR YOU\n",
            "i said hello\n"
          ]
        }
      ]
    },
    {
      "cell_type": "markdown",
      "source": [
        "**My own example 58**"
      ],
      "metadata": {
        "id": "xKk7OYSQ3NXI"
      }
    },
    {
      "cell_type": "code",
      "metadata": {
        "colab": {
          "base_uri": "https://localhost:8080/"
        },
        "id": "Pa1Cot4tLAZx",
        "outputId": "a1c425d0-c321-46f1-bd92-a7e300fc5c7f"
      },
      "source": [
        "my_string = \"Silencio\"\n",
        "print(my_string.upper())\n",
        "my_string = \"OKAY\"\n",
        "print(my_string.lower())"
      ],
      "execution_count": null,
      "outputs": [
        {
          "output_type": "stream",
          "name": "stdout",
          "text": [
            "SILENCIO\n",
            "okay\n"
          ]
        }
      ]
    },
    {
      "cell_type": "markdown",
      "metadata": {
        "id": "I0aTK11qczC-"
      },
      "source": [
        "### String Formatting\n",
        "\n",
        "Using the `format()` method we can add in variable values and generally format our strings."
      ]
    },
    {
      "cell_type": "code",
      "metadata": {
        "colab": {
          "base_uri": "https://localhost:8080/"
        },
        "id": "UjLZQajZczC_",
        "outputId": "63e2a44d-163a-441b-ac04-9cafb1260656"
      },
      "source": [
        "my_string = \"{0} {1}\".format('Marco', 'Polo')\n",
        "print(my_string)"
      ],
      "execution_count": null,
      "outputs": [
        {
          "output_type": "stream",
          "name": "stdout",
          "text": [
            "Marco Polo\n"
          ]
        }
      ]
    },
    {
      "cell_type": "markdown",
      "source": [
        "**My own example 59**"
      ],
      "metadata": {
        "id": "F0m-Ji6N3ODu"
      }
    },
    {
      "cell_type": "code",
      "metadata": {
        "colab": {
          "base_uri": "https://localhost:8080/"
        },
        "id": "EV9Q6DSqMED3",
        "outputId": "a93607b4-38c9-483f-cfd0-d80721d4c510"
      },
      "source": [
        "my_string = \"{0}, {1}, {2}\".format('Vino', 'Agua', 'Gaseosa')\n",
        "print(my_string)"
      ],
      "execution_count": null,
      "outputs": [
        {
          "output_type": "stream",
          "name": "stdout",
          "text": [
            "Vino, Agua, Gaseosa\n"
          ]
        }
      ]
    },
    {
      "cell_type": "code",
      "metadata": {
        "colab": {
          "base_uri": "https://localhost:8080/"
        },
        "id": "PH1sqj_SczC_",
        "outputId": "cdbce2bc-2159-43e6-cf39-d905c9814b3e"
      },
      "source": [
        "my_string = \"{1} {0}\".format('Marco', 'Polo')\n",
        "print(my_string)"
      ],
      "execution_count": null,
      "outputs": [
        {
          "output_type": "stream",
          "name": "stdout",
          "text": [
            "Polo Marco\n"
          ]
        }
      ]
    },
    {
      "cell_type": "markdown",
      "source": [
        "**My own example 60**"
      ],
      "metadata": {
        "id": "vpdEYTH13Ovz"
      }
    },
    {
      "cell_type": "code",
      "metadata": {
        "colab": {
          "base_uri": "https://localhost:8080/"
        },
        "id": "o7UWN4OYMR6c",
        "outputId": "24f5f609-0700-4b4a-a2ce-a35c3e61f767"
      },
      "source": [
        "my_string = \"{2}, {1}, {0}\".format('Vino', 'Agua', 'Gaseosa')\n",
        "print(my_string)"
      ],
      "execution_count": null,
      "outputs": [
        {
          "output_type": "stream",
          "name": "stdout",
          "text": [
            "Gaseosa, Agua, Vino\n"
          ]
        }
      ]
    },
    {
      "cell_type": "markdown",
      "metadata": {
        "id": "SMEAZUR-czC_"
      },
      "source": [
        "We use braces (`{}`) to indicate parts of the string that will be filled in later and we use the arguments of the `format()` function to provide the values to substitute. The numbers within the braces indicate the index of the value in the `format()` arguments."
      ]
    },
    {
      "cell_type": "markdown",
      "metadata": {
        "id": "FvIFFnQeczC_"
      },
      "source": [
        "See the `format()` [documentation](https://docs.python.org/2/library/string.html#format-examples) for additional examples."
      ]
    },
    {
      "cell_type": "markdown",
      "metadata": {
        "id": "GkHyzXu9czC_"
      },
      "source": [
        "If you need some quick and dirty formatting, you can instead use the `%` symbol, called the string formatting operator. "
      ]
    },
    {
      "cell_type": "code",
      "metadata": {
        "colab": {
          "base_uri": "https://localhost:8080/"
        },
        "id": "gfB5QmvYczDA",
        "outputId": "f07f5903-1071-4a8e-e672-a9b442e2fa2f"
      },
      "source": [
        "print('insert %s here' % 'value')"
      ],
      "execution_count": null,
      "outputs": [
        {
          "output_type": "stream",
          "name": "stdout",
          "text": [
            "insert value here\n"
          ]
        }
      ]
    },
    {
      "cell_type": "markdown",
      "source": [
        "**My own example 61**"
      ],
      "metadata": {
        "id": "PnUdguvn3Pdg"
      }
    },
    {
      "cell_type": "code",
      "metadata": {
        "colab": {
          "base_uri": "https://localhost:8080/"
        },
        "id": "1ZuyRpgIMWLk",
        "outputId": "ccf99c6c-eeec-41f6-9077-030a85989e7c"
      },
      "source": [
        "print('Quiero comprar %i libras por favor' % 23)"
      ],
      "execution_count": null,
      "outputs": [
        {
          "output_type": "stream",
          "name": "stdout",
          "text": [
            "Quiero comprar 23 libras por favor\n"
          ]
        }
      ]
    },
    {
      "cell_type": "markdown",
      "metadata": {
        "id": "XGh0Gq3JczDA"
      },
      "source": [
        "The `%` symbol basically cues Python to create a placeholder. Whatever character follows the `%` (in the string) indicates what sort of type the value put into the placeholder will have. This character is called a *conversion type*. Once the string has been closed, we need another `%` that will be followed by the values to insert. In the case of one value, you can just put it there. If you are inserting more than one value, they must be enclosed in a tuple."
      ]
    },
    {
      "cell_type": "code",
      "metadata": {
        "colab": {
          "base_uri": "https://localhost:8080/"
        },
        "id": "Hwxabz-OczDA",
        "outputId": "4bc98a4e-e147-447d-ef14-31db94d774a9"
      },
      "source": [
        "print('There are %s cats in my %s' % (13, 'apartment'))"
      ],
      "execution_count": null,
      "outputs": [
        {
          "output_type": "stream",
          "name": "stdout",
          "text": [
            "There are 13 cats in my apartment\n"
          ]
        }
      ]
    },
    {
      "cell_type": "markdown",
      "source": [
        "**My own example 62**"
      ],
      "metadata": {
        "id": "2d_1KX8p3QK5"
      }
    },
    {
      "cell_type": "code",
      "metadata": {
        "colab": {
          "base_uri": "https://localhost:8080/"
        },
        "id": "QDXiVoEaNBqZ",
        "outputId": "a5a438fe-4c1c-4d1e-f0b9-9205cbe2eeb7"
      },
      "source": [
        "print('%s cajas tienen un valor de $%s' % (20, 220))"
      ],
      "execution_count": null,
      "outputs": [
        {
          "output_type": "stream",
          "name": "stdout",
          "text": [
            "20 cajas tienen un valor de $220\n"
          ]
        }
      ]
    },
    {
      "cell_type": "markdown",
      "metadata": {
        "id": "aeTBEBbxczDE"
      },
      "source": [
        "In these examples, the `%s` indicates that Python should convert the values into strings. There are multiple conversion types that you can use to get more specific with the the formatting. See the string formatting [documentation](https://docs.python.org/2/library/stdtypes.html#string-formatting) for additional examples and more complete details on use."
      ]
    },
    {
      "cell_type": "markdown",
      "metadata": {
        "id": "YyoSqvjrczDE"
      },
      "source": [
        "## Logical Operators\n",
        "### Basic Logic\n",
        "\n",
        "Logical operators deal with `boolean` values, as we briefly covered before. If you recall, a `bool` takes on one of two values, `True` or `False` (or $1$ or $0$). The basic logical statements that we can make are defined using the built-in comparators. These are `==` (equal), `!=` (not equal), `<` (less than), `>` (greater than), `<=` (less than or equal to), and `>=` (greater than or equal to)."
      ]
    },
    {
      "cell_type": "code",
      "metadata": {
        "colab": {
          "base_uri": "https://localhost:8080/"
        },
        "id": "ZTC-PV8oczDF",
        "outputId": "bad7e71a-350e-4139-9a4d-e3653778a1ff"
      },
      "source": [
        "print(5 == 5)"
      ],
      "execution_count": null,
      "outputs": [
        {
          "output_type": "stream",
          "name": "stdout",
          "text": [
            "True\n"
          ]
        }
      ]
    },
    {
      "cell_type": "markdown",
      "source": [
        "**My own example 63**"
      ],
      "metadata": {
        "id": "aVzxG35D3Q-d"
      }
    },
    {
      "cell_type": "code",
      "metadata": {
        "colab": {
          "base_uri": "https://localhost:8080/"
        },
        "id": "ovzqjkGQRBDI",
        "outputId": "124dc3ea-0dac-4ede-a2ba-95b96f5a22a4"
      },
      "source": [
        "print(68 >= 68.0)"
      ],
      "execution_count": null,
      "outputs": [
        {
          "output_type": "stream",
          "name": "stdout",
          "text": [
            "True\n"
          ]
        }
      ]
    },
    {
      "cell_type": "code",
      "metadata": {
        "colab": {
          "base_uri": "https://localhost:8080/"
        },
        "id": "MDwOwAewczDF",
        "outputId": "0a2f3742-23fc-485b-e441-ac415cecd3fb"
      },
      "source": [
        "print(5 > 5)"
      ],
      "execution_count": null,
      "outputs": [
        {
          "output_type": "stream",
          "name": "stdout",
          "text": [
            "False\n"
          ]
        }
      ]
    },
    {
      "cell_type": "markdown",
      "source": [
        "**My own example 64**"
      ],
      "metadata": {
        "id": "CBtnA6Fq3RZh"
      }
    },
    {
      "cell_type": "code",
      "metadata": {
        "colab": {
          "base_uri": "https://localhost:8080/"
        },
        "id": "oZfVniYcRHXQ",
        "outputId": "20662b4f-a77e-48b3-cc4e-4ac40d00d0b1"
      },
      "source": [
        "print(7<6.9)"
      ],
      "execution_count": null,
      "outputs": [
        {
          "output_type": "stream",
          "name": "stdout",
          "text": [
            "False\n"
          ]
        }
      ]
    },
    {
      "cell_type": "markdown",
      "metadata": {
        "id": "GOzJ3stvczDF"
      },
      "source": [
        "These comparators also work in conjunction with variables."
      ]
    },
    {
      "cell_type": "code",
      "metadata": {
        "colab": {
          "base_uri": "https://localhost:8080/"
        },
        "id": "aO_MkI6LczDG",
        "outputId": "45a36b13-d200-4247-f999-58f0cd826fa0"
      },
      "source": [
        "m = 2\n",
        "n = 23\n",
        "print(m < n)"
      ],
      "execution_count": null,
      "outputs": [
        {
          "output_type": "stream",
          "name": "stdout",
          "text": [
            "True\n"
          ]
        }
      ]
    },
    {
      "cell_type": "markdown",
      "source": [
        "**My own example 65**"
      ],
      "metadata": {
        "id": "eMyz7Ks-3R6Y"
      }
    },
    {
      "cell_type": "code",
      "metadata": {
        "colab": {
          "base_uri": "https://localhost:8080/"
        },
        "id": "V56WDHDMQ6xL",
        "outputId": "ea005902-9cec-466e-f6b0-1ee75cf3e6ef"
      },
      "source": [
        "m = 200\n",
        "n = 456\n",
        "print(m <= n)"
      ],
      "execution_count": null,
      "outputs": [
        {
          "output_type": "stream",
          "name": "stdout",
          "text": [
            "True\n"
          ]
        }
      ]
    },
    {
      "cell_type": "markdown",
      "metadata": {
        "id": "y9BP6tctczDG"
      },
      "source": [
        "We can string these comparators together to make more complex logical statements using the logical operators `or`, `and`, and `not`. "
      ]
    },
    {
      "cell_type": "code",
      "metadata": {
        "colab": {
          "base_uri": "https://localhost:8080/"
        },
        "id": "3izpUOkSczDG",
        "outputId": "93272b22-2455-4762-b438-f07c00ecf7e0"
      },
      "source": [
        "statement_1 = 10 > 2\n",
        "statement_2 = 4 <= 6\n",
        "print(\"Statement 1 truth value: {0}\".format(statement_1))\n",
        "print(\"Statement 2 truth value: {0}\".format(statement_2))\n",
        "print(\"Statement 1 and Statement 2: {0}\".format(statement_1 and statement_2))"
      ],
      "execution_count": null,
      "outputs": [
        {
          "output_type": "stream",
          "name": "stdout",
          "text": [
            "Statement 1 truth value: True\n",
            "Statement 2 truth value: True\n",
            "Statement 1 and Statement 2: True\n"
          ]
        }
      ]
    },
    {
      "cell_type": "markdown",
      "source": [
        "**My own example 66**"
      ],
      "metadata": {
        "id": "1XTHmnOw3Sib"
      }
    },
    {
      "cell_type": "code",
      "metadata": {
        "colab": {
          "base_uri": "https://localhost:8080/"
        },
        "id": "EjTyGFKfRPve",
        "outputId": "dc40f66c-f9b2-4c74-e283-01ac954996c1"
      },
      "source": [
        "statement_1 = 100 > 101.4\n",
        "statement_2 = 5 <= 6.3\n",
        "print(\"Statement 1 truth value: {0}\".format(statement_1))\n",
        "print(\"Statement 2 truth value: {0}\".format(statement_2))\n",
        "print(\"Statement 1 and Statement 2: {0}\".format(statement_1 and statement_2))"
      ],
      "execution_count": null,
      "outputs": [
        {
          "output_type": "stream",
          "name": "stdout",
          "text": [
            "Statement 1 truth value: False\n",
            "Statement 2 truth value: True\n",
            "Statement 1 and Statement 2: False\n"
          ]
        }
      ]
    },
    {
      "cell_type": "markdown",
      "metadata": {
        "id": "aOQUG2UAczDH"
      },
      "source": [
        "The `or` operator performs a logical `or` calculation. This is an inclusive `or`, so if either component paired together by `or` is `True`, the whole statement will be `True`. The `and` statement only outputs `True` if all components that are `and`ed together are True. Otherwise it will output `False`. The `not` statement simply inverts the truth value of whichever statement follows it. So a `True` statement will be evaluated as `False` when a `not` is placed in front of it. Similarly, a `False` statement will become `True` when a `not` is in front of it.\n",
        "\n",
        "Say that we have two logical statements, or assertions, $P$ and $Q$. The truth table for the basic logical operators is as follows:\n",
        "\n",
        "|  P  |  Q  | `not` P| P `and` Q | P `or` Q|\n",
        "|:-----:|:-----:|:---:|:---:|:---:|\n",
        "| `True` | `True` | `False` | `True` | `True` |\n",
        "| `False` | `True` | `True` | `False` | `True` |\n",
        "| `True` | `False` | `False` | `False` | `True` |\n",
        "| `False` | `False` | `True` | `False` | `False` |\n",
        "\n",
        "We can string multiple logical statements together using the logical operators."
      ]
    },
    {
      "cell_type": "code",
      "metadata": {
        "colab": {
          "base_uri": "https://localhost:8080/"
        },
        "id": "p9mZSohQczDH",
        "outputId": "232b1534-f6c9-4e34-f52b-aa86e639d277"
      },
      "source": [
        "print(((2 < 3) and (3 > 0)) or ((5 > 6) and not (4 < 2)))"
      ],
      "execution_count": null,
      "outputs": [
        {
          "output_type": "stream",
          "name": "stdout",
          "text": [
            "True\n"
          ]
        }
      ]
    },
    {
      "cell_type": "markdown",
      "source": [
        "**My own example 67**"
      ],
      "metadata": {
        "id": "IfhOqWdg3Tar"
      }
    },
    {
      "cell_type": "code",
      "metadata": {
        "colab": {
          "base_uri": "https://localhost:8080/"
        },
        "id": "QZxcxx7GWXVs",
        "outputId": "98684be5-ba63-45a5-a89f-a9327cf14362"
      },
      "source": [
        "print(((2 < 3) or (3 > 1)) or ((5 > 6) and not (4 < 2) and (3 >= 4) or (56 == 56.0)))"
      ],
      "execution_count": null,
      "outputs": [
        {
          "output_type": "stream",
          "name": "stdout",
          "text": [
            "True\n"
          ]
        }
      ]
    },
    {
      "cell_type": "markdown",
      "metadata": {
        "id": "G-obSA-XczDH"
      },
      "source": [
        "Logical statements can be as simple or complex as we like, depending on what we need to express. Evaluating the above logical statement step by step we see that we are evaluating (`True and True`) `or` (`False and not False`). This becomes `True or (False and True`), subsequently becoming `True or False`, ultimately being evaluated as `True`."
      ]
    },
    {
      "cell_type": "markdown",
      "metadata": {
        "id": "mmHkKsaZczDH"
      },
      "source": [
        "#### Truthiness\n",
        "\n",
        "Data types in Python have a fun characteristic called truthiness. What this means is that most built-in types will evaluate as either `True` or `False` when a boolean value is needed (such as with an if-statement). As a general rule, containers like strings, tuples, dictionaries, lists, and sets, will return `True` if they contain anything at all and `False` if they contain nothing."
      ]
    },
    {
      "cell_type": "code",
      "metadata": {
        "id": "Ey0Np18xczDI",
        "colab": {
          "base_uri": "https://localhost:8080/"
        },
        "outputId": "7a874a43-d54b-4ff0-9fe7-d1bddf1ff965"
      },
      "source": [
        "# Similar to how float() and int() work, bool() forces a value to be considered a boolean!\n",
        "print(bool(''))"
      ],
      "execution_count": null,
      "outputs": [
        {
          "output_type": "stream",
          "name": "stdout",
          "text": [
            "False\n"
          ]
        }
      ]
    },
    {
      "cell_type": "markdown",
      "source": [
        "**My own example 68**"
      ],
      "metadata": {
        "id": "69lCvNSW3UK3"
      }
    },
    {
      "cell_type": "code",
      "metadata": {
        "colab": {
          "base_uri": "https://localhost:8080/"
        },
        "id": "i-DwLkksczDI",
        "outputId": "4f33f95c-a4ae-4449-e6c1-9f9db399b4be"
      },
      "source": [
        "print(bool('I have character!'))"
      ],
      "execution_count": null,
      "outputs": [
        {
          "output_type": "stream",
          "name": "stdout",
          "text": [
            "True\n"
          ]
        }
      ]
    },
    {
      "cell_type": "code",
      "metadata": {
        "colab": {
          "base_uri": "https://localhost:8080/"
        },
        "id": "DJFOyPCmXihT",
        "outputId": "88e94b4b-2805-4c2d-97ee-c5984a21d2a7"
      },
      "source": [
        "print(bool(\"                  \"))"
      ],
      "execution_count": null,
      "outputs": [
        {
          "output_type": "stream",
          "name": "stdout",
          "text": [
            "True\n"
          ]
        }
      ]
    },
    {
      "cell_type": "code",
      "metadata": {
        "colab": {
          "base_uri": "https://localhost:8080/"
        },
        "id": "d79Kooj_czDI",
        "outputId": "15c3d6b0-89d2-43f9-d118-313ee7d6dbd8"
      },
      "source": [
        "print(bool([]))"
      ],
      "execution_count": null,
      "outputs": [
        {
          "output_type": "stream",
          "name": "stdout",
          "text": [
            "False\n"
          ]
        }
      ]
    },
    {
      "cell_type": "code",
      "metadata": {
        "colab": {
          "base_uri": "https://localhost:8080/"
        },
        "id": "ms4BX3SSXmr9",
        "outputId": "b94beedb-bd84-41cc-ecc8-ab0732b964d4"
      },
      "source": [
        "dict = {}\n",
        "print(bool(dict))"
      ],
      "execution_count": null,
      "outputs": [
        {
          "output_type": "stream",
          "name": "stdout",
          "text": [
            "False\n"
          ]
        }
      ]
    },
    {
      "cell_type": "code",
      "metadata": {
        "colab": {
          "base_uri": "https://localhost:8080/"
        },
        "id": "5K1cz9T4czDI",
        "outputId": "206e7f9f-b3ef-4c98-ef5a-456474b516d6"
      },
      "source": [
        "print(bool([1, 2, 3]))"
      ],
      "execution_count": null,
      "outputs": [
        {
          "output_type": "stream",
          "name": "stdout",
          "text": [
            "True\n"
          ]
        }
      ]
    },
    {
      "cell_type": "markdown",
      "source": [
        "**My own example 69**"
      ],
      "metadata": {
        "id": "TQvLrjun3XD6"
      }
    },
    {
      "cell_type": "code",
      "metadata": {
        "colab": {
          "base_uri": "https://localhost:8080/"
        },
        "id": "bV9_08BJXzID",
        "outputId": "22f8267a-03fa-4d9f-bd84-4b345cf52ca0"
      },
      "source": [
        "dict = {\"A\": 56}\n",
        "print(bool(dict))"
      ],
      "execution_count": null,
      "outputs": [
        {
          "output_type": "stream",
          "name": "stdout",
          "text": [
            "True\n"
          ]
        }
      ]
    },
    {
      "cell_type": "markdown",
      "metadata": {
        "id": "KysjxwXaczDJ"
      },
      "source": [
        "And so on, for the other collections and containers. `None` also evaluates as `False`. The number `1` is equivalent to `True` and the number `0` is equivalent to `False` as well, in a boolean context."
      ]
    },
    {
      "cell_type": "markdown",
      "metadata": {
        "id": "Xd8hpxaxczDJ"
      },
      "source": [
        "### If-statements\n",
        "\n",
        "We can create segments of code that only execute if a set of conditions is met. We use if-statements in conjunction with logical statements in order to create branches in our code. \n",
        "\n",
        "An `if` block gets entered when the condition is considered to be `True`. If condition is evaluated as `False`, the `if` block will simply be skipped unless there is an `else` block to accompany it. Conditions are made using either logical operators or by using the truthiness of values in Python. An if-statement is defined with a colon and a block of indented text."
      ]
    },
    {
      "cell_type": "code",
      "metadata": {
        "colab": {
          "base_uri": "https://localhost:8080/"
        },
        "id": "6uq3ROodczDJ",
        "outputId": "119dddc6-df0a-4b2f-f9b5-7f1b06eeea08"
      },
      "source": [
        "# This is the basic format of an if statement. This is a vacuous example. \n",
        "# The string \"Condition\" will always evaluated as True because it is a\n",
        "# non-empty string. he purpose of this code is to show the formatting of\n",
        "# an if-statement.\n",
        "if \"Condition\": \n",
        "    # This block of code will execute because the string is non-empty\n",
        "    # Everything on these indented lines\n",
        "    print(True)\n",
        "else:\n",
        "    # So if the condition that we examined with if is in fact False\n",
        "    # This block of code will execute INSTEAD of the first block of code\n",
        "    # Everything on these indented lines\n",
        "    print(False)\n",
        "# The else block here will never execute because \"Condition\" is a non-empty string."
      ],
      "execution_count": null,
      "outputs": [
        {
          "output_type": "stream",
          "name": "stdout",
          "text": [
            "True\n"
          ]
        }
      ]
    },
    {
      "cell_type": "code",
      "metadata": {
        "id": "Ies_aT9ZczDK"
      },
      "source": [
        "i = 4\n",
        "if i == 5:\n",
        "    print('The variable i has a value of 5')"
      ],
      "execution_count": null,
      "outputs": []
    },
    {
      "cell_type": "markdown",
      "source": [
        "**My own example 70**"
      ],
      "metadata": {
        "id": "WVTz9-Q83fbK"
      }
    },
    {
      "cell_type": "code",
      "metadata": {
        "colab": {
          "base_uri": "https://localhost:8080/"
        },
        "id": "bmKNXS6sYuqX",
        "outputId": "16492d30-34ed-4fb3-9f01-8184ef131921"
      },
      "source": [
        "if \"\": \n",
        "    print(True)\n",
        "else:\n",
        "    print(False)"
      ],
      "execution_count": null,
      "outputs": [
        {
          "output_type": "stream",
          "name": "stdout",
          "text": [
            "False\n"
          ]
        }
      ]
    },
    {
      "cell_type": "markdown",
      "source": [
        "**My own example 71**"
      ],
      "metadata": {
        "id": "WIF_qf4P3jVa"
      }
    },
    {
      "cell_type": "code",
      "metadata": {
        "colab": {
          "base_uri": "https://localhost:8080/"
        },
        "id": "9XyKsDNjYtY9",
        "outputId": "0a391148-3ec2-4382-c638-2efc1186c389"
      },
      "source": [
        "i = 78\n",
        "if i == 78.0:\n",
        "    print('The variable i has a value of 78')"
      ],
      "execution_count": null,
      "outputs": [
        {
          "output_type": "stream",
          "name": "stdout",
          "text": [
            "The variable i has a value of 78\n"
          ]
        }
      ]
    },
    {
      "cell_type": "markdown",
      "metadata": {
        "id": "HtQCrIeSczDK"
      },
      "source": [
        "Because in this example `i = 4` and the if-statement is only looking for whether `i` is equal to `5`, the print statement will never be executed. We can add in an `else` statement to create a contingency block of code in case the condition in the if-statement is not evaluated as `True`."
      ]
    },
    {
      "cell_type": "code",
      "metadata": {
        "colab": {
          "base_uri": "https://localhost:8080/"
        },
        "id": "FVljyGGeczDK",
        "outputId": "f0ce98ad-5992-42bd-e4a7-9bc141941e3a"
      },
      "source": [
        "i = 4\n",
        "if i == 5:\n",
        "    print(\"All lines in this indented block are part of this block\")\n",
        "    print('The variable i has a value of 5')\n",
        "else:\n",
        "    print(\"All lines in this indented block are part of this block\")\n",
        "    print('The variable i is not equal to 5')"
      ],
      "execution_count": null,
      "outputs": [
        {
          "output_type": "stream",
          "name": "stdout",
          "text": [
            "All lines in this indented block are part of this block\n",
            "The variable i is not equal to 5\n"
          ]
        }
      ]
    },
    {
      "cell_type": "markdown",
      "source": [
        "**My own example 72**"
      ],
      "metadata": {
        "id": "RZ9_vbuu3mW8"
      }
    },
    {
      "cell_type": "code",
      "metadata": {
        "colab": {
          "base_uri": "https://localhost:8080/"
        },
        "id": "5R-syQU4Y8bI",
        "outputId": "62f1d15b-317f-48ca-b28c-c0b29afcfce4"
      },
      "source": [
        "i = 54\n",
        "if i != 54:\n",
        "    print(\"All lines in this indented block are part of this block\")\n",
        "    print('The variable i is not equal to 54')\n",
        "else:\n",
        "    print(\"All lines in this indented block are part of this block\")\n",
        "    print('The variable i is equal to 54')"
      ],
      "execution_count": null,
      "outputs": [
        {
          "output_type": "stream",
          "name": "stdout",
          "text": [
            "All lines in this indented block are part of this block\n",
            "The variable i is equal to 54\n"
          ]
        }
      ]
    },
    {
      "cell_type": "markdown",
      "metadata": {
        "id": "yrkjb8LFczDL"
      },
      "source": [
        "We can implement other branches off of the same if-statement by using `elif`, an abbreviation of \"else if\". We can include as many `elifs` as we like until we have exhausted all the logical branches of a condition."
      ]
    },
    {
      "cell_type": "code",
      "metadata": {
        "colab": {
          "base_uri": "https://localhost:8080/"
        },
        "id": "AZoCl1mXczDL",
        "outputId": "22283dc9-a5be-4386-e755-3c2026311266"
      },
      "source": [
        "i = 1\n",
        "if i == 1:\n",
        "    print('The variable i has a value of 1')\n",
        "elif i == 2:\n",
        "    print('The variable i has a value of 2')\n",
        "elif i == 3:\n",
        "    print('The variable i has a value of 3')\n",
        "else:\n",
        "    print(\"I don't care what i is\")"
      ],
      "execution_count": null,
      "outputs": [
        {
          "output_type": "stream",
          "name": "stdout",
          "text": [
            "The variable i has a value of 1\n"
          ]
        }
      ]
    },
    {
      "cell_type": "markdown",
      "source": [
        "**My own example 73**"
      ],
      "metadata": {
        "id": "ZVMNIUtC3m_1"
      }
    },
    {
      "cell_type": "code",
      "metadata": {
        "colab": {
          "base_uri": "https://localhost:8080/"
        },
        "id": "ipQsZuaJbCfU",
        "outputId": "18acf052-db02-43ae-8423-0a65c77eb28f"
      },
      "source": [
        "i = 67\n",
        "if i == 68:\n",
        "    print('The variable i has a value of 68')\n",
        "elif i == 67:\n",
        "    print('The variable i has a value of 67')\n",
        "elif i == 69:\n",
        "    print('The variable i has a value of 69')\n",
        "else:\n",
        "    print(\"I don't care what i is\")"
      ],
      "execution_count": null,
      "outputs": [
        {
          "output_type": "stream",
          "name": "stdout",
          "text": [
            "The variable i has a value of 67\n"
          ]
        }
      ]
    },
    {
      "cell_type": "markdown",
      "metadata": {
        "id": "WVjR72OpczDL"
      },
      "source": [
        "You can also nest if-statements within if-statements to check for further conditions."
      ]
    },
    {
      "cell_type": "code",
      "metadata": {
        "colab": {
          "base_uri": "https://localhost:8080/"
        },
        "id": "CRNxCg2IczDM",
        "outputId": "3185778e-2f45-4274-d1b4-791fb49816d0"
      },
      "source": [
        "i = 10\n",
        "if i % 2 == 0:\n",
        "    if i % 3 == 0:\n",
        "        print('i is divisible by both 2 and 3! Wow!')\n",
        "    elif i % 5 == 0:\n",
        "        print('i is divisible by both 2 and 5! Wow!')\n",
        "    else:\n",
        "        print('i is divisible by 2, but not 3 or 5. Meh.')\n",
        "else:\n",
        "    print('I guess that i is an odd number. Boring.')"
      ],
      "execution_count": null,
      "outputs": [
        {
          "output_type": "stream",
          "name": "stdout",
          "text": [
            "i is divisible by both 2 and 5! Wow!\n"
          ]
        }
      ]
    },
    {
      "cell_type": "markdown",
      "source": [
        "**My own example 74**"
      ],
      "metadata": {
        "id": "o6WsK-Zd3oBD"
      }
    },
    {
      "cell_type": "code",
      "metadata": {
        "colab": {
          "base_uri": "https://localhost:8080/"
        },
        "id": "A9kBXoFKbQMO",
        "outputId": "77af4ced-9255-4d43-f1e4-d6c5bb0dbe19"
      },
      "source": [
        "i = 46\n",
        "if i % 2 == 0:\n",
        "    if i % 3 == 0:\n",
        "        print('i is divisible by both 2 and 3! Wow!')\n",
        "    elif i % 6 == 0:\n",
        "        print('i is divisible by both 2 and 6! Wow!')\n",
        "    else:\n",
        "        print('i is divisible by 2, but not 3 or 6. Meh.')\n",
        "else:\n",
        "    print('I guess that i is an odd number. Boring.')"
      ],
      "execution_count": null,
      "outputs": [
        {
          "output_type": "stream",
          "name": "stdout",
          "text": [
            "i is divisible by 2, but not 3 or 6. Meh.\n"
          ]
        }
      ]
    },
    {
      "cell_type": "markdown",
      "metadata": {
        "id": "cM8T88V_czDM"
      },
      "source": [
        "Remember that we can group multiple conditions together by using the logical operators!"
      ]
    },
    {
      "cell_type": "code",
      "metadata": {
        "id": "mmPDfskTczDM",
        "colab": {
          "base_uri": "https://localhost:8080/"
        },
        "outputId": "b5da10f0-5b64-4766-ec7b-cc5b69374955"
      },
      "source": [
        "i = 5\n",
        "j = 12\n",
        "if i < 10 and j > 11:\n",
        "    print('{0} is less than 10 and {1} is greater than 11! How novel and interesting!'.format(i, j))"
      ],
      "execution_count": null,
      "outputs": [
        {
          "output_type": "stream",
          "name": "stdout",
          "text": [
            "5 is less than 10 and 12 is greater than 11! How novel and interesting!\n"
          ]
        }
      ]
    },
    {
      "cell_type": "markdown",
      "source": [
        "**My own example 75**"
      ],
      "metadata": {
        "id": "41jazFJP3pFk"
      }
    },
    {
      "cell_type": "code",
      "metadata": {
        "colab": {
          "base_uri": "https://localhost:8080/"
        },
        "id": "r_ozj4lAbj9U",
        "outputId": "9eb386ff-23ff-4167-af04-22e9a02f017d"
      },
      "source": [
        "i = \"helado\"\n",
        "j = 18\n",
        "if i < \"oso\" and j > 12:\n",
        "    print('\"{0}\" es menor lexicograficamente que \"oso\" y {1} es mayor que 12 '.format(i, j))"
      ],
      "execution_count": null,
      "outputs": [
        {
          "output_type": "stream",
          "name": "stdout",
          "text": [
            "\"helado\" es menor lexicograficamente que \"oso\" y 18 es mayor que 12 \n"
          ]
        }
      ]
    },
    {
      "cell_type": "markdown",
      "metadata": {
        "id": "k5Y5XjGmczDN"
      },
      "source": [
        "You can use the logical comparators to compare strings!"
      ]
    },
    {
      "cell_type": "code",
      "metadata": {
        "colab": {
          "base_uri": "https://localhost:8080/"
        },
        "id": "sZOL8sTWczDN",
        "outputId": "368e7bc0-ed96-4d30-b68b-a1ea65ee9e88"
      },
      "source": [
        "my_string = \"Carthago delenda est\"\n",
        "if my_string == \"Carthago delenda est\":\n",
        "    print('And so it was! For the glory of Rome!')\n",
        "else:\n",
        "    print('War elephants are TERRIFYING. I am staying home.')"
      ],
      "execution_count": null,
      "outputs": [
        {
          "output_type": "stream",
          "name": "stdout",
          "text": [
            "And so it was! For the glory of Rome!\n"
          ]
        }
      ]
    },
    {
      "cell_type": "markdown",
      "source": [
        "**My own example 76**"
      ],
      "metadata": {
        "id": "BtqGhO4_3p_W"
      }
    },
    {
      "cell_type": "code",
      "metadata": {
        "colab": {
          "base_uri": "https://localhost:8080/"
        },
        "id": "InR7MXoMcDPq",
        "outputId": "aba18c88-4310-40be-da6b-4de250227e63"
      },
      "source": [
        "my_string = \"Estoy triste\"\n",
        "if my_string == \"Estoy feliz\":\n",
        "    print('Me alegro mucho por ti!')\n",
        "else:\n",
        "    print('Como puedo animarte?')"
      ],
      "execution_count": null,
      "outputs": [
        {
          "output_type": "stream",
          "name": "stdout",
          "text": [
            "Como puedo animarte?\n"
          ]
        }
      ]
    },
    {
      "cell_type": "markdown",
      "metadata": {
        "id": "kfdN6ER7czDN"
      },
      "source": [
        "As with other data types, `==` will check for whether the two things on either side of it have the same value. In this case, we compare whether the value of the strings are the same. Using `>` or `<` or any of the other comparators is not quite so intuitive, however, so we will stay from using comparators with strings in this lecture. Comparators will examine the [lexicographical order](https://en.wikipedia.org/wiki/Lexicographical_order) of the strings, which might be a bit more in-depth than you might like."
      ]
    },
    {
      "cell_type": "markdown",
      "metadata": {
        "id": "Cq1mWM0HczDO"
      },
      "source": [
        "Some built-in functions return a boolean value, so they can be used as conditions in an if-statement. User-defined functions can also be constructed so that they return a boolean value. This will be covered later with function definition!\n",
        "\n",
        "The `in` keyword is generally used to check membership of a value within another value. We can check memebership in the context of an if-statement and use it to output a truth value."
      ]
    },
    {
      "cell_type": "code",
      "metadata": {
        "colab": {
          "base_uri": "https://localhost:8080/"
        },
        "id": "urMZZCZfczDO",
        "outputId": "535ff71f-d986-4c50-a4b4-77fc2809603a"
      },
      "source": [
        "if 'a' in my_string or 'e' in my_string:\n",
        "    print('Those are my favorite vowels!')"
      ],
      "execution_count": null,
      "outputs": [
        {
          "output_type": "stream",
          "name": "stdout",
          "text": [
            "Those are my favorite vowels!\n"
          ]
        }
      ]
    },
    {
      "cell_type": "markdown",
      "source": [
        "**My own example 77**"
      ],
      "metadata": {
        "id": "yVmr4o8h3qyt"
      }
    },
    {
      "cell_type": "code",
      "metadata": {
        "colab": {
          "base_uri": "https://localhost:8080/"
        },
        "id": "zeCxqNLAcSlW",
        "outputId": "bc8fe2c8-9776-4583-a84c-e3f43bd6275f"
      },
      "source": [
        "if 't' in my_string or 'o' in my_string:\n",
        "    print('Son mis letras favoritas')"
      ],
      "execution_count": null,
      "outputs": [
        {
          "output_type": "stream",
          "name": "stdout",
          "text": [
            "Son mis letras favoritas\n"
          ]
        }
      ]
    },
    {
      "cell_type": "markdown",
      "metadata": {
        "id": "DS_ZLIVdczDO"
      },
      "source": [
        "Here we use `in` to check whether the variable `my_string` contains any particular letters. We will later use `in` to iterate through lists!"
      ]
    },
    {
      "cell_type": "markdown",
      "metadata": {
        "id": "ysKDrmpPczDP"
      },
      "source": [
        "## Loop Structures\n",
        "\n",
        "Loop structures are one of the most important parts of programming. The `for` loop and the `while` loop provide a way to repeatedly run a block of code repeatedly. A `while` loop will iterate until a certain condition has been met. If at any point after an iteration that condition is no longer satisfied, the loop terminates. A `for` loop will iterate over a sequence of values and terminate when the sequence has ended. You can instead include conditions within the `for` loop to decide whether it should terminate early or you could simply let it run its course."
      ]
    },
    {
      "cell_type": "code",
      "metadata": {
        "colab": {
          "base_uri": "https://localhost:8080/"
        },
        "id": "zk4EwPwgczDP",
        "outputId": "12c3df87-0dbd-4e4a-dbc1-f0bd67c6d928"
      },
      "source": [
        "i = 5\n",
        "while i > 0: # We can write this as 'while i:' because 0 is False!\n",
        "    i -= 1\n",
        "    print('I am looping! {0} more to go!'.format(i))"
      ],
      "execution_count": null,
      "outputs": [
        {
          "output_type": "stream",
          "name": "stdout",
          "text": [
            "I am looping! 4 more to go!\n",
            "I am looping! 3 more to go!\n",
            "I am looping! 2 more to go!\n",
            "I am looping! 1 more to go!\n",
            "I am looping! 0 more to go!\n"
          ]
        }
      ]
    },
    {
      "cell_type": "code",
      "metadata": {
        "colab": {
          "base_uri": "https://localhost:8080/"
        },
        "id": "hH_M_vxhcikq",
        "outputId": "ae1bf2d4-3f9f-430b-97b1-7c1ec86311bc"
      },
      "source": [
        "i = 0\n",
        "while i < 39:\n",
        "    i += 3\n",
        "    print('Estamos en: {0}'.format(i))"
      ],
      "execution_count": null,
      "outputs": [
        {
          "output_type": "stream",
          "name": "stdout",
          "text": [
            "Estamos en: 3\n",
            "Estamos en: 6\n",
            "Estamos en: 9\n",
            "Estamos en: 12\n",
            "Estamos en: 15\n",
            "Estamos en: 18\n",
            "Estamos en: 21\n",
            "Estamos en: 24\n",
            "Estamos en: 27\n",
            "Estamos en: 30\n",
            "Estamos en: 33\n",
            "Estamos en: 36\n",
            "Estamos en: 39\n"
          ]
        }
      ]
    },
    {
      "cell_type": "markdown",
      "source": [
        "**My own example 78**"
      ],
      "metadata": {
        "id": "ujWLrEGI3rys"
      }
    },
    {
      "cell_type": "markdown",
      "metadata": {
        "id": "dspvjrM_czDP"
      },
      "source": [
        "\n",
        "With `while` loops we need to make sure that something actually changes from iteration to iteration so that that the loop actually terminates. In this case, we use the shorthand `i -= 1` (short for `i = i - 1`) so that the value of `i` gets smaller with each iteration. Eventually `i` will be reduced to `0`, rendering the condition `False` and exiting the loop."
      ]
    },
    {
      "cell_type": "markdown",
      "metadata": {
        "id": "YsDntHyIczDQ"
      },
      "source": [
        "A `for` loop iterates a set number of times, determined when you state the entry into the loop. In this case we are iterating over the list returned from `range()`. The `for` loop selects a value from the list, in order, and temporarily assigns the value of `i` to it so that operations can be performed with the value."
      ]
    },
    {
      "cell_type": "code",
      "metadata": {
        "colab": {
          "base_uri": "https://localhost:8080/"
        },
        "id": "XkKW8PVPczDQ",
        "outputId": "0e4e3875-5dae-47be-83af-1c33252cdafa"
      },
      "source": [
        "for i in range(5):\n",
        "    print('I am looping! I have looped {0} times!'.format(i + 1))"
      ],
      "execution_count": null,
      "outputs": [
        {
          "output_type": "stream",
          "name": "stdout",
          "text": [
            "I am looping! I have looped 1 times!\n",
            "I am looping! I have looped 2 times!\n",
            "I am looping! I have looped 3 times!\n",
            "I am looping! I have looped 4 times!\n",
            "I am looping! I have looped 5 times!\n"
          ]
        }
      ]
    },
    {
      "cell_type": "markdown",
      "source": [
        "**My own example 79**"
      ],
      "metadata": {
        "id": "zF8ODAVu3t56"
      }
    },
    {
      "cell_type": "code",
      "metadata": {
        "colab": {
          "base_uri": "https://localhost:8080/"
        },
        "id": "KjLlMRh-cvzr",
        "outputId": "a48044d9-deab-4653-f922-fb621178c915"
      },
      "source": [
        "for i in range(7):\n",
        "    print('Contador: {0}!'.format(i + 1))"
      ],
      "execution_count": null,
      "outputs": [
        {
          "output_type": "stream",
          "name": "stdout",
          "text": [
            "Contador: 1!\n",
            "Contador: 2!\n",
            "Contador: 3!\n",
            "Contador: 4!\n",
            "Contador: 5!\n",
            "Contador: 6!\n",
            "Contador: 7!\n"
          ]
        }
      ]
    },
    {
      "cell_type": "markdown",
      "metadata": {
        "id": "m8SRTx7UczDQ"
      },
      "source": [
        "Note that in this `for` loop we use the `in` keyword. Use of the `in` keyword is not limited to checking for membership as in the if-statement example. You can iterate over any collection with a `for` loop by using the `in` keyword.\n",
        "\n",
        "In this next example, we will iterate over a `set` because we want to check for containment and add to a new set."
      ]
    },
    {
      "cell_type": "code",
      "metadata": {
        "colab": {
          "base_uri": "https://localhost:8080/"
        },
        "id": "ep6401LcczDQ",
        "outputId": "7b186c30-9c36-43e2-914d-486d0abbac8f"
      },
      "source": [
        "my_list = {'cats', 'dogs', 'lizards', 'cows', 'bats', 'sponges', 'humans'} # Lists all the animals in the world\n",
        "mammal_list = {'cats', 'dogs', 'cows', 'bats', 'humans'} # Lists all the mammals in the world\n",
        "my_new_list = set()\n",
        "for animal in my_list:\n",
        "    if animal in mammal_list:\n",
        "        # This adds any animal that is both in my_list and mammal_list to my_new_list\n",
        "        my_new_list.add(animal)\n",
        "        \n",
        "print(my_new_list)"
      ],
      "execution_count": null,
      "outputs": [
        {
          "output_type": "stream",
          "name": "stdout",
          "text": [
            "{'humans', 'bats', 'cats', 'dogs', 'cows'}\n"
          ]
        }
      ]
    },
    {
      "cell_type": "markdown",
      "source": [
        "**My own example 80**"
      ],
      "metadata": {
        "id": "VyDcoAp-3vGT"
      }
    },
    {
      "cell_type": "code",
      "metadata": {
        "colab": {
          "base_uri": "https://localhost:8080/"
        },
        "id": "Be9QnHIuc3DR",
        "outputId": "35093dd3-5806-40e1-ef9f-837bfa987071"
      },
      "source": [
        "cars_list = {'mazda', 'hyundai', 'ferrari', 'porsche', 'lamborguini', 'renault'}\n",
        "super_list = {'mclaren', 'bmw', 'lamborguini', 'ferrari', 'porsche'}\n",
        "my_new_list = set()\n",
        "for c in cars_list:\n",
        "    if c in super_list:\n",
        "        my_new_list.add(c)\n",
        "        \n",
        "print(my_new_list)"
      ],
      "execution_count": null,
      "outputs": [
        {
          "output_type": "stream",
          "name": "stdout",
          "text": [
            "{'porsche', 'lamborguini', 'ferrari'}\n"
          ]
        }
      ]
    },
    {
      "cell_type": "markdown",
      "metadata": {
        "id": "gzxotlxkczDQ"
      },
      "source": [
        "There are two statements that are very helpful in dealing with both `for` and `while` loops. These are `break` and `continue`. If `break` is encountered at any point while a loop is executing, the loop will immediately end."
      ]
    },
    {
      "cell_type": "code",
      "metadata": {
        "colab": {
          "base_uri": "https://localhost:8080/"
        },
        "id": "8vacGhu_czDR",
        "outputId": "f18f15c3-0c76-437c-de97-616ee04aa4ab"
      },
      "source": [
        "i = 10\n",
        "while True:\n",
        "    if i == 14:\n",
        "        break\n",
        "    i += 1 # This is shorthand for i = i + 1. It increments i with each iteration.\n",
        "    print(i)"
      ],
      "execution_count": null,
      "outputs": [
        {
          "output_type": "stream",
          "name": "stdout",
          "text": [
            "11\n",
            "12\n",
            "13\n",
            "14\n"
          ]
        }
      ]
    },
    {
      "cell_type": "markdown",
      "source": [
        "**My own example 81**"
      ],
      "metadata": {
        "id": "JrQjWj4i3v3F"
      }
    },
    {
      "cell_type": "code",
      "metadata": {
        "colab": {
          "base_uri": "https://localhost:8080/"
        },
        "id": "B2jU1-ajd8x6",
        "outputId": "6388c992-1ee3-4331-d1b7-8615ffa71486"
      },
      "source": [
        "i = 3\n",
        "while True:\n",
        "    if i%15 == 0:\n",
        "        break\n",
        "    i += 3\n",
        "    print(i)"
      ],
      "execution_count": null,
      "outputs": [
        {
          "output_type": "stream",
          "name": "stdout",
          "text": [
            "6\n",
            "9\n",
            "12\n",
            "15\n"
          ]
        }
      ]
    },
    {
      "cell_type": "code",
      "metadata": {
        "colab": {
          "base_uri": "https://localhost:8080/"
        },
        "id": "DjHt08jAczDR",
        "outputId": "6dc91ba6-f8a8-4330-ab46-b3c9cd778554"
      },
      "source": [
        "for i in range(5):\n",
        "    if i == 2:\n",
        "        break\n",
        "    print(i)"
      ],
      "execution_count": null,
      "outputs": [
        {
          "output_type": "stream",
          "name": "stdout",
          "text": [
            "0\n",
            "1\n"
          ]
        }
      ]
    },
    {
      "cell_type": "markdown",
      "source": [
        "**My own example 82**"
      ],
      "metadata": {
        "id": "jFkWhYFA3wSR"
      }
    },
    {
      "cell_type": "code",
      "metadata": {
        "colab": {
          "base_uri": "https://localhost:8080/"
        },
        "id": "KfmAL8azvvS5",
        "outputId": "204036f5-a5a8-47e1-cab0-fe6306c03521"
      },
      "source": [
        "for i in range(3, 20, 2):\n",
        "    if i == 7:\n",
        "        break\n",
        "    print(i)"
      ],
      "execution_count": null,
      "outputs": [
        {
          "output_type": "stream",
          "name": "stdout",
          "text": [
            "3\n",
            "5\n"
          ]
        }
      ]
    },
    {
      "cell_type": "markdown",
      "metadata": {
        "id": "XxgNAoycczDR"
      },
      "source": [
        "The `continue` statement will tell the loop to immediately end this iteration and continue onto the next iteration of the loop."
      ]
    },
    {
      "cell_type": "code",
      "metadata": {
        "colab": {
          "base_uri": "https://localhost:8080/"
        },
        "id": "d5xUlDkiczDR",
        "outputId": "2b971ba6-88d1-4697-aab8-3f5aecd1cc05"
      },
      "source": [
        "i = 0\n",
        "while i < 5:\n",
        "    i += 1\n",
        "    if i == 3:\n",
        "        continue\n",
        "    print(i)"
      ],
      "execution_count": null,
      "outputs": [
        {
          "output_type": "stream",
          "name": "stdout",
          "text": [
            "1\n",
            "2\n",
            "4\n",
            "5\n"
          ]
        }
      ]
    },
    {
      "cell_type": "markdown",
      "source": [
        "**My own example 83**"
      ],
      "metadata": {
        "id": "r7bbh9QE3wvw"
      }
    },
    {
      "cell_type": "code",
      "metadata": {
        "colab": {
          "base_uri": "https://localhost:8080/"
        },
        "id": "WaonEH54v8gq",
        "outputId": "d22878f6-6780-46f0-960a-81d446d57880"
      },
      "source": [
        "list = [\"aa\", \"b\", \"c\", \"d\"]\n",
        "\n",
        "for i in list:\n",
        "    i += \"a\"\n",
        "    print(i)\n",
        "    if len(i) == 3:\n",
        "        continue\n",
        "    i += \"b\"\n",
        "    print(i)\n"
      ],
      "execution_count": null,
      "outputs": [
        {
          "output_type": "stream",
          "name": "stdout",
          "text": [
            "aaa\n",
            "ba\n",
            "bab\n",
            "ca\n",
            "cab\n",
            "da\n",
            "dab\n"
          ]
        }
      ]
    },
    {
      "cell_type": "markdown",
      "metadata": {
        "id": "b_cJABaiczDS"
      },
      "source": [
        "This loop skips printing the number $3$ because of the `continue` statement that executes when we enter the if-statement. The code never sees the command to print the number $3$ because it has already moved to the next iteration. The `break` and `continue` statements are further tools to help you control the flow of your loops and, as a result, your code."
      ]
    },
    {
      "cell_type": "markdown",
      "metadata": {
        "id": "Ibr_LiCAczDS"
      },
      "source": [
        "The variable that we use to iterate over a loop will retain its value when the loop exits. Similarly, any variables defined within the context of the loop will continue to exist outside of it."
      ]
    },
    {
      "cell_type": "code",
      "metadata": {
        "colab": {
          "base_uri": "https://localhost:8080/"
        },
        "id": "v3QGRRNKczDS",
        "outputId": "3a52816e-84ff-4525-ee80-7692c20be9f5"
      },
      "source": [
        "for i in range(5):\n",
        "    loop_string = 'I transcend the loop!'\n",
        "    print('I am eternal! I am {0} and I exist everywhere!'.format(i))\n",
        "\n",
        "print('I persist! My value is {0}'.format(i))\n",
        "print(loop_string)"
      ],
      "execution_count": null,
      "outputs": [
        {
          "output_type": "stream",
          "name": "stdout",
          "text": [
            "I am eternal! I am 0 and I exist everywhere!\n",
            "I am eternal! I am 1 and I exist everywhere!\n",
            "I am eternal! I am 2 and I exist everywhere!\n",
            "I am eternal! I am 3 and I exist everywhere!\n",
            "I am eternal! I am 4 and I exist everywhere!\n",
            "I persist! My value is 4\n",
            "I transcend the loop!\n"
          ]
        }
      ]
    },
    {
      "cell_type": "markdown",
      "source": [
        "**My own example 84**"
      ],
      "metadata": {
        "id": "e66Eq9r-3xa-"
      }
    },
    {
      "cell_type": "code",
      "metadata": {
        "colab": {
          "base_uri": "https://localhost:8080/"
        },
        "id": "aX9zWzLryTJe",
        "outputId": "45699786-df1b-4a70-8244-ff7cae6edb88"
      },
      "source": [
        "for i in range(12):\n",
        "    loop_string = \"aaa\"\n",
        "    loop_string += \"bb\"\n",
        "\n",
        "print(loop_string)"
      ],
      "execution_count": null,
      "outputs": [
        {
          "output_type": "stream",
          "name": "stdout",
          "text": [
            "aaabb\n"
          ]
        }
      ]
    },
    {
      "cell_type": "markdown",
      "metadata": {
        "id": "sSTYiNi0czDS"
      },
      "source": [
        "We can also iterate over a dictionary!"
      ]
    },
    {
      "cell_type": "code",
      "metadata": {
        "id": "2vH3QsWXczDT"
      },
      "source": [
        "my_dict = {'firstname' : 'Inigo', 'lastname' : 'Montoya', 'nemesis' : 'Rugen'}"
      ],
      "execution_count": null,
      "outputs": []
    },
    {
      "cell_type": "code",
      "metadata": {
        "id": "6zVVLFk21UWn"
      },
      "source": [
        "notas = {\n",
        "    \"A\": 5.0,\n",
        "    \"B\": 4.3,\n",
        "    \"C\": 6.7,\n",
        "    \"D\": 5.4\n",
        "}"
      ],
      "execution_count": null,
      "outputs": []
    },
    {
      "cell_type": "markdown",
      "source": [
        "**My own example 85**"
      ],
      "metadata": {
        "id": "PPUNCMSk3yc4"
      }
    },
    {
      "cell_type": "code",
      "metadata": {
        "colab": {
          "base_uri": "https://localhost:8080/"
        },
        "id": "CQ-ybKUIczDT",
        "outputId": "7c25ceae-bff3-423e-aadf-520c3292693b"
      },
      "source": [
        "for key in my_dict:\n",
        "    print(key)"
      ],
      "execution_count": null,
      "outputs": [
        {
          "output_type": "stream",
          "name": "stdout",
          "text": [
            "firstname\n",
            "lastname\n",
            "nemesis\n"
          ]
        }
      ]
    },
    {
      "cell_type": "markdown",
      "source": [
        "**My own example 86**"
      ],
      "metadata": {
        "id": "XDloydvr3y4x"
      }
    },
    {
      "cell_type": "code",
      "metadata": {
        "colab": {
          "base_uri": "https://localhost:8080/"
        },
        "id": "bhLgHsXw1e0p",
        "outputId": "bfe1ea07-4a27-41fc-e77e-3a1bae072f29"
      },
      "source": [
        "for n in notas:\n",
        "    print(n)"
      ],
      "execution_count": null,
      "outputs": [
        {
          "output_type": "stream",
          "name": "stdout",
          "text": [
            "A\n",
            "B\n",
            "C\n",
            "D\n"
          ]
        }
      ]
    },
    {
      "cell_type": "markdown",
      "metadata": {
        "id": "8vhnkeljczDT"
      },
      "source": [
        "If we just iterate over a dictionary without doing anything else, we will only get the keys. We can either use the keys to get the values, like so:"
      ]
    },
    {
      "cell_type": "code",
      "metadata": {
        "colab": {
          "base_uri": "https://localhost:8080/"
        },
        "id": "B0LaR5dPczDT",
        "outputId": "1af32fbf-b97a-4ecf-b5bf-01f75f9f165b"
      },
      "source": [
        "for key in my_dict:\n",
        "    print(my_dict[key])"
      ],
      "execution_count": null,
      "outputs": [
        {
          "output_type": "stream",
          "name": "stdout",
          "text": [
            "Inigo\n",
            "Montoya\n",
            "Rugen\n"
          ]
        }
      ]
    },
    {
      "cell_type": "markdown",
      "source": [
        "**My own example 87**"
      ],
      "metadata": {
        "id": "MP-QNMRL30j1"
      }
    },
    {
      "cell_type": "code",
      "metadata": {
        "colab": {
          "base_uri": "https://localhost:8080/"
        },
        "id": "zQ2sR97p1kYY",
        "outputId": "3c647cc7-8e38-406b-8a5e-36456c43df33"
      },
      "source": [
        "for n in notas:\n",
        "    print(notas[n])"
      ],
      "execution_count": null,
      "outputs": [
        {
          "output_type": "stream",
          "name": "stdout",
          "text": [
            "5.0\n",
            "4.3\n",
            "6.7\n",
            "5.4\n"
          ]
        }
      ]
    },
    {
      "cell_type": "markdown",
      "metadata": {
        "id": "uDzvfjR6czDT"
      },
      "source": [
        "Or we can use the `items()` function to get both key and value at the same time."
      ]
    },
    {
      "cell_type": "code",
      "metadata": {
        "colab": {
          "base_uri": "https://localhost:8080/"
        },
        "id": "zVR_FODPczDU",
        "outputId": "cd50fc9d-ca3a-4a01-99b2-4d2ddf30061e"
      },
      "source": [
        "for key, value in my_dict.items():\n",
        "    print(key, ':', value)"
      ],
      "execution_count": null,
      "outputs": [
        {
          "output_type": "stream",
          "name": "stdout",
          "text": [
            "firstname : Inigo\n",
            "lastname : Montoya\n",
            "nemesis : Rugen\n"
          ]
        }
      ]
    },
    {
      "cell_type": "markdown",
      "source": [
        "**My own example 88**"
      ],
      "metadata": {
        "id": "a-MeSk1l31ls"
      }
    },
    {
      "cell_type": "code",
      "metadata": {
        "colab": {
          "base_uri": "https://localhost:8080/"
        },
        "id": "yLiZgAg_1qtp",
        "outputId": "ce6746a9-9bb2-4159-bb87-a3f589e76726"
      },
      "source": [
        "for n, v in notas.items():\n",
        "    print(n, \"sacó\", v)"
      ],
      "execution_count": null,
      "outputs": [
        {
          "output_type": "stream",
          "name": "stdout",
          "text": [
            "A sacó 5.0\n",
            "B sacó 4.3\n",
            "C sacó 6.7\n",
            "D sacó 5.4\n"
          ]
        }
      ]
    },
    {
      "cell_type": "markdown",
      "metadata": {
        "id": "ykuIRSpVczDU"
      },
      "source": [
        "The `items()` function creates a tuple of each key-value pair and the for loop unpacks that tuple into `key, value` on each separate execution of the loop!"
      ]
    },
    {
      "cell_type": "markdown",
      "metadata": {
        "id": "aq87KsisczDU"
      },
      "source": [
        "## Functions\n",
        "\n",
        "A function is a reusable block of code that you can call repeatedly to make calculations, output data, or really do anything that you want. This is one of the key aspects of using a programming language. To add to the built-in functions in Python, you can define your own!"
      ]
    },
    {
      "cell_type": "code",
      "metadata": {
        "colab": {
          "base_uri": "https://localhost:8080/"
        },
        "id": "HrZQkazNczDU",
        "outputId": "b4286dea-5b11-432f-9628-4123581c54fa"
      },
      "source": [
        "def hello_world():\n",
        "    \"\"\" Prints Hello, world! \"\"\"\n",
        "    print('Hello, world!')\n",
        "\n",
        "hello_world()"
      ],
      "execution_count": null,
      "outputs": [
        {
          "output_type": "stream",
          "name": "stdout",
          "text": [
            "Hello, world!\n"
          ]
        }
      ]
    },
    {
      "cell_type": "markdown",
      "source": [
        "**My own example 89**"
      ],
      "metadata": {
        "id": "a_SaeYRx32aw"
      }
    },
    {
      "cell_type": "code",
      "metadata": {
        "colab": {
          "base_uri": "https://localhost:8080/"
        },
        "id": "eIaCXZuh2bud",
        "outputId": "781abcfd-9a1b-400d-ccf3-c8a33ef8a650"
      },
      "source": [
        "def suma(a, b):\n",
        "    return a+b\n",
        "\n",
        "print(suma(2, 5))"
      ],
      "execution_count": null,
      "outputs": [
        {
          "output_type": "stream",
          "name": "stdout",
          "text": [
            "7\n"
          ]
        }
      ]
    },
    {
      "cell_type": "code",
      "metadata": {
        "colab": {
          "base_uri": "https://localhost:8080/"
        },
        "id": "S4j2YktGczDU",
        "outputId": "6aaead17-a5a2-42be-9aa1-e63c68827b1e"
      },
      "source": [
        "for i in range(5):\n",
        "    hello_world()"
      ],
      "execution_count": null,
      "outputs": [
        {
          "output_type": "stream",
          "name": "stdout",
          "text": [
            "Hello, world!\n",
            "Hello, world!\n",
            "Hello, world!\n",
            "Hello, world!\n",
            "Hello, world!\n"
          ]
        }
      ]
    },
    {
      "cell_type": "markdown",
      "source": [
        "**My own example 90**"
      ],
      "metadata": {
        "id": "PJWEGHUE33Yj"
      }
    },
    {
      "cell_type": "code",
      "metadata": {
        "colab": {
          "base_uri": "https://localhost:8080/"
        },
        "id": "rxh3ipWn2mCq",
        "outputId": "493e2729-859a-4672-e42d-7b1f04b7c622"
      },
      "source": [
        "for i in range(7):\n",
        "    print(suma(i, i))"
      ],
      "execution_count": null,
      "outputs": [
        {
          "output_type": "stream",
          "name": "stdout",
          "text": [
            "0\n",
            "2\n",
            "4\n",
            "6\n",
            "8\n",
            "10\n",
            "12\n"
          ]
        }
      ]
    },
    {
      "cell_type": "markdown",
      "metadata": {
        "id": "l-Nmpx4aczDU"
      },
      "source": [
        "Functions are defined with `def`, a function name, a list of parameters, and a colon. Everything indented below the colon will be included in the definition of the function.\n",
        "\n",
        "We can have our functions do anything that you can do with a normal block of code. For example, our `hello_world()` function prints a string every time it is called. If we want to keep a value that a function calculates, we can define the function so that it will `return` the value we want. This is a very important feature of functions, as any variable defined purely within a function will not exist outside of it."
      ]
    },
    {
      "cell_type": "code",
      "metadata": {
        "id": "EjMHnLjpczDV",
        "colab": {
          "base_uri": "https://localhost:8080/",
          "height": 205
        },
        "outputId": "a42f202d-0f49-49c1-ba5c-8878a4147374"
      },
      "source": [
        "def see_the_scope():\n",
        "    in_function_string = \"I'm stuck in here!\"\n",
        "\n",
        "see_the_scope()\n",
        "print(in_function_string)"
      ],
      "execution_count": null,
      "outputs": [
        {
          "output_type": "error",
          "ename": "NameError",
          "evalue": "ignored",
          "traceback": [
            "\u001b[0;31m---------------------------------------------------------------------------\u001b[0m",
            "\u001b[0;31mNameError\u001b[0m                                 Traceback (most recent call last)",
            "\u001b[0;32m<ipython-input-245-fb168f245f67>\u001b[0m in \u001b[0;36m<module>\u001b[0;34m()\u001b[0m\n\u001b[1;32m      3\u001b[0m \u001b[0;34m\u001b[0m\u001b[0m\n\u001b[1;32m      4\u001b[0m \u001b[0msee_the_scope\u001b[0m\u001b[0;34m(\u001b[0m\u001b[0;34m)\u001b[0m\u001b[0;34m\u001b[0m\u001b[0;34m\u001b[0m\u001b[0m\n\u001b[0;32m----> 5\u001b[0;31m \u001b[0mprint\u001b[0m\u001b[0;34m(\u001b[0m\u001b[0min_function_string\u001b[0m\u001b[0;34m)\u001b[0m\u001b[0;34m\u001b[0m\u001b[0;34m\u001b[0m\u001b[0m\n\u001b[0m",
            "\u001b[0;31mNameError\u001b[0m: name 'in_function_string' is not defined"
          ]
        }
      ]
    },
    {
      "cell_type": "markdown",
      "source": [
        "**My own example 91**"
      ],
      "metadata": {
        "id": "sS-KLyj234Io"
      }
    },
    {
      "cell_type": "code",
      "metadata": {
        "colab": {
          "base_uri": "https://localhost:8080/",
          "height": 205
        },
        "id": "YOsHnKn82uG2",
        "outputId": "77df89ec-d97f-40b0-e2f1-7e934ea2492c"
      },
      "source": [
        "def ejemplo():\n",
        "    valor = 13.4\n",
        "\n",
        "ejemplo()\n",
        "print(valor)"
      ],
      "execution_count": null,
      "outputs": [
        {
          "output_type": "error",
          "ename": "NameError",
          "evalue": "ignored",
          "traceback": [
            "\u001b[0;31m---------------------------------------------------------------------------\u001b[0m",
            "\u001b[0;31mNameError\u001b[0m                                 Traceback (most recent call last)",
            "\u001b[0;32m<ipython-input-246-3840a7b83ea7>\u001b[0m in \u001b[0;36m<module>\u001b[0;34m()\u001b[0m\n\u001b[1;32m      3\u001b[0m \u001b[0;34m\u001b[0m\u001b[0m\n\u001b[1;32m      4\u001b[0m \u001b[0mejemplo\u001b[0m\u001b[0;34m(\u001b[0m\u001b[0;34m)\u001b[0m\u001b[0;34m\u001b[0m\u001b[0;34m\u001b[0m\u001b[0m\n\u001b[0;32m----> 5\u001b[0;31m \u001b[0mprint\u001b[0m\u001b[0;34m(\u001b[0m\u001b[0mvalor\u001b[0m\u001b[0;34m)\u001b[0m\u001b[0;34m\u001b[0m\u001b[0;34m\u001b[0m\u001b[0m\n\u001b[0m",
            "\u001b[0;31mNameError\u001b[0m: name 'valor' is not defined"
          ]
        }
      ]
    },
    {
      "cell_type": "markdown",
      "metadata": {
        "id": "qhUpvZXqczDV"
      },
      "source": [
        " The **scope** of a variable is the part of a block of code where that variable is tied to a particular value. Functions in Python have an enclosed scope, making it so that variables defined within them can only be accessed directly within them. If we pass those values to a return statement we can get them out of the function. This makes it so that the function call returns values so that you can store them in variables that have a greater scope.\n",
        " \n",
        "In this case specifically, including a return statement allows us to keep the string value that we define in the function."
      ]
    },
    {
      "cell_type": "code",
      "metadata": {
        "colab": {
          "base_uri": "https://localhost:8080/"
        },
        "id": "ArJoUIygczDV",
        "outputId": "273bb18e-4ce1-4ccb-86dc-9cd184adefba"
      },
      "source": [
        "def free_the_scope():\n",
        "    in_function_string = \"Anything you can do I can do better!\"\n",
        "    return in_function_string\n",
        "my_string = free_the_scope()\n",
        "print(my_string)"
      ],
      "execution_count": null,
      "outputs": [
        {
          "output_type": "stream",
          "name": "stdout",
          "text": [
            "Anything you can do I can do better!\n"
          ]
        }
      ]
    },
    {
      "cell_type": "markdown",
      "source": [
        "**My own example 92**"
      ],
      "metadata": {
        "id": "1gkzLYGW37xv"
      }
    },
    {
      "cell_type": "code",
      "metadata": {
        "colab": {
          "base_uri": "https://localhost:8080/"
        },
        "id": "oL5HQgCj5z81",
        "outputId": "742eeb91-1f29-4959-bbb2-dd97db6ba51a"
      },
      "source": [
        "def ejemplo():\n",
        "    valor = 13.4\n",
        "    return valor\n",
        "\n",
        "a = ejemplo()\n",
        "print(a)"
      ],
      "execution_count": null,
      "outputs": [
        {
          "output_type": "stream",
          "name": "stdout",
          "text": [
            "13.4\n"
          ]
        }
      ]
    },
    {
      "cell_type": "markdown",
      "metadata": {
        "id": "9KwHYLGFczDV"
      },
      "source": [
        "Just as we can get values out of a function, we can also put values into a function. We do this by defining our function with parameters."
      ]
    },
    {
      "cell_type": "code",
      "metadata": {
        "colab": {
          "base_uri": "https://localhost:8080/"
        },
        "id": "FCFh4_pfczDV",
        "outputId": "5e77e494-ad6d-40c5-c994-f150fcd0b052"
      },
      "source": [
        "def multiply_by_five(x):\n",
        "    \"\"\" Multiplies an input number by 5 \"\"\"\n",
        "    return x * 5\n",
        "\n",
        "n = 4\n",
        "print(n)\n",
        "print(multiply_by_five(n))"
      ],
      "execution_count": null,
      "outputs": [
        {
          "output_type": "stream",
          "name": "stdout",
          "text": [
            "4\n",
            "20\n"
          ]
        }
      ]
    },
    {
      "cell_type": "markdown",
      "source": [
        "**My own example 93**"
      ],
      "metadata": {
        "id": "qk8xyICu38UZ"
      }
    },
    {
      "cell_type": "code",
      "metadata": {
        "colab": {
          "base_uri": "https://localhost:8080/"
        },
        "id": "yXtPxpL95-qL",
        "outputId": "c04604df-a796-4cf4-83ba-f1adf3cbd2ef"
      },
      "source": [
        "def gatos(n):\n",
        "    print(\"Tengo\", n, \"gatos\")\n",
        "\n",
        "gatos(4)"
      ],
      "execution_count": null,
      "outputs": [
        {
          "output_type": "stream",
          "name": "stdout",
          "text": [
            "Tengo 4 gatos\n"
          ]
        }
      ]
    },
    {
      "cell_type": "markdown",
      "metadata": {
        "id": "lbeOOv4WczDW"
      },
      "source": [
        "In this example we only had one parameter for our function, `x`. We can easily add more parameters, separating everything with a comma."
      ]
    },
    {
      "cell_type": "code",
      "metadata": {
        "id": "HgM-tKEgczDW"
      },
      "source": [
        "def calculate_area(length, width):\n",
        "    \"\"\" Calculates the area of a rectangle \"\"\"\n",
        "    return length * width"
      ],
      "execution_count": null,
      "outputs": []
    },
    {
      "cell_type": "markdown",
      "source": [
        "**My own example 94**"
      ],
      "metadata": {
        "id": "_OzDgrmh39Mx"
      }
    },
    {
      "cell_type": "code",
      "metadata": {
        "id": "S4axuuxx6Ke_"
      },
      "source": [
        "def aceleracion(vf, vi, t):\n",
        "    return (vf-vi)/t"
      ],
      "execution_count": null,
      "outputs": []
    },
    {
      "cell_type": "code",
      "metadata": {
        "colab": {
          "base_uri": "https://localhost:8080/"
        },
        "id": "eYzb8frlczDW",
        "outputId": "3a8a6a6c-79e5-42ec-bd1e-af55a470198c"
      },
      "source": [
        "l = 5\n",
        "w = 10\n",
        "print('Area: ', calculate_area(l, w))\n",
        "print('Length: ', l)\n",
        "print('Width: ', w)"
      ],
      "execution_count": null,
      "outputs": [
        {
          "output_type": "stream",
          "name": "stdout",
          "text": [
            "Area:  50\n",
            "Length:  5\n",
            "Width:  10\n"
          ]
        }
      ]
    },
    {
      "cell_type": "markdown",
      "source": [
        "**My own example 95**"
      ],
      "metadata": {
        "id": "MBnDZmUG4EbR"
      }
    },
    {
      "cell_type": "code",
      "metadata": {
        "colab": {
          "base_uri": "https://localhost:8080/"
        },
        "id": "7ucQb2Q86cLZ",
        "outputId": "235b8915-5179-427c-815a-1fe612cd5296"
      },
      "source": [
        "vf = 50\n",
        "vi = 20\n",
        "t = 3\n",
        "print(\"Aceleracion:\", aceleracion(vf, vi, t))\n",
        "print(\"Vf:\", vf)\n",
        "print(\"Vi:\", vi)\n",
        "print(\"t:\", t)"
      ],
      "execution_count": null,
      "outputs": [
        {
          "output_type": "stream",
          "name": "stdout",
          "text": [
            "Aceleracion: 10.0\n",
            "Vf: 50\n",
            "Vi: 20\n",
            "t: 3\n"
          ]
        }
      ]
    },
    {
      "cell_type": "markdown",
      "source": [
        "**My own example 96**"
      ],
      "metadata": {
        "id": "SCk0CLXW4FsT"
      }
    },
    {
      "cell_type": "code",
      "metadata": {
        "id": "QmVWawK6czDW"
      },
      "source": [
        "def calculate_volume(length, width, depth):\n",
        "    \"\"\" Calculates the volume of a rectangular prism \"\"\"\n",
        "    return length * width * depth"
      ],
      "execution_count": null,
      "outputs": []
    },
    {
      "cell_type": "markdown",
      "metadata": {
        "id": "T6ZdkIVeczDW"
      },
      "source": [
        "If we want to, we can define a function so that it takes an arbitrary number of parameters. We tell Python that we want this by using an asterisk (`*`)."
      ]
    },
    {
      "cell_type": "code",
      "metadata": {
        "id": "zL_QbfjeczDW"
      },
      "source": [
        "def sum_values(*args):\n",
        "    sum_val = 0\n",
        "    for i in args:\n",
        "        sum_val += i\n",
        "    return sum_val"
      ],
      "execution_count": null,
      "outputs": []
    },
    {
      "cell_type": "markdown",
      "source": [
        "**My own example 97**"
      ],
      "metadata": {
        "id": "CFSDWZBe4Gv0"
      }
    },
    {
      "cell_type": "code",
      "metadata": {
        "id": "tszXsSXx7kXu"
      },
      "source": [
        "def multiplicatoria(*args):\n",
        "    res = 1\n",
        "    for i in args:\n",
        "        res *= i\n",
        "    return res"
      ],
      "execution_count": null,
      "outputs": []
    },
    {
      "cell_type": "code",
      "metadata": {
        "colab": {
          "base_uri": "https://localhost:8080/"
        },
        "id": "Ex9ypw6GczDX",
        "outputId": "08827bb7-042f-4a72-9cef-1dea5ec8cbd4"
      },
      "source": [
        "print(sum_values(1, 2, 3))\n",
        "print(sum_values(10, 20, 30, 40, 50))\n",
        "print(sum_values(4, 2, 5, 1, 10, 249, 25, 24, 13, 6, 4))"
      ],
      "execution_count": null,
      "outputs": [
        {
          "output_type": "stream",
          "name": "stdout",
          "text": [
            "6\n",
            "150\n",
            "343\n"
          ]
        }
      ]
    },
    {
      "cell_type": "markdown",
      "source": [
        "**My own example 98**"
      ],
      "metadata": {
        "id": "vNU4JC6m4H46"
      }
    },
    {
      "cell_type": "code",
      "metadata": {
        "colab": {
          "base_uri": "https://localhost:8080/"
        },
        "id": "t4cGu8f17w--",
        "outputId": "2e13636e-dbd2-4e7c-da12-63a516661a05"
      },
      "source": [
        "print(multiplicatoria(1, 2, 3, 4, 5))\n",
        "print(multiplicatoria(10, 20, 30, 40, 50))\n",
        "print(multiplicatoria(4, 2, 5, 1, 10, 249, 25, 24, 13, 6, 4))"
      ],
      "execution_count": null,
      "outputs": [
        {
          "output_type": "stream",
          "name": "stdout",
          "text": [
            "120\n",
            "12000000\n",
            "18645120000\n"
          ]
        }
      ]
    },
    {
      "cell_type": "markdown",
      "metadata": {
        "id": "0c4_-uz9czDY"
      },
      "source": [
        "The time to use `*args` as a parameter for your function is when you do not know how many values may be passed to it, as in the case of our sum function. The asterisk in this case is the syntax that tells Python that you are going to pass an arbitrary number of parameters into your function. These parameters are stored in the form of a tuple."
      ]
    },
    {
      "cell_type": "code",
      "metadata": {
        "colab": {
          "base_uri": "https://localhost:8080/"
        },
        "id": "4FjJnLGgczDY",
        "outputId": "21dfc275-1dc2-4e4b-a958-4511b7631378"
      },
      "source": [
        "def test_args(*args):\n",
        "    print(type(args))\n",
        "\n",
        "test_args(1, 2, 3, 4, 5, 6)"
      ],
      "execution_count": null,
      "outputs": [
        {
          "output_type": "stream",
          "name": "stdout",
          "text": [
            "<class 'tuple'>\n"
          ]
        }
      ]
    },
    {
      "cell_type": "markdown",
      "source": [
        "**My own example 99**"
      ],
      "metadata": {
        "id": "TFxtJLKS4Igz"
      }
    },
    {
      "cell_type": "code",
      "metadata": {
        "colab": {
          "base_uri": "https://localhost:8080/"
        },
        "id": "DVhACIRm8pyR",
        "outputId": "6b303ea4-2f55-437a-ee6d-39910c7d452c"
      },
      "source": [
        "test_args(\"a\", 2, 3, \"b\", \"c\", 6, 7)"
      ],
      "execution_count": null,
      "outputs": [
        {
          "output_type": "stream",
          "name": "stdout",
          "text": [
            "<class 'tuple'>\n"
          ]
        }
      ]
    },
    {
      "cell_type": "markdown",
      "metadata": {
        "id": "ftiRNDMNczDY"
      },
      "source": [
        "We can put as many elements into the `args` tuple as we want to when we call the function. However, because `args` is a tuple, we cannot modify it after it has been created.\n",
        "\n",
        "The `args` name of the variable is purely by convention. You could just as easily name your parameter `*vars` or `*things`. You can treat the `args` tuple like you would any other tuple, easily accessing `arg`'s values and iterating over it, as in the above `sum_values(*args)` function."
      ]
    },
    {
      "cell_type": "markdown",
      "metadata": {
        "id": "QMcjBBtUczDY"
      },
      "source": [
        "Our functions can return any data type. This makes it easy for us to create functions that check for conditions that we might want to monitor.\n",
        "\n",
        "Here we define a function that returns a boolean value. We can easily use this in conjunction with if-statements and  other situations that require a boolean."
      ]
    },
    {
      "cell_type": "code",
      "metadata": {
        "id": "2WhfiIvEczDY"
      },
      "source": [
        "def has_a_vowel(word):\n",
        "    \"\"\" \n",
        "    Checks to see whether a word contains a vowel \n",
        "    If it doesn't contain a conventional vowel, it\n",
        "    will check for the presence of 'y' or 'w'. Does\n",
        "    not check to see whether those are in the word\n",
        "    in a vowel context.\n",
        "    \"\"\"\n",
        "    vowel_list = ['a', 'e', 'i', 'o', 'u']\n",
        "    \n",
        "    for vowel in vowel_list:\n",
        "        if vowel in word:\n",
        "            return True\n",
        "    # If there is a vowel in the word, the function returns, preventing anything after this loop from running\n",
        "    return(False)"
      ],
      "execution_count": null,
      "outputs": []
    },
    {
      "cell_type": "markdown",
      "source": [
        "**My own example 100**"
      ],
      "metadata": {
        "id": "rN5bO64E4KKS"
      }
    },
    {
      "cell_type": "code",
      "metadata": {
        "id": "jowr1lbR9NE9"
      },
      "source": [
        "def ejemplo(s):\n",
        "    return s*2"
      ],
      "execution_count": null,
      "outputs": []
    },
    {
      "cell_type": "code",
      "metadata": {
        "colab": {
          "base_uri": "https://localhost:8080/"
        },
        "id": "0cxHKM24czDY",
        "outputId": "814fb48d-3e5c-4ae6-b47a-a2220540e6f6"
      },
      "source": [
        "my_word = 'catnapping'\n",
        "if has_a_vowel(my_word):\n",
        "    print('How surprising, an english word contains a vowel.')\n",
        "else:\n",
        "    print('This is actually surprising.')"
      ],
      "execution_count": null,
      "outputs": [
        {
          "output_type": "stream",
          "name": "stdout",
          "text": [
            "How surprising, an english word contains a vowel.\n"
          ]
        }
      ]
    },
    {
      "cell_type": "markdown",
      "source": [
        "**My own example 101**"
      ],
      "metadata": {
        "id": "NVHv-JDZ4Kw1"
      }
    },
    {
      "cell_type": "code",
      "metadata": {
        "colab": {
          "base_uri": "https://localhost:8080/"
        },
        "id": "3MgEJuNM_MpJ",
        "outputId": "2d438b9e-cd9d-4dfc-979a-a477b13b05f5"
      },
      "source": [
        "w = \"Hola\"\n",
        "\n",
        "print(ejemplo(w))"
      ],
      "execution_count": null,
      "outputs": [
        {
          "output_type": "stream",
          "name": "stdout",
          "text": [
            "HolaHola\n"
          ]
        }
      ]
    },
    {
      "cell_type": "code",
      "metadata": {
        "id": "aqfLQeZqczDZ"
      },
      "source": [
        "def point_maker(x, y):\n",
        "    \"\"\" Groups x and y values into a point, technically a tuple \"\"\"\n",
        "    return x, y"
      ],
      "execution_count": null,
      "outputs": []
    },
    {
      "cell_type": "markdown",
      "source": [
        "**My own example 102**"
      ],
      "metadata": {
        "id": "RgPgcRma4LJ_"
      }
    },
    {
      "cell_type": "code",
      "metadata": {
        "id": "dlSAY6ksAE_4"
      },
      "source": [
        "def point_maker3(x, y, z):\n",
        "    return x, y, z"
      ],
      "execution_count": null,
      "outputs": []
    },
    {
      "cell_type": "markdown",
      "metadata": {
        "id": "JA-HsZsyczDZ"
      },
      "source": [
        "This above function returns an ordered pair of the input parameters, stored as a tuple."
      ]
    },
    {
      "cell_type": "code",
      "metadata": {
        "scrolled": true,
        "colab": {
          "base_uri": "https://localhost:8080/"
        },
        "id": "GS1vPZoyczDZ",
        "outputId": "9233fda9-8459-4669-cc86-a8fdde42b1e7"
      },
      "source": [
        "a = point_maker(0, 10)\n",
        "b = point_maker(5, 3)\n",
        "def calculate_slope(point_a, point_b):\n",
        "    \"\"\" Calculates the linear slope between two points \"\"\"\n",
        "    return (point_b[1] - point_a[1])/(point_b[0] - point_a[0])\n",
        "print(\"The slope between a and b is {0}\".format(calculate_slope(a, b)))"
      ],
      "execution_count": null,
      "outputs": [
        {
          "output_type": "stream",
          "name": "stdout",
          "text": [
            "The slope between a and b is -1.4\n"
          ]
        }
      ]
    },
    {
      "cell_type": "markdown",
      "source": [
        "**My own example 103**"
      ],
      "metadata": {
        "id": "QVRMfMqa4L-t"
      }
    },
    {
      "cell_type": "code",
      "metadata": {
        "colab": {
          "base_uri": "https://localhost:8080/"
        },
        "id": "ab3MgEA2_6eT",
        "outputId": "37485a21-276a-4458-9773-f3cf86b79c8a"
      },
      "source": [
        "def calculate_volume(l):\n",
        "    return l[0] * l[1] * l[2]\n",
        "\n",
        "c = point_maker3(10, 20, 30)\n",
        "\n",
        "print(\"Volume is\", calculate_volume(c))"
      ],
      "execution_count": null,
      "outputs": [
        {
          "output_type": "stream",
          "name": "stdout",
          "text": [
            "Volume is 6000\n"
          ]
        }
      ]
    },
    {
      "cell_type": "markdown",
      "metadata": {
        "id": "8rifzL0LczDZ"
      },
      "source": [
        "And that one calculates the slope between two points!"
      ]
    },
    {
      "cell_type": "code",
      "metadata": {
        "colab": {
          "base_uri": "https://localhost:8080/"
        },
        "id": "cd3Kl8KXczDa",
        "outputId": "f7ad4849-efbe-4082-d80e-7040292f4ab9"
      },
      "source": [
        "print(\"The slope-intercept form of the line between a and b, using point a, is: y - {0} = {2}(x - {1})\".format(a[1], a[0], calculate_slope(a, b)))"
      ],
      "execution_count": null,
      "outputs": [
        {
          "output_type": "stream",
          "name": "stdout",
          "text": [
            "The slope-intercept form of the line between a and b, using point a, is: y - 10 = -1.4(x - 0)\n"
          ]
        }
      ]
    },
    {
      "cell_type": "markdown",
      "source": [
        "**My own example 104**"
      ],
      "metadata": {
        "id": "Loj4qowN4NOE"
      }
    },
    {
      "cell_type": "code",
      "metadata": {
        "colab": {
          "base_uri": "https://localhost:8080/"
        },
        "id": "oK-jLZ_sAxNH",
        "outputId": "b2a2accd-3d48-48c5-f455-1d3a256ba731"
      },
      "source": [
        "print(\"The volume of a cube with length: {0}, width: {1} and depth: {2} is {3}\".format(c[0], c[1], c[2], calculate_volume(c)))"
      ],
      "execution_count": null,
      "outputs": [
        {
          "output_type": "stream",
          "name": "stdout",
          "text": [
            "The volume of a cube with length: 10, width: 20 and depth: 30 is 6000\n"
          ]
        }
      ]
    },
    {
      "cell_type": "markdown",
      "metadata": {
        "id": "vAj2s72GczDa"
      },
      "source": [
        "With the proper syntax, you can define functions to do whatever calculations you want. This makes them an indispensible part of programming in any language."
      ]
    },
    {
      "cell_type": "markdown",
      "metadata": {
        "id": "nUQ1d0txczDa"
      },
      "source": [
        "## Next Steps\n",
        "\n",
        "This was a lot of material and there is still even more to cover! Make sure you play around with the cells in each notebook to accustom yourself to the syntax featured here and to figure out any limitations. If you want to delve even deeper into the material, the [documentation for Python](https://docs.python.org/2/) is all available online. We are in the process of developing a second part to this Python tutorial, designed to provide you with even more programming knowledge, so keep an eye on the [Quantopian Lectures Page](quantopian.com/lectures) and the [forums](quantopian.com/posts) for any new lectures."
      ]
    },
    {
      "cell_type": "markdown",
      "metadata": {
        "id": "XfW5sT-mczDa"
      },
      "source": [
        "*This presentation is for informational purposes only and does not constitute an offer to sell, a solicitation to buy, or a recommendation for any security; nor does it constitute an offer to provide investment advisory or other services by Quantopian, Inc. (\"Quantopian\"). Nothing contained herein constitutes investment advice or offers any opinion with respect to the suitability of any security, and any views expressed herein should not be taken as advice to buy, sell, or hold any security or as an endorsement of any security or company.  In preparing the information contained herein, Quantopian, Inc. has not taken into account the investment needs, objectives, and financial circumstances of any particular investor. Any views expressed and data illustrated herein were prepared based upon information, believed to be reliable, available to Quantopian, Inc. at the time of publication. Quantopian makes no guarantees as to their accuracy or completeness. All information is subject to change and may quickly become unreliable for various reasons, including changes in market conditions or economic circumstances.*"
      ]
    },
    {
      "cell_type": "markdown",
      "metadata": {
        "id": "alHiCBgUdBiS"
      },
      "source": [
        "# Introduction to NumPy\n",
        "by Maxwell Margenot\n",
        "\n",
        "Part of the Quantopian Lecture Series:\n",
        "\n",
        "* [www.quantopian.com/lectures](https://www.quantopian.com/lectures)\n",
        "* [github.com/quantopian/research_public](https://github.com/quantopian/research_public)\n",
        "\n",
        "Notebook released under the Creative Commons Attribution 4.0 License."
      ]
    },
    {
      "cell_type": "markdown",
      "metadata": {
        "id": "xbeh_pH3dBiV"
      },
      "source": [
        "NumPy is an incredibly powerful package in Python that is ubiquitous throughout the Quantopian platform. It has strong integration with Pandas, another tool we will be covering in the lecture series. NumPy adds support for multi-dimensional arrays and mathematical functions that allow you to easily perform linear algebra calculations. This lecture will be a collection of linear algebra examples computed using NumPy."
      ]
    },
    {
      "cell_type": "code",
      "metadata": {
        "collapsed": true,
        "id": "pEMdnnlBdBiX"
      },
      "source": [
        "import numpy as np\n",
        "import matplotlib.pyplot as plt"
      ],
      "execution_count": null,
      "outputs": []
    },
    {
      "cell_type": "markdown",
      "metadata": {
        "id": "TEDdLABedBiY"
      },
      "source": [
        "### Basic NumPy arrays"
      ]
    },
    {
      "cell_type": "markdown",
      "metadata": {
        "id": "EA3gLEdRdBiZ"
      },
      "source": [
        "The most basic way that we could make use of NumPy in finance is calculating the mean return of a portfolio. Say that we have a list containing the historical return of several stocks."
      ]
    },
    {
      "cell_type": "code",
      "metadata": {
        "collapsed": true,
        "id": "sjZ09I_FdBia"
      },
      "source": [
        "stock_list = [4.8, 3.7, 4, 9.2, 5.3]"
      ],
      "execution_count": null,
      "outputs": []
    },
    {
      "cell_type": "markdown",
      "source": [
        "**My own example 105**"
      ],
      "metadata": {
        "id": "dDP8RvNF4Oc4"
      }
    },
    {
      "cell_type": "code",
      "metadata": {
        "id": "YQaL8PZysh7K"
      },
      "source": [
        "example = [5.98, 1.76, 1.88, 3.44, 5.01, 7.0]"
      ],
      "execution_count": null,
      "outputs": []
    },
    {
      "cell_type": "markdown",
      "metadata": {
        "id": "3VghGYvTdBia"
      },
      "source": [
        "We can make an array by calling a function on the list:"
      ]
    },
    {
      "cell_type": "code",
      "metadata": {
        "colab": {
          "base_uri": "https://localhost:8080/"
        },
        "id": "AMzA42V0dBib",
        "outputId": "14c99811-ac60-4f13-ffed-0a9120fa0cae"
      },
      "source": [
        "returns = np.array(stock_list)\n",
        "print(returns, type(returns))"
      ],
      "execution_count": null,
      "outputs": [
        {
          "output_type": "stream",
          "name": "stdout",
          "text": [
            "[4.8 3.7 4.  9.2 5.3] <class 'numpy.ndarray'>\n"
          ]
        }
      ]
    },
    {
      "cell_type": "markdown",
      "source": [
        "**My own example 106**"
      ],
      "metadata": {
        "id": "nl0gj9Mp4PVH"
      }
    },
    {
      "cell_type": "code",
      "metadata": {
        "colab": {
          "base_uri": "https://localhost:8080/"
        },
        "id": "8vfdGCJPskLK",
        "outputId": "b2dda78e-8ca2-4cda-9ad7-1d372ade89cf"
      },
      "source": [
        "returns1 = np.array(example)\n",
        "print(returns1, type(returns1))"
      ],
      "execution_count": null,
      "outputs": [
        {
          "output_type": "stream",
          "name": "stdout",
          "text": [
            "[5.98 1.76 1.88 3.44 5.01 7.  ] <class 'numpy.ndarray'>\n"
          ]
        }
      ]
    },
    {
      "cell_type": "markdown",
      "metadata": {
        "id": "z70tZ1rbdBic"
      },
      "source": [
        "You'll notice that the type of our array is 'ndarray', not just 'array'. This is because NumPy arrays can be created with multiple dimensions. If we pass np.array() a list of lists, it will create a 2-dimensional array. If we pass a list of lists of lists, it will create a 3-dimensional array, and so on and so forth."
      ]
    },
    {
      "cell_type": "code",
      "metadata": {
        "colab": {
          "base_uri": "https://localhost:8080/"
        },
        "id": "iC4H9dSTdBid",
        "outputId": "57aa3305-35ff-4d06-f239-7b1e2e961be4"
      },
      "source": [
        "A = np.array([[1, 2], [3, 4]])\n",
        "print(A, type(A))"
      ],
      "execution_count": null,
      "outputs": [
        {
          "output_type": "stream",
          "name": "stdout",
          "text": [
            "[[1 2]\n",
            " [3 4]] <class 'numpy.ndarray'>\n"
          ]
        }
      ]
    },
    {
      "cell_type": "markdown",
      "source": [
        "**My own example 107**"
      ],
      "metadata": {
        "id": "Qztk3DjS4QSA"
      }
    },
    {
      "cell_type": "code",
      "metadata": {
        "colab": {
          "base_uri": "https://localhost:8080/"
        },
        "id": "rj5vAFhusomT",
        "outputId": "82557455-f347-49bc-9382-3781a7a02f19"
      },
      "source": [
        "B = np.array([[1, 2, 5], [3, 4, 6], [8, 9, 4], [10, 11, 2]])\n",
        "print(B, type(B))"
      ],
      "execution_count": null,
      "outputs": [
        {
          "output_type": "stream",
          "name": "stdout",
          "text": [
            "[[ 1  2  5]\n",
            " [ 3  4  6]\n",
            " [ 8  9  4]\n",
            " [10 11  2]] <class 'numpy.ndarray'>\n"
          ]
        }
      ]
    },
    {
      "cell_type": "markdown",
      "metadata": {
        "id": "WJWBZf4EdBie"
      },
      "source": [
        "We can access the dimensions of an array by looking at its `shape` member variable."
      ]
    },
    {
      "cell_type": "code",
      "metadata": {
        "colab": {
          "base_uri": "https://localhost:8080/"
        },
        "id": "GkqFBjWfdBie",
        "outputId": "63155105-1fd1-4b97-c5d1-ef3744fd99fc"
      },
      "source": [
        "print(A.shape)"
      ],
      "execution_count": null,
      "outputs": [
        {
          "output_type": "stream",
          "name": "stdout",
          "text": [
            "(2, 2)\n"
          ]
        }
      ]
    },
    {
      "cell_type": "markdown",
      "source": [
        "**My own example 108**"
      ],
      "metadata": {
        "id": "GcSTEt254RBy"
      }
    },
    {
      "cell_type": "code",
      "metadata": {
        "colab": {
          "base_uri": "https://localhost:8080/"
        },
        "id": "fYNQ7LNQs2Ft",
        "outputId": "c55c3e02-0f8c-49b8-dd50-f86fa60b047b"
      },
      "source": [
        "print(B.shape)"
      ],
      "execution_count": null,
      "outputs": [
        {
          "output_type": "stream",
          "name": "stdout",
          "text": [
            "(4, 3)\n"
          ]
        }
      ]
    },
    {
      "cell_type": "markdown",
      "metadata": {
        "id": "rEBZu4w0dBif"
      },
      "source": [
        "Arrays are indexed in much the same way as lists in Python. Elements of a list begin indexing from $0$ and end at $n - 1$, where $n$ is the length of the array."
      ]
    },
    {
      "cell_type": "code",
      "metadata": {
        "colab": {
          "base_uri": "https://localhost:8080/"
        },
        "id": "LV2ZDMvvdBig",
        "outputId": "8972bbb6-2f3f-4292-8a1e-590cfd919374"
      },
      "source": [
        "print(returns[0], returns[len(returns) - 1])"
      ],
      "execution_count": null,
      "outputs": [
        {
          "output_type": "stream",
          "name": "stdout",
          "text": [
            "4.8 5.3\n"
          ]
        }
      ]
    },
    {
      "cell_type": "markdown",
      "source": [
        "**My own example 109**"
      ],
      "metadata": {
        "id": "ckdUx1XF4Rm9"
      }
    },
    {
      "cell_type": "code",
      "metadata": {
        "colab": {
          "base_uri": "https://localhost:8080/"
        },
        "id": "Tdz5K3Dts75a",
        "outputId": "0c07abf3-1c5a-44e8-f554-830ca33588f3"
      },
      "source": [
        "print(returns1[0], returns1[len(returns1) - 1])"
      ],
      "execution_count": null,
      "outputs": [
        {
          "output_type": "stream",
          "name": "stdout",
          "text": [
            "5.98 7.0\n"
          ]
        }
      ]
    },
    {
      "cell_type": "markdown",
      "metadata": {
        "id": "5X4uDP4ZdBig"
      },
      "source": [
        "We can take a slice of an array using a colon, just like in a list."
      ]
    },
    {
      "cell_type": "code",
      "metadata": {
        "colab": {
          "base_uri": "https://localhost:8080/"
        },
        "id": "c3kOFFkedBih",
        "outputId": "63632ca1-1e2b-4594-a712-1c31787d8553"
      },
      "source": [
        "print(returns[1:3])"
      ],
      "execution_count": null,
      "outputs": [
        {
          "output_type": "stream",
          "name": "stdout",
          "text": [
            "[3.7 4. ]\n"
          ]
        }
      ]
    },
    {
      "cell_type": "markdown",
      "source": [
        "**My own example 110**"
      ],
      "metadata": {
        "id": "t2t7fzLN4SGG"
      }
    },
    {
      "cell_type": "code",
      "metadata": {
        "colab": {
          "base_uri": "https://localhost:8080/"
        },
        "id": "qBgOILBCtBKM",
        "outputId": "728beed5-f313-4457-8bc1-4532571c03dc"
      },
      "source": [
        "print(returns1[2:4])"
      ],
      "execution_count": null,
      "outputs": [
        {
          "output_type": "stream",
          "name": "stdout",
          "text": [
            "[1.88 3.44]\n"
          ]
        }
      ]
    },
    {
      "cell_type": "markdown",
      "metadata": {
        "id": "kBOPkTKxdBii"
      },
      "source": [
        "A slice of an array, like in a list, will select a group of elements in the array starting from the first element indicated and going up to (but not including) the last element indicated.\n",
        "\n",
        "In the case of multidimensional arrays, many of the same conventions with slicing and indexing hold. We can access the first column of a 2-dimensional array like so:"
      ]
    },
    {
      "cell_type": "code",
      "metadata": {
        "colab": {
          "base_uri": "https://localhost:8080/"
        },
        "id": "BaNDBmoKdBii",
        "outputId": "e566b548-61d6-47c1-c6e0-99e8bd1c46af"
      },
      "source": [
        "print(A[:, 0])"
      ],
      "execution_count": null,
      "outputs": [
        {
          "output_type": "stream",
          "name": "stdout",
          "text": [
            "[1 3]\n"
          ]
        }
      ]
    },
    {
      "cell_type": "markdown",
      "source": [
        "**My own example 111**"
      ],
      "metadata": {
        "id": "fRyKnOlQ4VmW"
      }
    },
    {
      "cell_type": "code",
      "metadata": {
        "colab": {
          "base_uri": "https://localhost:8080/"
        },
        "id": "6nkUznFutHO-",
        "outputId": "84943b04-af73-4679-ee4f-0012c4aaa499"
      },
      "source": [
        "print(B[:, 0])"
      ],
      "execution_count": null,
      "outputs": [
        {
          "output_type": "stream",
          "name": "stdout",
          "text": [
            "[ 1  3  8 10]\n"
          ]
        }
      ]
    },
    {
      "cell_type": "markdown",
      "metadata": {
        "id": "8ZnXbUYYdBij"
      },
      "source": [
        "And the first row of a 2-dimensional array like so:"
      ]
    },
    {
      "cell_type": "code",
      "metadata": {
        "colab": {
          "base_uri": "https://localhost:8080/"
        },
        "id": "d7-WaC_2dBij",
        "outputId": "3f607690-7f98-4fce-b439-b95f2636ed28"
      },
      "source": [
        "print(A[0, :])"
      ],
      "execution_count": null,
      "outputs": [
        {
          "output_type": "stream",
          "name": "stdout",
          "text": [
            "[1 2]\n"
          ]
        }
      ]
    },
    {
      "cell_type": "markdown",
      "source": [
        "**My own example 112**"
      ],
      "metadata": {
        "id": "t5btYhgt4WNc"
      }
    },
    {
      "cell_type": "code",
      "metadata": {
        "colab": {
          "base_uri": "https://localhost:8080/"
        },
        "id": "Rw3DSut2tNYi",
        "outputId": "db284e64-5f33-43d1-e46d-34d96fcb16a0"
      },
      "source": [
        "print(B[0, :])"
      ],
      "execution_count": null,
      "outputs": [
        {
          "output_type": "stream",
          "name": "stdout",
          "text": [
            "[1 2 5]\n"
          ]
        }
      ]
    },
    {
      "cell_type": "markdown",
      "metadata": {
        "id": "IH0vRo5cdBik"
      },
      "source": [
        "Notice that each slice of the array returns yet another array!"
      ]
    },
    {
      "cell_type": "code",
      "metadata": {
        "colab": {
          "base_uri": "https://localhost:8080/"
        },
        "id": "o-HuzCvMdBik",
        "outputId": "e193342b-a03e-47ea-8f40-f35382c43359"
      },
      "source": [
        "print(type(A[0,:]))"
      ],
      "execution_count": null,
      "outputs": [
        {
          "output_type": "stream",
          "name": "stdout",
          "text": [
            "<class 'numpy.ndarray'>\n"
          ]
        }
      ]
    },
    {
      "cell_type": "markdown",
      "source": [
        "**My own example 113**"
      ],
      "metadata": {
        "id": "PerEmWnv4W2v"
      }
    },
    {
      "cell_type": "code",
      "metadata": {
        "colab": {
          "base_uri": "https://localhost:8080/"
        },
        "id": "r-b8bfjDtRq-",
        "outputId": "c2cbfa51-c8d6-44ae-856a-06de11a2c21c"
      },
      "source": [
        "print(type(B[0,:]))"
      ],
      "execution_count": null,
      "outputs": [
        {
          "output_type": "stream",
          "name": "stdout",
          "text": [
            "<class 'numpy.ndarray'>\n"
          ]
        }
      ]
    },
    {
      "cell_type": "markdown",
      "metadata": {
        "id": "dFe6YV6QdBil"
      },
      "source": [
        "Passing only one index to a 2-dimensional array will result in returning the row with the given index as well, providing us with another way to access individual rows."
      ]
    },
    {
      "cell_type": "code",
      "metadata": {
        "colab": {
          "base_uri": "https://localhost:8080/"
        },
        "id": "qg8yaM8odBil",
        "outputId": "f7b163cc-6b37-44f1-e78e-5bbc12c234ee"
      },
      "source": [
        "print(A[0])"
      ],
      "execution_count": null,
      "outputs": [
        {
          "output_type": "stream",
          "name": "stdout",
          "text": [
            "[1 2]\n"
          ]
        }
      ]
    },
    {
      "cell_type": "markdown",
      "source": [
        "**My own example 114**"
      ],
      "metadata": {
        "id": "VhPL0n5D4XWf"
      }
    },
    {
      "cell_type": "code",
      "metadata": {
        "colab": {
          "base_uri": "https://localhost:8080/"
        },
        "id": "DcUIXARjtVJ0",
        "outputId": "3cdfef75-66e1-4b62-db4d-377dcc7d777e"
      },
      "source": [
        "print(B[3])"
      ],
      "execution_count": null,
      "outputs": [
        {
          "output_type": "stream",
          "name": "stdout",
          "text": [
            "[10 11  2]\n"
          ]
        }
      ]
    },
    {
      "cell_type": "markdown",
      "metadata": {
        "id": "TarYdIMrdBim"
      },
      "source": [
        "Accessing the index of an individual element will return only the element."
      ]
    },
    {
      "cell_type": "code",
      "metadata": {
        "id": "bcqZBZSgdBin",
        "outputId": "5b1cb188-c3d5-405d-e15f-e8633076a5df",
        "colab": {
          "base_uri": "https://localhost:8080/"
        }
      },
      "source": [
        "print(A[1, 1])"
      ],
      "execution_count": null,
      "outputs": [
        {
          "output_type": "stream",
          "name": "stdout",
          "text": [
            "4\n"
          ]
        }
      ]
    },
    {
      "cell_type": "markdown",
      "source": [
        "**My own example 115**"
      ],
      "metadata": {
        "id": "-9gpXxJL4X1M"
      }
    },
    {
      "cell_type": "code",
      "metadata": {
        "colab": {
          "base_uri": "https://localhost:8080/"
        },
        "id": "tT-cRdq1taBq",
        "outputId": "689e73b1-1b37-4b2a-883c-c8df95869710"
      },
      "source": [
        "print(B[3, 2])"
      ],
      "execution_count": null,
      "outputs": [
        {
          "output_type": "stream",
          "name": "stdout",
          "text": [
            "2\n"
          ]
        }
      ]
    },
    {
      "cell_type": "markdown",
      "metadata": {
        "id": "Us7xsJnkdBin"
      },
      "source": [
        "#### Array functions\n",
        "\n",
        "Functions built into NumPy can be easily called on arrays. Most functions are applied to an array element-wise (as scalar multiplication is). For example, if we call `log()` on an array, the logarithm will be taken of each element."
      ]
    },
    {
      "cell_type": "code",
      "metadata": {
        "id": "eCcKV8FSdBio",
        "outputId": "ea88525b-799c-4b68-e41f-c2160cfa2f1c",
        "colab": {
          "base_uri": "https://localhost:8080/"
        }
      },
      "source": [
        "print(np.log(returns))"
      ],
      "execution_count": null,
      "outputs": [
        {
          "output_type": "stream",
          "name": "stdout",
          "text": [
            "[1.56861592 1.30833282 1.38629436 2.21920348 1.66770682]\n"
          ]
        }
      ]
    },
    {
      "cell_type": "markdown",
      "source": [
        "**My own example 116**"
      ],
      "metadata": {
        "id": "OC8c3IfI4Yl0"
      }
    },
    {
      "cell_type": "code",
      "metadata": {
        "colab": {
          "base_uri": "https://localhost:8080/"
        },
        "id": "KY6PS0SNtkYu",
        "outputId": "f5189ae9-cafd-4049-d8ca-8bc45230bcc2"
      },
      "source": [
        "print(np.log(returns1))"
      ],
      "execution_count": null,
      "outputs": [
        {
          "output_type": "stream",
          "name": "stdout",
          "text": [
            "[1.78842057 0.56531381 0.63127178 1.23547147 1.61143592 1.94591015]\n"
          ]
        }
      ]
    },
    {
      "cell_type": "markdown",
      "metadata": {
        "id": "fJROR9JvdBio"
      },
      "source": [
        "Some functions return a single value. This is because they treat the array as a collection (similar to a list), performing the designated function. For example, the `mean()` function will do exactly what you expect, calculating the mean of an array."
      ]
    },
    {
      "cell_type": "code",
      "metadata": {
        "id": "iXaTOdNSdBip",
        "outputId": "a5b25121-341b-4582-9aea-9d100c0726a8",
        "colab": {
          "base_uri": "https://localhost:8080/"
        }
      },
      "source": [
        "print(np.mean(returns))"
      ],
      "execution_count": null,
      "outputs": [
        {
          "output_type": "stream",
          "name": "stdout",
          "text": [
            "5.4\n"
          ]
        }
      ]
    },
    {
      "cell_type": "markdown",
      "source": [
        "**My own example 117**"
      ],
      "metadata": {
        "id": "M3qEz64e4ZF2"
      }
    },
    {
      "cell_type": "code",
      "metadata": {
        "colab": {
          "base_uri": "https://localhost:8080/"
        },
        "id": "pDEZJYiDtmTZ",
        "outputId": "03d7d3c2-3b3f-40bf-e918-a04b682e3da7"
      },
      "source": [
        "print(np.mean(returns1))"
      ],
      "execution_count": null,
      "outputs": [
        {
          "output_type": "stream",
          "name": "stdout",
          "text": [
            "4.178333333333334\n"
          ]
        }
      ]
    },
    {
      "cell_type": "markdown",
      "metadata": {
        "id": "Y3_GlyQNdBip"
      },
      "source": [
        "Or the `max()` function will return the maximum element of an array."
      ]
    },
    {
      "cell_type": "code",
      "metadata": {
        "colab": {
          "base_uri": "https://localhost:8080/"
        },
        "id": "FGwfQSE9dBiq",
        "outputId": "fcda7dff-1066-4ee8-fac2-0752d466ba40"
      },
      "source": [
        "print(np.max(returns))"
      ],
      "execution_count": null,
      "outputs": [
        {
          "output_type": "stream",
          "name": "stdout",
          "text": [
            "9.2\n"
          ]
        }
      ]
    },
    {
      "cell_type": "markdown",
      "source": [
        "**My own example 118**"
      ],
      "metadata": {
        "id": "6DcXqSaJ4ZnU"
      }
    },
    {
      "cell_type": "code",
      "metadata": {
        "colab": {
          "base_uri": "https://localhost:8080/"
        },
        "id": "IR-jp0Osto_L",
        "outputId": "6a02571d-89a2-4553-f22e-f8bf70890ce6"
      },
      "source": [
        "print(np.max(returns1))"
      ],
      "execution_count": null,
      "outputs": [
        {
          "output_type": "stream",
          "name": "stdout",
          "text": [
            "7.0\n"
          ]
        }
      ]
    },
    {
      "cell_type": "markdown",
      "metadata": {
        "id": "EU7rzmhLdBiq"
      },
      "source": [
        "For further reading on the universal functions in NumPy, check out the [documentation](https://docs.scipy.org/doc/numpy/user/quickstart.html#universal-functions)."
      ]
    },
    {
      "cell_type": "markdown",
      "metadata": {
        "id": "i2O-jg7GdBir"
      },
      "source": [
        "### Return to the returns\n",
        "\n",
        "Now let's modify our returns array with scalar values. If we add a scalar value to an array it will be added to every element of the array. If we multiply an array by a scalar value it will be multiplied against every element of the array. If we do both, both will happen!"
      ]
    },
    {
      "cell_type": "code",
      "metadata": {
        "scrolled": false,
        "colab": {
          "base_uri": "https://localhost:8080/"
        },
        "id": "dhbqMn9RdBir",
        "outputId": "b5b23bb1-16a5-46a2-edce-d1a1da53ba67"
      },
      "source": [
        "returns*3 + 6"
      ],
      "execution_count": null,
      "outputs": [
        {
          "output_type": "execute_result",
          "data": {
            "text/plain": [
              "array([20.4, 17.1, 18. , 33.6, 21.9])"
            ]
          },
          "metadata": {},
          "execution_count": 301
        }
      ]
    },
    {
      "cell_type": "markdown",
      "source": [
        "**My own example 119**"
      ],
      "metadata": {
        "id": "CxTO3ali4aP3"
      }
    },
    {
      "cell_type": "code",
      "metadata": {
        "colab": {
          "base_uri": "https://localhost:8080/"
        },
        "id": "knCYAMWWtr4v",
        "outputId": "2a93555b-509e-4a4e-c9ed-6cc06629d85e"
      },
      "source": [
        "returns1*6 + 9"
      ],
      "execution_count": null,
      "outputs": [
        {
          "output_type": "execute_result",
          "data": {
            "text/plain": [
              "array([44.88, 19.56, 20.28, 29.64, 39.06, 51.  ])"
            ]
          },
          "metadata": {},
          "execution_count": 302
        }
      ]
    },
    {
      "cell_type": "markdown",
      "metadata": {
        "id": "iTvgUvSUdBis"
      },
      "source": [
        "NumPy also has functions specifically built to operate on arrays. Let's take the mean and standard deviation of this group of returns."
      ]
    },
    {
      "cell_type": "code",
      "metadata": {
        "colab": {
          "base_uri": "https://localhost:8080/"
        },
        "id": "MRoegtcudBis",
        "outputId": "487fad8d-8cd3-4460-eb8f-527a6b271c2f"
      },
      "source": [
        "print(\"Mean: \", np.mean(returns), \"Std Dev: \", np.std(returns))"
      ],
      "execution_count": null,
      "outputs": [
        {
          "output_type": "stream",
          "name": "stdout",
          "text": [
            "Mean:  5.4 Std Dev:  1.9829271292712698\n"
          ]
        }
      ]
    },
    {
      "cell_type": "markdown",
      "source": [
        "**My own example 120**"
      ],
      "metadata": {
        "id": "FMDOQ7Kz4a07"
      }
    },
    {
      "cell_type": "code",
      "metadata": {
        "colab": {
          "base_uri": "https://localhost:8080/"
        },
        "id": "eet2lpkVtxsh",
        "outputId": "c35fda4c-f24d-445a-eea2-4b4aa9867540"
      },
      "source": [
        "print(\"Mean: \", np.mean(returns1), \"Std Dev: \", np.std(returns1))"
      ],
      "execution_count": null,
      "outputs": [
        {
          "output_type": "stream",
          "name": "stdout",
          "text": [
            "Mean:  4.178333333333334 Std Dev:  1.9822244799439064\n"
          ]
        }
      ]
    },
    {
      "cell_type": "markdown",
      "metadata": {
        "id": "Qgmkj1-9dBit"
      },
      "source": [
        "Let's simulate a universe of stocks using NumPy's functions. First we need to create the arrays to hold the assets and returns that we will use to build a portfolio. This is because arrays are created with a fixed size. Their dimensions can't be changed without creating a new array."
      ]
    },
    {
      "cell_type": "code",
      "metadata": {
        "collapsed": true,
        "id": "nHyFvJc2dBit"
      },
      "source": [
        "N = 10\n",
        "assets = np.zeros((N, 100))\n",
        "returns = np.zeros((N, 100))"
      ],
      "execution_count": null,
      "outputs": []
    },
    {
      "cell_type": "markdown",
      "source": [
        "**My own example 121**"
      ],
      "metadata": {
        "id": "csiD86H_4bZ4"
      }
    },
    {
      "cell_type": "code",
      "metadata": {
        "id": "3_qeKKTgt360"
      },
      "source": [
        "N1 = 25\n",
        "assets1 = np.zeros((N1, 150))\n",
        "returns1 = np.zeros((N1, 150))"
      ],
      "execution_count": null,
      "outputs": []
    },
    {
      "cell_type": "markdown",
      "metadata": {
        "id": "-24LL8qtdBiu"
      },
      "source": [
        "This function, `zeroes()`, creates a NumPy array with the given dimensions that is entirely filled in with $0$. We can pass a single value or a tuple of as many dimensions as we like. Passing in the tuple `(N, 100)`, will return a two-dimensional array with $N$ rows and $100$ columns. Our result is a $N \\times 100$ array.\n",
        "\n",
        "Now we will simulate a base asset. We want the universe of stocks to be correlated with each other so we will use this initial value to generate the others."
      ]
    },
    {
      "cell_type": "code",
      "metadata": {
        "id": "CeMrJLLsdBiu"
      },
      "source": [
        "R_1 = np.random.normal(1.01, 0.03, 100)\n",
        "returns[0] = R_1\n",
        "assets[0] = np.cumprod(R_1)"
      ],
      "execution_count": null,
      "outputs": []
    },
    {
      "cell_type": "markdown",
      "source": [
        "**My own example 122**"
      ],
      "metadata": {
        "id": "zNLxztl54b3h"
      }
    },
    {
      "cell_type": "code",
      "metadata": {
        "id": "L9_Qn9bAu8dw"
      },
      "source": [
        "R_2 = np.random.normal(1.01, 0.03, 150)\n",
        "returns1[0] = R_2\n",
        "assets1[0] = np.cumprod(R_2)"
      ],
      "execution_count": null,
      "outputs": []
    },
    {
      "cell_type": "markdown",
      "metadata": {
        "id": "2Amdz2nKdBiv"
      },
      "source": [
        "The `random` module in NumPy is exceedingly useful. It contains methods for sampling from many different probability distributions, some of which are covered in the [random variables lecture](https://www.quantopian.com/lectures/random-variables) in the Quantopian lecture series. In this case we draw $N = 100$ random samples from a normal distribution with mean $1.01$ and standard deviation $0.03$. We treat these as the daily percentage returns of our asset and take the cumulative product of these samples to get the current price.\n",
        "\n",
        "The way we have generated our universe, the the individual $R_i$ vectors are each 1-dimensional arrays and the `returns` and `assets` variables contain 2-dimensional arrays. Above, we set the initial row of both `returns` and `assets` to be the first $R_i$ vector and the cumulative asset price based on those returns, respectively.\n",
        "\n",
        "We will now use this base asset to create a few other random assets that are correlated with it."
      ]
    },
    {
      "cell_type": "code",
      "metadata": {
        "id": "2glYE-pmdBiw"
      },
      "source": [
        "# Generate assets that are correlated with R_1\n",
        "for i in range(1, N):\n",
        "    R_i = R_1 + np.random.normal(0.001, 0.02, 100)\n",
        "    returns[i] = R_i # Set each row of returns equal to the new R_i array\n",
        "    assets[i] = np.cumprod(R_i)\n",
        "    \n",
        "mean_returns = [(np.mean(R) - 1)*100 for R in returns]\n",
        "return_volatilities = [np.std(R) for R in returns]"
      ],
      "execution_count": null,
      "outputs": []
    },
    {
      "cell_type": "markdown",
      "source": [
        "**My own example 123**"
      ],
      "metadata": {
        "id": "M6Ko14hR4c2x"
      }
    },
    {
      "cell_type": "code",
      "metadata": {
        "id": "h9Q8lCyXvHF9"
      },
      "source": [
        "for i in range(1, N1):\n",
        "    R_i = R_2 + np.random.normal(0.001, 0.02, 150)\n",
        "    returns1[i] = R_i\n",
        "    assets1[i] = np.cumprod(R_i)\n",
        "    \n",
        "mean_returns1 = [(np.mean(R) - 1)*100 for R in returns1]\n",
        "return_volatilities1 = [np.std(R) for R in returns1]"
      ],
      "execution_count": null,
      "outputs": []
    },
    {
      "cell_type": "markdown",
      "metadata": {
        "id": "Ju9b4f3NdBiw"
      },
      "source": [
        "Here we generate the remaining $N - 1$ securities that we want in our universe by adding random noise to $R_1$. This ensures that our $N - 1$ other assets will be correlated with the base asset because they have some underlying information that is shared.\n",
        "\n",
        "Let's plot what the mean return of each asset looks like:"
      ]
    },
    {
      "cell_type": "code",
      "metadata": {
        "scrolled": false,
        "colab": {
          "base_uri": "https://localhost:8080/",
          "height": 295
        },
        "id": "JgxqR5kTdBix",
        "outputId": "3de9e920-74df-4bfb-fc3f-92492fa1f49a"
      },
      "source": [
        "plt.bar(np.arange(len(mean_returns)), mean_returns)\n",
        "plt.xlabel('Stock')\n",
        "plt.ylabel('Returns')\n",
        "plt.title('Returns for {0} Random Assets'.format(N));"
      ],
      "execution_count": null,
      "outputs": [
        {
          "output_type": "display_data",
          "data": {
            "text/plain": [
              "<Figure size 432x288 with 1 Axes>"
            ],
            "image/png": "[encoded data removed]"
          },
          "metadata": {
            "needs_background": "light"
          }
        }
      ]
    },
    {
      "cell_type": "markdown",
      "source": [
        "**My own example 124**"
      ],
      "metadata": {
        "id": "NP0-uce-4d0s"
      }
    },
    {
      "cell_type": "code",
      "metadata": {
        "colab": {
          "base_uri": "https://localhost:8080/",
          "height": 295
        },
        "id": "YGtqBUUtvTDB",
        "outputId": "8e4bc8fd-08ea-4e88-998b-9bee48ea1f05"
      },
      "source": [
        "plt.bar(np.arange(len(mean_returns1)), mean_returns1)\n",
        "plt.xlabel('Stock')\n",
        "plt.ylabel('Returns')\n",
        "plt.title('Returns for {0} Random Assets'.format(N1));"
      ],
      "execution_count": null,
      "outputs": [
        {
          "output_type": "display_data",
          "data": {
            "text/plain": [
              "<Figure size 432x288 with 1 Axes>"
            ],
            "image/png": "[encoded data removed]"
          },
          "metadata": {
            "needs_background": "light"
          }
        }
      ]
    },
    {
      "cell_type": "markdown",
      "metadata": {
        "id": "3LUGkfovdBix"
      },
      "source": [
        "### Calculating Expected Return\n",
        "\n",
        "So we have a universe of stocks. Great! Now let's put them together in a portfolio and calculate its expected return and risk.\n",
        "\n",
        "We will start off by generating $N$ random weights for each asset in our portfolio."
      ]
    },
    {
      "cell_type": "code",
      "metadata": {
        "id": "Ez4m2bmidBiy"
      },
      "source": [
        "weights = np.random.uniform(0, 1, N)\n",
        "weights = weights/np.sum(weights)"
      ],
      "execution_count": null,
      "outputs": []
    },
    {
      "cell_type": "markdown",
      "source": [
        "**My own example 125**"
      ],
      "metadata": {
        "id": "sU5TAtUV4era"
      }
    },
    {
      "cell_type": "code",
      "metadata": {
        "id": "oFnjSmAxvg55"
      },
      "source": [
        "weights1 = np.random.uniform(0, 1, N1)\n",
        "weights1 = weights1/np.sum(weights1)"
      ],
      "execution_count": null,
      "outputs": []
    },
    {
      "cell_type": "markdown",
      "metadata": {
        "id": "HQNWGNrzdBiy"
      },
      "source": [
        "We have to rescale the weights so that they all add up to $1$. We do this by scaling the weights vector by the sum total of all the weights. This step ensures that we will be using $100\\%$ of the portfolio's cash.\n",
        "\n",
        "To calculate the mean return of the portfolio, we have to scale each asset's return by its designated weight. We can pull each element of each array and multiply them individually, but it's quicker to use NumPy's linear algebra methods. The function that we want is `dot()`. This will calculate the dot product between two arrays for us. So if $v = \\left[ 1, 2, 3 \\right]$ and $w = \\left[4, 5, 6 \\right]$, then:\n",
        "\n",
        "$$ v \\cdot w = 1 \\times 4 + 2 \\times 5 + 3 \\times 6 $$\n",
        "\n",
        "For a one-dimensional vector, the dot product will multiply each element pointwise and add all the products together! In our case, we have a vector of weights, $\\omega = \\left[ \\omega_1, \\omega_2, \\dots \\omega_N\\right]$ and a vector of returns, $\\mu = \\left[ \\mu_1, \\mu_2, \\dots, \\mu_N\\right]$. If we take the dot product of these two we will get:\n",
        "\n",
        "$$ \\omega \\cdot \\mu = \\omega_1\\mu_1 + \\omega_2\\mu_2 + \\dots + \\omega_N\\mu_N = \\mu_P $$\n",
        "\n",
        "This yields the sum of all the asset returns scaled by their respective weights. This the the portfolio's overall expected return!"
      ]
    },
    {
      "cell_type": "code",
      "metadata": {
        "colab": {
          "base_uri": "https://localhost:8080/"
        },
        "id": "JGLcrNhKdBiz",
        "outputId": "cbef48e3-b62b-40c1-c16b-fe55283dcd0d"
      },
      "source": [
        "p_returns = np.dot(weights, mean_returns)\n",
        "print(\"Expected return of the portfolio: \", p_returns)"
      ],
      "execution_count": null,
      "outputs": [
        {
          "output_type": "stream",
          "name": "stdout",
          "text": [
            "Expected return of the portfolio:  1.1508874963309808\n"
          ]
        }
      ]
    },
    {
      "cell_type": "markdown",
      "source": [
        "**My own example 126**"
      ],
      "metadata": {
        "id": "0kod4VR54fOg"
      }
    },
    {
      "cell_type": "code",
      "metadata": {
        "colab": {
          "base_uri": "https://localhost:8080/"
        },
        "id": "3oENRakcvlPM",
        "outputId": "cb4dbc38-6ddb-4371-87e9-1c79f59c8b04"
      },
      "source": [
        "p_returns1 = np.dot(weights1, mean_returns1)\n",
        "print(\"Expected return of the portfolio: \", p_returns1)"
      ],
      "execution_count": null,
      "outputs": [
        {
          "output_type": "stream",
          "name": "stdout",
          "text": [
            "Expected return of the portfolio:  1.178361111539338\n"
          ]
        }
      ]
    },
    {
      "cell_type": "markdown",
      "metadata": {
        "id": "pPL9Qkw2dBi1"
      },
      "source": [
        "Calculating the mean return is fairly intuitive and does not require too much explanation of linear algebra. However, calculating the variance of our portfolio requires a bit more background."
      ]
    },
    {
      "cell_type": "markdown",
      "metadata": {
        "id": "Xj91PoZWdBi2"
      },
      "source": [
        "#### Beware of NaN values\n",
        "\n",
        "Most of the time, all of these calculations will work without an issue. However, when working with real data we run the risk of having `nan` values in our arrays. This is NumPy's way of saying that the data there is missing or doesn't exist. These `nan` values can lead to errors in mathematical calculations so it is important to be aware of whether your array contains `nan` values and to know how to drop them."
      ]
    },
    {
      "cell_type": "code",
      "metadata": {
        "colab": {
          "base_uri": "https://localhost:8080/"
        },
        "id": "qhcXSkR-dBi2",
        "outputId": "78ee4e39-d165-4e5a-fc2d-cc2da3d26b3e"
      },
      "source": [
        "v = np.array([1, 2, np.nan, 4, 5])\n",
        "print(v)"
      ],
      "execution_count": null,
      "outputs": [
        {
          "output_type": "stream",
          "name": "stdout",
          "text": [
            "[ 1.  2. nan  4.  5.]\n"
          ]
        }
      ]
    },
    {
      "cell_type": "markdown",
      "source": [
        "**My own example 127**"
      ],
      "metadata": {
        "id": "SaiEnJ4w4gTg"
      }
    },
    {
      "cell_type": "code",
      "metadata": {
        "colab": {
          "base_uri": "https://localhost:8080/"
        },
        "id": "CKCwLiazvqYY",
        "outputId": "33be8114-f11f-4994-8127-4b2aaff2c8b4"
      },
      "source": [
        "z = np.array([10, np.nan, np.nan, 2.59, np.nan, 4.44, 6, 7, 5])\n",
        "print(z)"
      ],
      "execution_count": null,
      "outputs": [
        {
          "output_type": "stream",
          "name": "stdout",
          "text": [
            "[10.     nan   nan  2.59   nan  4.44  6.    7.    5.  ]\n"
          ]
        }
      ]
    },
    {
      "cell_type": "markdown",
      "metadata": {
        "id": "m3dwngOYdBi4"
      },
      "source": [
        "Let's see what happens when we try to take the mean of this array."
      ]
    },
    {
      "cell_type": "code",
      "metadata": {
        "colab": {
          "base_uri": "https://localhost:8080/"
        },
        "id": "cODjPyO4dBi4",
        "outputId": "22055877-9729-453f-90d1-032e9fff78f0"
      },
      "source": [
        "print(np.mean(v))"
      ],
      "execution_count": null,
      "outputs": [
        {
          "output_type": "stream",
          "name": "stdout",
          "text": [
            "nan\n"
          ]
        }
      ]
    },
    {
      "cell_type": "markdown",
      "source": [
        "**My own example 128**"
      ],
      "metadata": {
        "id": "CO9-MRvS4g-Q"
      }
    },
    {
      "cell_type": "code",
      "metadata": {
        "colab": {
          "base_uri": "https://localhost:8080/"
        },
        "id": "2C8guRHWv1p6",
        "outputId": "9b47e102-f6a6-4f2c-b223-6c849bf61ca2"
      },
      "source": [
        "print(np.mean(z))"
      ],
      "execution_count": null,
      "outputs": [
        {
          "output_type": "stream",
          "name": "stdout",
          "text": [
            "nan\n"
          ]
        }
      ]
    },
    {
      "cell_type": "markdown",
      "metadata": {
        "id": "U3nu1ar6dBi5"
      },
      "source": [
        "Clearly, `nan` values can have a large impact on our calculations. Fortunately, we can check for `nan` values with the `isnan()` function."
      ]
    },
    {
      "cell_type": "code",
      "metadata": {
        "colab": {
          "base_uri": "https://localhost:8080/"
        },
        "id": "_iBV5Ux2dBi6",
        "outputId": "5bd53421-fc27-48a2-c029-59aa7fd6b5bc"
      },
      "source": [
        "np.isnan(v)"
      ],
      "execution_count": null,
      "outputs": [
        {
          "output_type": "execute_result",
          "data": {
            "text/plain": [
              "array([False, False,  True, False, False])"
            ]
          },
          "metadata": {},
          "execution_count": 321
        }
      ]
    },
    {
      "cell_type": "markdown",
      "source": [
        "**My own example 129**"
      ],
      "metadata": {
        "id": "eqher6yP4hix"
      }
    },
    {
      "cell_type": "code",
      "metadata": {
        "colab": {
          "base_uri": "https://localhost:8080/"
        },
        "id": "IRF7nOsev3_L",
        "outputId": "8ac980ba-50bb-409b-f227-8d7622b01271"
      },
      "source": [
        "np.isnan(z)"
      ],
      "execution_count": null,
      "outputs": [
        {
          "output_type": "execute_result",
          "data": {
            "text/plain": [
              "array([False,  True,  True, False,  True, False, False, False, False])"
            ]
          },
          "metadata": {},
          "execution_count": 322
        }
      ]
    },
    {
      "cell_type": "markdown",
      "metadata": {
        "id": "SzKYhVuqdBi7"
      },
      "source": [
        "Calling `isnan()` on an array will call the function on each value of the array, returning a value of `True` if the element is `nan` and `False` if the element is valid. Now, knowing whether your array contains `nan` values is all well and good, but how do we remove `nan`s? Handily enough, NumPy arrays can be indexed by boolean values (`True` or `False`). If we use a boolean array to index an array, we will remove all values of the array that register as `False` under the condition. We use the `isnan()` function in create a boolean array, assigning a `True` value to everything that is *not* `nan` and a `False` to the `nan`s and we use that to index the same array."
      ]
    },
    {
      "cell_type": "code",
      "metadata": {
        "colab": {
          "base_uri": "https://localhost:8080/"
        },
        "id": "376-LvXtdBi7",
        "outputId": "8333eb49-8ae5-4174-86cd-c48fb4cc05fa"
      },
      "source": [
        "ix = ~np.isnan(v) # the ~ indicates a logical not, inverting the bools\n",
        "print(v[ix]) # We can also just write v = v[~np.isnan(v)]"
      ],
      "execution_count": null,
      "outputs": [
        {
          "output_type": "stream",
          "name": "stdout",
          "text": [
            "[1. 2. 4. 5.]\n"
          ]
        }
      ]
    },
    {
      "cell_type": "markdown",
      "source": [
        "**My own example 130**"
      ],
      "metadata": {
        "id": "BzKsNIai4m6m"
      }
    },
    {
      "cell_type": "code",
      "metadata": {
        "colab": {
          "base_uri": "https://localhost:8080/"
        },
        "id": "FEKiACEFv6yQ",
        "outputId": "11355fec-c470-41e7-fecb-271b0247a947"
      },
      "source": [
        "jx = ~np.isnan(z)\n",
        "print(z[jx])"
      ],
      "execution_count": null,
      "outputs": [
        {
          "output_type": "stream",
          "name": "stdout",
          "text": [
            "[10.    2.59  4.44  6.    7.    5.  ]\n"
          ]
        }
      ]
    },
    {
      "cell_type": "code",
      "metadata": {
        "colab": {
          "base_uri": "https://localhost:8080/"
        },
        "id": "DylZE-iedBi8",
        "outputId": "c33a5dc5-6b4b-46cd-b95c-2f16587eb523"
      },
      "source": [
        "print(np.mean(v[ix]))"
      ],
      "execution_count": null,
      "outputs": [
        {
          "output_type": "stream",
          "name": "stdout",
          "text": [
            "3.0\n"
          ]
        }
      ]
    },
    {
      "cell_type": "markdown",
      "source": [
        "**My own example 131**"
      ],
      "metadata": {
        "id": "YO2QZwzz4oRg"
      }
    },
    {
      "cell_type": "code",
      "metadata": {
        "colab": {
          "base_uri": "https://localhost:8080/"
        },
        "id": "6i1RT1BpwA8P",
        "outputId": "0830789b-4ba1-447d-e66a-5b6d846141f3"
      },
      "source": [
        "print(np.mean(z[jx]))"
      ],
      "execution_count": null,
      "outputs": [
        {
          "output_type": "stream",
          "name": "stdout",
          "text": [
            "5.838333333333334\n"
          ]
        }
      ]
    },
    {
      "cell_type": "markdown",
      "metadata": {
        "id": "FWHG0l7jdBi8"
      },
      "source": [
        "There are a few shortcuts to this process in the form of NumPy functions specifically built to handle them, such as `nanmean()`."
      ]
    },
    {
      "cell_type": "code",
      "metadata": {
        "colab": {
          "base_uri": "https://localhost:8080/"
        },
        "id": "J2QZgbhJdBi8",
        "outputId": "67521ada-c67b-4b08-cdc1-97dc85bd89e4"
      },
      "source": [
        "print(np.nanmean(v))"
      ],
      "execution_count": null,
      "outputs": [
        {
          "output_type": "stream",
          "name": "stdout",
          "text": [
            "3.0\n"
          ]
        }
      ]
    },
    {
      "cell_type": "markdown",
      "source": [
        "**My own example 132**"
      ],
      "metadata": {
        "id": "0uSEwtj94o7q"
      }
    },
    {
      "cell_type": "code",
      "metadata": {
        "colab": {
          "base_uri": "https://localhost:8080/"
        },
        "id": "dxsOfIflwDuz",
        "outputId": "8f7a5090-3c1c-4eab-febd-3379e10fec14"
      },
      "source": [
        "print(np.nanmean(z))"
      ],
      "execution_count": null,
      "outputs": [
        {
          "output_type": "stream",
          "name": "stdout",
          "text": [
            "5.838333333333334\n"
          ]
        }
      ]
    },
    {
      "cell_type": "markdown",
      "metadata": {
        "id": "liyCIVJUdBi9"
      },
      "source": [
        "The `nanmean()` function simply calculates the mean of the array as if there were no `nan` values at all! There are a few more of these functions, so feel free to read more about them in the [documentation](https://docs.scipy.org/doc/numpy/user/index.html). These indeterminate values are more an issue with data than linear algebra itself so it is helpful that there are ways to handle them."
      ]
    },
    {
      "cell_type": "markdown",
      "metadata": {
        "id": "3uKJfzBAdBi9"
      },
      "source": [
        "### Conclusion\n",
        "\n",
        "Linear algebra is pervasive in finance and in general. For example, the calculation of *optimal* weights according to modern portfolio theory is done using linear algebra techniques. The arrays and functions in NumPy allow us to handle these calculations in an intuitive way. For a quick intro to linear algebra and how to use NumPy to do more significant matrix calculations, proceed to the next section."
      ]
    },
    {
      "cell_type": "markdown",
      "metadata": {
        "id": "V-cXhYlDdBi9"
      },
      "source": [
        "## A brief foray into linear algebra\n",
        "\n",
        "Let's start with a basic overview of some linear algebra. Linear algebra comes down to the multiplication and composition of scalar and matrix values. A scalar value is just a real number that we multiply against an array. When we scale a matrix or array using a scalar, we multiply each individual element of that matrix or array by the scalar.\n",
        "\n",
        "A matrix is a collection of values, typically represented by an $m \\times n$ grid, where $m$ is the number of rows and $n$ is the number of columns. The edge lengths $m$ and $n$ do not necessarily have to be different. If we have $m = n$, we call this a square matrix. A particularly interesting case of a matrix is when $m = 1$ or $n = 1$. In this case we have a special case of a matrix that we call a vector. While there is a matrix object in NumPy we will be doing everything using NumPy arrays because they can have dimensions greater than $2$. For the purpose of this section, we will be using matrix and array interchangeably.\n",
        "\n",
        "We can express the matrix equation as:\n",
        "\n",
        "$$ y = A\\cdot x $$\n",
        "\n",
        "Where $A$ is an $m \\times n$ matrix, $y$ is a $m \\times 1$ vector, and $x$ is a $n \\times 1$ vector. On the right-hand side of the equation we are multiplying a matrix by a vector. This requires a little bit more clarification, lest we think that we can go about multiplying any matrices by any other matrices.\n",
        "\n",
        "#### Matrix multiplication\n",
        "\n",
        "With matrix multiplication, the order in which the matrices are multiplied matters. Multiplying a matrix on the left side by another matrix may be just fine, but multiplying on the right may be undefined."
      ]
    },
    {
      "cell_type": "code",
      "metadata": {
        "id": "7k0IoSkVwOrm"
      },
      "source": [
        "A = np.array([\n",
        "        [1, 2, 3, 12, 6],\n",
        "        [4, 5, 6, 15, 20],\n",
        "        [7, 8, 9, 10, 10]        \n",
        "    ])\n",
        "B = np.array([\n",
        "        [4, 4, 2],\n",
        "        [2, 3, 1],\n",
        "        [6, 5, 8],\n",
        "        [9, 9, 9]\n",
        "    ])"
      ],
      "execution_count": null,
      "outputs": []
    },
    {
      "cell_type": "markdown",
      "source": [
        "**My own example 133**"
      ],
      "metadata": {
        "id": "8C_2Tdc44ppV"
      }
    },
    {
      "cell_type": "code",
      "metadata": {
        "collapsed": true,
        "id": "Z4qibxl-dBi9"
      },
      "source": [
        "C = np.array([\n",
        "        [4, 6, 7, 15, 3],\n",
        "        [3, 8, 9, 18, 22],\n",
        "        [5, 1, 2, 11, 9]        \n",
        "    ])\n",
        "D = np.array([\n",
        "        [5, 3, 1],\n",
        "        [7, 8, 2],\n",
        "        [6, 9, 3],\n",
        "        [5, 6, 4]\n",
        "    ])"
      ],
      "execution_count": null,
      "outputs": []
    },
    {
      "cell_type": "markdown",
      "metadata": {
        "id": "FBPs3TRldBi9"
      },
      "source": [
        "Notice that the above-defined matrices, $A$ and $B$, have different dimensions. $A$ is $3 \\times 5$ and $B$ is $4 \\times 3$. The general rule of what can and cannot be multiplied in which order is based on the dimensions of the matrices. Specifically, the number of columns in the matrix on the left must be equal to the number of rows in the matrix on the right. In super informal terms, let's say that we have an $m \\times n$ matrix and a $p \\times q$ matrix. If we multiply the first by the second on the right, we get the following:\n",
        "\n",
        "$$ (m \\times n) \\cdot (p \\times q) = (m \\times q) $$\n",
        "\n",
        "So the resultant product has the same number of rows as the left matrix and the same number of columns as the right matrix. This limitation of matrix multiplication with regards to dimensions is important to keep track of when writing code. To demonstrate this, we use the `dot()` function to multiply our matrices below:"
      ]
    },
    {
      "cell_type": "code",
      "metadata": {
        "colab": {
          "base_uri": "https://localhost:8080/",
          "height": 205
        },
        "id": "u5zsz1AUdBi-",
        "outputId": "e54b5cc2-2198-48ec-fe00-d0d16a1855da"
      },
      "source": [
        "print(np.dot(A, B))"
      ],
      "execution_count": null,
      "outputs": [
        {
          "output_type": "error",
          "ename": "ValueError",
          "evalue": "ignored",
          "traceback": [
            "\u001b[0;31m---------------------------------------------------------------------------\u001b[0m",
            "\u001b[0;31mValueError\u001b[0m                                Traceback (most recent call last)",
            "\u001b[0;32m<ipython-input-331-c4010e250c2c>\u001b[0m in \u001b[0;36m<module>\u001b[0;34m()\u001b[0m\n\u001b[0;32m----> 1\u001b[0;31m \u001b[0mprint\u001b[0m\u001b[0;34m(\u001b[0m\u001b[0mnp\u001b[0m\u001b[0;34m.\u001b[0m\u001b[0mdot\u001b[0m\u001b[0;34m(\u001b[0m\u001b[0mA\u001b[0m\u001b[0;34m,\u001b[0m \u001b[0mB\u001b[0m\u001b[0;34m)\u001b[0m\u001b[0;34m)\u001b[0m\u001b[0;34m\u001b[0m\u001b[0;34m\u001b[0m\u001b[0m\n\u001b[0m",
            "\u001b[0;32m<__array_function__ internals>\u001b[0m in \u001b[0;36mdot\u001b[0;34m(*args, **kwargs)\u001b[0m\n",
            "\u001b[0;31mValueError\u001b[0m: shapes (3,5) and (4,3) not aligned: 5 (dim 1) != 4 (dim 0)"
          ]
        }
      ]
    },
    {
      "cell_type": "markdown",
      "metadata": {
        "id": "aRFhKz6AdBi-"
      },
      "source": [
        "These results make sense in accordance with our rule. Multiplying a $3 \\times 5$ matrix on the right by a $4 \\times 3$ matrix results in an error while multiplying a $4 \\times 3$ matrix on the right by a $3 \\times 5$ matrix results in a $4 \\times 5$ matrix."
      ]
    },
    {
      "cell_type": "code",
      "metadata": {
        "colab": {
          "base_uri": "https://localhost:8080/"
        },
        "id": "5QZ1sR3ldBi-",
        "outputId": "cf213f12-581c-4e1a-c2ef-903d443f17f2"
      },
      "source": [
        "print(np.dot(B, A))"
      ],
      "execution_count": null,
      "outputs": [
        {
          "output_type": "stream",
          "name": "stdout",
          "text": [
            "[[ 34  44  54 128 124]\n",
            " [ 21  27  33  79  82]\n",
            " [ 82 101 120 227 216]\n",
            " [108 135 162 333 324]]\n"
          ]
        }
      ]
    },
    {
      "cell_type": "markdown",
      "source": [
        "**My own example 134**"
      ],
      "metadata": {
        "id": "C0dfDSXb5JJ6"
      }
    },
    {
      "cell_type": "code",
      "metadata": {
        "colab": {
          "base_uri": "https://localhost:8080/",
          "height": 205
        },
        "id": "2FeJrfWowhmM",
        "outputId": "96fe1834-e73b-404b-831a-5548e9447258"
      },
      "source": [
        "print(np.dot(C, D))"
      ],
      "execution_count": null,
      "outputs": [
        {
          "output_type": "error",
          "ename": "ValueError",
          "evalue": "ignored",
          "traceback": [
            "\u001b[0;31m---------------------------------------------------------------------------\u001b[0m",
            "\u001b[0;31mValueError\u001b[0m                                Traceback (most recent call last)",
            "\u001b[0;32m<ipython-input-333-a13eddef0fab>\u001b[0m in \u001b[0;36m<module>\u001b[0;34m()\u001b[0m\n\u001b[0;32m----> 1\u001b[0;31m \u001b[0mprint\u001b[0m\u001b[0;34m(\u001b[0m\u001b[0mnp\u001b[0m\u001b[0;34m.\u001b[0m\u001b[0mdot\u001b[0m\u001b[0;34m(\u001b[0m\u001b[0mC\u001b[0m\u001b[0;34m,\u001b[0m \u001b[0mD\u001b[0m\u001b[0;34m)\u001b[0m\u001b[0;34m)\u001b[0m\u001b[0;34m\u001b[0m\u001b[0;34m\u001b[0m\u001b[0m\n\u001b[0m",
            "\u001b[0;32m<__array_function__ internals>\u001b[0m in \u001b[0;36mdot\u001b[0;34m(*args, **kwargs)\u001b[0m\n",
            "\u001b[0;31mValueError\u001b[0m: shapes (3,5) and (4,3) not aligned: 5 (dim 1) != 4 (dim 0)"
          ]
        }
      ]
    },
    {
      "cell_type": "markdown",
      "source": [
        "**My own example 135**"
      ],
      "metadata": {
        "id": "thiWg75Z5KGr"
      }
    },
    {
      "cell_type": "code",
      "metadata": {
        "colab": {
          "base_uri": "https://localhost:8080/"
        },
        "id": "5-evMTjhwk5Y",
        "outputId": "c4b40eb0-fd70-4b0e-bad8-91247d719c6b"
      },
      "source": [
        "print(np.dot(D, C))"
      ],
      "execution_count": null,
      "outputs": [
        {
          "output_type": "stream",
          "name": "stdout",
          "text": [
            "[[ 34  55  64 140  90]\n",
            " [ 62 108 125 271 215]\n",
            " [ 66 111 129 285 243]\n",
            " [ 58  82  97 227 183]]\n"
          ]
        }
      ]
    },
    {
      "cell_type": "markdown",
      "metadata": {
        "id": "nou7iigVdBi-"
      },
      "source": [
        "### Portfolio Variance\n",
        "\n",
        "Let's return to our portfolio example from before. We calculated the expected return of the portfolio, but how do we calculate the variance? We start by trying to evaluate the portfolio as a sum of each individual asset, scaled by it's weight.\n",
        "\n",
        "$$ VAR[P] = VAR[\\omega_1 S_1 + \\omega_2 S_2 + \\cdots + \\omega_N S_N] $$\n",
        "\n",
        "Where $S_0, \\cdots, S_N$ are the assets contained within our universe. If all of our assets were independent of each other, we could simply evaluate this as\n",
        "\n",
        "$$ VAR[P] = VAR[\\omega_1 S_1] + VAR[\\omega_2 S_2] + \\cdots + VAR[\\omega_N S_N] = \\omega_1^2\\sigma_1^2 + \\omega_2^2\\sigma_2^2 + \\cdots + \\omega_N^2\\sigma_N^2 $$\n",
        "\n",
        "However, all of our assets depend on each other by their construction. They are all in some way related to our base asset and therefore each other. We thus have to calculate the variance of the portfolio by including the individual pairwise covariances of each asset. Our formula for the variance of the portfolio:\n",
        "\n",
        "$$ VAR[P] = \\sigma_P^2 = \\sum_i \\omega_i^2\\sigma_i^2 + \\sum_i\\sum_{i\\neq j} \\omega_i\\omega_j\\sigma_i\\sigma_j\\rho_{i, j}, \\ i, j \\in \\lbrace 1, 2, \\cdots, N \\rbrace $$\n",
        "\n",
        "Where $\\rho_{i,j}$ is the correlation between $S_i$ and $S_j$, $\\rho_{i, j} = \\frac{COV[S_i, S_j]}{\\sigma_i\\sigma_j}$. This seems exceedingly complicated, but we can easily handle all of this using NumPy arrays. First, we calculate the covariance matrix that relates all the individual stocks in our universe."
      ]
    },
    {
      "cell_type": "code",
      "metadata": {
        "colab": {
          "base_uri": "https://localhost:8080/"
        },
        "id": "IyF4nox8dBi_",
        "outputId": "cfc4cfdd-b8f1-4d23-b23b-a223937746f5"
      },
      "source": [
        "cov_mat = np.cov(returns)\n",
        "print(cov_mat)"
      ],
      "execution_count": null,
      "outputs": [
        {
          "output_type": "stream",
          "name": "stdout",
          "text": [
            "[[0.00119039 0.00124933 0.00125928 0.00117401 0.00117955 0.00125496\n",
            "  0.00123877 0.00128133 0.00104959 0.00123944]\n",
            " [0.00124933 0.00173291 0.00126753 0.00127808 0.0012831  0.00131645\n",
            "  0.00129393 0.00125289 0.00113945 0.00132314]\n",
            " [0.00125928 0.00126753 0.0017396  0.00117105 0.00119287 0.00134809\n",
            "  0.00135741 0.00132669 0.00117349 0.0012581 ]\n",
            " [0.00117401 0.00127808 0.00117105 0.00169842 0.00108976 0.00124729\n",
            "  0.00115349 0.00125003 0.00105494 0.00126304]\n",
            " [0.00117955 0.0012831  0.00119287 0.00108976 0.00152574 0.00123478\n",
            "  0.00126612 0.00131744 0.00103845 0.00116869]\n",
            " [0.00125496 0.00131645 0.00134809 0.00124729 0.00123478 0.00164237\n",
            "  0.00135858 0.00133803 0.00104984 0.00135372]\n",
            " [0.00123877 0.00129393 0.00135741 0.00115349 0.00126612 0.00135858\n",
            "  0.00159742 0.00133436 0.00107864 0.00127997]\n",
            " [0.00128133 0.00125289 0.00132669 0.00125003 0.00131744 0.00133803\n",
            "  0.00133436 0.00182601 0.00115445 0.00134602]\n",
            " [0.00104959 0.00113945 0.00117349 0.00105494 0.00103845 0.00104984\n",
            "  0.00107864 0.00115445 0.00126874 0.00111172]\n",
            " [0.00123944 0.00132314 0.0012581  0.00126304 0.00116869 0.00135372\n",
            "  0.00127997 0.00134602 0.00111172 0.00160948]]\n"
          ]
        }
      ]
    },
    {
      "cell_type": "markdown",
      "source": [
        "**My own example 136**"
      ],
      "metadata": {
        "id": "cJTovDbw5LIx"
      }
    },
    {
      "cell_type": "code",
      "metadata": {
        "colab": {
          "base_uri": "https://localhost:8080/"
        },
        "id": "NODC8EXwxXGq",
        "outputId": "d0106d73-dfb9-4db4-98fc-8f0994350c89"
      },
      "source": [
        "cov_mat1 = np.cov(returns1)\n",
        "print(cov_mat1)"
      ],
      "execution_count": null,
      "outputs": [
        {
          "output_type": "stream",
          "name": "stdout",
          "text": [
            "[[0.00100936 0.00107275 0.00103814 0.00099057 0.00090901 0.00100594\n",
            "  0.00103879 0.00090976 0.00102173 0.0009951  0.00099847 0.00107434\n",
            "  0.00097914 0.00096387 0.00098422 0.00098209 0.00101884 0.00097868\n",
            "  0.00094713 0.00101864 0.00097834 0.00096483 0.00102729 0.00092863\n",
            "  0.00098897]\n",
            " [0.00107275 0.00141908 0.00109013 0.0010657  0.0009978  0.00110914\n",
            "  0.0011039  0.0009655  0.0011114  0.00106268 0.00106589 0.00115291\n",
            "  0.00105809 0.00101284 0.00101579 0.00098711 0.00108158 0.00107438\n",
            "  0.00092094 0.00111353 0.00103758 0.00106364 0.0010657  0.00101469\n",
            "  0.00104228]\n",
            " [0.00103814 0.00109013 0.00147493 0.00099292 0.00094338 0.00103995\n",
            "  0.00102793 0.00088978 0.00103302 0.00108915 0.00101542 0.00111172\n",
            "  0.00101844 0.00101702 0.00103673 0.00105161 0.00102474 0.00101433\n",
            "  0.00094428 0.00110435 0.00106551 0.00095628 0.00103643 0.00099592\n",
            "  0.00105249]\n",
            " [0.00099057 0.0010657  0.00099292 0.00128105 0.00086043 0.00098061\n",
            "  0.00102356 0.00092117 0.00096449 0.00095731 0.00096972 0.00097076\n",
            "  0.00094742 0.00097137 0.00097679 0.00093676 0.00101786 0.00092924\n",
            "  0.00098428 0.00099867 0.00088558 0.00096241 0.00099285 0.00090865\n",
            "  0.00095118]\n",
            " [0.00090901 0.0009978  0.00094338 0.00086043 0.00121301 0.00092994\n",
            "  0.00089301 0.00081494 0.00090501 0.00088966 0.00092281 0.00101745\n",
            "  0.00084267 0.00086899 0.00090139 0.00089471 0.00097363 0.00091966\n",
            "  0.00084555 0.00099204 0.00089396 0.00085287 0.00087809 0.00084768\n",
            "  0.0009083 ]\n",
            " [0.00100594 0.00110914 0.00103995 0.00098061 0.00092994 0.00143162\n",
            "  0.00100729 0.00092401 0.00099556 0.00104257 0.00106034 0.00114466\n",
            "  0.00099163 0.00096811 0.00092524 0.00095226 0.00101058 0.00092955\n",
            "  0.0010479  0.00101818 0.00100061 0.00098819 0.00100081 0.00089083\n",
            "  0.00101746]\n",
            " [0.00103879 0.0011039  0.00102793 0.00102356 0.00089301 0.00100729\n",
            "  0.00140944 0.00096333 0.00108626 0.00096977 0.00104883 0.00109643\n",
            "  0.00100478 0.00097415 0.00103552 0.00105755 0.00103722 0.00096483\n",
            "  0.00092045 0.00097371 0.00099968 0.00097914 0.00109253 0.00098774\n",
            "  0.00098711]\n",
            " [0.00090976 0.0009655  0.00088978 0.00092117 0.00081494 0.00092401\n",
            "  0.00096333 0.00120177 0.00091602 0.00088341 0.00089183 0.00092875\n",
            "  0.0008472  0.00087402 0.00084746 0.00087067 0.00089915 0.00089381\n",
            "  0.00081849 0.00093511 0.00082326 0.0008567  0.00088356 0.00087321\n",
            "  0.00084445]\n",
            " [0.00102173 0.0011114  0.00103302 0.00096449 0.00090501 0.00099556\n",
            "  0.00108626 0.00091602 0.00144126 0.00103067 0.00109205 0.00109951\n",
            "  0.00093039 0.00096911 0.00102011 0.00099367 0.00109877 0.0009924\n",
            "  0.00091263 0.00097657 0.00102819 0.00100591 0.00105322 0.00097437\n",
            "  0.0010926 ]\n",
            " [0.0009951  0.00106268 0.00108915 0.00095731 0.00088966 0.00104257\n",
            "  0.00096977 0.00088341 0.00103067 0.00133939 0.00098597 0.0010445\n",
            "  0.00097144 0.00095842 0.00096774 0.00099005 0.00100377 0.00100656\n",
            "  0.00095088 0.00102539 0.0009999  0.000952   0.00098006 0.000948\n",
            "  0.00097667]\n",
            " [0.00099847 0.00106589 0.00101542 0.00096972 0.00092281 0.00106034\n",
            "  0.00104883 0.00089183 0.00109205 0.00098597 0.00140965 0.00111097\n",
            "  0.00097181 0.00100344 0.00094597 0.00099867 0.00102294 0.00093226\n",
            "  0.00099637 0.00095329 0.00094952 0.00103267 0.0010275  0.0008406\n",
            "  0.00097135]\n",
            " [0.00107434 0.00115291 0.00111172 0.00097076 0.00101745 0.00114466\n",
            "  0.00109643 0.00092875 0.00109951 0.0010445  0.00111097 0.00153974\n",
            "  0.00105334 0.00102819 0.00100796 0.00106304 0.00111058 0.00109133\n",
            "  0.00095541 0.00106428 0.00106466 0.00098041 0.00111745 0.0009476\n",
            "  0.001037  ]\n",
            " [0.00097914 0.00105809 0.00101844 0.00094742 0.00084267 0.00099163\n",
            "  0.00100478 0.0008472  0.00093039 0.00097144 0.00097181 0.00105334\n",
            "  0.00133851 0.00092788 0.0010017  0.00093437 0.00098466 0.00092126\n",
            "  0.00092289 0.00099022 0.00098678 0.00091724 0.00097923 0.00088273\n",
            "  0.00096487]\n",
            " [0.00096387 0.00101284 0.00101702 0.00097137 0.00086899 0.00096811\n",
            "  0.00097415 0.00087402 0.00096911 0.00095842 0.00100344 0.00102819\n",
            "  0.00092788 0.00130214 0.00093294 0.00094254 0.0009345  0.00088396\n",
            "  0.00094315 0.00093129 0.0009254  0.00092113 0.00098885 0.00089294\n",
            "  0.00094062]\n",
            " [0.00098422 0.00101579 0.00103673 0.00097679 0.00090139 0.00092524\n",
            "  0.00103552 0.00084746 0.00102011 0.00096774 0.00094597 0.00100796\n",
            "  0.0010017  0.00093294 0.00142046 0.00093297 0.00103635 0.00093153\n",
            "  0.00091696 0.00094229 0.00094949 0.00095608 0.00099033 0.00088307\n",
            "  0.00094848]\n",
            " [0.00098209 0.00098711 0.00105161 0.00093676 0.00089471 0.00095226\n",
            "  0.00105755 0.00087067 0.00099367 0.00099005 0.00099867 0.00106304\n",
            "  0.00093437 0.00094254 0.00093297 0.00133468 0.00100632 0.00099939\n",
            "  0.00086337 0.00096926 0.00095311 0.0009038  0.00100739 0.00085087\n",
            "  0.00101881]\n",
            " [0.00101884 0.00108158 0.00102474 0.00101786 0.00097363 0.00101058\n",
            "  0.00103722 0.00089915 0.00109877 0.00100377 0.00102294 0.00111058\n",
            "  0.00098466 0.0009345  0.00103635 0.00100632 0.00141175 0.00098915\n",
            "  0.00092255 0.00102625 0.00096164 0.00093227 0.0010544  0.00095436\n",
            "  0.00099707]\n",
            " [0.00097868 0.00107438 0.00101433 0.00092924 0.00091966 0.00092955\n",
            "  0.00096483 0.00089381 0.0009924  0.00100656 0.00093226 0.00109133\n",
            "  0.00092126 0.00088396 0.00093153 0.00099939 0.00098915 0.00135466\n",
            "  0.00085187 0.00102881 0.00099905 0.00094761 0.0009726  0.00084133\n",
            "  0.00099435]\n",
            " [0.00094713 0.00092094 0.00094428 0.00098428 0.00084555 0.0010479\n",
            "  0.00092045 0.00081849 0.00091263 0.00095088 0.00099637 0.00095541\n",
            "  0.00092289 0.00094315 0.00091696 0.00086337 0.00092255 0.00085187\n",
            "  0.0013535  0.00096987 0.00090773 0.00091719 0.00103312 0.00082663\n",
            "  0.00093886]\n",
            " [0.00101864 0.00111353 0.00110435 0.00099867 0.00099204 0.00101818\n",
            "  0.00097371 0.00093511 0.00097657 0.00102539 0.00095329 0.00106428\n",
            "  0.00099022 0.00093129 0.00094229 0.00096926 0.00102625 0.00102881\n",
            "  0.00096987 0.00146115 0.00096408 0.00097182 0.00098737 0.00094782\n",
            "  0.00095732]\n",
            " [0.00097834 0.00103758 0.00106551 0.00088558 0.00089396 0.00100061\n",
            "  0.00099968 0.00082326 0.00102819 0.0009999  0.00094952 0.00106466\n",
            "  0.00098678 0.0009254  0.00094949 0.00095311 0.00096164 0.00099905\n",
            "  0.00090773 0.00096408 0.00134742 0.00094677 0.00094223 0.00092666\n",
            "  0.00102084]\n",
            " [0.00096483 0.00106364 0.00095628 0.00096241 0.00085287 0.00098819\n",
            "  0.00097914 0.0008567  0.00100591 0.000952   0.00103267 0.00098041\n",
            "  0.00091724 0.00092113 0.00095608 0.0009038  0.00093227 0.00094761\n",
            "  0.00091719 0.00097182 0.00094677 0.00143466 0.00097025 0.0009039\n",
            "  0.00092079]\n",
            " [0.00102729 0.0010657  0.00103643 0.00099285 0.00087809 0.00100081\n",
            "  0.00109253 0.00088356 0.00105322 0.00098006 0.0010275  0.00111745\n",
            "  0.00097923 0.00098885 0.00099033 0.00100739 0.0010544  0.0009726\n",
            "  0.00103312 0.00098737 0.00094223 0.00097025 0.00138229 0.00091189\n",
            "  0.00097702]\n",
            " [0.00092863 0.00101469 0.00099592 0.00090865 0.00084768 0.00089083\n",
            "  0.00098774 0.00087321 0.00097437 0.000948   0.0008406  0.0009476\n",
            "  0.00088273 0.00089294 0.00088307 0.00085087 0.00095436 0.00084133\n",
            "  0.00082663 0.00094782 0.00092666 0.0009039  0.00091189 0.00124097\n",
            "  0.0008465 ]\n",
            " [0.00098897 0.00104228 0.00105249 0.00095118 0.0009083  0.00101746\n",
            "  0.00098711 0.00084445 0.0010926  0.00097667 0.00097135 0.001037\n",
            "  0.00096487 0.00094062 0.00094848 0.00101881 0.00099707 0.00099435\n",
            "  0.00093886 0.00095732 0.00102084 0.00092079 0.00097702 0.0008465\n",
            "  0.00139522]]\n"
          ]
        }
      ]
    },
    {
      "cell_type": "markdown",
      "metadata": {
        "id": "6kir6d-xdBi_"
      },
      "source": [
        "This array is not formatted particularly nicely, but a covariance matrix is a very important concept. The covariance matrix is of the form:\n",
        "\n",
        "$$ \\left[\\begin{matrix}\n",
        "VAR[S_1] & COV[S_1, S_2] & \\cdots & COV[S_1, S_N] \\\\\n",
        "COV[S_2, S_1] & VAR[S_2] & \\cdots & COV[S_2, S_N] \\\\\n",
        "\\vdots & \\vdots & \\ddots & \\vdots \\\\\n",
        "COV[S_N, S_1] & COV[S_N, S_2] & \\cdots & VAR[S_N]\n",
        "\\end{matrix}\\right] $$\n",
        "\n",
        "So each diagonal entry is the variance of that asset at that index and each off-diagonal holds the covariance of two assets indexed by the column and row number. What is important is that once we have the covariance matrix we are able to do some very quick linear algebra to calculate the variance of the overall portfolio. We can represent the variance of the portfolio in array form as:\n",
        "\n",
        "$$ \\sigma_p^2 = \\omega \\ C \\ \\omega^\\intercal$$\n",
        "\n",
        "Where $C$ is the covariance matrix of all the assets and $\\omega$ is the array containing the weights of each individual asset. The superscript $\\intercal$ on the second $\\omega$ listed above denotes the **transpose** of $\\omega$. For a reference on the evaluation of the variance of a portfolio as a matrix equation, please see the Wikipedia article on [modern portfolio theory](https://en.wikipedia.org/wiki/Modern_portfolio_theory).\n",
        "\n",
        "The transpose of an array is what you get when you switch the rows and columns of an array. This has the effect of reflecting an array across what you might imagine as a diagonal. For example, take our array $A$ from before:"
      ]
    },
    {
      "cell_type": "code",
      "metadata": {
        "id": "beUsh4xLdBi_",
        "colab": {
          "base_uri": "https://localhost:8080/"
        },
        "outputId": "9bf668ee-7291-4151-b668-1820a383044e"
      },
      "source": [
        "print(A)"
      ],
      "execution_count": null,
      "outputs": [
        {
          "output_type": "stream",
          "name": "stdout",
          "text": [
            "[[ 1  2  3 12  6]\n",
            " [ 4  5  6 15 20]\n",
            " [ 7  8  9 10 10]]\n"
          ]
        }
      ]
    },
    {
      "cell_type": "markdown",
      "metadata": {
        "id": "uP5hkOa5dBjA"
      },
      "source": [
        "The transpose looks like a mirror image of the same array."
      ]
    },
    {
      "cell_type": "markdown",
      "source": [
        "**My own example 137**"
      ],
      "metadata": {
        "id": "iavFLX5Y5NGK"
      }
    },
    {
      "cell_type": "code",
      "metadata": {
        "colab": {
          "base_uri": "https://localhost:8080/"
        },
        "id": "CCWvF2vZxhTX",
        "outputId": "789fb791-d281-403c-a6b7-f5e2d7a254f9"
      },
      "source": [
        "print(C)"
      ],
      "execution_count": null,
      "outputs": [
        {
          "output_type": "stream",
          "name": "stdout",
          "text": [
            "[[ 4  6  7 15  3]\n",
            " [ 3  8  9 18 22]\n",
            " [ 5  1  2 11  9]]\n"
          ]
        }
      ]
    },
    {
      "cell_type": "code",
      "metadata": {
        "id": "85nao8Q1dBjA",
        "colab": {
          "base_uri": "https://localhost:8080/"
        },
        "outputId": "07cedca5-b2e0-4ea0-daaa-47570d27ae42"
      },
      "source": [
        "print(np.transpose(A))"
      ],
      "execution_count": null,
      "outputs": [
        {
          "output_type": "stream",
          "name": "stdout",
          "text": [
            "[[ 1  4  7]\n",
            " [ 2  5  8]\n",
            " [ 3  6  9]\n",
            " [12 15 10]\n",
            " [ 6 20 10]]\n"
          ]
        }
      ]
    },
    {
      "cell_type": "markdown",
      "source": [
        "**My own example 138**"
      ],
      "metadata": {
        "id": "dQbd9t405N4k"
      }
    },
    {
      "cell_type": "code",
      "metadata": {
        "colab": {
          "base_uri": "https://localhost:8080/"
        },
        "id": "UD8mOsQQxkfc",
        "outputId": "20122966-a9a3-439b-da67-1a0b752044d5"
      },
      "source": [
        "print(np.transpose(C))"
      ],
      "execution_count": null,
      "outputs": [
        {
          "output_type": "stream",
          "name": "stdout",
          "text": [
            "[[ 4  3  5]\n",
            " [ 6  8  1]\n",
            " [ 7  9  2]\n",
            " [15 18 11]\n",
            " [ 3 22  9]]\n"
          ]
        }
      ]
    },
    {
      "cell_type": "markdown",
      "metadata": {
        "id": "hC7Lgh6udBjA"
      },
      "source": [
        "But $\\omega$ here is a 1-dimensional array, a vector! It makes perfect to take the transpose of $A$, a $3 \\times 5$ array, as the output will be a $5 \\times 3$ array, but a 1-dimensional array is not quite as intuitive. A typical 1-dimensional array can be thought of as a $1 \\times n$ horizontal vector. Thus, taking the tranpose of this array essentially means changing it into a $n \\times 1$ vertical vector. This makes sense because 1-dimensional arrays are still arrays and any multiplication done between 1-dimensional and higher dimensional arrays must keep in line with our dimensionality issue of matrix multiplication.\n",
        "\n",
        "To make a long story short, we think of $\\omega$ as $1 \\times N$ since we have $N$ securities. This makes it so that $\\omega^\\intercal$ is $N \\times 1$. Again, our covariance matrix is $N \\times N$. So the overall multiplication works out like so, in informal terms:\n",
        "\n",
        "$$ \\text{Dimensions}(\\sigma_p^2) = \\text{Dimensions}(\\omega C \\omega^\\intercal) = (1 \\times N)\\cdot (N \\times N)\\cdot (N \\times 1) = (1 \\times 1)$$\n",
        "\n",
        "Multiplying the covariance matrix on the left by the plain horizontal vector and on the right by that vector's transpose results in the calculation of a single scalar ($1 \\times 1$) value, our portfolio's variance.\n",
        "\n",
        "So knowing this, let's proceed and calculate the portfolio variance! We can easily calculate the product of these arrays by using `dot()` for matrix multiplication, though this time we have to do it twice."
      ]
    },
    {
      "cell_type": "code",
      "metadata": {
        "scrolled": false,
        "id": "TWZvCpgRdBjA",
        "colab": {
          "base_uri": "https://localhost:8080/"
        },
        "outputId": "b720c76a-9468-476e-c21d-a79cad33cfe7"
      },
      "source": [
        "# Calculating the portfolio volatility\n",
        "var_p = np.dot(np.dot(weights, cov_mat), weights.T)\n",
        "vol_p = np.sqrt(var_p)\n",
        "print(\"Portfolio volatility: \", vol_p)"
      ],
      "execution_count": null,
      "outputs": [
        {
          "output_type": "stream",
          "name": "stdout",
          "text": [
            "Portfolio volatility:  0.035782112476478535\n"
          ]
        }
      ]
    },
    {
      "cell_type": "markdown",
      "source": [
        "**My own example 139**"
      ],
      "metadata": {
        "id": "z-9vJnq75Qg0"
      }
    },
    {
      "cell_type": "code",
      "metadata": {
        "colab": {
          "base_uri": "https://localhost:8080/"
        },
        "id": "5t-LrhxbxoMv",
        "outputId": "ce4712b5-0f8c-4ea3-cce6-292a639aa66d"
      },
      "source": [
        "var_p1 = np.dot(np.dot(weights1, cov_mat1), weights1.T)\n",
        "vol_p1 = np.sqrt(var_p1)\n",
        "print(\"Portfolio volatility: \", vol_p1)"
      ],
      "execution_count": null,
      "outputs": [
        {
          "output_type": "stream",
          "name": "stdout",
          "text": [
            "Portfolio volatility:  0.03169908727366833\n"
          ]
        }
      ]
    },
    {
      "cell_type": "markdown",
      "metadata": {
        "id": "mUWZ3Y24dBjA"
      },
      "source": [
        "To confirm this calculation, let's simply evaluate the volatility of the portfolio using only NumPy functions."
      ]
    },
    {
      "cell_type": "code",
      "metadata": {
        "id": "rTMaG-S4dBjB",
        "colab": {
          "base_uri": "https://localhost:8080/"
        },
        "outputId": "e1467343-1f95-48e9-c6b6-acb82664fc4f"
      },
      "source": [
        "# Confirming calculation\n",
        "vol_p_alt = np.sqrt(np.var(np.dot(weights, returns), ddof=1))\n",
        "print(\"Portfolio volatility: \", vol_p_alt)"
      ],
      "execution_count": null,
      "outputs": [
        {
          "output_type": "stream",
          "name": "stdout",
          "text": [
            "Portfolio volatility:  0.035782112476478535\n"
          ]
        }
      ]
    },
    {
      "cell_type": "markdown",
      "source": [
        "**My own example 140**"
      ],
      "metadata": {
        "id": "mkG8BfoI5RK6"
      }
    },
    {
      "cell_type": "code",
      "metadata": {
        "colab": {
          "base_uri": "https://localhost:8080/"
        },
        "id": "AX87M0hexv5o",
        "outputId": "cfb6ba30-0493-45b7-dea6-02b5cbd2f207"
      },
      "source": [
        "vol_p_alt1 = np.sqrt(np.var(np.dot(weights1, returns1), ddof=1))\n",
        "print(\"Portfolio volatility: \", vol_p_alt1)"
      ],
      "execution_count": null,
      "outputs": [
        {
          "output_type": "stream",
          "name": "stdout",
          "text": [
            "Portfolio volatility:  0.03169908727366833\n"
          ]
        }
      ]
    },
    {
      "cell_type": "markdown",
      "metadata": {
        "id": "ckCQfrbVdBjB"
      },
      "source": [
        "The `ddof` parameter is a simple integer input that tells the function the number of degrees of freedom to take into account. This is a more statistical concept, but what this tells us that our matrix calculation is correct!\n",
        "\n",
        "A lot of this might not make sense at first glance. It helps to go back and forth between the theory and the code representations until you have a better grasp of the mathematics involved. It is definitely not necessary to be an expert on linear algebra and on matrix operations, but linear algebra can help to streamline the process of working with large amounts of data. For further reading on NumPy, check out the [documentation](https://docs.scipy.org/doc/numpy/user/index.html)."
      ]
    },
    {
      "cell_type": "markdown",
      "metadata": {
        "id": "inTR_Fa6dBjB"
      },
      "source": [
        "*This presentation is for informational purposes only and does not constitute an offer to sell, a solicitation to buy, or a recommendation for any security; nor does it constitute an offer to provide investment advisory or other services by Quantopian, Inc. (\"Quantopian\"). Nothing contained herein constitutes investment advice or offers any opinion with respect to the suitability of any security, and any views expressed herein should not be taken as advice to buy, sell, or hold any security or as an endorsement of any security or company.  In preparing the information contained herein, Quantopian, Inc. has not taken into account the investment needs, objectives, and financial circumstances of any particular investor. Any views expressed and data illustrated herein were prepared based upon information, believed to be reliable, available to Quantopian, Inc. at the time of publication. Quantopian makes no guarantees as to their accuracy or completeness. All information is subject to change and may quickly become unreliable for various reasons, including changes in market conditions or economic circumstances.*"
      ]
    },
    {
      "cell_type": "markdown",
      "metadata": {
        "id": "eQzBbvyKQymx"
      },
      "source": [
        "\n",
        "\n",
        "# Data Types and Data Structures\n",
        "\n",
        "# Introduction\n",
        "\n",
        "This tutorial provides a basic introduction to the Python programming language. If you are new to Python, you should run the code snippets while reading this tutorial. If you are an advanced Python user, please feel free to skip this chapter.\n",
        "\n",
        "# Basic Variable Types\n",
        "The basic types of variables in Python are: strings, integers, floating point numbers and booleans.\n",
        "\n",
        "Strings in python are identified as a contiguous set of characters represented in either single quotes (' ') or double quotes (\" \").\n"
      ]
    },
    {
      "cell_type": "code",
      "execution_count": null,
      "metadata": {
        "colab": {
          "base_uri": "https://localhost:8080/"
        },
        "id": "N5t-UrcfOqid",
        "outputId": "edcecc3e-e949-43cd-cfde-37e8f9684077"
      },
      "outputs": [
        {
          "output_type": "stream",
          "name": "stdout",
          "text": [
            "Welcome to QuantConnect\n"
          ]
        }
      ],
      "source": [
        "my_string1 = 'Welcome to'\n",
        "my_string2 = \"QuantConnect\"\n",
        "print(my_string1 + ' ' + my_string2)"
      ]
    },
    {
      "cell_type": "markdown",
      "metadata": {
        "id": "w3nW0RH73F_V"
      },
      "source": [
        "**My own example 141**"
      ]
    },
    {
      "cell_type": "code",
      "execution_count": null,
      "metadata": {
        "colab": {
          "base_uri": "https://localhost:8080/"
        },
        "id": "RlTD3y8j_dmh",
        "outputId": "bb39e142-b41e-4c1e-992a-2f5bac03e641"
      },
      "outputs": [
        {
          "output_type": "stream",
          "name": "stdout",
          "text": [
            "Bienvenido a Metodos numericos\n"
          ]
        }
      ],
      "source": [
        "my_string1 = 'Bienvenido a'\n",
        "my_string2 = \"Metodos numericos\"\n",
        "print(my_string1 + ' ' + my_string2)"
      ]
    },
    {
      "cell_type": "markdown",
      "metadata": {
        "id": "bXHnxZyHSd1M"
      },
      "source": [
        "An integer is a round number with no values after the decimal point."
      ]
    },
    {
      "cell_type": "code",
      "execution_count": null,
      "metadata": {
        "colab": {
          "base_uri": "https://localhost:8080/"
        },
        "id": "pNjuz3toOqif",
        "outputId": "0d1bc676-3d72-424a-d408-1c79a57bf9d5"
      },
      "outputs": [
        {
          "output_type": "stream",
          "name": "stdout",
          "text": [
            "10\n",
            "<class 'int'>\n"
          ]
        }
      ],
      "source": [
        "my_int = 10\n",
        "print(my_int)\n",
        "print(type(my_int))"
      ]
    },
    {
      "cell_type": "markdown",
      "metadata": {
        "id": "UPoB6oDx3LNY"
      },
      "source": [
        "**My own example 142**"
      ]
    },
    {
      "cell_type": "code",
      "execution_count": null,
      "metadata": {
        "colab": {
          "base_uri": "https://localhost:8080/"
        },
        "id": "hJPGaXl7_mNe",
        "outputId": "82a8ddfb-a89b-4dee-f892-1a522b9d54ff"
      },
      "outputs": [
        {
          "output_type": "stream",
          "name": "stdout",
          "text": [
            "11567399\n",
            "<class 'int'>\n"
          ]
        }
      ],
      "source": [
        "my_int = 11567399\n",
        "print(my_int)\n",
        "print(type(my_int))"
      ]
    },
    {
      "cell_type": "markdown",
      "metadata": {
        "id": "_1ZanWrYSnzF"
      },
      "source": [
        "The built-in function int() can convert a string into an integer."
      ]
    },
    {
      "cell_type": "code",
      "execution_count": null,
      "metadata": {
        "colab": {
          "base_uri": "https://localhost:8080/"
        },
        "id": "zPwGb20FOqif",
        "outputId": "730e6150-e16b-40ed-fbf6-005d22e111f5"
      },
      "outputs": [
        {
          "output_type": "stream",
          "name": "stdout",
          "text": [
            "<class 'str'>\n",
            "<class 'int'>\n"
          ]
        }
      ],
      "source": [
        "my_string = \"100\"\n",
        "print(type(my_string))\n",
        "my_int = int(my_string)\n",
        "print(type(my_int))"
      ]
    },
    {
      "cell_type": "markdown",
      "metadata": {
        "id": "JrsDdT-n3M_Q"
      },
      "source": [
        "**My own example 143**"
      ]
    },
    {
      "cell_type": "code",
      "execution_count": null,
      "metadata": {
        "colab": {
          "base_uri": "https://localhost:8080/"
        },
        "id": "J6aYNuvd_vHO",
        "outputId": "fd5f97fe-9f56-4fbd-bdd2-bc60647f1ac6"
      },
      "outputs": [
        {
          "output_type": "stream",
          "name": "stdout",
          "text": [
            "<class 'str'>\n",
            "<class 'int'>\n"
          ]
        }
      ],
      "source": [
        "my_string = \"200\"\n",
        "print(type(my_string))\n",
        "my_int = int(my_string)\n",
        "print(type(my_int))"
      ]
    },
    {
      "cell_type": "markdown",
      "metadata": {
        "id": "WqMDPDTHSrE9"
      },
      "source": [
        "A floating point number, or a float, is a real number in mathematics. In Python we need to include a value after a decimal point to define it as a float"
      ]
    },
    {
      "cell_type": "code",
      "execution_count": null,
      "metadata": {
        "colab": {
          "base_uri": "https://localhost:8080/"
        },
        "id": "otCzKKW9Oqig",
        "outputId": "ffdd3e0c-47be-4721-de84-2bf918782a03"
      },
      "outputs": [
        {
          "output_type": "stream",
          "name": "stdout",
          "text": [
            "<class 'float'>\n"
          ]
        }
      ],
      "source": [
        "my_string = \"100\"\n",
        "my_float = float(my_string)\n",
        "print(type(my_float))"
      ]
    },
    {
      "cell_type": "markdown",
      "metadata": {
        "id": "eIkc8h9Q3O2l"
      },
      "source": [
        "**My own example 144**"
      ]
    },
    {
      "cell_type": "code",
      "execution_count": null,
      "metadata": {
        "colab": {
          "base_uri": "https://localhost:8080/"
        },
        "id": "cHlWeZel_2VO",
        "outputId": "8e42743b-c999-4e4e-ec65-144e544ea40c"
      },
      "outputs": [
        {
          "output_type": "stream",
          "name": "stdout",
          "text": [
            "<class 'float'>\n"
          ]
        }
      ],
      "source": [
        "my_string = \"200\"\n",
        "my_float = float(my_string)\n",
        "print(type(my_float))"
      ]
    },
    {
      "cell_type": "markdown",
      "metadata": {
        "id": "2iuyv8Q7StTJ"
      },
      "source": [
        "As you can see above, if we don't include a decimal value, the variable would be defined as an integer. The built-in function float() can convert a string or an integer into a float."
      ]
    },
    {
      "cell_type": "code",
      "execution_count": null,
      "metadata": {
        "colab": {
          "base_uri": "https://localhost:8080/"
        },
        "id": "wwLw5VthOqig",
        "outputId": "30be38d0-139a-4055-a430-8f1f83707d8a"
      },
      "outputs": [
        {
          "output_type": "stream",
          "name": "stdout",
          "text": [
            "False\n",
            "<class 'bool'>\n"
          ]
        }
      ],
      "source": [
        "my_bool = False\n",
        "print(my_bool)\n",
        "print(type(my_bool))"
      ]
    },
    {
      "cell_type": "markdown",
      "metadata": {
        "id": "5j5Qboye3QGj"
      },
      "source": [
        "**My own example 145**"
      ]
    },
    {
      "cell_type": "code",
      "execution_count": null,
      "metadata": {
        "colab": {
          "base_uri": "https://localhost:8080/"
        },
        "id": "8q6gBIlT_8F2",
        "outputId": "1548fcc8-9631-403a-eb0b-3e1381cce926"
      },
      "outputs": [
        {
          "output_type": "stream",
          "name": "stdout",
          "text": [
            "True\n",
            "<class 'bool'>\n"
          ]
        }
      ],
      "source": [
        "my_bool = True\n",
        "print(my_bool)\n",
        "print(type(my_bool))"
      ]
    },
    {
      "cell_type": "markdown",
      "metadata": {
        "id": "bnGMwH21Szr_"
      },
      "source": [
        "A boolean, or bool, is a binary variable. Its value can only be True or False. It is useful when we do some logic operations, which would be covered in our next chapter."
      ]
    },
    {
      "cell_type": "code",
      "execution_count": null,
      "metadata": {
        "colab": {
          "base_uri": "https://localhost:8080/"
        },
        "id": "DMa6pDl5Oqig",
        "outputId": "ab9d4dba-722f-4b99-cc49-5136246a8609"
      },
      "outputs": [
        {
          "output_type": "stream",
          "name": "stdout",
          "text": [
            "Addition  2\n",
            "Subtraction  3\n",
            "Multiplication  6\n",
            "Division  5.0\n",
            "exponent 8\n"
          ]
        }
      ],
      "source": [
        "print(\"Addition \", 1+1)\n",
        "print(\"Subtraction \", 5-2)\n",
        "print(\"Multiplication \", 2*3)\n",
        "print(\"Division \", 10/2)\n",
        "print('exponent', 2**3)"
      ]
    },
    {
      "cell_type": "markdown",
      "metadata": {
        "id": "3k9XVDwr3R7m"
      },
      "source": [
        "**My own example 146**"
      ]
    },
    {
      "cell_type": "code",
      "execution_count": null,
      "metadata": {
        "colab": {
          "base_uri": "https://localhost:8080/"
        },
        "id": "rObSdmx_ACge",
        "outputId": "7e0e1d19-51cd-4be7-f10b-e3daebd5ce24"
      },
      "outputs": [
        {
          "output_type": "stream",
          "name": "stdout",
          "text": [
            "Addition  1300\n",
            "Subtraction  732\n",
            "Multiplication  11223\n",
            "Division  2.251685393258427\n",
            "exponent 13824\n"
          ]
        }
      ],
      "source": [
        "print(\"Addition \", 600 + 700)\n",
        "print(\"Subtraction \", 800 - 68)\n",
        "print(\"Multiplication \", 29 * 387 )\n",
        "print(\"Division \", 1002/445)\n",
        "print('exponent', 24 ** 3)"
      ]
    },
    {
      "cell_type": "markdown",
      "metadata": {
        "id": "1Xc9G9_sS2ju"
      },
      "source": [
        "# Basic Math Operations\n",
        "\n",
        "The basic math operators in python are demonstrated below:"
      ]
    },
    {
      "cell_type": "code",
      "execution_count": null,
      "metadata": {
        "colab": {
          "base_uri": "https://localhost:8080/"
        },
        "id": "KE9gUryAOqig",
        "outputId": "d137fddb-7efc-4773-ce5a-7ba046fec407"
      },
      "outputs": [
        {
          "output_type": "stream",
          "name": "stdout",
          "text": [
            "0.3333333333333333\n",
            "0.3333333333333333\n"
          ]
        }
      ],
      "source": [
        "print(1/3)\n",
        "print(1.0/3)"
      ]
    },
    {
      "cell_type": "markdown",
      "metadata": {
        "id": "Jzhef6jt3VFa"
      },
      "source": [
        "**My own example 147**"
      ]
    },
    {
      "cell_type": "code",
      "execution_count": null,
      "metadata": {
        "colab": {
          "base_uri": "https://localhost:8080/"
        },
        "id": "r4MCGGTXASbm",
        "outputId": "70be1afb-d354-444e-ae7f-c17149615870"
      },
      "outputs": [
        {
          "output_type": "stream",
          "name": "stdout",
          "text": [
            "0.75\n",
            "0.75\n"
          ]
        }
      ],
      "source": [
        "print(3/4)\n",
        "print(3.0/4.0)"
      ]
    },
    {
      "cell_type": "markdown",
      "metadata": {
        "id": "AN5Oa3DoS_Nf"
      },
      "source": [
        "# Data Collections\n",
        "\n",
        "## List\n",
        "A list is an ordered collection of values. A list is mutable, which means you can change a list's value without changing the list itself. Creating a list is simply putting different comma-separated values between square brackets."
      ]
    },
    {
      "cell_type": "code",
      "execution_count": null,
      "metadata": {
        "colab": {
          "base_uri": "https://localhost:8080/"
        },
        "id": "-tQdNqCvOqig",
        "outputId": "878df1bb-8915-46ae-e029-4cc0138e0d96"
      },
      "outputs": [
        {
          "output_type": "stream",
          "name": "stdout",
          "text": [
            "['Quant', 'Connect', 1, 2, 3]\n"
          ]
        }
      ],
      "source": [
        "my_list = ['Quant', 'Connect', 1,2,3]\n",
        "print(my_list)"
      ]
    },
    {
      "cell_type": "markdown",
      "metadata": {
        "id": "vWf1TKhW3Y1r"
      },
      "source": [
        "**My own example 148**"
      ]
    },
    {
      "cell_type": "code",
      "execution_count": null,
      "metadata": {
        "colab": {
          "base_uri": "https://localhost:8080/"
        },
        "id": "Iai6Jl-PAbgn",
        "outputId": "0c1e9997-05b1-4706-c156-5b6cf8c2d0d8"
      },
      "outputs": [
        {
          "output_type": "stream",
          "name": "stdout",
          "text": [
            "['Caso', 'Carro', 1, 2, 3]\n"
          ]
        }
      ],
      "source": [
        "my_list_es = ['Caso', 'Carro', 1,2,3]\n",
        "print(my_list_es)"
      ]
    },
    {
      "cell_type": "markdown",
      "metadata": {
        "id": "1O0TsgZCTHrM"
      },
      "source": [
        "The values in a list are called \"elements\". We can access list elements by indexing. Python index starts from 0. So if you have a list of length n, the index of the first element will be 0, and that of the last element will be n − 1. By the way, the length of a list can be obtained by the built-in function len()."
      ]
    },
    {
      "cell_type": "code",
      "execution_count": null,
      "metadata": {
        "colab": {
          "base_uri": "https://localhost:8080/"
        },
        "id": "QhuVhRR5Oqih",
        "outputId": "b66fb541-cd9e-4721-f694-1a2ce18ce96c"
      },
      "outputs": [
        {
          "output_type": "stream",
          "name": "stdout",
          "text": [
            "5\n",
            "Quant\n",
            "3\n"
          ]
        }
      ],
      "source": [
        "my_list = ['Quant', 'Connect', 1,2,3]\n",
        "print(len(my_list))\n",
        "print(my_list[0])\n",
        "print(my_list[len(my_list) -1])"
      ]
    },
    {
      "cell_type": "markdown",
      "metadata": {
        "id": "SOEykm043a-I"
      },
      "source": [
        "**My own example 149**"
      ]
    },
    {
      "cell_type": "code",
      "execution_count": null,
      "metadata": {
        "colab": {
          "base_uri": "https://localhost:8080/"
        },
        "id": "VpDI3xa8BFfW",
        "outputId": "2f20dffd-e083-4844-edaf-2b50c05cbccd"
      },
      "outputs": [
        {
          "output_type": "stream",
          "name": "stdout",
          "text": [
            "5\n",
            "Carro\n",
            "3\n"
          ]
        }
      ],
      "source": [
        "my_list_es = ['Caso', 'Carro', 1,2,3]\n",
        "print(len(my_list_es))\n",
        "print(my_list_es[1])\n",
        "print(my_list_es[len(my_list) -1])"
      ]
    },
    {
      "cell_type": "markdown",
      "metadata": {
        "id": "jgSZy1VGTKSc"
      },
      "source": [
        "You can also change the elements in the list by accessing an index and assigning a new value."
      ]
    },
    {
      "cell_type": "code",
      "execution_count": null,
      "metadata": {
        "colab": {
          "base_uri": "https://localhost:8080/"
        },
        "id": "NQBNLjAvOqih",
        "outputId": "237125da-d29c-4dd1-9843-df80408f8135"
      },
      "outputs": [
        {
          "output_type": "stream",
          "name": "stdout",
          "text": [
            "['Quant', 'Connect', 'go', 2, 3]\n"
          ]
        }
      ],
      "source": [
        "my_list = ['Quant','Connect',1,2,3]\n",
        "my_list[2] = 'go'\n",
        "print(my_list)"
      ]
    },
    {
      "cell_type": "markdown",
      "metadata": {
        "id": "RpA0Usar3dsP"
      },
      "source": [
        "**My own example 150**"
      ]
    },
    {
      "cell_type": "code",
      "execution_count": null,
      "metadata": {
        "colab": {
          "base_uri": "https://localhost:8080/"
        },
        "id": "ejUrrjOEBcvG",
        "outputId": "692bacba-3c99-40b9-baf4-293f395e8dfa"
      },
      "outputs": [
        {
          "output_type": "stream",
          "name": "stdout",
          "text": [
            "['Caso', 'Carro', 'Moto', 2, 3]\n"
          ]
        }
      ],
      "source": [
        "my_list_es = ['Caso', 'Carro', 1,2,3]\n",
        "my_list_es[2] = 'Moto'\n",
        "print(my_list_es)"
      ]
    },
    {
      "cell_type": "markdown",
      "metadata": {
        "id": "EQPs5ojoTVrk"
      },
      "source": [
        "A list can also be sliced with a colon:"
      ]
    },
    {
      "cell_type": "code",
      "execution_count": null,
      "metadata": {
        "colab": {
          "base_uri": "https://localhost:8080/"
        },
        "id": "keNX2RbtOqii",
        "outputId": "998754d4-5c95-484a-b25a-cbf1f31d5c98"
      },
      "outputs": [
        {
          "output_type": "stream",
          "name": "stdout",
          "text": [
            "['Connect', 1]\n"
          ]
        }
      ],
      "source": [
        "my_list = ['Quant','Connect',1,2,3]\n",
        "print(my_list[1:3])"
      ]
    },
    {
      "cell_type": "markdown",
      "metadata": {
        "id": "mThBmnb13fYW"
      },
      "source": [
        "**My own example 151**"
      ]
    },
    {
      "cell_type": "code",
      "execution_count": null,
      "metadata": {
        "colab": {
          "base_uri": "https://localhost:8080/"
        },
        "id": "Pe5GqjiCBpeO",
        "outputId": "ca03c140-b812-415d-d43f-1579c9ae0034"
      },
      "outputs": [
        {
          "output_type": "stream",
          "name": "stdout",
          "text": [
            "[1, 2]\n"
          ]
        }
      ],
      "source": [
        "my_list_es = ['Caso', 'Carro', 1,2,3]\n",
        "print(my_list_es[2:4])"
      ]
    },
    {
      "cell_type": "markdown",
      "metadata": {
        "id": "AZqQd0K8TYul"
      },
      "source": [
        "The slice starts from the first element indicated, but excludes the last element indicated. Here we select all elements starting from index 1, which refers to the second element:"
      ]
    },
    {
      "cell_type": "code",
      "execution_count": null,
      "metadata": {
        "colab": {
          "base_uri": "https://localhost:8080/"
        },
        "id": "0-76sLfkOqii",
        "outputId": "80d19530-6d5a-48aa-d8bd-6e18ca54bb72"
      },
      "outputs": [
        {
          "output_type": "stream",
          "name": "stdout",
          "text": [
            "['Connect', 1, 2, 3]\n"
          ]
        }
      ],
      "source": [
        "print(my_list[1:])"
      ]
    },
    {
      "cell_type": "markdown",
      "metadata": {
        "id": "UVCEYeKg3j2t"
      },
      "source": [
        "**My own example 152**"
      ]
    },
    {
      "cell_type": "code",
      "execution_count": null,
      "metadata": {
        "colab": {
          "base_uri": "https://localhost:8080/"
        },
        "id": "KWSY-RytCRVW",
        "outputId": "1aba097a-2bf9-4bad-fc13-eb442bc4825a"
      },
      "outputs": [
        {
          "output_type": "stream",
          "name": "stdout",
          "text": [
            "['Carro', 1, 2, 3]\n"
          ]
        }
      ],
      "source": [
        "print(my_list_es[1:])"
      ]
    },
    {
      "cell_type": "markdown",
      "metadata": {
        "id": "XBqvhUdZVKWs"
      },
      "source": [
        "And all elements up to but excluding index 3:"
      ]
    },
    {
      "cell_type": "code",
      "execution_count": null,
      "metadata": {
        "colab": {
          "base_uri": "https://localhost:8080/"
        },
        "id": "5NWr75L9Oqii",
        "outputId": "f65c5926-ad7a-462d-d65a-5886fa72c6be"
      },
      "outputs": [
        {
          "output_type": "stream",
          "name": "stdout",
          "text": [
            "['Quant', 'Connect', 1]\n"
          ]
        }
      ],
      "source": [
        "print(my_list[:3])"
      ]
    },
    {
      "cell_type": "markdown",
      "metadata": {
        "id": "e7OhsfvE3lCq"
      },
      "source": [
        "**My own example 153**"
      ]
    },
    {
      "cell_type": "code",
      "execution_count": null,
      "metadata": {
        "colab": {
          "base_uri": "https://localhost:8080/"
        },
        "id": "E7kEDTe5CVAo",
        "outputId": "11c9b8da-4ef4-49dc-825e-2d05744b1cb6"
      },
      "outputs": [
        {
          "output_type": "stream",
          "name": "stdout",
          "text": [
            "['Caso', 'Carro', 1]\n"
          ]
        }
      ],
      "source": [
        "print(my_list_es[:3])"
      ]
    },
    {
      "cell_type": "markdown",
      "metadata": {
        "id": "eAFmM6bkTZz9"
      },
      "source": [
        "If you wish to add or remove an element from a list, you can use the append() and remove() methods for lists as follows:"
      ]
    },
    {
      "cell_type": "code",
      "execution_count": null,
      "metadata": {
        "colab": {
          "base_uri": "https://localhost:8080/"
        },
        "id": "pHmgTPElTo19",
        "outputId": "ce700f6f-6014-4474-e494-a844c3267cab"
      },
      "outputs": [
        {
          "output_type": "stream",
          "name": "stdout",
          "text": [
            "['Hello', 'Quant', 'Hello']\n"
          ]
        }
      ],
      "source": [
        "my_list = ['Hello', 'Quant']\n",
        "my_list.append('Hello')\n",
        "print(my_list)\n",
        "\n"
      ]
    },
    {
      "cell_type": "markdown",
      "metadata": {
        "id": "8p3Bs_jH3mTS"
      },
      "source": [
        "**My own example 154**"
      ]
    },
    {
      "cell_type": "code",
      "execution_count": null,
      "metadata": {
        "colab": {
          "base_uri": "https://localhost:8080/"
        },
        "id": "9DmTz9f1CbiO",
        "outputId": "88cecaf7-1fea-42c3-81f5-643626998a8c"
      },
      "outputs": [
        {
          "output_type": "stream",
          "name": "stdout",
          "text": [
            "['Hola', 'Juan', 'Hola']\n"
          ]
        }
      ],
      "source": [
        "my_list_es = ['Hola', 'Juan']\n",
        "my_list_es.append('Hola')\n",
        "print(my_list_es)\n"
      ]
    },
    {
      "cell_type": "code",
      "execution_count": null,
      "metadata": {
        "colab": {
          "base_uri": "https://localhost:8080/"
        },
        "id": "4C4U1Yf0Tr8l",
        "outputId": "082a4a30-936d-4dae-e667-1431f17a702b"
      },
      "outputs": [
        {
          "output_type": "stream",
          "name": "stdout",
          "text": [
            "['Quant', 'Hello']\n"
          ]
        }
      ],
      "source": [
        "my_list.remove('Hello')\n",
        "print(my_list)"
      ]
    },
    {
      "cell_type": "markdown",
      "metadata": {
        "id": "eAN2T1rJ3ntI"
      },
      "source": [
        "**My own example 155**"
      ]
    },
    {
      "cell_type": "code",
      "execution_count": null,
      "metadata": {
        "colab": {
          "base_uri": "https://localhost:8080/"
        },
        "id": "VuUHpXG1Cm3-",
        "outputId": "0f665cfe-bf87-4c46-d6b0-1198c4e7699f"
      },
      "outputs": [
        {
          "output_type": "stream",
          "name": "stdout",
          "text": [
            "['Juan', 'Hola']\n"
          ]
        }
      ],
      "source": [
        "my_list_es.remove('Hola')\n",
        "print(my_list_es)"
      ]
    },
    {
      "cell_type": "markdown",
      "metadata": {
        "id": "11W1gG-cVmOU"
      },
      "source": [
        "When there are repeated instances of \"Hello\", the first one is removed.\n",
        "\n",
        "## Tuple\n",
        "A tuple is a data structure type similar to a list. The difference is that a tuple is immutable, which means you can't change the elements in it once it's defined. We create a tuple by putting comma-separated values between parentheses."
      ]
    },
    {
      "cell_type": "code",
      "execution_count": null,
      "metadata": {
        "collapsed": true,
        "id": "vPmn6BAaOqii"
      },
      "outputs": [],
      "source": [
        "my_tuple = ('Welcome','to','QuantConnect')"
      ]
    },
    {
      "cell_type": "markdown",
      "metadata": {
        "id": "PRkeJ-fX3ql1"
      },
      "source": [
        "**My own example 156**"
      ]
    },
    {
      "cell_type": "code",
      "execution_count": null,
      "metadata": {
        "id": "XyT1PPC4DR5-"
      },
      "outputs": [],
      "source": [
        "my_tuple_es = ('Bienvenido','a','la nacho')"
      ]
    },
    {
      "cell_type": "markdown",
      "metadata": {
        "id": "zMIme4dDV0Wz"
      },
      "source": [
        "Just like a list, a tuple can be sliced by using index."
      ]
    },
    {
      "cell_type": "code",
      "execution_count": null,
      "metadata": {
        "colab": {
          "base_uri": "https://localhost:8080/"
        },
        "id": "8P-ddO0sOqii",
        "outputId": "272722ac-7f66-4180-d77c-3da3d0dc05b2"
      },
      "outputs": [
        {
          "output_type": "stream",
          "name": "stdout",
          "text": [
            "('to', 'QuantConnect')\n"
          ]
        }
      ],
      "source": [
        "my_tuple = ('Welcome','to','QuantConnect')\n",
        "print(my_tuple[1:])"
      ]
    },
    {
      "cell_type": "markdown",
      "metadata": {
        "id": "nBAFseNn3rw2"
      },
      "source": [
        "**My own example 157**"
      ]
    },
    {
      "cell_type": "code",
      "execution_count": null,
      "metadata": {
        "colab": {
          "base_uri": "https://localhost:8080/"
        },
        "id": "4W_sIy1FDPtW",
        "outputId": "9a8f29e4-28fa-4752-98cc-0b4be3f011cc"
      },
      "outputs": [
        {
          "output_type": "stream",
          "name": "stdout",
          "text": [
            "('a', 'la nacho')\n"
          ]
        }
      ],
      "source": [
        "print(my_tuple_es[1:])"
      ]
    },
    {
      "cell_type": "markdown",
      "metadata": {
        "id": "l2JqbusAV1Y2"
      },
      "source": [
        "## Set\n",
        "A set is an **unordered**  collection with **no duplicate** elements. The built-in function **set()** can be used to create sets."
      ]
    },
    {
      "cell_type": "code",
      "execution_count": null,
      "metadata": {
        "colab": {
          "base_uri": "https://localhost:8080/"
        },
        "id": "Plau8r-UOqij",
        "outputId": "7822e42d-9516-447b-981f-8802bd82cceb"
      },
      "outputs": [
        {
          "output_type": "stream",
          "name": "stdout",
          "text": [
            "{'AAPL', 'F', 'FB', 'IBM', 'GOOG'}\n"
          ]
        }
      ],
      "source": [
        "stock_list = ['AAPL','GOOG','IBM','AAPL','IBM','FB','F','GOOG']\n",
        "stock_set = set(stock_list)\n",
        "print(stock_set)"
      ]
    },
    {
      "cell_type": "markdown",
      "metadata": {
        "id": "LQXt2GrB3uRk"
      },
      "source": [
        "**My own example 158**"
      ]
    },
    {
      "cell_type": "code",
      "execution_count": null,
      "metadata": {
        "colab": {
          "base_uri": "https://localhost:8080/"
        },
        "id": "E-5ydYGcDixm",
        "outputId": "bfa19634-3c28-476d-9967-3450615601ef"
      },
      "outputs": [
        {
          "output_type": "stream",
          "name": "stdout",
          "text": [
            "{'TSL', 'AAPL', 'F', 'FB', 'MSFT', 'IBM', 'GOOG'}\n"
          ]
        }
      ],
      "source": [
        "stock_list_es = ['MSFT','GOOG','IBM','TSL','IBM','FB','F','AAPL']\n",
        "stock_set_es = set(stock_list_es)\n",
        "print(stock_set_es)"
      ]
    },
    {
      "cell_type": "markdown",
      "metadata": {
        "id": "Jyb4GGIoWIHk"
      },
      "source": [
        "Set is an easy way to remove duplicate elements from a list.\n",
        "\n",
        "##Dictionary\n",
        "A dictionary is one of the most important data structures in Python. Unlike sequences which are indexed by integers, dictionaries are indexed by keys which can be either strings or floats.\n",
        "\n",
        "A dictionary is an **unordered** collection of key : value pairs, with the requirement that the keys are unique. We create a dictionary by placing a comma-separated list of key : value pairs within the braces."
      ]
    },
    {
      "cell_type": "code",
      "execution_count": null,
      "metadata": {
        "collapsed": true,
        "id": "36mTe5BaOqij"
      },
      "outputs": [],
      "source": [
        "my_dic = {'AAPL':'AAPLE', 'FB':'FaceBook', 'GOOG':'Alphabet'}"
      ]
    },
    {
      "cell_type": "markdown",
      "metadata": {
        "id": "aDp8z2NE3w-0"
      },
      "source": [
        "**My own example 159**"
      ]
    },
    {
      "cell_type": "code",
      "execution_count": null,
      "metadata": {
        "id": "IfgGptUsD7r2"
      },
      "outputs": [],
      "source": [
        "my_dic_es = {'MSFT':'Microsoft', 'AAPL':'Apple', 'TSL':'Tesla'}"
      ]
    },
    {
      "cell_type": "code",
      "execution_count": null,
      "metadata": {
        "colab": {
          "base_uri": "https://localhost:8080/"
        },
        "id": "KUfdVf43Oqij",
        "outputId": "bef09317-a27d-4c9c-d175-9ac4cda8bce8"
      },
      "outputs": [
        {
          "output_type": "stream",
          "name": "stdout",
          "text": [
            "Alphabet\n"
          ]
        }
      ],
      "source": [
        "print(my_dic['GOOG'])"
      ]
    },
    {
      "cell_type": "code",
      "execution_count": null,
      "metadata": {
        "colab": {
          "base_uri": "https://localhost:8080/"
        },
        "id": "DMXZdaV_EIue",
        "outputId": "28fef8a5-0023-476c-fa76-29da0e062202"
      },
      "outputs": [
        {
          "output_type": "stream",
          "name": "stdout",
          "text": [
            "Tesla\n"
          ]
        }
      ],
      "source": [
        "print(my_dic_es['TSL'])"
      ]
    },
    {
      "cell_type": "markdown",
      "metadata": {
        "id": "gSicoNqDWP4c"
      },
      "source": [
        "After defining a dictionary, we can access any value by indicating its key in brackets."
      ]
    },
    {
      "cell_type": "code",
      "execution_count": null,
      "metadata": {
        "colab": {
          "base_uri": "https://localhost:8080/"
        },
        "id": "IrTZdq9FOqij",
        "outputId": "6b28dba5-d863-4e7c-ba59-ce49029393e2"
      },
      "outputs": [
        {
          "output_type": "stream",
          "name": "stdout",
          "text": [
            "Alphabet Company\n"
          ]
        }
      ],
      "source": [
        "my_dic['GOOG'] = 'Alphabet Company'\n",
        "print(my_dic['GOOG'])"
      ]
    },
    {
      "cell_type": "markdown",
      "metadata": {
        "id": "T4XUHEY830lZ"
      },
      "source": [
        "**My own example 160**"
      ]
    },
    {
      "cell_type": "code",
      "execution_count": null,
      "metadata": {
        "colab": {
          "base_uri": "https://localhost:8080/"
        },
        "id": "cu5CC40WEO72",
        "outputId": "95997594-81c0-4459-8afa-8f0ff7f19a66"
      },
      "outputs": [
        {
          "output_type": "stream",
          "name": "stdout",
          "text": [
            "Tesla Incorporated\n"
          ]
        }
      ],
      "source": [
        "my_dic_es['TSL'] = 'Tesla Incorporated'\n",
        "print(my_dic_es['TSL'])"
      ]
    },
    {
      "cell_type": "markdown",
      "metadata": {
        "id": "M9sDsTEMWQvc"
      },
      "source": [
        "We can also change the value associated with a specified key:"
      ]
    },
    {
      "cell_type": "code",
      "execution_count": null,
      "metadata": {
        "colab": {
          "base_uri": "https://localhost:8080/"
        },
        "id": "lupRHf1_Oqij",
        "outputId": "96ae320b-4fd9-499e-f6d6-fb5d3fe26afb"
      },
      "outputs": [
        {
          "output_type": "stream",
          "name": "stdout",
          "text": [
            "dict_keys(['AAPL', 'FB', 'GOOG'])\n"
          ]
        }
      ],
      "source": [
        "print(my_dic.keys())"
      ]
    },
    {
      "cell_type": "markdown",
      "metadata": {
        "id": "xbelbAcw3169"
      },
      "source": [
        "**My own example 161**"
      ]
    },
    {
      "cell_type": "code",
      "execution_count": null,
      "metadata": {
        "colab": {
          "base_uri": "https://localhost:8080/"
        },
        "id": "inB01Mw2EYff",
        "outputId": "769203e3-c068-4312-8cbe-06621f09d067"
      },
      "outputs": [
        {
          "output_type": "stream",
          "name": "stdout",
          "text": [
            "dict_keys(['MSFT', 'AAPL', 'TSL'])\n"
          ]
        }
      ],
      "source": [
        "print(my_dic_es.keys())"
      ]
    },
    {
      "cell_type": "markdown",
      "metadata": {
        "id": "VPuDinlwWS9D"
      },
      "source": [
        "The built-in method of the dictionary object dict.keys() returns a list of all the keys used in the dictionary."
      ]
    },
    {
      "cell_type": "markdown",
      "metadata": {
        "id": "kSGzgNb2Womz"
      },
      "source": [
        "# Common String Operations\n",
        "A string is an immutable sequence of characters. It can be sliced by index just like a tuple:"
      ]
    },
    {
      "cell_type": "code",
      "execution_count": null,
      "metadata": {
        "colab": {
          "base_uri": "https://localhost:8080/"
        },
        "id": "xPojDnm9Oqik",
        "outputId": "5d917935-22d4-416c-9eaf-3b6b57c2d108"
      },
      "outputs": [
        {
          "output_type": "stream",
          "name": "stdout",
          "text": [
            "to QuantConnect\n"
          ]
        }
      ],
      "source": [
        "my_str = 'Welcome to QuantConnect'\n",
        "print(my_str[8:])"
      ]
    },
    {
      "cell_type": "markdown",
      "metadata": {
        "id": "l1a-czci34GB"
      },
      "source": [
        "**My own example 162**"
      ]
    },
    {
      "cell_type": "code",
      "execution_count": null,
      "metadata": {
        "colab": {
          "base_uri": "https://localhost:8080/"
        },
        "id": "14RqBG8pEeM_",
        "outputId": "e5839884-4240-4fd6-8d19-ccc0a5daf518"
      },
      "outputs": [
        {
          "output_type": "stream",
          "name": "stdout",
          "text": [
            "do a unal\n"
          ]
        }
      ],
      "source": [
        "my_str_es = 'Bienvenido a unal'\n",
        "print(my_str_es[8:])"
      ]
    },
    {
      "cell_type": "markdown",
      "metadata": {
        "id": "wuJYy7tvWtM7"
      },
      "source": [
        "There are many methods associated with strings. We can use string.count() to count the occurrences of a character in a string, use string.find() to return the index of a specific character, and use string.replace() to replace characters"
      ]
    },
    {
      "cell_type": "code",
      "execution_count": null,
      "metadata": {
        "colab": {
          "base_uri": "https://localhost:8080/"
        },
        "id": "u9deZq1SOqik",
        "outputId": "0b351a62-f821-4f00-cf18-3be295dd8589"
      },
      "outputs": [
        {
          "output_type": "stream",
          "name": "stdout",
          "text": [
            "7\n",
            "2\n",
            "ell the e in this sentence now becomes e\n"
          ]
        }
      ],
      "source": [
        "print('Counting the number of e appears in this sentence'.count('e'))\n",
        "print('The first time e appears in this sentence'.find('e'))\n",
        "print('all the a in this sentence now becomes e'.replace('a','e'))"
      ]
    },
    {
      "cell_type": "markdown",
      "metadata": {
        "id": "PJohf5Li35qp"
      },
      "source": [
        "**My own example 163**"
      ]
    },
    {
      "cell_type": "code",
      "execution_count": null,
      "metadata": {
        "colab": {
          "base_uri": "https://localhost:8080/"
        },
        "id": "bz-WRDIyEocp",
        "outputId": "bbd78675-f821-45cc-de13-05c7ed728ceb"
      },
      "outputs": [
        {
          "output_type": "stream",
          "name": "stdout",
          "text": [
            "2\n",
            "2\n",
            "Bienvenido e unel\n"
          ]
        }
      ],
      "source": [
        "print(my_str_es.count('e'))\n",
        "print(my_str_es.find('e'))\n",
        "print(my_str_es.replace('a','e'))"
      ]
    },
    {
      "cell_type": "markdown",
      "metadata": {
        "id": "sJPn3rkvWwHN"
      },
      "source": [
        "The most commonly used method for strings is string.split(). This method will split the string by the indicated character and return a list:"
      ]
    },
    {
      "cell_type": "code",
      "execution_count": null,
      "metadata": {
        "colab": {
          "base_uri": "https://localhost:8080/"
        },
        "id": "hbIaFLFHOqik",
        "outputId": "6ca15ccc-6f67-4e9a-fb1e-d195183e3ada"
      },
      "outputs": [
        {
          "output_type": "stream",
          "name": "stdout",
          "text": [
            "2016-04-01 09:43:00\n",
            "09\n"
          ]
        }
      ],
      "source": [
        "Time = '2016-04-01 09:43:00'\n",
        "splited_list = Time.split(' ')\n",
        "date = splited_list[0]\n",
        "time = splited_list[1]\n",
        "print(date, time)\n",
        "hour = time.split(':')[0]\n",
        "print(hour)"
      ]
    },
    {
      "cell_type": "markdown",
      "metadata": {
        "id": "xtOBL29i3-hs"
      },
      "source": [
        "**My own example 164**"
      ]
    },
    {
      "cell_type": "code",
      "execution_count": null,
      "metadata": {
        "colab": {
          "base_uri": "https://localhost:8080/"
        },
        "id": "tRWXaDX1FBh-",
        "outputId": "aba14457-ab47-47fe-fe0a-77c2890e0c5d"
      },
      "outputs": [
        {
          "output_type": "stream",
          "name": "stdout",
          "text": [
            "2021-10-28 10:50:57\n",
            "10\n"
          ]
        }
      ],
      "source": [
        "Time_es = '2021-10-28 10:50:57'\n",
        "splited_list_es = Time_es.split(' ')\n",
        "date_es = splited_list_es[0]\n",
        "time_es = splited_list_es[1]\n",
        "print(date_es, time_es)\n",
        "hour_es = time_es.split(':')[0]\n",
        "print(hour_es)"
      ]
    },
    {
      "cell_type": "markdown",
      "metadata": {
        "id": "9cJQGk96WyVc"
      },
      "source": [
        "We can replace parts of a string by our variable. This is called string formatting."
      ]
    },
    {
      "cell_type": "code",
      "execution_count": null,
      "metadata": {
        "colab": {
          "base_uri": "https://localhost:8080/"
        },
        "id": "-E_rIvv6Oqik",
        "outputId": "b97f5ceb-d9dd-45e8-f3b1-4a16cb86b72d"
      },
      "outputs": [
        {
          "output_type": "stream",
          "name": "stdout",
          "text": [
            "Hour: 09, Minute:43\n"
          ]
        }
      ],
      "source": [
        "my_time = 'Hour: {}, Minute:{}'.format('09','43')\n",
        "print(my_time)"
      ]
    },
    {
      "cell_type": "markdown",
      "metadata": {
        "id": "ihbZYo8S3_7W"
      },
      "source": [
        "**My own example 165**"
      ]
    },
    {
      "cell_type": "code",
      "execution_count": null,
      "metadata": {
        "colab": {
          "base_uri": "https://localhost:8080/"
        },
        "id": "4lNQbaMNFXom",
        "outputId": "a96bfec5-444e-420e-cd9a-8dad1666e119"
      },
      "outputs": [
        {
          "output_type": "stream",
          "name": "stdout",
          "text": [
            "Hour: 10, Minute:04\n"
          ]
        }
      ],
      "source": [
        "my_time_es = 'Hour: {}, Minute:{}'.format('10','04')\n",
        "print(my_time_es)"
      ]
    },
    {
      "cell_type": "markdown",
      "metadata": {
        "id": "1_NbVldpWzAs"
      },
      "source": [
        "Another way to format a string is to use the % symbol."
      ]
    },
    {
      "cell_type": "code",
      "execution_count": null,
      "metadata": {
        "colab": {
          "base_uri": "https://localhost:8080/"
        },
        "id": "4rZ4rkD2Oqik",
        "outputId": "53dd2b7f-96d6-4d76-83ea-3e9e2c6b02bb"
      },
      "outputs": [
        {
          "output_type": "stream",
          "name": "stdout",
          "text": [
            "the pi number is 3.140000\n",
            "Welcome to Quantconnect\n"
          ]
        }
      ],
      "source": [
        "print('the pi number is %f'%3.14)\n",
        "print('%s to %s'%('Welcome','Quantconnect'))"
      ]
    },
    {
      "cell_type": "markdown",
      "metadata": {
        "id": "dIS0w1IM4B3Y"
      },
      "source": [
        "**My own example 166**"
      ]
    },
    {
      "cell_type": "code",
      "execution_count": null,
      "metadata": {
        "colab": {
          "base_uri": "https://localhost:8080/"
        },
        "id": "-vomdg8lFfBu",
        "outputId": "245b4406-f395-4e65-dba4-ce0fb8a7724a"
      },
      "outputs": [
        {
          "output_type": "stream",
          "name": "stdout",
          "text": [
            "A number is 8.000000\n",
            "Bienvenido a a la unal\n"
          ]
        }
      ],
      "source": [
        "print('A number is %f'%8)\n",
        "print('%s a %s'%('Bienvenido','a la unal'))"
      ]
    },
    {
      "cell_type": "markdown",
      "metadata": {
        "id": "v_5cocrDW3MN"
      },
      "source": [
        "# Summary\n",
        "\n",
        "Weave seen the basic data types and data structures in Python. It's important to keep practicing to become familiar with these data structures. In the next tutorial, we will cover for and while loops and logical operations in Python."
      ]
    },
    {
      "cell_type": "markdown",
      "metadata": {
        "id": "QL6dNxwCXNEt"
      },
      "source": [
        "\n",
        "# 02 Logical Operations and Loops\n",
        "\n",
        "# Introduction\n",
        "We discussed the basic data types and data structures in Python in the last tutorial. This chapter covers logical operations and loops in Python, which are very common in programming.\n",
        "\n",
        "# Logical Operations\n",
        "Like most programming languages, Python has comparison operators:"
      ]
    },
    {
      "cell_type": "code",
      "execution_count": null,
      "metadata": {
        "colab": {
          "base_uri": "https://localhost:8080/"
        },
        "id": "70Guys_rOv7a",
        "outputId": "8a03fda9-1041-4746-ebc9-f8a077586dd0"
      },
      "outputs": [
        {
          "output_type": "stream",
          "name": "stdout",
          "text": [
            "False\n",
            "True\n",
            "True\n",
            "True\n",
            "False\n"
          ]
        }
      ],
      "source": [
        "print(1 == 0)\n",
        "print(1 == 1)\n",
        "print(1 != 0)\n",
        "print(5 >= 5)\n",
        "print(5 >= 6)"
      ]
    },
    {
      "cell_type": "markdown",
      "metadata": {
        "id": "r6QF5uHs4DuP"
      },
      "source": [
        "**My own example 167**"
      ]
    },
    {
      "cell_type": "code",
      "execution_count": null,
      "metadata": {
        "colab": {
          "base_uri": "https://localhost:8080/"
        },
        "id": "up2ypPOLGPxe",
        "outputId": "4bd34e23-ac0b-402e-f6ac-3471ba83032f"
      },
      "outputs": [
        {
          "output_type": "stream",
          "name": "stdout",
          "text": [
            "False\n",
            "True\n",
            "False\n",
            "True\n",
            "True\n"
          ]
        }
      ],
      "source": [
        "print(44 == 5)\n",
        "print(1 == 1)\n",
        "print(56 != 56)\n",
        "print(9 >= 5)\n",
        "print(76 >= 54)"
      ]
    },
    {
      "cell_type": "markdown",
      "metadata": {
        "id": "8aFHYDj-YTXt"
      },
      "source": [
        "Each statement above has a boolean value, which must be either True or False, but not both.\n",
        "\n",
        "We can combine simple statements P and Q to form complex statements using logical operators:\n",
        "\n",
        "- The statement \"P and Q\" is true if both P and Q are true, otherwise it is false.\n",
        "- The statement \"P or Q\" is false if both P and Q are false, otherwise it is true.\n",
        "- The statement \"not P\" is true if P is false, and vice versa."
      ]
    },
    {
      "cell_type": "code",
      "execution_count": null,
      "metadata": {
        "colab": {
          "base_uri": "https://localhost:8080/"
        },
        "id": "O5YEEcUbOv7d",
        "outputId": "7902ccdc-1d35-4ee6-936d-2640f552bb3c"
      },
      "outputs": [
        {
          "output_type": "stream",
          "name": "stdout",
          "text": [
            "True\n",
            "False\n",
            "True\n",
            "False\n"
          ]
        }
      ],
      "source": [
        "print(2 > 1 and 3 > 2)\n",
        "print(2 > 1 and 3 < 2) \n",
        "print(2 > 1 or 3 < 2)\n",
        "print(2 < 1 and 3 < 2)"
      ]
    },
    {
      "cell_type": "markdown",
      "metadata": {
        "id": "FMSLtnmO4F01"
      },
      "source": [
        "**My own example 168**"
      ]
    },
    {
      "cell_type": "code",
      "execution_count": null,
      "metadata": {
        "colab": {
          "base_uri": "https://localhost:8080/"
        },
        "id": "7TUGpMhOGY2l",
        "outputId": "0ba08af7-97ab-42a9-d596-3705dafa18d1"
      },
      "outputs": [
        {
          "output_type": "stream",
          "name": "stdout",
          "text": [
            "False\n",
            "False\n",
            "True\n",
            "True\n"
          ]
        }
      ],
      "source": [
        "print(5 > 17 and 14 > 12)\n",
        "print(74 > 318 and 83 < 0) \n",
        "print(11 > 44 or 1 < 45)\n",
        "print(65 < 346 and 58 < 64)"
      ]
    },
    {
      "cell_type": "markdown",
      "metadata": {
        "id": "Dy7yzoSXYXmL"
      },
      "source": [
        "When dealing with a very complex logical statement that involves in several statements, we can use brackets to separate and combine them."
      ]
    },
    {
      "cell_type": "code",
      "execution_count": null,
      "metadata": {
        "colab": {
          "base_uri": "https://localhost:8080/"
        },
        "id": "QZ-W2xJZOv7d",
        "outputId": "d42da3b1-048d-4188-e789-65ab7e1dbe01"
      },
      "outputs": [
        {
          "output_type": "stream",
          "name": "stdout",
          "text": [
            "False\n",
            "True\n"
          ]
        }
      ],
      "source": [
        "print((3 > 2 or 1 < 3) and (1!=3 and 4>3) and not ( 3 < 2 or 1 < 3 and (1!=3 and 4>3)))\n",
        "print(3 > 2 or 1 < 3 and (1!=3 and 4>3) and not ( 3 < 2 or 1 < 3 and (1!=3 and 4>3)))"
      ]
    },
    {
      "cell_type": "markdown",
      "metadata": {
        "id": "T1mfcNtr4G4K"
      },
      "source": [
        "**My own example 169**"
      ]
    },
    {
      "cell_type": "code",
      "execution_count": null,
      "metadata": {
        "colab": {
          "base_uri": "https://localhost:8080/"
        },
        "id": "yUiySOBuGmzG",
        "outputId": "f15226ff-219b-4587-cc99-f97600f6346b"
      },
      "outputs": [
        {
          "output_type": "stream",
          "name": "stdout",
          "text": [
            "False\n",
            "True\n"
          ]
        }
      ],
      "source": [
        "print((124 > 2 or 2 < 124) and (2!=1 and 48>125) and not ( 17 < 25 or 25 < 123 and (25!=123 and 43>12)))\n",
        "print(124 > 2 or 2 < 124 and (2!=1 and 48>125) and not ( 124 < 42 or 256 < 123 and (24!=12 and 43>12)))"
      ]
    },
    {
      "cell_type": "markdown",
      "metadata": {
        "id": "s95xoRYMYaPD"
      },
      "source": [
        "Comparing the above two statements, we can see that it's wise to use brackets when we make a complex logical statement.\n",
        "\n",
        "# If Statement\n",
        "An if statement executes a segment of code only if its condition is true. A standard if statement consists of 3 segments: if, elif and else."
      ]
    },
    {
      "cell_type": "markdown",
      "metadata": {
        "id": "aRzMMitAaBOL"
      },
      "source": [
        "```python\n",
        "if statement1:\n",
        "    # if the statement1 is true, execute the code here.\n",
        "    # code.....\n",
        "    # code.....\n",
        "elif statement2:\n",
        "    # if the statement 1 is false, skip the codes above to this part.\n",
        "    # code......\n",
        "    # code......\n",
        "else:\n",
        "    # if none of the above statements is True, skip to this part\n",
        "    # code......\n",
        "```"
      ]
    },
    {
      "cell_type": "markdown",
      "metadata": {
        "id": "l59R2AS8aH2K"
      },
      "source": [
        "An if statement doesn't necessarily has elif and else part. If it's not specified, the indented block of code will be executed when the condition is true, otherwise the whole if statement will be skipped."
      ]
    },
    {
      "cell_type": "code",
      "execution_count": null,
      "metadata": {
        "colab": {
          "base_uri": "https://localhost:8080/"
        },
        "id": "FZ5GoTXfOv7e",
        "outputId": "fcaead01-6096-4b51-c737-3911ab2c12d9"
      },
      "outputs": [
        {
          "output_type": "stream",
          "name": "stdout",
          "text": [
            "i==0 is True\n"
          ]
        }
      ],
      "source": [
        "i = 0\n",
        "if i == 0:\n",
        "    print('i==0 is True')"
      ]
    },
    {
      "cell_type": "markdown",
      "metadata": {
        "id": "3E3JWqCs4Isq"
      },
      "source": [
        "**My own example 170**"
      ]
    },
    {
      "cell_type": "code",
      "execution_count": null,
      "metadata": {
        "colab": {
          "base_uri": "https://localhost:8080/"
        },
        "id": "ndDDDxGwG4w-",
        "outputId": "544e96ea-487c-4ed1-fa00-9f7dc3fbd607"
      },
      "outputs": [
        {
          "output_type": "stream",
          "name": "stdout",
          "text": [
            "i is Integer\n"
          ]
        }
      ],
      "source": [
        "i = 35\n",
        "if (i > 0) and (i != -1):\n",
        "    print('i is Integer')\n"
      ]
    },
    {
      "cell_type": "markdown",
      "metadata": {
        "id": "nPNW-l5eaJn8"
      },
      "source": [
        "As we mentioned above, we can write some complex statements here:"
      ]
    },
    {
      "cell_type": "code",
      "execution_count": null,
      "metadata": {
        "colab": {
          "base_uri": "https://localhost:8080/"
        },
        "id": "gh-U6nMzOv7e",
        "outputId": "a7dd85e2-5d60-43c9-cc19-4f4e5206b80d"
      },
      "outputs": [
        {
          "output_type": "stream",
          "name": "stdout",
          "text": [
            "q is false\n"
          ]
        }
      ],
      "source": [
        "p = 1 > 0\n",
        "q = 2 > 3\n",
        "if p and q:\n",
        "    print('p and q is true')\n",
        "elif p and not q:\n",
        "    print('q is false')\n",
        "elif q and not p:\n",
        "    print('p is false')\n",
        "else:\n",
        "    print('None of p and q is true')"
      ]
    },
    {
      "cell_type": "markdown",
      "metadata": {
        "id": "lDHqpsq-4TZL"
      },
      "source": [
        "**My own example 171**"
      ]
    },
    {
      "cell_type": "code",
      "execution_count": null,
      "metadata": {
        "colab": {
          "base_uri": "https://localhost:8080/"
        },
        "id": "VwurH_VxH7JO",
        "outputId": "5d8579a1-f1e9-485b-ad7e-a5206a623c22"
      },
      "outputs": [
        {
          "output_type": "stream",
          "name": "stdout",
          "text": [
            "p is false\n"
          ]
        }
      ],
      "source": [
        "p = 27 > 89\n",
        "q = 31 == 31\n",
        "if p and q:\n",
        "    print('p and q is true')\n",
        "elif p and not q:\n",
        "    print('q is false')\n",
        "elif q and not p:\n",
        "    print('p is false')\n",
        "else:\n",
        "    print('None of p and q is true')"
      ]
    },
    {
      "cell_type": "markdown",
      "metadata": {
        "id": "tgRDwiAsaMOL"
      },
      "source": [
        "# Loop Structure\n",
        "Loops are an essential part of programming. The \"for\" and \"while\" loops run a block of code repeatedly.\n",
        "\n",
        "## While Loop\n",
        "A \"while\" loop will run repeatedly until a certain condition has been met."
      ]
    },
    {
      "cell_type": "code",
      "execution_count": null,
      "metadata": {
        "colab": {
          "base_uri": "https://localhost:8080/"
        },
        "id": "uQLau8d5Ov7f",
        "outputId": "e759ecd3-5a43-4973-80c3-a908927140ac"
      },
      "outputs": [
        {
          "output_type": "stream",
          "name": "stdout",
          "text": [
            "0\n",
            "1\n",
            "2\n",
            "3\n",
            "4\n"
          ]
        }
      ],
      "source": [
        "i = 0\n",
        "while i < 5:\n",
        "    print(i)\n",
        "    i += 1 "
      ]
    },
    {
      "cell_type": "markdown",
      "metadata": {
        "id": "rDdTGiY_4VCT"
      },
      "source": [
        "**My own example 172**"
      ]
    },
    {
      "cell_type": "code",
      "execution_count": null,
      "metadata": {
        "colab": {
          "base_uri": "https://localhost:8080/"
        },
        "id": "O_eF4biJIC8G",
        "outputId": "efac6073-e5e0-4a76-9c02-98485aae0ff3"
      },
      "outputs": [
        {
          "output_type": "stream",
          "name": "stdout",
          "text": [
            "0\n",
            "1\n",
            "2\n",
            "3\n",
            "4\n",
            "5\n",
            "6\n",
            "7\n",
            "8\n",
            "9\n"
          ]
        }
      ],
      "source": [
        "i = 0\n",
        "while i < 10:\n",
        "    print(i)\n",
        "    i += 1 "
      ]
    },
    {
      "cell_type": "markdown",
      "metadata": {
        "id": "ydLddFAPaTOE"
      },
      "source": [
        "When making a while loop, we need to ensure that something changes from iteration to iteration so that the while loop will terminate, otherwise, it will run forever. Here we used i += 1 (short for i = i + 1) to make i larger after each iteration. This is the most commonly used method to control a while loop.\n",
        "\n",
        "## For Loop\n",
        "A \"for\" loop will iterate over a sequence of value and terminate when the sequence has ended."
      ]
    },
    {
      "cell_type": "code",
      "execution_count": null,
      "metadata": {
        "colab": {
          "base_uri": "https://localhost:8080/"
        },
        "id": "kt8Ie8u1Ov7f",
        "outputId": "fff94bc7-9913-4959-df8e-ccb26f001a80"
      },
      "outputs": [
        {
          "output_type": "stream",
          "name": "stdout",
          "text": [
            "1\n",
            "2\n",
            "3\n",
            "4\n",
            "5\n"
          ]
        }
      ],
      "source": [
        "for i in [1,2,3,4,5]:\n",
        "    print(i)"
      ]
    },
    {
      "cell_type": "markdown",
      "metadata": {
        "id": "iKZQvyv24WnR"
      },
      "source": [
        "**My own example 173**"
      ]
    },
    {
      "cell_type": "code",
      "execution_count": null,
      "metadata": {
        "colab": {
          "base_uri": "https://localhost:8080/"
        },
        "id": "LQ4ap21_IHz-",
        "outputId": "8e36ac62-3f34-4a2b-8a5f-c0dd47bfd7e2"
      },
      "outputs": [
        {
          "output_type": "stream",
          "name": "stdout",
          "text": [
            "0\n",
            "1\n",
            "2\n",
            "3\n",
            "4\n",
            "5\n",
            "6\n",
            "7\n",
            "8\n",
            "9\n"
          ]
        }
      ],
      "source": [
        "for i in range(10):\n",
        "    print(i)"
      ]
    },
    {
      "cell_type": "markdown",
      "metadata": {
        "id": "yWStqpreaX-T"
      },
      "source": [
        "We can also add if statements in a for loop. Here is a real example from our pairs trading algorithm:"
      ]
    },
    {
      "cell_type": "code",
      "execution_count": null,
      "metadata": {
        "colab": {
          "base_uri": "https://localhost:8080/"
        },
        "id": "kElmffvFOv7f",
        "outputId": "1fa77da7-f8d5-4b8b-e38e-8f1a60e3a32d"
      },
      "outputs": [
        {
          "output_type": "stream",
          "name": "stdout",
          "text": [
            "['AAPL', 'GOOG', 'IBM', 'FB', 'F', 'V', 'G', 'GE']\n"
          ]
        }
      ],
      "source": [
        "stocks = ['AAPL','GOOG','IBM','FB','F','V', 'G', 'GE']\n",
        "selected = ['AAPL','IBM']\n",
        "new_list = []\n",
        "for i in stocks:\n",
        "    if i not in selected:\n",
        "        new_list.append(i)\n",
        "print(stocks)"
      ]
    },
    {
      "cell_type": "markdown",
      "metadata": {
        "id": "wb2hry9dahE0"
      },
      "source": [
        "Here we iterated all the elements in the list 'stocks'. Later in this chapter, we will introduce a smarter way to do this, which is just a one-line code.\n",
        "\n",
        "## Break and continue\n",
        "These are two commonly used commands in a for loop. If \"break\" is triggered while a loop is executing, the loop will terminate immediately:"
      ]
    },
    {
      "cell_type": "code",
      "execution_count": null,
      "metadata": {
        "colab": {
          "base_uri": "https://localhost:8080/"
        },
        "id": "yF5wMVItOv7g",
        "outputId": "9773ec2e-fa45-47e7-a55c-36ecd3403c91"
      },
      "outputs": [
        {
          "output_type": "stream",
          "name": "stdout",
          "text": [
            "AAPL\n",
            "GOOG\n",
            "IBM\n",
            "FB\n"
          ]
        }
      ],
      "source": [
        "stocks = ['AAPL','GOOG','IBM','FB','F','V', 'G', 'GE']\n",
        "for i in stocks:\n",
        "    print(i)\n",
        "    if i == 'FB':\n",
        "        break"
      ]
    },
    {
      "cell_type": "markdown",
      "metadata": {
        "id": "R0toxyp3ao0T"
      },
      "source": [
        "The \"continue\" command tells the loop to end this iteration and skip to the next iteration:"
      ]
    },
    {
      "cell_type": "code",
      "execution_count": null,
      "metadata": {
        "colab": {
          "base_uri": "https://localhost:8080/"
        },
        "id": "Stg-CH6IOv7g",
        "outputId": "64578075-3db2-4338-8205-d40bab9b3080"
      },
      "outputs": [
        {
          "output_type": "stream",
          "name": "stdout",
          "text": [
            "AAPL\n",
            "GOOG\n",
            "IBM\n",
            "F\n",
            "V\n",
            "G\n",
            "GE\n"
          ]
        }
      ],
      "source": [
        "stocks = ['AAPL','GOOG','IBM','FB','F','V', 'G', 'GE']\n",
        "for i in stocks:\n",
        "    if i == 'FB':\n",
        "        continue\n",
        "    print(i)"
      ]
    },
    {
      "cell_type": "markdown",
      "metadata": {
        "id": "4NusvdhBaxpZ"
      },
      "source": [
        "# List Comprehension\n",
        "List comprehension is a Pythonic way to create lists. Common applications are to make new lists where each element is the result of some operations applied to each member of another sequence. For example, if we want to create a list of squares using for loop:"
      ]
    },
    {
      "cell_type": "code",
      "execution_count": null,
      "metadata": {
        "colab": {
          "base_uri": "https://localhost:8080/"
        },
        "id": "bdxxeOABOv7h",
        "outputId": "4a096e91-f391-41f7-d558-dfb17b9a2d20"
      },
      "outputs": [
        {
          "output_type": "stream",
          "name": "stdout",
          "text": [
            "[1, 4, 9, 16, 25]\n"
          ]
        }
      ],
      "source": [
        "squares = []\n",
        "for i in [1,2,3,4,5]:\n",
        "    squares.append(i**2)\n",
        "print(squares)"
      ]
    },
    {
      "cell_type": "markdown",
      "metadata": {
        "id": "--KliJBOa1CC"
      },
      "source": [
        "Using list comprehension:"
      ]
    },
    {
      "cell_type": "code",
      "execution_count": null,
      "metadata": {
        "colab": {
          "base_uri": "https://localhost:8080/"
        },
        "id": "440-yjG8Ov7h",
        "outputId": "382ec739-244f-448a-dd4e-2639923c089b"
      },
      "outputs": [
        {
          "output_type": "stream",
          "name": "stdout",
          "text": [
            "[1, 4, 9, 16, 25]\n"
          ]
        }
      ],
      "source": [
        "list = [1,2,3,4,5]\n",
        "squares = [x**2 for x in list]\n",
        "print(squares)"
      ]
    },
    {
      "cell_type": "markdown",
      "metadata": {
        "id": "uMuCfR3ya3zT"
      },
      "source": [
        "Recall the example above where we used a for loop to select stocks. Here we use list comprehension:"
      ]
    },
    {
      "cell_type": "code",
      "execution_count": null,
      "metadata": {
        "colab": {
          "base_uri": "https://localhost:8080/"
        },
        "id": "ZGtCtog2Ov7h",
        "outputId": "298e0398-b76d-4d84-c41c-f20ffe326902"
      },
      "outputs": [
        {
          "output_type": "stream",
          "name": "stdout",
          "text": [
            "['AAPL', 'IBM']\n"
          ]
        }
      ],
      "source": [
        "stocks = ['AAPL','GOOG','IBM','FB','F','V', 'G', 'GE']\n",
        "selected = ['AAPL','IBM']\n",
        "new_list = [x for x in stocks if x in selected]\n",
        "print(new_list)"
      ]
    },
    {
      "cell_type": "markdown",
      "metadata": {
        "id": "EPeUv6Lia5oD"
      },
      "source": [
        "A list comprehension consists of square brackets containing an expression followed by a \"for\" clause, and possibly \"for\" or \"if\" clauses. For example:"
      ]
    },
    {
      "cell_type": "code",
      "execution_count": null,
      "metadata": {
        "colab": {
          "base_uri": "https://localhost:8080/"
        },
        "id": "O1AMB5d7Ov7i",
        "outputId": "e3a01f9a-4aa9-45d9-ddba-ccce3f5b1f44"
      },
      "outputs": [
        {
          "output_type": "stream",
          "name": "stdout",
          "text": [
            "[(1, 3), (1, 4), (2, 3), (2, 1), (2, 4), (3, 1), (3, 4)]\n",
            "['AAPL vs F', 'AAPL vs V', 'AAPL vs G', 'AAPL vs GE', 'GOOG vs F', 'GOOG vs V', 'GOOG vs G', 'GOOG vs GE', 'IBM vs F', 'IBM vs V', 'IBM vs G', 'IBM vs GE', 'FB vs F', 'FB vs V', 'FB vs G', 'FB vs GE']\n"
          ]
        }
      ],
      "source": [
        "print([(x, y) for x in [1,2,3] for y in [3,1,4] if x != y])\n",
        "print([str(x)+' vs '+str(y) for x in ['AAPL','GOOG','IBM','FB'] for y in ['F','V','G','GE'] if x!=y])"
      ]
    },
    {
      "cell_type": "markdown",
      "metadata": {
        "id": "jJpvq-o4a8P7"
      },
      "source": [
        "List comprehension is an elegant way to organize one or more for loops when creating a list.\n",
        "\n",
        "# Summary\n",
        "This chapter has introduced logical operations, loops, and list comprehension. In the next chapter, we will introduce functions and object-oriented programming, which will enable us to make our codes clean and versatile."
      ]
    },
    {
      "cell_type": "markdown",
      "metadata": {
        "id": "Tef_X2wJbdhn"
      },
      "source": [
        "\n",
        "# 03 Functions and Objective-Oriented Programming\n",
        "\n",
        "# Introduction\n",
        "\n",
        "In the last tutorial we introduced logical operations, loops and list comprehension. We will introduce functions and object-oriented programming in this chapter, which will enable us to build complex algorithms in more flexible ways.\n",
        "\n",
        "# Functions\n",
        "A function is a reusable block of code. We can use a function to output a value, or do anything else we want. We can easily define our own function by using the keyword \"def\"."
      ]
    },
    {
      "cell_type": "code",
      "execution_count": null,
      "metadata": {
        "colab": {
          "base_uri": "https://localhost:8080/"
        },
        "id": "eE_NkTiSO2PO",
        "outputId": "ed5d03e9-cf73-4bcf-e5ef-0239c92e591d"
      },
      "outputs": [
        {
          "output_type": "stream",
          "name": "stdout",
          "text": [
            "6\n",
            "50\n"
          ]
        }
      ],
      "source": [
        "def product(x,y):\n",
        "    return x*y\n",
        "print(product(2,3))\n",
        "print(product(5,10))"
      ]
    },
    {
      "cell_type": "code",
      "execution_count": null,
      "metadata": {
        "colab": {
          "base_uri": "https://localhost:8080/"
        },
        "id": "rBxVGV67IVpm",
        "outputId": "c3bf701e-22da-471f-f81d-7f06f51e5db3"
      },
      "outputs": [
        {
          "output_type": "stream",
          "name": "stdout",
          "text": [
            "175\n",
            "150\n"
          ]
        }
      ],
      "source": [
        "print(product(5,35))\n",
        "print(product(3,50))"
      ]
    },
    {
      "cell_type": "markdown",
      "metadata": {
        "id": "4oRU_dVJbsdD"
      },
      "source": [
        "The keyword \"def\" is followed by the function name and the parenthesized list of formal parameters. The statements that form the body of the function start at the next line, and must be indented. The product() function above has \"x\" and \"y\" as its parameters. A function doesn't necessarily have parameters:"
      ]
    },
    {
      "cell_type": "code",
      "execution_count": null,
      "metadata": {
        "colab": {
          "base_uri": "https://localhost:8080/"
        },
        "id": "JhdWVLbUO2PQ",
        "outputId": "3982be80-9b6c-4990-ad7f-815db8a81434"
      },
      "outputs": [
        {
          "output_type": "stream",
          "name": "stdout",
          "text": [
            "Welcome to QuantConnect\n"
          ]
        }
      ],
      "source": [
        "def say_hi():\n",
        "    print('Welcome to QuantConnect')\n",
        "say_hi()"
      ]
    },
    {
      "cell_type": "markdown",
      "metadata": {
        "id": "IY6YNUf74b_S"
      },
      "source": [
        "**My own example 174**"
      ]
    },
    {
      "cell_type": "code",
      "execution_count": null,
      "metadata": {
        "colab": {
          "base_uri": "https://localhost:8080/"
        },
        "id": "5dLhuKbDIfbW",
        "outputId": "5eef7734-6000-4dfe-c4dc-28f049b0ce3e"
      },
      "outputs": [
        {
          "output_type": "stream",
          "name": "stdout",
          "text": [
            "Bienvenido a la unal\n"
          ]
        }
      ],
      "source": [
        "def say_hi_in_spanish():\n",
        "    print('Bienvenido a la unal')\n",
        "say_hi_in_spanish()"
      ]
    },
    {
      "cell_type": "markdown",
      "metadata": {
        "id": "lHwqVpWVb1Jr"
      },
      "source": [
        "# Built-in Function\n",
        "**range()** is a function that creates a list containing an arithmetic sequence. It's often used in for loops. The arguments must be integers. If the \"step\" argument is omitted, it defaults to 1."
      ]
    },
    {
      "cell_type": "code",
      "execution_count": null,
      "metadata": {
        "colab": {
          "base_uri": "https://localhost:8080/"
        },
        "id": "VVOTELcIO2PQ",
        "outputId": "244a6202-67b8-4618-b5dd-63641266e47e"
      },
      "outputs": [
        {
          "output_type": "stream",
          "name": "stdout",
          "text": [
            "range(0, 10)\n",
            "range(1, 11)\n",
            "range(1, 11, 2)\n"
          ]
        }
      ],
      "source": [
        "print(range(10))\n",
        "print(range(1,11))\n",
        "print(range(1,11,2))"
      ]
    },
    {
      "cell_type": "markdown",
      "metadata": {
        "id": "PD0cSgiwcQ4L"
      },
      "source": [
        "**len()** is another function used together with range() to create a for loop. This function returns the length of an object. The argument must be a sequence or a collection."
      ]
    },
    {
      "cell_type": "code",
      "execution_count": null,
      "metadata": {
        "colab": {
          "base_uri": "https://localhost:8080/"
        },
        "id": "Hg18c7v-O2PR",
        "outputId": "9745394a-4a9f-4351-b84a-bcff89e553cb"
      },
      "outputs": [
        {
          "output_type": "stream",
          "name": "stdout",
          "text": [
            "The length of tickers is 8\n",
            "AAPL\n",
            "GOOG\n",
            "IBM\n",
            "FB\n",
            "F\n",
            "V\n",
            "G\n",
            "GE\n"
          ]
        }
      ],
      "source": [
        "tickers = ['AAPL','GOOG','IBM','FB','F','V', 'G', 'GE']\n",
        "print('The length of tickers is {}'.format(len(tickers)))\n",
        "for i in range(len(tickers)):\n",
        "    print(tickers[i])"
      ]
    },
    {
      "cell_type": "markdown",
      "metadata": {
        "id": "OIQSuub1cWgi"
      },
      "source": [
        "Note: If you want to print only the tickers without those numbers, then simply write \"for ticker in tickers: print ticker\"\n",
        "\n",
        "**map(**) is a function that applies a specific function to every item of a sequence or collection, and returns a list of the results."
      ]
    },
    {
      "cell_type": "markdown",
      "metadata": {
        "id": "pqPuspeG5HAi"
      },
      "source": [
        "Because list at the moment is [1,2,3,4,5] and overwriting list() from builtins we del list"
      ]
    },
    {
      "cell_type": "code",
      "execution_count": null,
      "metadata": {
        "colab": {
          "base_uri": "https://localhost:8080/"
        },
        "id": "caV9c-qk4_eZ",
        "outputId": "6df530fd-abd2-4e6f-ad3a-a2fab0a271c0"
      },
      "outputs": [
        {
          "output_type": "stream",
          "name": "stdout",
          "text": [
            "[1, 2, 3, 4, 5]\n"
          ]
        },
        {
          "output_type": "execute_result",
          "data": {
            "text/plain": [
              "list"
            ]
          },
          "metadata": {},
          "execution_count": 438
        }
      ],
      "source": [
        "print(list)\n",
        "del list\n",
        "list"
      ]
    },
    {
      "cell_type": "code",
      "execution_count": null,
      "metadata": {
        "colab": {
          "base_uri": "https://localhost:8080/"
        },
        "id": "lJBs5ECT4mSq",
        "outputId": "22a72580-b4bd-491b-da77-c4894a748277"
      },
      "outputs": [
        {
          "output_type": "execute_result",
          "data": {
            "text/plain": [
              "[4, 4, 3, 2, 1, 1, 1, 2]"
            ]
          },
          "metadata": {},
          "execution_count": 439
        }
      ],
      "source": [
        "tickers = ['AAPL','GOOG','IBM','FB','F','V', 'G', 'GE']\n",
        "list(map(len,tickers))"
      ]
    },
    {
      "cell_type": "markdown",
      "metadata": {
        "id": "mvr06UM7ca7b"
      },
      "source": [
        "The **lambda operator** is a way to create small anonymous functions. These functions are just needed where they have been created. For example:"
      ]
    },
    {
      "cell_type": "code",
      "execution_count": null,
      "metadata": {
        "colab": {
          "base_uri": "https://localhost:8080/"
        },
        "id": "pAEHADYXO2PR",
        "outputId": "36bff4ba-4e12-45ca-ec6b-b677de38dc4e"
      },
      "outputs": [
        {
          "output_type": "execute_result",
          "data": {
            "text/plain": [
              "[0, 1, 4, 9, 16, 25, 36, 49, 64, 81]"
            ]
          },
          "metadata": {},
          "execution_count": 440
        }
      ],
      "source": [
        "list(map(lambda x: x**2, range(10)))"
      ]
    },
    {
      "cell_type": "markdown",
      "metadata": {
        "id": "Mgixpxomcj3T"
      },
      "source": [
        "map() can be applied to more than one list. The lists have to have the same length."
      ]
    },
    {
      "cell_type": "code",
      "execution_count": null,
      "metadata": {
        "colab": {
          "base_uri": "https://localhost:8080/"
        },
        "id": "HtckhAaJO2PS",
        "outputId": "8d73ce8e-3ca7-49d3-dc87-331b10315b51"
      },
      "outputs": [
        {
          "output_type": "execute_result",
          "data": {
            "text/plain": [
              "[6, 6, 6, 6, 6]"
            ]
          },
          "metadata": {},
          "execution_count": 441
        }
      ],
      "source": [
        "list(map(lambda x, y: x+y, [1,2,3,4,5],[5,4,3,2,1]))"
      ]
    },
    {
      "cell_type": "markdown",
      "metadata": {
        "id": "ZDnMTH-KcklT"
      },
      "source": [
        "**sorted()** takes a list or set and returns a new sorted list"
      ]
    },
    {
      "cell_type": "code",
      "execution_count": null,
      "metadata": {
        "colab": {
          "base_uri": "https://localhost:8080/"
        },
        "id": "P0sHUMFWO2PS",
        "outputId": "d3ce5458-2b94-4f32-b22a-fd36a41e5bda"
      },
      "outputs": [
        {
          "output_type": "execute_result",
          "data": {
            "text/plain": [
              "[1, 2, 3, 4, 5]"
            ]
          },
          "metadata": {},
          "execution_count": 442
        }
      ],
      "source": [
        "sorted([5,2,3,4,1])"
      ]
    },
    {
      "cell_type": "markdown",
      "metadata": {
        "id": "-N5_EDOFcnsc"
      },
      "source": [
        "We can add a \"key\" parameter to specify a function to be called on each list element prior to making comparisons. For example:"
      ]
    },
    {
      "cell_type": "code",
      "execution_count": null,
      "metadata": {
        "colab": {
          "base_uri": "https://localhost:8080/"
        },
        "id": "0i3peZ0bO2PS",
        "outputId": "ca8169ff-b93a-48d4-b108-a88b9a540133"
      },
      "outputs": [
        {
          "output_type": "execute_result",
          "data": {
            "text/plain": [
              "[('MSFT', 69), ('WMT', 75.32), ('AAPL', 144.09), ('FB', 150), ('GOOG', 911.71)]"
            ]
          },
          "metadata": {},
          "execution_count": 443
        }
      ],
      "source": [
        "price_list = [('AAPL',144.09),('GOOG',911.71),('MSFT',69),('FB',150),('WMT',75.32)]\n",
        "sorted(price_list, key = lambda x: x[1])"
      ]
    },
    {
      "cell_type": "markdown",
      "metadata": {
        "id": "yun2zptKcxe_"
      },
      "source": [
        "By default the values are sorted by ascending order. We can change it to descending by adding an optional parameter \"reverse'."
      ]
    },
    {
      "cell_type": "code",
      "execution_count": null,
      "metadata": {
        "colab": {
          "base_uri": "https://localhost:8080/"
        },
        "id": "dEZqdl94O2PT",
        "outputId": "408ec78a-85fb-4c22-827f-b64c753b8946"
      },
      "outputs": [
        {
          "output_type": "execute_result",
          "data": {
            "text/plain": [
              "[('GOOG', 911.71), ('FB', 150), ('AAPL', 144.09), ('WMT', 75.32), ('MSFT', 69)]"
            ]
          },
          "metadata": {},
          "execution_count": 444
        }
      ],
      "source": [
        "price_list = [('AAPL',144.09),('GOOG',911.71),('MSFT',69),('FB',150),('WMT',75.32)]\n",
        "sorted(price_list, key = lambda x: x[1],reverse = True)"
      ]
    },
    {
      "cell_type": "markdown",
      "metadata": {
        "id": "OA2wYAa0c6Dn"
      },
      "source": [
        "Lists also have a function list.sort(). This function takes the same \"key\" and \"reverse\" arguments as sorted(), but it doesn't return a new list."
      ]
    },
    {
      "cell_type": "code",
      "execution_count": null,
      "metadata": {
        "colab": {
          "base_uri": "https://localhost:8080/"
        },
        "id": "pG9VQCLnO2PT",
        "outputId": "16f0de42-85ee-4622-bd71-f8775072a6aa"
      },
      "outputs": [
        {
          "output_type": "stream",
          "name": "stdout",
          "text": [
            "[('MSFT', 69), ('WMT', 75.32), ('AAPL', 144.09), ('FB', 150), ('GOOG', 911.71)]\n"
          ]
        }
      ],
      "source": [
        "price_list = [('AAPL',144.09),('GOOG',911.71),('MSFT',69),('FB',150),('WMT',75.32)]\n",
        "price_list.sort(key = lambda x: x[1])\n",
        "print(price_list)"
      ]
    },
    {
      "cell_type": "markdown",
      "metadata": {
        "id": "mxljL1W1c_c5"
      },
      "source": [
        "# Object-Oriented Programming\n",
        "Python is an object-oriented programming language. It's important to understand the concept of \"objects\" because almost every kind of data from QuantConnect API is an object.\n",
        "\n",
        "## Class\n",
        "A class is a type of data, just like a string, float, or list. When we create an object of that data type, we call it an instance of a class.\n",
        "\n",
        "In Python, everything is an object - everything is an instance of some class. The data stored inside an object are called attributes, and the functions which are associated with the object are called methods.\n",
        "\n",
        "For example, as mentioned above, a list is an object of the \"list\" class, and it has a method list.sort().\n",
        "\n",
        "We can create our own objects by defining a class. We would do this when it's helpful to group certain functions together. For example, we define a class named \"Stock\" here:"
      ]
    },
    {
      "cell_type": "code",
      "execution_count": null,
      "metadata": {
        "id": "zC4Y4PgDO2PT"
      },
      "outputs": [],
      "source": [
        "class stock:\n",
        "    def __init__(self, ticker, open, close, volume):\n",
        "        self.ticker = ticker\n",
        "        self.open = open\n",
        "        self.close = close\n",
        "        self.volume = volume\n",
        "        self.rate_return = float(close)/open - 1\n",
        " \n",
        "    def update(self, open, close):\n",
        "        self.open = open\n",
        "        self.close = close\n",
        "        self.rate_return = float(self.close)/self.open - 1\n",
        " \n",
        "    def print_return(self):\n",
        "        print(self.rate_return)"
      ]
    },
    {
      "cell_type": "markdown",
      "metadata": {
        "id": "rV06INT5dETi"
      },
      "source": [
        "The \"Stock\" class has attributes \"ticker\", \"open\", \"close\", \"volume\" and \"rate_return\". Inside the class body, the first method is called __init__, which is a special method. When we create a new instance of the class, the __init__ method is immediately executed with all the parameters that we pass to the \"Stock\" object. The purpose of this method is to set up a new \"Stock\" object using data we have provided.\n",
        "\n",
        "Here we create two Stock objects named \"apple\" and \"google\"."
      ]
    },
    {
      "cell_type": "code",
      "execution_count": null,
      "metadata": {
        "id": "8tIpNk93O2PU"
      },
      "outputs": [],
      "source": [
        "apple = stock('AAPL', 143.69, 144.09, 20109375)\n",
        "google = stock('GOOG', 898.7, 911.7, 1561616)"
      ]
    },
    {
      "cell_type": "markdown",
      "metadata": {
        "id": "VxmELNiHdPKS"
      },
      "source": [
        "Stock objects also have two other methods: update() and print_return(). We can access the attribues of a Stock object and call its methods:"
      ]
    },
    {
      "cell_type": "code",
      "execution_count": null,
      "metadata": {
        "colab": {
          "base_uri": "https://localhost:8080/"
        },
        "id": "SsiIkmekO2PU",
        "outputId": "542f79e6-6e1f-496a-e2cb-11d064780adc"
      },
      "outputs": [
        {
          "output_type": "stream",
          "name": "stdout",
          "text": [
            "0.014465338822744034\n",
            "0.0006573181419806673\n"
          ]
        }
      ],
      "source": [
        "apple.ticker\n",
        "google.print_return()\n",
        "google.update(912.8,913.4)\n",
        "google.print_return()"
      ]
    },
    {
      "cell_type": "markdown",
      "metadata": {
        "id": "Q8fl7keNdVKF"
      },
      "source": [
        "By calling the update() function, we updated the open and close prices of a stock. Please note that when we use the attributes or call the methods **inside a class**, we need to specify them as self.attribute or self.method(), otherwise Python will deem them as global variables and thus raise an error.\n",
        "\n",
        "We can add an attribute to an object anywhere:"
      ]
    },
    {
      "cell_type": "code",
      "execution_count": null,
      "metadata": {
        "colab": {
          "base_uri": "https://localhost:8080/",
          "height": 36
        },
        "id": "rO4OLnqOO2PU",
        "outputId": "0e17f3fa-e12e-4e5b-dd57-e9c14251d3bd"
      },
      "outputs": [
        {
          "output_type": "execute_result",
          "data": {
            "text/plain": [
              "'Tim Cook'"
            ],
            "application/vnd.google.colaboratory.intrinsic+json": {
              "type": "string"
            }
          },
          "metadata": {},
          "execution_count": 449
        }
      ],
      "source": [
        "apple.ceo = 'Tim Cook'\n",
        "apple.ceo"
      ]
    },
    {
      "cell_type": "markdown",
      "metadata": {
        "id": "WyfnFgVidh4J"
      },
      "source": [
        "We can check what names (i.e. attributes and methods) are defined on an object using the dir() function:"
      ]
    },
    {
      "cell_type": "code",
      "execution_count": null,
      "metadata": {
        "colab": {
          "base_uri": "https://localhost:8080/"
        },
        "id": "pPoz0LA8O2PU",
        "outputId": "f1fceeae-0315-4556-9a57-e471a60a806f"
      },
      "outputs": [
        {
          "output_type": "execute_result",
          "data": {
            "text/plain": [
              "['__class__',\n",
              " '__delattr__',\n",
              " '__dict__',\n",
              " '__dir__',\n",
              " '__doc__',\n",
              " '__eq__',\n",
              " '__format__',\n",
              " '__ge__',\n",
              " '__getattribute__',\n",
              " '__gt__',\n",
              " '__hash__',\n",
              " '__init__',\n",
              " '__init_subclass__',\n",
              " '__le__',\n",
              " '__lt__',\n",
              " '__module__',\n",
              " '__ne__',\n",
              " '__new__',\n",
              " '__reduce__',\n",
              " '__reduce_ex__',\n",
              " '__repr__',\n",
              " '__setattr__',\n",
              " '__sizeof__',\n",
              " '__str__',\n",
              " '__subclasshook__',\n",
              " '__weakref__',\n",
              " 'ceo',\n",
              " 'close',\n",
              " 'open',\n",
              " 'print_return',\n",
              " 'rate_return',\n",
              " 'ticker',\n",
              " 'update',\n",
              " 'volume']"
            ]
          },
          "metadata": {},
          "execution_count": 450
        }
      ],
      "source": [
        "dir(apple)"
      ]
    },
    {
      "cell_type": "markdown",
      "metadata": {
        "id": "Qpemj1UZd2aa"
      },
      "source": [
        "## Inheritance\n",
        "Inheritance is a way of arranging classes in a hierarchy from the most general to the most specific. A \"child\" class is a more specific type of a \"parent\" class because a child class will inherit all the attribues and methods of its parent. For example, we define a class named \"Child\" which inherits \"Stock\":"
      ]
    },
    {
      "cell_type": "code",
      "execution_count": null,
      "metadata": {
        "id": "UELXnxomO2PV"
      },
      "outputs": [],
      "source": [
        "class child(stock):\n",
        "    def __init__(self,name):\n",
        "        self.name = name"
      ]
    },
    {
      "cell_type": "code",
      "execution_count": null,
      "metadata": {
        "colab": {
          "base_uri": "https://localhost:8080/"
        },
        "id": "ffS2THZyO2PV",
        "outputId": "b20dc134-34e6-471f-8401-34204858d8c8"
      },
      "outputs": [
        {
          "output_type": "stream",
          "name": "stdout",
          "text": [
            "aa\n",
            "100\n",
            "102\n",
            "0.020000000000000018\n",
            "None\n"
          ]
        }
      ],
      "source": [
        "aa = child('aa')\n",
        "print(aa.name)\n",
        "aa.update(100,102)\n",
        "print(aa.open)\n",
        "print(aa.close)\n",
        "print(aa.print_return())"
      ]
    },
    {
      "cell_type": "markdown",
      "metadata": {
        "id": "pdIEjUv2eJqL"
      },
      "source": [
        "As seen above, the new class Child has inherited the methods from Stock.\n",
        "\n",
        "#Summary\n",
        "\n",
        "In this chapter we have introduced functions and classes. When we write a QuantConnect algorithm, we would define our algorithm as a class (QCAlgorithm). This means our algorithm inherited the QC API methods from QCAlgorithm class.\n",
        "\n",
        "In the next chapter, we will introduce NumPy and Pandas, which enable us to conduct scientific calculations in Python."
      ]
    },
    {
      "cell_type": "markdown",
      "metadata": {
        "id": "dQbENH6mexTd"
      },
      "source": [
        "\n",
        "# 04 NumPy and Basic Pandas\n",
        "\n",
        "# Introduction\n",
        "\n",
        "Now that we have introduced the fundamentals of Python, it's time to learn about NumPy and Pandas.\n",
        "\n",
        "# NumPy\n",
        "NumPy is the core library for scientific computing in Python. It provides a high-performance multidimensional array object, and tools for working with these arrays. It also has strong integration with Pandas, which is another powerful tool for manipulating financial data.\n",
        "\n",
        "Python packages like NumPy and Pandas contain classes and methods which we can use by importing the package:"
      ]
    },
    {
      "cell_type": "code",
      "execution_count": null,
      "metadata": {
        "id": "aIESp-rdO58h"
      },
      "outputs": [],
      "source": [
        "import numpy as np"
      ]
    },
    {
      "cell_type": "markdown",
      "metadata": {
        "id": "GScHHJ5ke7ea"
      },
      "source": [
        "## Basic NumPy Arrays\n",
        "A NumPy array is a grid of values, all of the same type, and is indexed by a tuple of nonnegative integers. Here we make an array by passing a list of Apple stock prices:"
      ]
    },
    {
      "cell_type": "code",
      "execution_count": null,
      "metadata": {
        "colab": {
          "base_uri": "https://localhost:8080/"
        },
        "id": "lZI1wkwDO58i",
        "outputId": "8c5a5547-1fe2-48f6-afaf-f225b66da64e"
      },
      "outputs": [
        {
          "output_type": "stream",
          "name": "stdout",
          "text": [
            "[143.73 145.83 143.68 144.02 143.5  142.62] <class 'numpy.ndarray'>\n"
          ]
        }
      ],
      "source": [
        "price_list = [143.73, 145.83, 143.68, 144.02, 143.5, 142.62]\n",
        "price_array = np.array(price_list)\n",
        "print(price_array, type(price_array))"
      ]
    },
    {
      "cell_type": "markdown",
      "metadata": {
        "id": "-5Yj6u9ifB-t"
      },
      "source": [
        "Notice that the type of array is \"ndarray\" which is a multi-dimensional array. If we pass np.array() a list of lists, it will create a 2-dimensional array."
      ]
    },
    {
      "cell_type": "code",
      "execution_count": null,
      "metadata": {
        "colab": {
          "base_uri": "https://localhost:8080/"
        },
        "id": "obvIZrK-O58j",
        "outputId": "57a67f9b-2773-46e5-a3ea-1a1ddc388282"
      },
      "outputs": [
        {
          "output_type": "stream",
          "name": "stdout",
          "text": [
            "[[1 3]\n",
            " [2 4]] <class 'numpy.ndarray'>\n"
          ]
        }
      ],
      "source": [
        "Ar = np.array([[1,3],[2,4]])\n",
        "print(Ar, type(Ar))"
      ]
    },
    {
      "cell_type": "markdown",
      "metadata": {
        "id": "uDdfLD9HfHkl"
      },
      "source": [
        "We get the dimensions of an ndarray using the .shape attribute:"
      ]
    },
    {
      "cell_type": "code",
      "execution_count": null,
      "metadata": {
        "colab": {
          "base_uri": "https://localhost:8080/"
        },
        "id": "G2txdn73O58j",
        "outputId": "d207c705-5687-46a2-e8a4-69aadda29c2f"
      },
      "outputs": [
        {
          "output_type": "stream",
          "name": "stdout",
          "text": [
            "(2, 2)\n"
          ]
        }
      ],
      "source": [
        "print(Ar.shape)"
      ]
    },
    {
      "cell_type": "markdown",
      "metadata": {
        "id": "87W5ueORfPEy"
      },
      "source": [
        "If we create an 2-dimensional array (i.e. matrix), each row can be accessed by index:"
      ]
    },
    {
      "cell_type": "code",
      "execution_count": null,
      "metadata": {
        "colab": {
          "base_uri": "https://localhost:8080/"
        },
        "id": "x_QV9aPbO58j",
        "outputId": "27c7d261-76e9-404a-adec-8bd4f8de73ef"
      },
      "outputs": [
        {
          "output_type": "stream",
          "name": "stdout",
          "text": [
            "[1 3]\n",
            "[2 4]\n"
          ]
        }
      ],
      "source": [
        "print(Ar[0])\n",
        "print(Ar[1])"
      ]
    },
    {
      "cell_type": "markdown",
      "metadata": {
        "id": "5Hke7Vt-fSGB"
      },
      "source": [
        "If we want to access the matrix by column instead:"
      ]
    },
    {
      "cell_type": "code",
      "execution_count": null,
      "metadata": {
        "colab": {
          "base_uri": "https://localhost:8080/"
        },
        "id": "gHVwbPfOO58j",
        "outputId": "b9f66386-acd0-4611-a4cd-e2776398ec42"
      },
      "outputs": [
        {
          "output_type": "stream",
          "name": "stdout",
          "text": [
            "the first column:  [1 2]\n",
            "the second column:  [3 4]\n"
          ]
        }
      ],
      "source": [
        "print('the first column: ', Ar[:,0])\n",
        "print('the second column: ', Ar[:,1])"
      ]
    },
    {
      "cell_type": "markdown",
      "metadata": {
        "id": "T61cD0HMfStB"
      },
      "source": [
        "## Array Functions\n",
        "Some functions built in NumPy that allow us to perform calculations on arrays. For example, we can apply the natural logarithm to each element of an array:"
      ]
    },
    {
      "cell_type": "code",
      "execution_count": null,
      "metadata": {
        "colab": {
          "base_uri": "https://localhost:8080/"
        },
        "id": "PKhwtJ7XO58k",
        "outputId": "e9591099-70a1-4991-e160-9ea7f32f32b2"
      },
      "outputs": [
        {
          "output_type": "stream",
          "name": "stdout",
          "text": [
            "[4.96793654 4.98244156 4.9675886  4.96995218 4.96633504 4.96018375]\n"
          ]
        }
      ],
      "source": [
        "print(np.log(price_array))"
      ]
    },
    {
      "cell_type": "markdown",
      "metadata": {
        "id": "uzjBRFBLfZ-D"
      },
      "source": [
        "Other functions return a single value:"
      ]
    },
    {
      "cell_type": "code",
      "execution_count": null,
      "metadata": {
        "colab": {
          "base_uri": "https://localhost:8080/"
        },
        "id": "nQuABZqUO58k",
        "outputId": "e6a91978-a6c1-4830-fa63-bd9e2f656033"
      },
      "outputs": [
        {
          "output_type": "stream",
          "name": "stdout",
          "text": [
            "143.89666666666668\n",
            "0.9673790478515796\n",
            "863.38\n",
            "145.83\n"
          ]
        }
      ],
      "source": [
        "print(np.mean(price_array))\n",
        "print(np.std(price_array))\n",
        "print(np.sum(price_array))\n",
        "print(np.max(price_array))"
      ]
    },
    {
      "cell_type": "markdown",
      "metadata": {
        "id": "IRW95BsifgDB"
      },
      "source": [
        "The functions above return the mean, standard deviation, total and maximum value of an array.\n",
        "\n",
        "# Pandas\n",
        "Pandas is one of the most powerful tools for dealing with financial data. \n",
        "\n",
        "First we need to import Pandas:"
      ]
    },
    {
      "cell_type": "code",
      "execution_count": null,
      "metadata": {
        "id": "xIYH4oUfO58k"
      },
      "outputs": [],
      "source": [
        "import pandas as pd"
      ]
    },
    {
      "cell_type": "markdown",
      "metadata": {
        "id": "zOig5gORfnJU"
      },
      "source": [
        "## Series\n",
        "Series is a one-dimensional labeled array capable of holding any data type (integers, strings, float, Python object, etc.)\n",
        "\n",
        "We create a Series by calling pd.Series(data), where data can be a dictionary, an array or just a scalar value."
      ]
    },
    {
      "cell_type": "code",
      "execution_count": null,
      "metadata": {
        "colab": {
          "base_uri": "https://localhost:8080/"
        },
        "id": "JmzoNzrPO58k",
        "outputId": "9defd9f0-7ddd-4912-a4b9-95f8fa1bc79e"
      },
      "outputs": [
        {
          "output_type": "execute_result",
          "data": {
            "text/plain": [
              "0    143.73\n",
              "1    145.83\n",
              "2    143.68\n",
              "3    144.02\n",
              "4    143.50\n",
              "5    142.62\n",
              "dtype: float64"
            ]
          },
          "metadata": {},
          "execution_count": 462
        }
      ],
      "source": [
        "price = [143.73, 145.83, 143.68, 144.02, 143.5, 142.62]\n",
        "s = pd.Series(price)\n",
        "s"
      ]
    },
    {
      "cell_type": "markdown",
      "metadata": {
        "id": "tP5iDnunfq46"
      },
      "source": [
        "We can customize the indices of a new Series:"
      ]
    },
    {
      "cell_type": "code",
      "execution_count": null,
      "metadata": {
        "colab": {
          "base_uri": "https://localhost:8080/"
        },
        "id": "eswQC3ZPO58l",
        "outputId": "120c2696-59e7-4267-8de5-b1d28b2e5384"
      },
      "outputs": [
        {
          "output_type": "execute_result",
          "data": {
            "text/plain": [
              "a    143.73\n",
              "b    145.83\n",
              "c    143.68\n",
              "d    144.02\n",
              "e    143.50\n",
              "f    142.62\n",
              "dtype: float64"
            ]
          },
          "metadata": {},
          "execution_count": 463
        }
      ],
      "source": [
        "s = pd.Series(price,index = ['a','b','c','d','e','f'])\n",
        "s"
      ]
    },
    {
      "cell_type": "markdown",
      "metadata": {
        "id": "wdZrb8pEfuua"
      },
      "source": [
        "Or we can change the indices of an existing Series:"
      ]
    },
    {
      "cell_type": "code",
      "execution_count": null,
      "metadata": {
        "colab": {
          "base_uri": "https://localhost:8080/"
        },
        "id": "MwlRnPF6O58l",
        "outputId": "b9092998-e3ed-4b7f-e399-b6bc3994c069"
      },
      "outputs": [
        {
          "output_type": "execute_result",
          "data": {
            "text/plain": [
              "6    143.73\n",
              "5    145.83\n",
              "4    143.68\n",
              "3    144.02\n",
              "2    143.50\n",
              "1    142.62\n",
              "dtype: float64"
            ]
          },
          "metadata": {},
          "execution_count": 464
        }
      ],
      "source": [
        "s.index = [6,5,4,3,2,1]\n",
        "s"
      ]
    },
    {
      "cell_type": "markdown",
      "metadata": {
        "id": "6cGNQZwLfxIz"
      },
      "source": [
        "Series is like a list since it can be sliced by index:"
      ]
    },
    {
      "cell_type": "code",
      "execution_count": null,
      "metadata": {
        "colab": {
          "base_uri": "https://localhost:8080/"
        },
        "id": "N9bBSg6cO58l",
        "outputId": "c4e401f9-252e-4a9a-9d04-ff198f36fe76"
      },
      "outputs": [
        {
          "output_type": "stream",
          "name": "stdout",
          "text": [
            "5    145.83\n",
            "4    143.68\n",
            "3    144.02\n",
            "2    143.50\n",
            "1    142.62\n",
            "dtype: float64\n",
            "6    143.73\n",
            "5    145.83\n",
            "4    143.68\n",
            "3    144.02\n",
            "dtype: float64\n"
          ]
        }
      ],
      "source": [
        "print(s[1:])\n",
        "print(s[:-2])"
      ]
    },
    {
      "cell_type": "markdown",
      "metadata": {
        "id": "5V25nViZfz3Z"
      },
      "source": [
        "Series is also like a dictionary whose values can be set or fetched by index label:"
      ]
    },
    {
      "cell_type": "code",
      "execution_count": null,
      "metadata": {
        "colab": {
          "base_uri": "https://localhost:8080/"
        },
        "id": "b3Y0kKGYO58l",
        "outputId": "c093b153-498e-430c-b1e6-1187f32af94e"
      },
      "outputs": [
        {
          "output_type": "stream",
          "name": "stdout",
          "text": [
            "143.68\n",
            "6    143.73\n",
            "5    145.83\n",
            "4      0.00\n",
            "3    144.02\n",
            "2    143.50\n",
            "1    142.62\n",
            "dtype: float64\n"
          ]
        }
      ],
      "source": [
        "print(s[4])\n",
        "s[4] = 0\n",
        "print(s)"
      ]
    },
    {
      "cell_type": "markdown",
      "metadata": {
        "id": "RQ1P7Gkyf060"
      },
      "source": [
        "Series can also have a name attribute, which will be used when we make up a Pandas DataFrame using several series."
      ]
    },
    {
      "cell_type": "code",
      "execution_count": null,
      "metadata": {
        "colab": {
          "base_uri": "https://localhost:8080/"
        },
        "id": "ZeD4-p7KO58m",
        "outputId": "6576bbed-d0ce-4763-8b4f-0ae9f7a361f0"
      },
      "outputs": [
        {
          "output_type": "stream",
          "name": "stdout",
          "text": [
            "0    143.73\n",
            "1    145.83\n",
            "2    143.68\n",
            "3    144.02\n",
            "4    143.50\n",
            "5    142.62\n",
            "Name: Apple Price List, dtype: float64\n",
            "Apple Price List\n"
          ]
        }
      ],
      "source": [
        "s = pd.Series(price, name = 'Apple Price List')\n",
        "print(s)\n",
        "print(s.name)"
      ]
    },
    {
      "cell_type": "markdown",
      "metadata": {
        "id": "geJb1pGHf5Et"
      },
      "source": [
        "We can get the statistical summaries of a Series:"
      ]
    },
    {
      "cell_type": "code",
      "execution_count": null,
      "metadata": {
        "colab": {
          "base_uri": "https://localhost:8080/"
        },
        "id": "mGPtFcjegm4i",
        "outputId": "bcbdd12d-efe3-4318-ac3f-79f9f215b172"
      },
      "outputs": [
        {
          "output_type": "stream",
          "name": "stdout",
          "text": [
            "count      6.000000\n",
            "mean     143.896667\n",
            "std        1.059711\n",
            "min      142.620000\n",
            "25%      143.545000\n",
            "50%      143.705000\n",
            "75%      143.947500\n",
            "max      145.830000\n",
            "Name: Apple Price List, dtype: float64\n"
          ]
        }
      ],
      "source": [
        "print(s.describe())"
      ]
    },
    {
      "cell_type": "markdown",
      "metadata": {
        "id": "LkdZu-CDgvlR"
      },
      "source": [
        "## Time Index\n",
        "Pandas has a built-in function specifically for creating date indices: pd.date_range(). We use it to create a new index for our Series:"
      ]
    },
    {
      "cell_type": "code",
      "execution_count": null,
      "metadata": {
        "colab": {
          "base_uri": "https://localhost:8080/"
        },
        "id": "HJe5hU4zO58m",
        "outputId": "060df96f-1ad9-4be1-bfde-05c56c3ee34d"
      },
      "outputs": [
        {
          "output_type": "stream",
          "name": "stdout",
          "text": [
            "DatetimeIndex(['2018-01-01', '2018-01-02', '2018-01-03', '2018-01-04',\n",
            "               '2018-01-05', '2018-01-06'],\n",
            "              dtype='datetime64[ns]', freq='D')\n",
            "2018-01-01    143.73\n",
            "2018-01-02    145.83\n",
            "2018-01-03    143.68\n",
            "2018-01-04    144.02\n",
            "2018-01-05    143.50\n",
            "2018-01-06    142.62\n",
            "Freq: D, Name: Apple Price List, dtype: float64\n"
          ]
        }
      ],
      "source": [
        "time_index = pd.date_range('2018-01-01',periods = len(s),freq = 'D')\n",
        "print(time_index)\n",
        "s.index = time_index\n",
        "print(s)"
      ]
    },
    {
      "cell_type": "markdown",
      "metadata": {
        "id": "7WedejFZg19J"
      },
      "source": [
        "Series are usually accessed using the iloc[] and loc[] methods. iloc[] is used to access elements by integer index, and loc[] is used to access the index of the series.\n",
        "\n",
        "iloc[] is necessary when the index of a series are integers, take our previous defined series as example:"
      ]
    },
    {
      "cell_type": "code",
      "execution_count": null,
      "metadata": {
        "colab": {
          "base_uri": "https://localhost:8080/"
        },
        "id": "KrVSOyMvO58m",
        "outputId": "2cdfca45-38f7-4bc0-b9b6-a7205dc7c458"
      },
      "outputs": [
        {
          "output_type": "stream",
          "name": "stdout",
          "text": [
            "6    143.73\n",
            "5    145.83\n",
            "4    143.68\n",
            "3    144.02\n",
            "2    143.50\n",
            "1    142.62\n",
            "Name: Apple Price List, dtype: float64\n",
            "142.62\n"
          ]
        }
      ],
      "source": [
        "s.index = [6,5,4,3,2,1]\n",
        "print(s)\n",
        "print(s[1])"
      ]
    },
    {
      "cell_type": "markdown",
      "metadata": {
        "id": "r30VKPtpg61p"
      },
      "source": [
        "If we intended to take the second element of the series, we would make a mistake here, because the index are integers. In order to access to the element we want, we use iloc[] here:"
      ]
    },
    {
      "cell_type": "code",
      "execution_count": null,
      "metadata": {
        "colab": {
          "base_uri": "https://localhost:8080/"
        },
        "id": "bHukfaAmO58m",
        "outputId": "7a21d796-9680-4a2d-dcc6-ae08b211eb2c"
      },
      "outputs": [
        {
          "output_type": "stream",
          "name": "stdout",
          "text": [
            "145.83\n"
          ]
        }
      ],
      "source": [
        "print(s.iloc[1])"
      ]
    },
    {
      "cell_type": "markdown",
      "metadata": {
        "id": "kHVBRL_Rg84j"
      },
      "source": [
        "While working with time series data, we often use time as the index. Pandas provides us with various methods to access the data by time index"
      ]
    },
    {
      "cell_type": "code",
      "execution_count": null,
      "metadata": {
        "colab": {
          "base_uri": "https://localhost:8080/"
        },
        "id": "FCf8Hg7jO58n",
        "outputId": "a0b80814-aa5a-4e0c-bef9-5cbc8016ca22"
      },
      "outputs": [
        {
          "output_type": "stream",
          "name": "stdout",
          "text": [
            "143.68\n"
          ]
        }
      ],
      "source": [
        "s.index = time_index\n",
        "print(s['2018-01-03'])"
      ]
    },
    {
      "cell_type": "markdown",
      "metadata": {
        "id": "XJXcrSFpg-To"
      },
      "source": [
        "We can even access to a range of dates:"
      ]
    },
    {
      "cell_type": "code",
      "execution_count": null,
      "metadata": {
        "colab": {
          "base_uri": "https://localhost:8080/"
        },
        "id": "NsE-Lr_9O58n",
        "outputId": "1a4042e7-a66a-4e3f-92d6-68db33af250b"
      },
      "outputs": [
        {
          "output_type": "stream",
          "name": "stdout",
          "text": [
            "2018-01-02    145.83\n",
            "2018-01-03    143.68\n",
            "2018-01-04    144.02\n",
            "2018-01-05    143.50\n",
            "Freq: D, Name: Apple Price List, dtype: float64\n"
          ]
        }
      ],
      "source": [
        "print(s['2018-01-02':'2018-01-05'])"
      ]
    },
    {
      "cell_type": "markdown",
      "metadata": {
        "id": "cWA3NCXEhCLB"
      },
      "source": [
        "Series[] provides us a very flexible way to index data. We can add any condition in the square brackets:"
      ]
    },
    {
      "cell_type": "code",
      "execution_count": null,
      "metadata": {
        "colab": {
          "base_uri": "https://localhost:8080/"
        },
        "id": "aawbrg2EO58n",
        "outputId": "ded777f0-779a-4e46-d9e5-a7c9ee63de30"
      },
      "outputs": [
        {
          "output_type": "stream",
          "name": "stdout",
          "text": [
            "2018-01-01    143.73\n",
            "2018-01-03    143.68\n",
            "2018-01-05    143.50\n",
            "2018-01-06    142.62\n",
            "Name: Apple Price List, dtype: float64\n",
            "[2018-01-01    False\n",
            "2018-01-02    False\n",
            "2018-01-03    False\n",
            "2018-01-04     True\n",
            "2018-01-05    False\n",
            "2018-01-06    False\n",
            "Freq: D, Name: Apple Price List, dtype: bool]\n"
          ]
        }
      ],
      "source": [
        "print(s[s < np.mean(s)] )\n",
        "print([(s > np.mean(s)) & (s < np.mean(s) + 1.64*np.std(s))])"
      ]
    },
    {
      "cell_type": "markdown",
      "metadata": {
        "id": "jAByChIwhEuI"
      },
      "source": [
        "As demonstrated, we can use logical operators like & (and), | (or) and ~ (not) to group multiple conditions.\n",
        "\n",
        "# Summary\n",
        "Here we have introduced NumPy and Pandas for scientific computing in Python. In the next chapter, we will dive into Pandas to learn resampling and manipulating Pandas DataFrame, which are commonly used in financial data analysis."
      ]
    },
    {
      "cell_type": "markdown",
      "metadata": {
        "id": "OtjOpw6oJp6z"
      },
      "source": [
        "\n",
        "\n",
        "# 05 Pandas-Resampling and DataFrame\n",
        "\n",
        "# Introduction\n",
        "In the last chapter we had a glimpse of Pandas. In this chapter we will learn about resampling methods and the DataFrame object, which is a powerful tool for financial data analysis.\n",
        "\n",
        "# Fetching Data\n",
        "Here we use the Yahoo Finance to retrieve data.\n"
      ]
    },
    {
      "cell_type": "code",
      "execution_count": null,
      "metadata": {
        "colab": {
          "base_uri": "https://localhost:8080/"
        },
        "id": "luU8mZTsHW9x",
        "outputId": "83fb606c-fed0-4b53-cb86-0f3abc1fc64f"
      },
      "outputs": [
        {
          "output_type": "stream",
          "name": "stdout",
          "text": [
            "Collecting yfinance\n",
            "  Downloading yfinance-0.1.70-py2.py3-none-any.whl (26 kB)\n",
            "Requirement already satisfied: multitasking>=0.0.7 in /usr/local/lib/python3.7/dist-packages (from yfinance) (0.0.10)\n",
            "Requirement already satisfied: numpy>=1.15 in /usr/local/lib/python3.7/dist-packages (from yfinance) (1.21.5)\n",
            "Requirement already satisfied: pandas>=0.24.0 in /usr/local/lib/python3.7/dist-packages (from yfinance) (1.3.5)\n",
            "Collecting lxml>=4.5.1\n",
            "  Downloading lxml-4.8.0-cp37-cp37m-manylinux_2_17_x86_64.manylinux2014_x86_64.manylinux_2_24_x86_64.whl (6.4 MB)\n",
            "\u001b[K     |████████████████████████████████| 6.4 MB 9.6 MB/s \n",
            "\u001b[?25hCollecting requests>=2.26\n",
            "  Downloading requests-2.27.1-py2.py3-none-any.whl (63 kB)\n",
            "\u001b[K     |████████████████████████████████| 63 kB 1.1 MB/s \n",
            "\u001b[?25hRequirement already satisfied: pytz>=2017.3 in /usr/local/lib/python3.7/dist-packages (from pandas>=0.24.0->yfinance) (2018.9)\n",
            "Requirement already satisfied: python-dateutil>=2.7.3 in /usr/local/lib/python3.7/dist-packages (from pandas>=0.24.0->yfinance) (2.8.2)\n",
            "Requirement already satisfied: six>=1.5 in /usr/local/lib/python3.7/dist-packages (from python-dateutil>=2.7.3->pandas>=0.24.0->yfinance) (1.15.0)\n",
            "Requirement already satisfied: idna<4,>=2.5 in /usr/local/lib/python3.7/dist-packages (from requests>=2.26->yfinance) (2.10)\n",
            "Requirement already satisfied: certifi>=2017.4.17 in /usr/local/lib/python3.7/dist-packages (from requests>=2.26->yfinance) (2021.10.8)\n",
            "Requirement already satisfied: urllib3<1.27,>=1.21.1 in /usr/local/lib/python3.7/dist-packages (from requests>=2.26->yfinance) (1.24.3)\n",
            "Requirement already satisfied: charset-normalizer~=2.0.0 in /usr/local/lib/python3.7/dist-packages (from requests>=2.26->yfinance) (2.0.12)\n",
            "Installing collected packages: requests, lxml, yfinance\n",
            "  Attempting uninstall: requests\n",
            "    Found existing installation: requests 2.23.0\n",
            "    Uninstalling requests-2.23.0:\n",
            "      Successfully uninstalled requests-2.23.0\n",
            "  Attempting uninstall: lxml\n",
            "    Found existing installation: lxml 4.2.6\n",
            "    Uninstalling lxml-4.2.6:\n",
            "      Successfully uninstalled lxml-4.2.6\n",
            "\u001b[31mERROR: pip's dependency resolver does not currently take into account all the packages that are installed. This behaviour is the source of the following dependency conflicts.\n",
            "google-colab 1.0.0 requires requests~=2.23.0, but you have requests 2.27.1 which is incompatible.\n",
            "datascience 0.10.6 requires folium==0.2.1, but you have folium 0.8.3 which is incompatible.\u001b[0m\n",
            "Successfully installed lxml-4.8.0 requests-2.27.1 yfinance-0.1.70\n"
          ]
        }
      ],
      "source": [
        "!pip install yfinance"
      ]
    },
    {
      "cell_type": "code",
      "execution_count": null,
      "metadata": {
        "colab": {
          "base_uri": "https://localhost:8080/"
        },
        "id": "JX73w_lnLVq2",
        "outputId": "eebdefce-f2e3-4a9e-ae03-c0612c9f55cf"
      },
      "outputs": [
        {
          "output_type": "stream",
          "name": "stdout",
          "text": [
            "Collecting quandl\n",
            "  Downloading Quandl-3.7.0-py2.py3-none-any.whl (26 kB)\n",
            "Collecting inflection>=0.3.1\n",
            "  Downloading inflection-0.5.1-py2.py3-none-any.whl (9.5 kB)\n",
            "Requirement already satisfied: pandas>=0.14 in /usr/local/lib/python3.7/dist-packages (from quandl) (1.3.5)\n",
            "Requirement already satisfied: more-itertools in /usr/local/lib/python3.7/dist-packages (from quandl) (8.12.0)\n",
            "Requirement already satisfied: requests>=2.7.0 in /usr/local/lib/python3.7/dist-packages (from quandl) (2.27.1)\n",
            "Requirement already satisfied: numpy>=1.8 in /usr/local/lib/python3.7/dist-packages (from quandl) (1.21.5)\n",
            "Requirement already satisfied: python-dateutil in /usr/local/lib/python3.7/dist-packages (from quandl) (2.8.2)\n",
            "Requirement already satisfied: six in /usr/local/lib/python3.7/dist-packages (from quandl) (1.15.0)\n",
            "Requirement already satisfied: pytz>=2017.3 in /usr/local/lib/python3.7/dist-packages (from pandas>=0.14->quandl) (2018.9)\n",
            "Requirement already satisfied: idna<4,>=2.5 in /usr/local/lib/python3.7/dist-packages (from requests>=2.7.0->quandl) (2.10)\n",
            "Requirement already satisfied: charset-normalizer~=2.0.0 in /usr/local/lib/python3.7/dist-packages (from requests>=2.7.0->quandl) (2.0.12)\n",
            "Requirement already satisfied: certifi>=2017.4.17 in /usr/local/lib/python3.7/dist-packages (from requests>=2.7.0->quandl) (2021.10.8)\n",
            "Requirement already satisfied: urllib3<1.27,>=1.21.1 in /usr/local/lib/python3.7/dist-packages (from requests>=2.7.0->quandl) (1.24.3)\n",
            "Installing collected packages: inflection, quandl\n",
            "Successfully installed inflection-0.5.1 quandl-3.7.0\n"
          ]
        }
      ],
      "source": [
        "pip install quandl"
      ]
    },
    {
      "cell_type": "markdown",
      "metadata": {
        "id": "NrxGup3GLOwt"
      },
      "source": [
        "To use quandl appropiately you may need your own API key, for that kind of resource, you have to get Quandl account."
      ]
    },
    {
      "cell_type": "markdown",
      "metadata": {
        "id": "q3oqQ066LiB2"
      },
      "source": [
        "\n",
        "\n",
        "We will create a Series named \"msft\" whose values are Apple's daily closing prices, which are of course indexed by dates:\n"
      ]
    },
    {
      "cell_type": "code",
      "execution_count": null,
      "metadata": {
        "colab": {
          "base_uri": "https://localhost:8080/",
          "height": 492
        },
        "id": "estpZjzp325z",
        "outputId": "55b921e6-3114-4681-aff7-db3080be0b3a"
      },
      "outputs": [
        {
          "output_type": "stream",
          "name": "stdout",
          "text": [
            "{'zip': '95014', 'sector': 'Technology', 'fullTimeEmployees': 100000, 'longBusinessSummary': 'Apple Inc. designs, manufactures, and markets smartphones, personal computers, tablets, wearables, and accessories worldwide. It also sells various related services. In addition, the company offers iPhone, a line of smartphones; Mac, a line of personal computers; iPad, a line of multi-purpose tablets; AirPods Max, an over-ear wireless headphone; and wearables, home, and accessories comprising AirPods, Apple TV, Apple Watch, Beats products, HomePod, and iPod touch. Further, it provides AppleCare support services; cloud services store services; and operates various platforms, including the App Store that allow customers to discover and download applications and digital content, such as books, music, video, games, and podcasts. Additionally, the company offers various services, such as Apple Arcade, a game subscription service; Apple Music, which offers users a curated listening experience with on-demand radio stations; Apple News+, a subscription news and magazine service; Apple TV+, which offers exclusive original content; Apple Card, a co-branded credit card; and Apple Pay, a cashless payment service, as well as licenses its intellectual property. The company serves consumers, and small and mid-sized businesses; and the education, enterprise, and government markets. It distributes third-party applications for its products through the App Store. The company also sells its products through its retail and online stores, and direct sales force; and third-party cellular network carriers, wholesalers, retailers, and resellers. Apple Inc. was incorporated in 1977 and is headquartered in Cupertino, California.', 'city': 'Cupertino', 'phone': '408 996 1010', 'state': 'CA', 'country': 'United States', 'companyOfficers': [], 'website': 'https://www.apple.com', 'maxAge': 1, 'address1': 'One Apple Park Way', 'industry': 'Consumer Electronics', 'ebitdaMargins': 0.33890998, 'profitMargins': 0.26579002, 'grossMargins': 0.43019, 'operatingCashflow': 112241000448, 'revenueGrowth': 0.112, 'operatingMargins': 0.309, 'ebitda': 128217997312, 'targetLowPrice': 160, 'recommendationKey': 'buy', 'grossProfits': 152836000000, 'freeCashflow': 80153247744, 'targetMedianPrice': 199.5, 'currentPrice': 177.57, 'earningsGrowth': 0.25, 'currentRatio': 1.038, 'returnOnAssets': 0.19875, 'numberOfAnalystOpinions': 44, 'targetMeanPrice': 193.53, 'debtToEquity': 170.714, 'returnOnEquity': 1.45567, 'targetHighPrice': 215, 'totalCash': 63913000960, 'totalDebt': 122797998080, 'totalRevenue': 378323009536, 'totalCashPerShare': 3.916, 'financialCurrency': 'USD', 'revenuePerShare': 22.838, 'quickRatio': 0.875, 'recommendationMean': 1.8, 'exchange': 'NMS', 'shortName': 'Apple Inc.', 'longName': 'Apple Inc.', 'exchangeTimezoneName': 'America/New_York', 'exchangeTimezoneShortName': 'EDT', 'isEsgPopulated': False, 'gmtOffSetMilliseconds': '-14400000', 'quoteType': 'EQUITY', 'symbol': 'AAPL', 'messageBoardId': 'finmb_24937', 'market': 'us_market', 'annualHoldingsTurnover': None, 'enterpriseToRevenue': 7.675, 'beta3Year': None, 'enterpriseToEbitda': 22.645, '52WeekChange': 0.38451147, 'morningStarRiskRating': None, 'forwardEps': 6.56, 'revenueQuarterlyGrowth': None, 'sharesOutstanding': 16319399936, 'fundInceptionDate': None, 'annualReportExpenseRatio': None, 'totalAssets': None, 'bookValue': 4.402, 'sharesShort': 111286790, 'sharesPercentSharesOut': 0.0068, 'fundFamily': None, 'lastFiscalYearEnd': 1632528000, 'heldPercentInstitutions': 0.59365004, 'netIncomeToCommon': 100554997760, 'trailingEps': 6.015, 'lastDividendValue': 0.22, 'SandP52WeekChange': 0.11475241, 'priceToBook': 40.338486, 'heldPercentInsiders': 0.0007, 'nextFiscalYearEnd': 1695600000, 'yield': None, 'mostRecentQuarter': 1640390400, 'shortRatio': 1.21, 'sharesShortPreviousMonthDate': 1644883200, 'floatShares': 16302795170, 'beta': 1.185531, 'enterpriseValue': 2903526866944, 'priceHint': 2, 'threeYearAverageReturn': None, 'lastSplitDate': 1598832000, 'lastSplitFactor': '4:1', 'legalType': None, 'lastDividendDate': 1643932800, 'morningStarOverallRating': None, 'earningsQuarterlyGrowth': 0.204, 'priceToSalesTrailing12Months': 7.6596875, 'dateShortInterest': 1647302400, 'pegRatio': 1.91, 'ytdReturn': None, 'forwardPE': 27.0686, 'lastCapGain': None, 'shortPercentOfFloat': 0.0068, 'sharesShortPriorMonth': 108944701, 'impliedSharesOutstanding': 0, 'category': None, 'fiveYearAverageReturn': None, 'previousClose': 174.31, 'regularMarketOpen': 174.57, 'twoHundredDayAverage': 156.7106, 'trailingAnnualDividendYield': 0.0049624234, 'payoutRatio': 0.1434, 'volume24Hr': None, 'regularMarketDayHigh': 178.21, 'navPrice': None, 'averageDailyVolume10Day': 91142730, 'regularMarketPreviousClose': 174.31, 'fiftyDayAverage': 167.021, 'trailingAnnualDividendRate': 0.865, 'open': 174.57, 'toCurrency': None, 'averageVolume10days': 91142730, 'expireDate': None, 'algorithm': None, 'dividendRate': 0.88, 'exDividendDate': 1643932800, 'circulatingSupply': None, 'startDate': None, 'regularMarketDayLow': 174.44, 'currency': 'USD', 'trailingPE': 29.521198, 'regularMarketVolume': 30493348, 'lastMarket': None, 'maxSupply': None, 'openInterest': None, 'marketCap': 2897835982848, 'volumeAllCurrencies': None, 'strikePrice': None, 'averageVolume': 94937411, 'dayLow': 174.44, 'ask': 177.57, 'askSize': 800, 'volume': 30493348, 'fiftyTwoWeekHigh': 182.94, 'fromCurrency': None, 'fiveYearAvgDividendYield': 1.11, 'fiftyTwoWeekLow': 122.25, 'bid': 177.55, 'tradeable': False, 'dividendYield': 0.005, 'bidSize': 800, 'dayHigh': 178.21, 'regularMarketPrice': 177.57, 'preMarketPrice': 174.62, 'logo_url': 'https://logo.clearbit.com/apple.com', 'trailingPegRatio': 3.4758}\n"
          ]
        },
        {
          "output_type": "execute_result",
          "data": {
            "text/plain": [
              "                 Open       High        Low      Close     Volume  Dividends  \\\n",
              "Date                                                                           \n",
              "2016-01-04  23.590634  24.225174  23.450391  24.220575  270597600        0.0   \n",
              "2016-01-05  24.312538  24.335529  23.544654  23.613625  223164000        0.0   \n",
              "2016-01-06  23.119335  23.535466  22.960701  23.151522  273829600        0.0   \n",
              "2016-01-07  22.687102  23.020465  22.169814  22.174412  324377600        0.0   \n",
              "2016-01-08  22.657217  22.785964  22.245686  22.291666  283192000        0.0   \n",
              "...               ...        ...        ...        ...        ...        ...   \n",
              "2017-12-22  41.713645  41.890359  41.670663  41.792450   65397600        0.0   \n",
              "2017-12-26  40.787112  40.947108  40.519653  40.732189  132742000        0.0   \n",
              "2017-12-27  40.619949  40.782332  40.526817  40.739349   85992800        0.0   \n",
              "2017-12-28  40.834869  41.037851  40.710692  40.853973   65920800        0.0   \n",
              "2017-12-29  40.720240  40.736954  40.409799  40.412186  103999600        0.0   \n",
              "\n",
              "            Stock Splits  \n",
              "Date                      \n",
              "2016-01-04             0  \n",
              "2016-01-05             0  \n",
              "2016-01-06             0  \n",
              "2016-01-07             0  \n",
              "2016-01-08             0  \n",
              "...                  ...  \n",
              "2017-12-22             0  \n",
              "2017-12-26             0  \n",
              "2017-12-27             0  \n",
              "2017-12-28             0  \n",
              "2017-12-29             0  \n",
              "\n",
              "[503 rows x 7 columns]"
            ],
            "text/html": [
              "\n",
              "  <div id=\"df-b650b1b8-f7e8-40ba-b4b9-357bedacf999\">\n",
              "    <div class=\"colab-df-container\">\n",
              "      <div>\n",
              "<style scoped>\n",
              "    .dataframe tbody tr th:only-of-type {\n",
              "        vertical-align: middle;\n",
              "    }\n",
              "\n",
              "    .dataframe tbody tr th {\n",
              "        vertical-align: top;\n",
              "    }\n",
              "\n",
              "    .dataframe thead th {\n",
              "        text-align: right;\n",
              "    }\n",
              "</style>\n",
              "<table border=\"1\" class=\"dataframe\">\n",
              "  <thead>\n",
              "    <tr style=\"text-align: right;\">\n",
              "      <th></th>\n",
              "      <th>Open</th>\n",
              "      <th>High</th>\n",
              "      <th>Low</th>\n",
              "      <th>Close</th>\n",
              "      <th>Volume</th>\n",
              "      <th>Dividends</th>\n",
              "      <th>Stock Splits</th>\n",
              "    </tr>\n",
              "    <tr>\n",
              "      <th>Date</th>\n",
              "      <th></th>\n",
              "      <th></th>\n",
              "      <th></th>\n",
              "      <th></th>\n",
              "      <th></th>\n",
              "      <th></th>\n",
              "      <th></th>\n",
              "    </tr>\n",
              "  </thead>\n",
              "  <tbody>\n",
              "    <tr>\n",
              "      <th>2016-01-04</th>\n",
              "      <td>23.590634</td>\n",
              "      <td>24.225174</td>\n",
              "      <td>23.450391</td>\n",
              "      <td>24.220575</td>\n",
              "      <td>270597600</td>\n",
              "      <td>0.0</td>\n",
              "      <td>0</td>\n",
              "    </tr>\n",
              "    <tr>\n",
              "      <th>2016-01-05</th>\n",
              "      <td>24.312538</td>\n",
              "      <td>24.335529</td>\n",
              "      <td>23.544654</td>\n",
              "      <td>23.613625</td>\n",
              "      <td>223164000</td>\n",
              "      <td>0.0</td>\n",
              "      <td>0</td>\n",
              "    </tr>\n",
              "    <tr>\n",
              "      <th>2016-01-06</th>\n",
              "      <td>23.119335</td>\n",
              "      <td>23.535466</td>\n",
              "      <td>22.960701</td>\n",
              "      <td>23.151522</td>\n",
              "      <td>273829600</td>\n",
              "      <td>0.0</td>\n",
              "      <td>0</td>\n",
              "    </tr>\n",
              "    <tr>\n",
              "      <th>2016-01-07</th>\n",
              "      <td>22.687102</td>\n",
              "      <td>23.020465</td>\n",
              "      <td>22.169814</td>\n",
              "      <td>22.174412</td>\n",
              "      <td>324377600</td>\n",
              "      <td>0.0</td>\n",
              "      <td>0</td>\n",
              "    </tr>\n",
              "    <tr>\n",
              "      <th>2016-01-08</th>\n",
              "      <td>22.657217</td>\n",
              "      <td>22.785964</td>\n",
              "      <td>22.245686</td>\n",
              "      <td>22.291666</td>\n",
              "      <td>283192000</td>\n",
              "      <td>0.0</td>\n",
              "      <td>0</td>\n",
              "    </tr>\n",
              "    <tr>\n",
              "      <th>...</th>\n",
              "      <td>...</td>\n",
              "      <td>...</td>\n",
              "      <td>...</td>\n",
              "      <td>...</td>\n",
              "      <td>...</td>\n",
              "      <td>...</td>\n",
              "      <td>...</td>\n",
              "    </tr>\n",
              "    <tr>\n",
              "      <th>2017-12-22</th>\n",
              "      <td>41.713645</td>\n",
              "      <td>41.890359</td>\n",
              "      <td>41.670663</td>\n",
              "      <td>41.792450</td>\n",
              "      <td>65397600</td>\n",
              "      <td>0.0</td>\n",
              "      <td>0</td>\n",
              "    </tr>\n",
              "    <tr>\n",
              "      <th>2017-12-26</th>\n",
              "      <td>40.787112</td>\n",
              "      <td>40.947108</td>\n",
              "      <td>40.519653</td>\n",
              "      <td>40.732189</td>\n",
              "      <td>132742000</td>\n",
              "      <td>0.0</td>\n",
              "      <td>0</td>\n",
              "    </tr>\n",
              "    <tr>\n",
              "      <th>2017-12-27</th>\n",
              "      <td>40.619949</td>\n",
              "      <td>40.782332</td>\n",
              "      <td>40.526817</td>\n",
              "      <td>40.739349</td>\n",
              "      <td>85992800</td>\n",
              "      <td>0.0</td>\n",
              "      <td>0</td>\n",
              "    </tr>\n",
              "    <tr>\n",
              "      <th>2017-12-28</th>\n",
              "      <td>40.834869</td>\n",
              "      <td>41.037851</td>\n",
              "      <td>40.710692</td>\n",
              "      <td>40.853973</td>\n",
              "      <td>65920800</td>\n",
              "      <td>0.0</td>\n",
              "      <td>0</td>\n",
              "    </tr>\n",
              "    <tr>\n",
              "      <th>2017-12-29</th>\n",
              "      <td>40.720240</td>\n",
              "      <td>40.736954</td>\n",
              "      <td>40.409799</td>\n",
              "      <td>40.412186</td>\n",
              "      <td>103999600</td>\n",
              "      <td>0.0</td>\n",
              "      <td>0</td>\n",
              "    </tr>\n",
              "  </tbody>\n",
              "</table>\n",
              "<p>503 rows × 7 columns</p>\n",
              "</div>\n",
              "      <button class=\"colab-df-convert\" onclick=\"convertToInteractive('df-b650b1b8-f7e8-40ba-b4b9-357bedacf999')\"\n",
              "              title=\"Convert this dataframe to an interactive table.\"\n",
              "              style=\"display:none;\">\n",
              "        \n",
              "  <svg xmlns=\"http://www.w3.org/2000/svg\" height=\"24px\"viewBox=\"0 0 24 24\"\n",
              "       width=\"24px\">\n",
              "    <path d=\"M0 0h24v24H0V0z\" fill=\"none\"/>\n",
              "    <path d=\"M18.56 5.44l.94 2.06.94-2.06 2.06-.94-2.06-.94-.94-2.06-.94 2.06-2.06.94zm-11 1L8.5 8.5l.94-2.06 2.06-.94-2.06-.94L8.5 2.5l-.94 2.06-2.06.94zm10 10l.94 2.06.94-2.06 2.06-.94-2.06-.94-.94-2.06-.94 2.06-2.06.94z\"/><path d=\"M17.41 7.96l-1.37-1.37c-.4-.4-.92-.59-1.43-.59-.52 0-1.04.2-1.43.59L10.3 9.45l-7.72 7.72c-.78.78-.78 2.05 0 2.83L4 21.41c.39.39.9.59 1.41.59.51 0 1.02-.2 1.41-.59l7.78-7.78 2.81-2.81c.8-.78.8-2.07 0-2.86zM5.41 20L4 18.59l7.72-7.72 1.47 1.35L5.41 20z\"/>\n",
              "  </svg>\n",
              "      </button>\n",
              "      \n",
              "  <style>\n",
              "    .colab-df-container {\n",
              "      display:flex;\n",
              "      flex-wrap:wrap;\n",
              "      gap: 12px;\n",
              "    }\n",
              "\n",
              "    .colab-df-convert {\n",
              "      background-color: #E8F0FE;\n",
              "      border: none;\n",
              "      border-radius: 50%;\n",
              "      cursor: pointer;\n",
              "      display: none;\n",
              "      fill: #1967D2;\n",
              "      height: 32px;\n",
              "      padding: 0 0 0 0;\n",
              "      width: 32px;\n",
              "    }\n",
              "\n",
              "    .colab-df-convert:hover {\n",
              "      background-color: #E2EBFA;\n",
              "      box-shadow: 0px 1px 2px rgba(60, 64, 67, 0.3), 0px 1px 3px 1px rgba(60, 64, 67, 0.15);\n",
              "      fill: #174EA6;\n",
              "    }\n",
              "\n",
              "    [theme=dark] .colab-df-convert {\n",
              "      background-color: #3B4455;\n",
              "      fill: #D2E3FC;\n",
              "    }\n",
              "\n",
              "    [theme=dark] .colab-df-convert:hover {\n",
              "      background-color: #434B5C;\n",
              "      box-shadow: 0px 1px 3px 1px rgba(0, 0, 0, 0.15);\n",
              "      filter: drop-shadow(0px 1px 2px rgba(0, 0, 0, 0.3));\n",
              "      fill: #FFFFFF;\n",
              "    }\n",
              "  </style>\n",
              "\n",
              "      <script>\n",
              "        const buttonEl =\n",
              "          document.querySelector('#df-b650b1b8-f7e8-40ba-b4b9-357bedacf999 button.colab-df-convert');\n",
              "        buttonEl.style.display =\n",
              "          google.colab.kernel.accessAllowed ? 'block' : 'none';\n",
              "\n",
              "        async function convertToInteractive(key) {\n",
              "          const element = document.querySelector('#df-b650b1b8-f7e8-40ba-b4b9-357bedacf999');\n",
              "          const dataTable =\n",
              "            await google.colab.kernel.invokeFunction('convertToInteractive',\n",
              "                                                     [key], {});\n",
              "          if (!dataTable) return;\n",
              "\n",
              "          const docLinkHtml = 'Like what you see? Visit the ' +\n",
              "            '<a target=\"_blank\" href=https://colab.research.google.com/notebooks/data_table.ipynb>data table notebook</a>'\n",
              "            + ' to learn more about interactive tables.';\n",
              "          element.innerHTML = '';\n",
              "          dataTable['output_type'] = 'display_data';\n",
              "          await google.colab.output.renderOutput(dataTable, element);\n",
              "          const docLink = document.createElement('div');\n",
              "          docLink.innerHTML = docLinkHtml;\n",
              "          element.appendChild(docLink);\n",
              "        }\n",
              "      </script>\n",
              "    </div>\n",
              "  </div>\n",
              "  "
            ]
          },
          "metadata": {},
          "execution_count": 477
        }
      ],
      "source": [
        "import yfinance as yf\n",
        "\n",
        "aapl = yf.Ticker(\"AAPL\")\n",
        "\n",
        "# get stock info\n",
        "print(aapl.info)\n",
        "\n",
        "# get historical market data\n",
        "aapl_table = aapl.history(start=\"2016-01-01\",  end=\"2017-12-31\")\n",
        "aapl_table"
      ]
    },
    {
      "cell_type": "markdown",
      "metadata": {
        "id": "Ol0U_5PV5fRg"
      },
      "source": [
        "**My own example 175**"
      ]
    },
    {
      "cell_type": "code",
      "execution_count": null,
      "metadata": {
        "colab": {
          "base_uri": "https://localhost:8080/",
          "height": 492
        },
        "id": "mWZ-nirTZHrE",
        "outputId": "8cf21d0b-db01-4cb0-f523-0b5b128cca4f"
      },
      "outputs": [
        {
          "output_type": "stream",
          "name": "stdout",
          "text": [
            "{'zip': '98052-6399', 'sector': 'Technology', 'fullTimeEmployees': 181000, 'longBusinessSummary': 'Microsoft Corporation develops, licenses, and supports software, services, devices, and solutions worldwide. Its Productivity and Business Processes segment offers Office, Exchange, SharePoint, Microsoft Teams, Office 365 Security and Compliance, and Skype for Business, as well as related Client Access Licenses (CAL); Skype, Outlook.com, OneDrive, and LinkedIn; and Dynamics 365, a set of cloud-based and on-premises business solutions for organizations and enterprise divisions. Its Intelligent Cloud segment licenses SQL, Windows Servers, Visual Studio, System Center, and related CALs; GitHub that provides a collaboration platform and code hosting service for developers; and Azure, a cloud platform. It also offers support services and Microsoft consulting services to assist customers in developing, deploying, and managing Microsoft server and desktop solutions; and training and certification on Microsoft products. Its More Personal Computing segment provides Windows original equipment manufacturer (OEM) licensing and other non-volume licensing of the Windows operating system; Windows Commercial, such as volume licensing of the Windows operating system, Windows cloud services, and other Windows commercial offerings; patent licensing; Windows Internet of Things; and MSN advertising. It also offers Surface, PC accessories, PCs, tablets, gaming and entertainment consoles, and other devices; Gaming, including Xbox hardware, and Xbox content and services; video games and third-party video game royalties; and Search, including Bing and Microsoft advertising. It sells its products through OEMs, distributors, and resellers; and directly through digital marketplaces, online stores, and retail stores. It has collaborations with Dynatrace, Inc., Morgan Stanley, Micro Focus, WPP plc, ACI Worldwide, Inc., and iCIMS, Inc., as well as strategic relationships with Avaya Holdings Corp. and wejo Limited. Microsoft Corporation was founded in 1975 and is based in Redmond, Washington.', 'city': 'Redmond', 'phone': '425 882 8080', 'state': 'WA', 'country': 'United States', 'companyOfficers': [], 'website': 'https://www.microsoft.com', 'maxAge': 1, 'address1': 'One Microsoft Way', 'industry': 'Software—Infrastructure', 'ebitdaMargins': 0.49123, 'profitMargins': 0.38498002, 'grossMargins': 0.68825996, 'operatingCashflow': 83909001216, 'revenueGrowth': 0.201, 'operatingMargins': 0.42523998, 'ebitda': 90829996032, 'targetLowPrice': 306.55, 'recommendationKey': 'buy', 'grossProfits': 115856000000, 'freeCashflow': 46479876096, 'targetMedianPrice': 370, 'currentPrice': 313.27, 'earningsGrowth': 0.222, 'currentRatio': 2.247, 'returnOnAssets': 0.15248999, 'numberOfAnalystOpinions': 45, 'targetMeanPrice': 370.69, 'debtToEquity': 50.217, 'returnOnEquity': 0.49051, 'targetHighPrice': 425, 'totalCash': 125348003840, 'totalDebt': 80353001472, 'totalRevenue': 184902991872, 'totalCashPerShare': 16.72, 'financialCurrency': 'USD', 'revenuePerShare': 24.585, 'quickRatio': 2.05, 'recommendationMean': 1.7, 'exchange': 'NMS', 'shortName': 'Microsoft Corporation', 'longName': 'Microsoft Corporation', 'exchangeTimezoneName': 'America/New_York', 'exchangeTimezoneShortName': 'EDT', 'isEsgPopulated': False, 'gmtOffSetMilliseconds': '-14400000', 'quoteType': 'EQUITY', 'symbol': 'MSFT', 'messageBoardId': 'finmb_21835', 'market': 'us_market', 'annualHoldingsTurnover': None, 'enterpriseToRevenue': 12.302, 'beta3Year': None, 'enterpriseToEbitda': 25.043, '52WeekChange': 0.24230134, 'morningStarRiskRating': None, 'forwardEps': 10.74, 'revenueQuarterlyGrowth': None, 'sharesOutstanding': 7496869888, 'fundInceptionDate': None, 'annualReportExpenseRatio': None, 'totalAssets': None, 'bookValue': 21.335, 'sharesShort': 36442967, 'sharesPercentSharesOut': 0.0049, 'fundFamily': None, 'lastFiscalYearEnd': 1625011200, 'heldPercentInstitutions': 0.71876997, 'netIncomeToCommon': 71184998400, 'trailingEps': 9.389, 'lastDividendValue': 0.62, 'SandP52WeekChange': 0.11475241, 'priceToBook': 14.683384, 'heldPercentInsiders': 0.00059, 'nextFiscalYearEnd': 1688083200, 'yield': None, 'mostRecentQuarter': 1640908800, 'shortRatio': 1.04, 'sharesShortPreviousMonthDate': 1644883200, 'floatShares': 7489894342, 'beta': 0.910925, 'enterpriseValue': 2274685353984, 'priceHint': 2, 'threeYearAverageReturn': None, 'lastSplitDate': 1045526400, 'lastSplitFactor': '2:1', 'legalType': None, 'lastDividendDate': 1652832000, 'morningStarOverallRating': None, 'earningsQuarterlyGrowth': 0.214, 'priceToSalesTrailing12Months': 12.701495, 'dateShortInterest': 1647302400, 'pegRatio': 1.9, 'ytdReturn': None, 'forwardPE': 29.168528, 'lastCapGain': None, 'shortPercentOfFloat': 0.0049, 'sharesShortPriorMonth': 35348757, 'impliedSharesOutstanding': 0, 'category': None, 'fiveYearAverageReturn': None, 'previousClose': 309.42, 'regularMarketOpen': 310.09, 'twoHundredDayAverage': 303.641, 'trailingAnnualDividendYield': 0.007627173, 'payoutRatio': 0.2449, 'volume24Hr': None, 'regularMarketDayHigh': 314.35, 'navPrice': None, 'averageDailyVolume10Day': 27735970, 'regularMarketPreviousClose': 309.42, 'fiftyDayAverage': 297.684, 'trailingAnnualDividendRate': 2.36, 'open': 310.09, 'toCurrency': None, 'averageVolume10days': 27735970, 'expireDate': None, 'algorithm': None, 'dividendRate': 2.48, 'exDividendDate': 1652832000, 'circulatingSupply': None, 'startDate': None, 'regularMarketDayLow': 309.72, 'currency': 'USD', 'trailingPE': 33.36564, 'regularMarketVolume': 7911711, 'lastMarket': None, 'maxSupply': None, 'openInterest': None, 'marketCap': 2348544425984, 'volumeAllCurrencies': None, 'strikePrice': None, 'averageVolume': 38431636, 'dayLow': 309.72, 'ask': 312.9, 'askSize': 1200, 'volume': 7911711, 'fiftyTwoWeekHigh': 349.67, 'fromCurrency': None, 'fiveYearAvgDividendYield': 1.32, 'fiftyTwoWeekLow': 238.07, 'bid': 312.93, 'tradeable': False, 'dividendYield': 0.008, 'bidSize': 1400, 'dayHigh': 314.35, 'regularMarketPrice': 313.27, 'preMarketPrice': 310.25, 'logo_url': 'https://logo.clearbit.com/microsoft.com', 'trailingPegRatio': 2.1587}\n"
          ]
        },
        {
          "output_type": "execute_result",
          "data": {
            "text/plain": [
              "                 Open       High        Low      Close     Volume  Dividends  \\\n",
              "Date                                                                           \n",
              "2017-01-03  58.260314  58.306706  57.647926  58.065464   20694100        0.0   \n",
              "2017-01-04  57.972668  58.223190  57.638638  57.805653   21340000        0.0   \n",
              "2017-01-05  57.703587  58.139683  57.555130  57.805653   24876000        0.0   \n",
              "2017-01-06  57.805649  58.594332  57.564407  58.306694   19922900        0.0   \n",
              "2017-01-09  58.232470  58.529389  58.028344  58.121128   20382700        0.0   \n",
              "...               ...        ...        ...        ...        ...        ...   \n",
              "2018-12-21  98.072798  99.394849  94.048756  94.791809  111242100        0.0   \n",
              "2018-12-24  94.261052  94.540902  90.690560  90.835304   43935200        0.0   \n",
              "2018-12-26  91.809977  97.165722  90.671278  97.040268   51634800        0.0   \n",
              "2018-12-27  95.824363  97.648209  93.025865  97.638557   49498500        0.0   \n",
              "2018-12-28  98.516708  98.825514  96.036662  96.876213   38196300        0.0   \n",
              "\n",
              "            Stock Splits  \n",
              "Date                      \n",
              "2017-01-03             0  \n",
              "2017-01-04             0  \n",
              "2017-01-05             0  \n",
              "2017-01-06             0  \n",
              "2017-01-09             0  \n",
              "...                  ...  \n",
              "2018-12-21             0  \n",
              "2018-12-24             0  \n",
              "2018-12-26             0  \n",
              "2018-12-27             0  \n",
              "2018-12-28             0  \n",
              "\n",
              "[501 rows x 7 columns]"
            ],
            "text/html": [
              "\n",
              "  <div id=\"df-a2863273-6c16-4142-a407-293635d97963\">\n",
              "    <div class=\"colab-df-container\">\n",
              "      <div>\n",
              "<style scoped>\n",
              "    .dataframe tbody tr th:only-of-type {\n",
              "        vertical-align: middle;\n",
              "    }\n",
              "\n",
              "    .dataframe tbody tr th {\n",
              "        vertical-align: top;\n",
              "    }\n",
              "\n",
              "    .dataframe thead th {\n",
              "        text-align: right;\n",
              "    }\n",
              "</style>\n",
              "<table border=\"1\" class=\"dataframe\">\n",
              "  <thead>\n",
              "    <tr style=\"text-align: right;\">\n",
              "      <th></th>\n",
              "      <th>Open</th>\n",
              "      <th>High</th>\n",
              "      <th>Low</th>\n",
              "      <th>Close</th>\n",
              "      <th>Volume</th>\n",
              "      <th>Dividends</th>\n",
              "      <th>Stock Splits</th>\n",
              "    </tr>\n",
              "    <tr>\n",
              "      <th>Date</th>\n",
              "      <th></th>\n",
              "      <th></th>\n",
              "      <th></th>\n",
              "      <th></th>\n",
              "      <th></th>\n",
              "      <th></th>\n",
              "      <th></th>\n",
              "    </tr>\n",
              "  </thead>\n",
              "  <tbody>\n",
              "    <tr>\n",
              "      <th>2017-01-03</th>\n",
              "      <td>58.260314</td>\n",
              "      <td>58.306706</td>\n",
              "      <td>57.647926</td>\n",
              "      <td>58.065464</td>\n",
              "      <td>20694100</td>\n",
              "      <td>0.0</td>\n",
              "      <td>0</td>\n",
              "    </tr>\n",
              "    <tr>\n",
              "      <th>2017-01-04</th>\n",
              "      <td>57.972668</td>\n",
              "      <td>58.223190</td>\n",
              "      <td>57.638638</td>\n",
              "      <td>57.805653</td>\n",
              "      <td>21340000</td>\n",
              "      <td>0.0</td>\n",
              "      <td>0</td>\n",
              "    </tr>\n",
              "    <tr>\n",
              "      <th>2017-01-05</th>\n",
              "      <td>57.703587</td>\n",
              "      <td>58.139683</td>\n",
              "      <td>57.555130</td>\n",
              "      <td>57.805653</td>\n",
              "      <td>24876000</td>\n",
              "      <td>0.0</td>\n",
              "      <td>0</td>\n",
              "    </tr>\n",
              "    <tr>\n",
              "      <th>2017-01-06</th>\n",
              "      <td>57.805649</td>\n",
              "      <td>58.594332</td>\n",
              "      <td>57.564407</td>\n",
              "      <td>58.306694</td>\n",
              "      <td>19922900</td>\n",
              "      <td>0.0</td>\n",
              "      <td>0</td>\n",
              "    </tr>\n",
              "    <tr>\n",
              "      <th>2017-01-09</th>\n",
              "      <td>58.232470</td>\n",
              "      <td>58.529389</td>\n",
              "      <td>58.028344</td>\n",
              "      <td>58.121128</td>\n",
              "      <td>20382700</td>\n",
              "      <td>0.0</td>\n",
              "      <td>0</td>\n",
              "    </tr>\n",
              "    <tr>\n",
              "      <th>...</th>\n",
              "      <td>...</td>\n",
              "      <td>...</td>\n",
              "      <td>...</td>\n",
              "      <td>...</td>\n",
              "      <td>...</td>\n",
              "      <td>...</td>\n",
              "      <td>...</td>\n",
              "    </tr>\n",
              "    <tr>\n",
              "      <th>2018-12-21</th>\n",
              "      <td>98.072798</td>\n",
              "      <td>99.394849</td>\n",
              "      <td>94.048756</td>\n",
              "      <td>94.791809</td>\n",
              "      <td>111242100</td>\n",
              "      <td>0.0</td>\n",
              "      <td>0</td>\n",
              "    </tr>\n",
              "    <tr>\n",
              "      <th>2018-12-24</th>\n",
              "      <td>94.261052</td>\n",
              "      <td>94.540902</td>\n",
              "      <td>90.690560</td>\n",
              "      <td>90.835304</td>\n",
              "      <td>43935200</td>\n",
              "      <td>0.0</td>\n",
              "      <td>0</td>\n",
              "    </tr>\n",
              "    <tr>\n",
              "      <th>2018-12-26</th>\n",
              "      <td>91.809977</td>\n",
              "      <td>97.165722</td>\n",
              "      <td>90.671278</td>\n",
              "      <td>97.040268</td>\n",
              "      <td>51634800</td>\n",
              "      <td>0.0</td>\n",
              "      <td>0</td>\n",
              "    </tr>\n",
              "    <tr>\n",
              "      <th>2018-12-27</th>\n",
              "      <td>95.824363</td>\n",
              "      <td>97.648209</td>\n",
              "      <td>93.025865</td>\n",
              "      <td>97.638557</td>\n",
              "      <td>49498500</td>\n",
              "      <td>0.0</td>\n",
              "      <td>0</td>\n",
              "    </tr>\n",
              "    <tr>\n",
              "      <th>2018-12-28</th>\n",
              "      <td>98.516708</td>\n",
              "      <td>98.825514</td>\n",
              "      <td>96.036662</td>\n",
              "      <td>96.876213</td>\n",
              "      <td>38196300</td>\n",
              "      <td>0.0</td>\n",
              "      <td>0</td>\n",
              "    </tr>\n",
              "  </tbody>\n",
              "</table>\n",
              "<p>501 rows × 7 columns</p>\n",
              "</div>\n",
              "      <button class=\"colab-df-convert\" onclick=\"convertToInteractive('df-a2863273-6c16-4142-a407-293635d97963')\"\n",
              "              title=\"Convert this dataframe to an interactive table.\"\n",
              "              style=\"display:none;\">\n",
              "        \n",
              "  <svg xmlns=\"http://www.w3.org/2000/svg\" height=\"24px\"viewBox=\"0 0 24 24\"\n",
              "       width=\"24px\">\n",
              "    <path d=\"M0 0h24v24H0V0z\" fill=\"none\"/>\n",
              "    <path d=\"M18.56 5.44l.94 2.06.94-2.06 2.06-.94-2.06-.94-.94-2.06-.94 2.06-2.06.94zm-11 1L8.5 8.5l.94-2.06 2.06-.94-2.06-.94L8.5 2.5l-.94 2.06-2.06.94zm10 10l.94 2.06.94-2.06 2.06-.94-2.06-.94-.94-2.06-.94 2.06-2.06.94z\"/><path d=\"M17.41 7.96l-1.37-1.37c-.4-.4-.92-.59-1.43-.59-.52 0-1.04.2-1.43.59L10.3 9.45l-7.72 7.72c-.78.78-.78 2.05 0 2.83L4 21.41c.39.39.9.59 1.41.59.51 0 1.02-.2 1.41-.59l7.78-7.78 2.81-2.81c.8-.78.8-2.07 0-2.86zM5.41 20L4 18.59l7.72-7.72 1.47 1.35L5.41 20z\"/>\n",
              "  </svg>\n",
              "      </button>\n",
              "      \n",
              "  <style>\n",
              "    .colab-df-container {\n",
              "      display:flex;\n",
              "      flex-wrap:wrap;\n",
              "      gap: 12px;\n",
              "    }\n",
              "\n",
              "    .colab-df-convert {\n",
              "      background-color: #E8F0FE;\n",
              "      border: none;\n",
              "      border-radius: 50%;\n",
              "      cursor: pointer;\n",
              "      display: none;\n",
              "      fill: #1967D2;\n",
              "      height: 32px;\n",
              "      padding: 0 0 0 0;\n",
              "      width: 32px;\n",
              "    }\n",
              "\n",
              "    .colab-df-convert:hover {\n",
              "      background-color: #E2EBFA;\n",
              "      box-shadow: 0px 1px 2px rgba(60, 64, 67, 0.3), 0px 1px 3px 1px rgba(60, 64, 67, 0.15);\n",
              "      fill: #174EA6;\n",
              "    }\n",
              "\n",
              "    [theme=dark] .colab-df-convert {\n",
              "      background-color: #3B4455;\n",
              "      fill: #D2E3FC;\n",
              "    }\n",
              "\n",
              "    [theme=dark] .colab-df-convert:hover {\n",
              "      background-color: #434B5C;\n",
              "      box-shadow: 0px 1px 3px 1px rgba(0, 0, 0, 0.15);\n",
              "      filter: drop-shadow(0px 1px 2px rgba(0, 0, 0, 0.3));\n",
              "      fill: #FFFFFF;\n",
              "    }\n",
              "  </style>\n",
              "\n",
              "      <script>\n",
              "        const buttonEl =\n",
              "          document.querySelector('#df-a2863273-6c16-4142-a407-293635d97963 button.colab-df-convert');\n",
              "        buttonEl.style.display =\n",
              "          google.colab.kernel.accessAllowed ? 'block' : 'none';\n",
              "\n",
              "        async function convertToInteractive(key) {\n",
              "          const element = document.querySelector('#df-a2863273-6c16-4142-a407-293635d97963');\n",
              "          const dataTable =\n",
              "            await google.colab.kernel.invokeFunction('convertToInteractive',\n",
              "                                                     [key], {});\n",
              "          if (!dataTable) return;\n",
              "\n",
              "          const docLinkHtml = 'Like what you see? Visit the ' +\n",
              "            '<a target=\"_blank\" href=https://colab.research.google.com/notebooks/data_table.ipynb>data table notebook</a>'\n",
              "            + ' to learn more about interactive tables.';\n",
              "          element.innerHTML = '';\n",
              "          dataTable['output_type'] = 'display_data';\n",
              "          await google.colab.output.renderOutput(dataTable, element);\n",
              "          const docLink = document.createElement('div');\n",
              "          docLink.innerHTML = docLinkHtml;\n",
              "          element.appendChild(docLink);\n",
              "        }\n",
              "      </script>\n",
              "    </div>\n",
              "  </div>\n",
              "  "
            ]
          },
          "metadata": {},
          "execution_count": 478
        }
      ],
      "source": [
        "import yfinance as yf\n",
        "\n",
        "msft = yf.Ticker(\"MSFT\")\n",
        "\n",
        "# get stock info\n",
        "print(msft.info)\n",
        "\n",
        "# get historical market data\n",
        "msft_table = msft.history(start=\"2017-01-01\",  end=\"2018-12-31\")\n",
        "msft_table"
      ]
    },
    {
      "cell_type": "markdown",
      "metadata": {
        "id": "NkFztSYhJyVA"
      },
      "source": [
        "We will create a Series named \"msft\" whose values are Apple's daily closing prices, which are of course indexed by dates:"
      ]
    },
    {
      "cell_type": "code",
      "execution_count": null,
      "metadata": {
        "colab": {
          "base_uri": "https://localhost:8080/"
        },
        "id": "wQooE5sr4C-7",
        "outputId": "4d0b80d2-b2d7-4e50-d471-63f2dc0266b0"
      },
      "outputs": [
        {
          "output_type": "stream",
          "name": "stdout",
          "text": [
            "Date\n",
            "2017-01-03    27.297693\n",
            "2017-01-04    27.267138\n",
            "2017-01-05    27.405798\n",
            "2017-01-06    27.711329\n",
            "2017-01-09    27.965149\n",
            "                ...    \n",
            "2017-12-22    41.792450\n",
            "2017-12-26    40.732189\n",
            "2017-12-27    40.739349\n",
            "2017-12-28    40.853973\n",
            "2017-12-29    40.412186\n",
            "Name: Close, Length: 251, dtype: float64\n"
          ]
        }
      ],
      "source": [
        "aapl = aapl_table['Close']['2017']\n",
        "print(aapl)"
      ]
    },
    {
      "cell_type": "markdown",
      "metadata": {
        "id": "iGvvxSqU5nQd"
      },
      "source": [
        "**My own example 176**"
      ]
    },
    {
      "cell_type": "code",
      "execution_count": null,
      "metadata": {
        "id": "QDJbOpCeHW91"
      },
      "outputs": [],
      "source": [
        "msft = msft_table['Close']['2017']"
      ]
    },
    {
      "cell_type": "code",
      "execution_count": null,
      "metadata": {
        "colab": {
          "base_uri": "https://localhost:8080/"
        },
        "id": "SXfgCQJOHW91",
        "outputId": "6d363909-9bd1-480e-e95f-02b6b198651a"
      },
      "outputs": [
        {
          "output_type": "stream",
          "name": "stdout",
          "text": [
            "Date\n",
            "2017-01-03    58.065464\n",
            "2017-01-04    57.805653\n",
            "2017-01-05    57.805653\n",
            "2017-01-06    58.306694\n",
            "2017-01-09    58.121128\n",
            "                ...    \n",
            "2017-12-22    81.112862\n",
            "2017-12-26    81.008522\n",
            "2017-12-27    81.302574\n",
            "2017-12-28    81.312057\n",
            "2017-12-29    81.141327\n",
            "Name: Close, Length: 251, dtype: float64\n"
          ]
        }
      ],
      "source": [
        "print(msft)"
      ]
    },
    {
      "cell_type": "markdown",
      "metadata": {
        "id": "waUEgBhzKEcA"
      },
      "source": [
        "Recall that we can fetch a specific data point using series['yyyy-mm-dd']. We can also fetch the data in a specific month using series['yyyy-mm']."
      ]
    },
    {
      "cell_type": "markdown",
      "metadata": {
        "id": "vU2OyXYu5skM"
      },
      "source": [
        "**My own example 177**"
      ]
    },
    {
      "cell_type": "code",
      "execution_count": null,
      "metadata": {
        "colab": {
          "base_uri": "https://localhost:8080/"
        },
        "id": "PBgIvsCJ4Lwe",
        "outputId": "fa16d79c-e270-43b4-b9da-f67ae3c9483a"
      },
      "outputs": [
        {
          "output_type": "stream",
          "name": "stdout",
          "text": [
            "Date\n",
            "2017-03-01    32.996021\n",
            "2017-03-02    32.800125\n",
            "2017-03-03    32.993675\n",
            "2017-03-06    32.889812\n",
            "2017-03-07    32.932297\n",
            "2017-03-08    32.809559\n",
            "2017-03-09    32.734024\n",
            "2017-03-10    32.842602\n",
            "2017-03-13    32.856770\n",
            "2017-03-14    32.807194\n",
            "2017-03-15    33.154179\n",
            "2017-03-16    33.208469\n",
            "2017-03-17    33.043236\n",
            "2017-03-20    33.390224\n",
            "2017-03-21    33.007832\n",
            "2017-03-22    33.380772\n",
            "2017-03-23    33.262753\n",
            "2017-03-24    33.196667\n",
            "2017-03-27    33.253311\n",
            "2017-03-28    33.942543\n",
            "2017-03-29    34.018082\n",
            "2017-03-30    33.973232\n",
            "2017-03-31    33.909500\n",
            "Name: Close, dtype: float64\n"
          ]
        }
      ],
      "source": [
        "print(aapl['2017-3'])"
      ]
    },
    {
      "cell_type": "markdown",
      "metadata": {
        "id": "GHOthSZ65vJV"
      },
      "source": [
        "**My own example 178**"
      ]
    },
    {
      "cell_type": "code",
      "execution_count": null,
      "metadata": {
        "colab": {
          "base_uri": "https://localhost:8080/"
        },
        "id": "2gS50G0zHW92",
        "outputId": "dca8d518-0f61-413f-b859-541c7b3d9d8e"
      },
      "outputs": [
        {
          "output_type": "stream",
          "name": "stdout",
          "text": [
            "Date\n",
            "2017-03-01    60.620502\n",
            "2017-03-02    59.752365\n",
            "2017-03-03    59.976387\n",
            "2017-03-06    59.995071\n",
            "2017-03-07    60.116417\n",
            "2017-03-08    60.667160\n",
            "2017-03-09    60.424473\n",
            "2017-03-10    60.611156\n",
            "2017-03-13    60.405804\n",
            "2017-03-14    60.125751\n",
            "2017-03-15    60.443138\n",
            "2017-03-16    60.340458\n",
            "2017-03-17    60.555161\n",
            "2017-03-20    60.611156\n",
            "2017-03-21    59.939060\n",
            "2017-03-22    60.704514\n",
            "2017-03-23    60.555161\n",
            "2017-03-24    60.657829\n",
            "2017-03-27    60.769859\n",
            "2017-03-28    60.947231\n",
            "2017-03-29    61.115253\n",
            "2017-03-30    61.339279\n",
            "2017-03-31    61.479317\n",
            "Name: Close, dtype: float64\n"
          ]
        }
      ],
      "source": [
        "print(msft['2017-3'])"
      ]
    },
    {
      "cell_type": "markdown",
      "metadata": {
        "id": "F69M95P65wti"
      },
      "source": [
        "**My own example 179**"
      ]
    },
    {
      "cell_type": "code",
      "execution_count": null,
      "metadata": {
        "colab": {
          "base_uri": "https://localhost:8080/"
        },
        "id": "2CujRQrj4PIi",
        "outputId": "e0b63154-6a5c-4686-e7d8-088767e54a9f"
      },
      "outputs": [
        {
          "output_type": "execute_result",
          "data": {
            "text/plain": [
              "Date\n",
              "2017-02-01    30.258957\n",
              "2017-02-02    30.207251\n",
              "2017-02-03    30.336514\n",
              "2017-02-06    30.620890\n",
              "2017-02-07    30.912308\n",
              "                ...    \n",
              "2017-04-24    33.904778\n",
              "2017-04-25    34.114857\n",
              "2017-04-26    33.914223\n",
              "2017-04-27    33.940189\n",
              "2017-04-28    33.907139\n",
              "Name: Close, Length: 61, dtype: float64"
            ]
          },
          "metadata": {},
          "execution_count": 484
        }
      ],
      "source": [
        "aapl['2017-2':'2017-4']"
      ]
    },
    {
      "cell_type": "markdown",
      "metadata": {
        "id": "0sdSWYrL5ycC"
      },
      "source": [
        "**My own example 180**"
      ]
    },
    {
      "cell_type": "code",
      "execution_count": null,
      "metadata": {
        "colab": {
          "base_uri": "https://localhost:8080/"
        },
        "id": "vpvxGwXtHW92",
        "outputId": "c1155f64-fa63-4f6b-b1fc-a974394ee98c"
      },
      "outputs": [
        {
          "output_type": "execute_result",
          "data": {
            "text/plain": [
              "Date\n",
              "2017-02-01    58.993317\n",
              "2017-02-02    58.612892\n",
              "2017-02-03    59.086098\n",
              "2017-02-06    59.048977\n",
              "2017-02-07    58.854141\n",
              "                ...    \n",
              "2017-04-24    63.038208\n",
              "2017-04-25    63.402279\n",
              "2017-04-26    63.318268\n",
              "2017-04-27    63.729012\n",
              "2017-04-28    63.906368\n",
              "Name: Close, Length: 61, dtype: float64"
            ]
          },
          "metadata": {},
          "execution_count": 485
        }
      ],
      "source": [
        "msft['2017-2':'2017-4']"
      ]
    },
    {
      "cell_type": "markdown",
      "metadata": {
        "id": "lWwoD39pKNKb"
      },
      "source": [
        ".head(N) and .tail(N) are methods for quickly accessing the first or last N elements."
      ]
    },
    {
      "cell_type": "code",
      "execution_count": null,
      "metadata": {
        "colab": {
          "base_uri": "https://localhost:8080/"
        },
        "id": "YNbhTt6_4SkV",
        "outputId": "eb8af785-1dbe-432d-ba90-7fde3df591c1"
      },
      "outputs": [
        {
          "output_type": "stream",
          "name": "stdout",
          "text": [
            "Date\n",
            "2017-01-03    27.297693\n",
            "2017-01-04    27.267138\n",
            "2017-01-05    27.405798\n",
            "2017-01-06    27.711329\n",
            "2017-01-09    27.965149\n",
            "Name: Close, dtype: float64\n",
            "Date\n",
            "2017-12-15    41.544102\n",
            "2017-12-18    42.129166\n",
            "2017-12-19    41.680218\n",
            "2017-12-20    41.634850\n",
            "2017-12-21    41.792450\n",
            "2017-12-22    41.792450\n",
            "2017-12-26    40.732189\n",
            "2017-12-27    40.739349\n",
            "2017-12-28    40.853973\n",
            "2017-12-29    40.412186\n",
            "Name: Close, dtype: float64\n"
          ]
        }
      ],
      "source": [
        "print(aapl.head(5))\n",
        "print(aapl.tail(10))"
      ]
    },
    {
      "cell_type": "markdown",
      "metadata": {
        "id": "n2AKwIMv5053"
      },
      "source": [
        "**My own example 181**"
      ]
    },
    {
      "cell_type": "code",
      "execution_count": null,
      "metadata": {
        "colab": {
          "base_uri": "https://localhost:8080/"
        },
        "id": "1eU218ALHW93",
        "outputId": "780552be-45c4-4c47-8cae-f9ab96a80252"
      },
      "outputs": [
        {
          "output_type": "stream",
          "name": "stdout",
          "text": [
            "Date\n",
            "2017-01-03    58.065464\n",
            "2017-01-04    57.805653\n",
            "2017-01-05    57.805653\n",
            "2017-01-06    58.306694\n",
            "2017-01-09    58.121128\n",
            "Name: Close, dtype: float64\n",
            "Date\n",
            "2017-12-15    82.383949\n",
            "2017-12-18    81.938133\n",
            "2017-12-19    81.416397\n",
            "2017-12-20    81.122337\n",
            "2017-12-21    81.103371\n",
            "2017-12-22    81.112862\n",
            "2017-12-26    81.008522\n",
            "2017-12-27    81.302574\n",
            "2017-12-28    81.312057\n",
            "2017-12-29    81.141327\n",
            "Name: Close, dtype: float64\n"
          ]
        }
      ],
      "source": [
        "print(msft.head(5))\n",
        "print(msft.tail(10))"
      ]
    },
    {
      "cell_type": "markdown",
      "metadata": {
        "id": "IxhKxtj-KQ66"
      },
      "source": [
        "# Resampling\n",
        "**_series.resample(freq)_** is a class called \"DatetimeIndexResampler\" which groups data in a Series object into regular time intervals. The argument \"freq\" determines the length of each interval.\n",
        "\n",
        "**_series.resample.mean()_** is a complete statement that groups data into intervals, and then compute the mean of each interval. For example, if we want to aggregate the daily data into monthly data by mean:"
      ]
    },
    {
      "cell_type": "code",
      "execution_count": null,
      "metadata": {
        "colab": {
          "base_uri": "https://localhost:8080/"
        },
        "id": "nMmIG6OR4Xw5",
        "outputId": "a0a199ab-1804-4639-9b86-3b753258ba7a"
      },
      "outputs": [
        {
          "output_type": "stream",
          "name": "stdout",
          "text": [
            "Date\n",
            "2017-01-31    28.101464\n",
            "2017-02-28    31.520056\n",
            "2017-03-31    33.191429\n",
            "2017-04-30    33.727006\n",
            "2017-05-31    36.027136\n",
            "2017-06-30    35.038141\n",
            "2017-07-31    35.149094\n",
            "2017-08-31    37.793846\n",
            "2017-09-30    37.502155\n",
            "2017-10-31    37.551831\n",
            "2017-11-30    41.121433\n",
            "2017-12-31    41.047756\n",
            "Freq: M, Name: Close, dtype: float64\n"
          ]
        }
      ],
      "source": [
        "by_month = aapl.resample('M').mean()\n",
        "print(by_month)"
      ]
    },
    {
      "cell_type": "markdown",
      "metadata": {
        "id": "fbOR5Yco53aH"
      },
      "source": [
        "**My own example 182**"
      ]
    },
    {
      "cell_type": "code",
      "execution_count": null,
      "metadata": {
        "colab": {
          "base_uri": "https://localhost:8080/"
        },
        "id": "rAV8NkHkHW93",
        "outputId": "6e7554d3-d6ea-4af4-c6ad-884f26eba386"
      },
      "outputs": [
        {
          "output_type": "stream",
          "name": "stdout",
          "text": [
            "Date\n",
            "2017-01-31    58.633304\n",
            "2017-02-28    59.679320\n",
            "2017-03-31    60.528370\n",
            "2017-04-30    61.770161\n",
            "2017-05-31    64.517583\n",
            "2017-06-30    66.204965\n",
            "2017-07-31    67.606010\n",
            "2017-08-31    68.569739\n",
            "2017-09-30    70.169118\n",
            "2017-10-31    73.562259\n",
            "2017-11-30    79.222912\n",
            "2017-12-31    80.400005\n",
            "Freq: M, Name: Close, dtype: float64\n"
          ]
        }
      ],
      "source": [
        "by_month = msft.resample('M').mean()\n",
        "print(by_month)"
      ]
    },
    {
      "cell_type": "markdown",
      "metadata": {
        "id": "QDPfVzBEKV6Q"
      },
      "source": [
        "We can also aggregate the data by week:"
      ]
    },
    {
      "cell_type": "code",
      "execution_count": null,
      "metadata": {
        "colab": {
          "base_uri": "https://localhost:8080/"
        },
        "id": "mUvd2wWH4bKP",
        "outputId": "d0caa7b7-2823-45be-b319-968f4fb93b77"
      },
      "outputs": [
        {
          "output_type": "stream",
          "name": "stdout",
          "text": [
            "Date\n",
            "2017-01-08    27.420489\n",
            "2017-01-15    28.021088\n",
            "2017-01-22    28.189009\n",
            "2017-01-29    28.476088\n",
            "2017-02-05    29.581625\n",
            "Freq: W-SUN, Name: Close, dtype: float64\n"
          ]
        }
      ],
      "source": [
        "by_week = aapl.resample('W').mean()\n",
        "print(by_week.head())"
      ]
    },
    {
      "cell_type": "markdown",
      "metadata": {
        "id": "OQtFp3Xa57_w"
      },
      "source": [
        "**My own example 183**"
      ]
    },
    {
      "cell_type": "code",
      "execution_count": null,
      "metadata": {
        "colab": {
          "base_uri": "https://localhost:8080/"
        },
        "id": "aAP3tKkBHW94",
        "outputId": "10a94f8b-4d45-44f8-cae5-d2a058b79d1e"
      },
      "outputs": [
        {
          "output_type": "stream",
          "name": "stdout",
          "text": [
            "Date\n",
            "2017-01-08    57.995866\n",
            "2017-01-15    58.225043\n",
            "2017-01-22    58.007464\n",
            "2017-01-29    59.421983\n",
            "2017-02-05    59.421986\n",
            "Freq: W-SUN, Name: Close, dtype: float64\n"
          ]
        }
      ],
      "source": [
        "by_week = msft.resample('W').mean()\n",
        "print(by_week.head())"
      ]
    },
    {
      "cell_type": "markdown",
      "metadata": {
        "id": "o_MXSVsILoBS"
      },
      "source": [
        "We can also aggregate the data by month with max:"
      ]
    },
    {
      "cell_type": "code",
      "execution_count": null,
      "metadata": {
        "colab": {
          "base_uri": "https://localhost:8080/"
        },
        "id": "G6ROmBXI4j5V",
        "outputId": "fe683332-3fe9-4fd6-a441-c6b91bcc6115"
      },
      "outputs": [
        {
          "output_type": "execute_result",
          "data": {
            "text/plain": [
              "Date\n",
              "2017-01-31    28.660812\n",
              "2017-02-28    32.363434\n",
              "2017-03-31    34.018082\n",
              "2017-04-30    34.171509\n",
              "2017-05-31    36.997929\n",
              "2017-06-30    36.843857\n",
              "2017-07-31    36.372208\n",
              "2017-08-31    39.022976\n",
              "2017-09-30    39.034874\n",
              "2017-10-31    40.222225\n",
              "2017-11-30    41.935429\n",
              "2017-12-31    42.129166\n",
              "Freq: M, Name: Close, dtype: float64"
            ]
          },
          "metadata": {},
          "execution_count": 492
        }
      ],
      "source": [
        "aapl.resample('M').max()"
      ]
    },
    {
      "cell_type": "markdown",
      "metadata": {
        "id": "TXysh3t15-9u"
      },
      "source": [
        "**My own example 184**"
      ]
    },
    {
      "cell_type": "code",
      "execution_count": null,
      "metadata": {
        "colab": {
          "base_uri": "https://localhost:8080/"
        },
        "id": "gn0wqXBTHW95",
        "outputId": "f0f56531-3bae-408e-cfe8-e78ef44d599c"
      },
      "outputs": [
        {
          "output_type": "execute_result",
          "data": {
            "text/plain": [
              "Date\n",
              "2017-01-31    61.034603\n",
              "2017-02-28    60.321781\n",
              "2017-03-31    61.479317\n",
              "2017-04-30    63.906368\n",
              "2017-05-31    66.103409\n",
              "2017-06-30    68.084328\n",
              "2017-07-31    69.680359\n",
              "2017-08-31    70.570709\n",
              "2017-09-30    71.203094\n",
              "2017-10-31    79.178505\n",
              "2017-11-30    80.515266\n",
              "2017-12-31    82.383949\n",
              "Freq: M, Name: Close, dtype: float64"
            ]
          },
          "metadata": {},
          "execution_count": 493
        }
      ],
      "source": [
        "msft.resample('M').max()"
      ]
    },
    {
      "cell_type": "markdown",
      "metadata": {
        "id": "Z8r46UFlLdAh"
      },
      "source": [
        "We can choose almost any frequency by using the format 'nf', where 'n' is an integer and 'f' is M for month, W for week and D for day."
      ]
    },
    {
      "cell_type": "code",
      "execution_count": null,
      "metadata": {
        "colab": {
          "base_uri": "https://localhost:8080/"
        },
        "id": "1PUTHZu64oW-",
        "outputId": "42d960af-6e97-47a3-e00c-f63ae6ea39f0"
      },
      "outputs": [
        {
          "output_type": "stream",
          "name": "stdout",
          "text": [
            "Date\n",
            "2017-01-03    27.323543\n",
            "2017-01-06    27.711329\n",
            "2017-01-09    28.034091\n",
            "2017-01-12    28.001583\n",
            "2017-01-15    28.202524\n",
            "                ...    \n",
            "2017-12-17    41.904692\n",
            "2017-12-20    41.739916\n",
            "2017-12-23          NaN\n",
            "2017-12-26    40.775171\n",
            "2017-12-29    40.412186\n",
            "Freq: 3D, Name: Close, Length: 121, dtype: float64\n",
            "Date\n",
            "2017-01-08    27.420489\n",
            "2017-01-22    28.095719\n",
            "2017-02-05    29.028857\n",
            "2017-02-19    31.430840\n",
            "2017-03-05    32.506641\n",
            "2017-03-19    32.927814\n",
            "2017-04-02    33.533492\n",
            "2017-04-16    33.757389\n",
            "2017-04-30    33.699660\n",
            "2017-05-14    35.600251\n",
            "2017-05-28    36.396621\n",
            "2017-06-11    36.415396\n",
            "2017-06-25    34.434854\n",
            "2017-07-09    34.171661\n",
            "2017-07-23    35.182632\n",
            "2017-08-06    36.173825\n",
            "2017-08-20    37.800719\n",
            "2017-09-03    38.353878\n",
            "2017-09-17    38.178272\n",
            "2017-10-01    36.740377\n",
            "2017-10-15    36.970465\n",
            "2017-10-29    37.654321\n",
            "2017-11-12    40.920304\n",
            "2017-11-26    41.091976\n",
            "2017-12-10    40.755583\n",
            "2017-12-24    41.507327\n",
            "2018-01-07    40.684424\n",
            "Freq: 2W-SUN, Name: Close, dtype: float64\n",
            "Date\n",
            "2017-01-31    28.101464\n",
            "2017-03-31    32.435332\n",
            "2017-05-31    34.961222\n",
            "2017-07-31    35.090976\n",
            "2017-09-30    37.658176\n",
            "2017-11-30    39.295125\n",
            "2018-01-31    41.047756\n",
            "Freq: 2M, Name: Close, dtype: float64\n"
          ]
        }
      ],
      "source": [
        "three_day = aapl.resample('3D').mean()\n",
        "two_week = aapl.resample('2W').mean()\n",
        "two_month = aapl.resample('2M').mean()\n",
        "\n",
        "\n",
        "print(three_day)\n",
        "print(two_week)\n",
        "print(two_month )"
      ]
    },
    {
      "cell_type": "markdown",
      "metadata": {
        "id": "4xmR7meD6GF0"
      },
      "source": [
        "**My own example 185**"
      ]
    },
    {
      "cell_type": "code",
      "execution_count": null,
      "metadata": {
        "colab": {
          "base_uri": "https://localhost:8080/"
        },
        "id": "kdVB_-JFHW96",
        "outputId": "78cf7358-04a5-405a-b29d-9665982f12fa"
      },
      "outputs": [
        {
          "output_type": "stream",
          "name": "stdout",
          "text": [
            "Date\n",
            "2017-01-03    57.892256\n",
            "2017-01-06    58.306694\n",
            "2017-01-09    58.285046\n",
            "2017-01-12    58.135040\n",
            "2017-01-15    58.019062\n",
            "                ...    \n",
            "2017-12-17    81.677265\n",
            "2017-12-20    81.112857\n",
            "2017-12-23          NaN\n",
            "2017-12-26    81.207718\n",
            "2017-12-29    81.141327\n",
            "Freq: 3D, Name: Close, Length: 121, dtype: float64\n",
            "Date\n",
            "2017-01-08    57.995866\n",
            "2017-01-22    58.128342\n",
            "2017-02-05    59.421984\n",
            "2017-02-19    59.660961\n",
            "2017-03-05    60.106046\n",
            "2017-03-19    60.368459\n",
            "2017-04-02    60.811866\n",
            "2017-04-16    61.137032\n",
            "2017-04-30    62.339977\n",
            "2017-05-14    64.385243\n",
            "2017-05-28    64.386273\n",
            "2017-06-11    66.925402\n",
            "2017-06-25    66.011394\n",
            "2017-07-09    64.908996\n",
            "2017-07-23    67.989526\n",
            "2017-08-06    68.573480\n",
            "2017-08-20    68.391769\n",
            "2017-09-03    69.102119\n",
            "2017-09-17    70.269741\n",
            "2017-10-01    70.116734\n",
            "2017-10-15    71.650472\n",
            "2017-10-29    74.417809\n",
            "2017-11-12    79.254028\n",
            "2017-11-26    78.873231\n",
            "2017-12-10    78.980463\n",
            "2017-12-24    81.239970\n",
            "2018-01-07    81.191120\n",
            "Freq: 2W-SUN, Name: Close, dtype: float64\n",
            "Date\n",
            "2017-01-31    58.633304\n",
            "2017-03-31    60.144276\n",
            "2017-05-31    63.244387\n",
            "2017-07-31    66.872129\n",
            "2017-09-30    69.313636\n",
            "2017-11-30    76.326764\n",
            "2018-01-31    80.400005\n",
            "Freq: 2M, Name: Close, dtype: float64\n"
          ]
        }
      ],
      "source": [
        "three_day = msft.resample('3D').mean()\n",
        "two_week = msft.resample('2W').mean()\n",
        "two_month = msft.resample('2M').mean()\n",
        "\n",
        "\n",
        "print(three_day)\n",
        "print(two_week)\n",
        "print(two_month )"
      ]
    },
    {
      "cell_type": "markdown",
      "metadata": {
        "id": "iy4RqsnwL-Bw"
      },
      "source": [
        "Besides the mean() method, other methods can also be used with the resampler:\n",
        "\n"
      ]
    },
    {
      "cell_type": "code",
      "execution_count": null,
      "metadata": {
        "colab": {
          "base_uri": "https://localhost:8080/"
        },
        "id": "Pn-rJGSq40AR",
        "outputId": "e6164893-c40a-4bac-fe7b-bcf8c9933e48"
      },
      "outputs": [
        {
          "output_type": "stream",
          "name": "stdout",
          "text": [
            "Date\n",
            "2017-01-08    0.202813\n",
            "2017-01-15    0.072331\n",
            "2017-01-22    0.025486\n",
            "2017-01-29    0.244617\n",
            "2017-02-05    0.940687\n",
            "2017-02-12    0.251314\n",
            "2017-02-19    0.230761\n",
            "2017-02-26    0.059176\n",
            "2017-03-05    0.339164\n",
            "2017-03-12    0.076077\n",
            "2017-03-19    0.177351\n",
            "2017-03-26    0.156835\n",
            "2017-04-02    0.318935\n",
            "2017-04-09    0.128337\n",
            "2017-04-16    0.211902\n",
            "2017-04-23    0.174199\n",
            "2017-04-30    0.089780\n",
            "2017-05-07    0.234994\n",
            "2017-05-14    0.352017\n",
            "2017-05-21    0.534628\n",
            "2017-05-28    0.060230\n",
            "2017-06-04    0.280451\n",
            "2017-06-11    0.618341\n",
            "2017-06-18    0.381520\n",
            "2017-06-25    0.128542\n",
            "2017-07-02    0.263390\n",
            "2017-07-09    0.158457\n",
            "2017-07-16    0.403181\n",
            "2017-07-23    0.124644\n",
            "2017-07-30    0.383393\n",
            "2017-08-06    0.921868\n",
            "2017-08-13    0.466188\n",
            "2017-08-20    0.434061\n",
            "2017-08-27    0.275015\n",
            "2017-09-03    0.251035\n",
            "2017-09-10    0.380597\n",
            "2017-09-17    0.293337\n",
            "2017-09-24    0.733183\n",
            "2017-10-01    0.353876\n",
            "2017-10-08    0.204294\n",
            "2017-10-15    0.118410\n",
            "2017-10-22    0.515586\n",
            "2017-10-29    0.678598\n",
            "2017-11-05    0.559157\n",
            "2017-11-12    0.190449\n",
            "2017-11-19    0.435008\n",
            "2017-11-26    0.561515\n",
            "2017-12-03    0.426277\n",
            "2017-12-10    0.072931\n",
            "2017-12-17    0.204703\n",
            "2017-12-24    0.193595\n",
            "2017-12-31    0.189876\n",
            "Freq: W-SUN, Name: Close, dtype: float64\n",
            "Date\n",
            "2017-01-08    27.711329\n",
            "2017-01-15    28.143766\n",
            "2017-01-22    28.202524\n",
            "2017-01-29    28.660812\n",
            "2017-02-05    30.336514\n",
            "2017-02-12    31.256414\n",
            "2017-02-19    32.035347\n",
            "2017-02-26    32.363434\n",
            "2017-03-05    32.996021\n",
            "2017-03-12    32.932297\n",
            "2017-03-19    33.208469\n",
            "2017-03-26    33.390224\n",
            "2017-04-02    34.018082\n",
            "2017-04-09    34.171509\n",
            "2017-04-16    33.793850\n",
            "2017-04-23    33.621536\n",
            "2017-04-30    34.114857\n",
            "2017-05-07    35.160511\n",
            "2017-05-14    36.997929\n",
            "2017-05-21    36.903114\n",
            "2017-05-28    36.497826\n",
            "2017-06-04    36.843857\n",
            "2017-06-11    36.824902\n",
            "2017-06-18    34.743919\n",
            "2017-06-25    34.684669\n",
            "2017-07-02    34.563793\n",
            "2017-07-09    34.172714\n",
            "2017-07-16    35.324604\n",
            "2017-07-23    35.793888\n",
            "2017-07-30    36.372208\n",
            "2017-08-06    37.244415\n",
            "2017-08-13    38.173504\n",
            "2017-08-20    38.451908\n",
            "2017-08-27    38.066437\n",
            "2017-09-03    39.034874\n",
            "2017-09-10    38.566124\n",
            "2017-09-17    38.428120\n",
            "2017-09-24    37.769005\n",
            "2017-10-01    36.698254\n",
            "2017-10-08    36.974270\n",
            "2017-10-15    37.354988\n",
            "2017-10-22    38.183037\n",
            "2017-10-29    38.796932\n",
            "2017-11-05    41.045517\n",
            "2017-11-12    41.935429\n",
            "2017-11-19    41.544102\n",
            "2017-11-26    41.782909\n",
            "2017-12-03    41.572758\n",
            "2017-12-10    40.548306\n",
            "2017-12-17    41.544102\n",
            "2017-12-24    42.129166\n",
            "2017-12-31    40.853973\n",
            "Freq: W-SUN, Name: Close, dtype: float64\n",
            "Date\n",
            "2017-01-08    27.267138\n",
            "2017-01-15    27.965149\n",
            "2017-01-22    28.150816\n",
            "2017-01-29    28.195473\n",
            "2017-02-05    28.519800\n",
            "2017-02-12    30.620890\n",
            "2017-02-19    31.461767\n",
            "2017-02-26    32.226547\n",
            "2017-03-05    32.320950\n",
            "2017-03-12    32.734024\n",
            "2017-03-19    32.807194\n",
            "2017-03-26    33.007832\n",
            "2017-04-02    33.253311\n",
            "2017-04-09    33.833977\n",
            "2017-04-16    33.293430\n",
            "2017-04-23    33.206100\n",
            "2017-04-30    33.904778\n",
            "2017-05-07    34.586941\n",
            "2017-05-14    36.116478\n",
            "2017-05-21    35.611397\n",
            "2017-05-28    36.343758\n",
            "2017-06-04    36.206299\n",
            "2017-06-11    35.310387\n",
            "2017-06-18    33.720020\n",
            "2017-06-25    34.369434\n",
            "2017-07-02    34.054207\n",
            "2017-07-09    33.829044\n",
            "2017-07-16    34.381283\n",
            "2017-07-23    35.447857\n",
            "2017-07-30    35.433628\n",
            "2017-08-06    35.251129\n",
            "2017-08-13    36.957619\n",
            "2017-08-20    37.476345\n",
            "2017-08-27    37.407330\n",
            "2017-09-03    38.420982\n",
            "2017-09-10    37.745213\n",
            "2017-09-17    37.661938\n",
            "2017-09-24    36.141472\n",
            "2017-10-01    35.822624\n",
            "2017-10-08    36.519798\n",
            "2017-10-15    37.081341\n",
            "2017-10-22    37.114662\n",
            "2017-10-29    37.159874\n",
            "2017-11-05    39.670189\n",
            "2017-11-12    41.461922\n",
            "2017-11-19    40.376369\n",
            "2017-11-26    40.591282\n",
            "2017-12-03    40.471893\n",
            "2017-12-10    40.359650\n",
            "2017-12-17    41.002029\n",
            "2017-12-24    41.634850\n",
            "2017-12-31    40.412186\n",
            "Freq: W-SUN, Name: Close, dtype: float64\n"
          ]
        }
      ],
      "source": [
        "std = aapl.resample('W').std()\n",
        "max = aapl.resample('W').max()\n",
        "min = aapl.resample('W').min()\n",
        "\n",
        "\n",
        "print(std)\n",
        "print(max)\n",
        "print(min)"
      ]
    },
    {
      "cell_type": "markdown",
      "metadata": {
        "id": "5a8uIG2q6Kr1"
      },
      "source": [
        "**My own example 186**"
      ]
    },
    {
      "cell_type": "code",
      "execution_count": null,
      "metadata": {
        "colab": {
          "base_uri": "https://localhost:8080/"
        },
        "id": "DNT8Fx9dHW96",
        "outputId": "5b20829d-8826-47a9-bf22-5b3565d81d11"
      },
      "outputs": [
        {
          "output_type": "stream",
          "name": "stdout",
          "text": [
            "Date\n",
            "2017-01-08    0.240707\n",
            "2017-01-15    0.229482\n",
            "2017-01-22    0.167080\n",
            "2017-01-29    1.000076\n",
            "2017-02-05    0.756402\n",
            "2017-02-12    0.302630\n",
            "2017-02-19    0.102810\n",
            "2017-02-26    0.116185\n",
            "2017-03-05    0.362102\n",
            "2017-03-12    0.297510\n",
            "2017-03-19    0.159188\n",
            "2017-03-26    0.314873\n",
            "2017-04-02    0.286855\n",
            "2017-04-09    0.083234\n",
            "2017-04-16    0.248553\n",
            "2017-04-23    0.470197\n",
            "2017-04-30    0.343208\n",
            "2017-05-07    0.223165\n",
            "2017-05-14    0.369264\n",
            "2017-05-21    0.730022\n",
            "2017-05-28    0.615227\n",
            "2017-06-04    0.801821\n",
            "2017-06-11    0.848526\n",
            "2017-06-18    0.325836\n",
            "2017-06-25    0.492222\n",
            "2017-07-02    0.745423\n",
            "2017-07-09    0.531695\n",
            "2017-07-16    1.126070\n",
            "2017-07-23    0.359502\n",
            "2017-07-30    0.482721\n",
            "2017-08-06    0.237286\n",
            "2017-08-13    0.494583\n",
            "2017-08-20    0.501807\n",
            "2017-08-27    0.343135\n",
            "2017-09-03    0.742567\n",
            "2017-09-10    0.391389\n",
            "2017-09-17    0.274577\n",
            "2017-09-24    0.484466\n",
            "2017-10-01    0.484068\n",
            "2017-10-08    0.772636\n",
            "2017-10-15    0.519682\n",
            "2017-10-22    0.488138\n",
            "2017-10-29    2.129008\n",
            "2017-11-05    0.445780\n",
            "2017-11-12    0.264811\n",
            "2017-11-19    0.463300\n",
            "2017-11-26    0.465644\n",
            "2017-12-03    0.534353\n",
            "2017-12-10    1.127033\n",
            "2017-12-17    0.760691\n",
            "2017-12-24    0.360053\n",
            "2017-12-31    0.144763\n",
            "Freq: W-SUN, Name: Close, dtype: float64\n",
            "Date\n",
            "2017-01-08    58.306694\n",
            "2017-01-15    58.631443\n",
            "2017-01-22    58.213913\n",
            "2017-01-29    61.034603\n",
            "2017-02-05    60.431496\n",
            "2017-02-12    59.438679\n",
            "2017-02-19    60.321781\n",
            "2017-02-26    60.321781\n",
            "2017-03-05    60.620502\n",
            "2017-03-12    60.667160\n",
            "2017-03-19    60.555161\n",
            "2017-03-26    60.704514\n",
            "2017-04-02    61.479317\n",
            "2017-04-09    61.357964\n",
            "2017-04-16    61.171257\n",
            "2017-04-23    61.983376\n",
            "2017-04-30    63.906368\n",
            "2017-05-07    64.793190\n",
            "2017-05-14    64.699821\n",
            "2017-05-21    65.164574\n",
            "2017-05-28    65.680923\n",
            "2017-06-04    67.370819\n",
            "2017-06-11    68.084328\n",
            "2017-06-18    66.328728\n",
            "2017-06-25    66.854477\n",
            "2017-07-02    66.216064\n",
            "2017-07-09    65.211510\n",
            "2017-07-16    68.328445\n",
            "2017-07-23    69.680359\n",
            "2017-07-30    69.652206\n",
            "2017-08-06    68.253342\n",
            "2017-08-13    68.337837\n",
            "2017-08-20    69.513641\n",
            "2017-08-27    69.051147\n",
            "2017-09-03    70.570709\n",
            "2017-09-10    70.164864\n",
            "2017-09-17    71.080399\n",
            "2017-09-24    71.203094\n",
            "2017-10-01    70.306450\n",
            "2017-10-08    71.731636\n",
            "2017-10-15    73.137947\n",
            "2017-10-22    74.383827\n",
            "2017-10-29    79.103012\n",
            "2017-11-05    79.414482\n",
            "2017-11-12    79.810890\n",
            "2017-11-19    79.329544\n",
            "2017-11-26    79.414925\n",
            "2017-12-03    80.515266\n",
            "2017-12-10    79.832283\n",
            "2017-12-17    82.383949\n",
            "2017-12-24    81.938133\n",
            "2017-12-31    81.312057\n",
            "Freq: W-SUN, Name: Close, dtype: float64\n",
            "Date\n",
            "2017-01-08    57.805653\n",
            "2017-01-15    58.093288\n",
            "2017-01-22    57.805653\n",
            "2017-01-29    58.418041\n",
            "2017-02-05    58.612892\n",
            "2017-02-12    58.770618\n",
            "2017-02-19    60.051071\n",
            "2017-02-26    60.079079\n",
            "2017-03-05    59.724358\n",
            "2017-03-12    59.995071\n",
            "2017-03-19    60.125751\n",
            "2017-03-26    59.939060\n",
            "2017-04-02    60.769859\n",
            "2017-04-09    61.189938\n",
            "2017-04-16    60.629818\n",
            "2017-04-23    60.713844\n",
            "2017-04-30    63.038208\n",
            "2017-05-07    64.233070\n",
            "2017-05-14    63.831680\n",
            "2017-05-21    63.352627\n",
            "2017-05-28    64.263290\n",
            "2017-06-04    65.568268\n",
            "2017-06-11    66.018906\n",
            "2017-06-18    65.511925\n",
            "2017-06-25    65.633995\n",
            "2017-07-02    64.300842\n",
            "2017-07-09    64.000412\n",
            "2017-07-16    65.699707\n",
            "2017-07-23    68.816635\n",
            "2017-07-30    68.572533\n",
            "2017-08-06    67.736977\n",
            "2017-08-13    67.042259\n",
            "2017-08-20    68.333839\n",
            "2017-08-27    68.097870\n",
            "2017-09-03    68.739700\n",
            "2017-09-10    69.277657\n",
            "2017-09-17    70.485779\n",
            "2017-09-24    70.042168\n",
            "2017-10-01    69.145515\n",
            "2017-10-08    70.089378\n",
            "2017-10-15    72.005356\n",
            "2017-10-22    73.232353\n",
            "2017-10-29    74.213936\n",
            "2017-11-05    78.508392\n",
            "2017-11-12    79.159645\n",
            "2017-11-19    78.162773\n",
            "2017-11-26    78.286110\n",
            "2017-12-03    79.054451\n",
            "2017-12-10    76.910660\n",
            "2017-12-17    80.335045\n",
            "2017-12-24    81.103371\n",
            "2017-12-31    81.008522\n",
            "Freq: W-SUN, Name: Close, dtype: float64\n"
          ]
        }
      ],
      "source": [
        "std = msft.resample('W').std()\n",
        "max = msft.resample('W').max()\n",
        "min = msft.resample('W').min()\n",
        "\n",
        "\n",
        "print(std)\n",
        "print(max)\n",
        "print(min)"
      ]
    },
    {
      "cell_type": "markdown",
      "metadata": {
        "id": "uqln0s5DMI3I"
      },
      "source": [
        "Often we want to calculate monthly returns of a stock, based on prices on the last day of each month. To fetch those prices, we use the series.resample.agg() method:"
      ]
    },
    {
      "cell_type": "code",
      "execution_count": null,
      "metadata": {
        "colab": {
          "base_uri": "https://localhost:8080/"
        },
        "id": "DHyMLJ7B48R4",
        "outputId": "6fd259d5-a210-4556-bab0-0c4abd45a871"
      },
      "outputs": [
        {
          "output_type": "stream",
          "name": "stdout",
          "text": [
            "Date\n",
            "2017-01-31    28.519800\n",
            "2017-02-28    32.335121\n",
            "2017-03-31    33.909500\n",
            "2017-04-30    33.907139\n",
            "2017-05-31    36.206299\n",
            "2017-06-30    34.134792\n",
            "2017-07-31    35.251129\n",
            "2017-08-31    39.022976\n",
            "2017-09-30    36.672089\n",
            "2017-10-31    40.222225\n",
            "2017-11-30    41.037846\n",
            "2017-12-31    40.412186\n",
            "Freq: M, Name: Close, dtype: float64\n"
          ]
        }
      ],
      "source": [
        "last_day = aapl.resample('M').agg(lambda x: x[-1])\n",
        "print(last_day)"
      ]
    },
    {
      "cell_type": "markdown",
      "metadata": {
        "id": "MXHsf_yh6PHW"
      },
      "source": [
        "**My own example 187**"
      ]
    },
    {
      "cell_type": "code",
      "execution_count": null,
      "metadata": {
        "colab": {
          "base_uri": "https://localhost:8080/"
        },
        "id": "A6FSYvqbHW97",
        "outputId": "03c0bd63-712f-4a9b-b786-d65921c8423b"
      },
      "outputs": [
        {
          "output_type": "stream",
          "name": "stdout",
          "text": [
            "Date\n",
            "2017-01-31    59.986126\n",
            "2017-02-28    59.724358\n",
            "2017-03-31    61.479317\n",
            "2017-04-30    63.906368\n",
            "2017-05-31    65.568268\n",
            "2017-06-30    64.713936\n",
            "2017-07-31    68.253342\n",
            "2017-08-31    70.570709\n",
            "2017-09-30    70.306450\n",
            "2017-10-31    78.508392\n",
            "2017-11-30    79.841774\n",
            "2017-12-31    81.141327\n",
            "Freq: M, Name: Close, dtype: float64\n"
          ]
        }
      ],
      "source": [
        "last_day = msft.resample('M').agg(lambda x: x[-1])\n",
        "print(last_day)"
      ]
    },
    {
      "cell_type": "markdown",
      "metadata": {
        "id": "uwomY3aXMR46"
      },
      "source": [
        "Or directly calculate the monthly rates of return using the data for the first day and the last day:"
      ]
    },
    {
      "cell_type": "code",
      "execution_count": null,
      "metadata": {
        "colab": {
          "base_uri": "https://localhost:8080/"
        },
        "id": "jmrvOFom4_tD",
        "outputId": "1a18034e-7a98-469d-cf8c-4a819cd9facd"
      },
      "outputs": [
        {
          "output_type": "stream",
          "name": "stdout",
          "text": [
            "Date\n",
            "2017-01-31    0.044770\n",
            "2017-02-28    0.068613\n",
            "2017-03-31    0.027685\n",
            "2017-04-30   -0.000348\n",
            "2017-05-31    0.046463\n",
            "2017-06-30   -0.059799\n",
            "2017-07-31    0.036446\n",
            "2017-08-31    0.097261\n",
            "2017-09-30   -0.060530\n",
            "2017-10-31    0.099018\n",
            "2017-11-30    0.033422\n",
            "2017-12-31   -0.010640\n",
            "Freq: M, Name: Close, dtype: float64\n"
          ]
        }
      ],
      "source": [
        "monthly_return = aapl.resample('M').agg(lambda x: x[-1]/x[0] - 1)\n",
        "print(monthly_return)"
      ]
    },
    {
      "cell_type": "markdown",
      "metadata": {
        "id": "3ocTqnwy6Ttr"
      },
      "source": [
        "**My own example 188**"
      ]
    },
    {
      "cell_type": "code",
      "execution_count": null,
      "metadata": {
        "colab": {
          "base_uri": "https://localhost:8080/"
        },
        "id": "qK2NMJrNHW96",
        "outputId": "9b1e590d-0ff3-465e-a851-5d36fdb5a6c9"
      },
      "outputs": [
        {
          "output_type": "stream",
          "name": "stdout",
          "text": [
            "Date\n",
            "2017-01-31    0.033078\n",
            "2017-02-28    0.012392\n",
            "2017-03-31    0.014167\n",
            "2017-04-30    0.044393\n",
            "2017-05-31    0.011962\n",
            "2017-06-30   -0.016690\n",
            "2017-07-31    0.066452\n",
            "2017-08-31    0.035662\n",
            "2017-09-30    0.007438\n",
            "2017-10-31    0.114864\n",
            "2017-11-30    0.016984\n",
            "2017-12-31    0.015191\n",
            "Freq: M, Name: Close, dtype: float64\n"
          ]
        }
      ],
      "source": [
        "monthly_return = msft.resample('M').agg(lambda x: x[-1]/x[0] - 1)\n",
        "print(monthly_return)"
      ]
    },
    {
      "cell_type": "markdown",
      "metadata": {
        "id": "_DYbMTFWMj8J"
      },
      "source": [
        "Series object also provides us some convenient methods to do some quick calculation."
      ]
    },
    {
      "cell_type": "code",
      "execution_count": null,
      "metadata": {
        "colab": {
          "base_uri": "https://localhost:8080/"
        },
        "id": "1Mxc0HwvHW98",
        "outputId": "88daecf2-d881-46f0-8096-0c7aa0872350"
      },
      "outputs": [
        {
          "output_type": "stream",
          "name": "stdout",
          "text": [
            "0.02965774569879708\n",
            "0.03403433394591783\n",
            "0.11486392492696673\n"
          ]
        }
      ],
      "source": [
        "print(monthly_return.mean())\n",
        "print(monthly_return.std())\n",
        "print(monthly_return.max())"
      ]
    },
    {
      "cell_type": "markdown",
      "metadata": {
        "id": "mn59J5dqMpqX"
      },
      "source": [
        "Another two methods frequently used on Series are .diff() and .pct_change(). The former calculates the difference between consecutive elements, and the latter calculates the percentage change."
      ]
    },
    {
      "cell_type": "code",
      "execution_count": null,
      "metadata": {
        "colab": {
          "base_uri": "https://localhost:8080/"
        },
        "id": "DupZTSqqHW99",
        "outputId": "7c8e3665-f6cd-4298-ae58-05565d41e3d4"
      },
      "outputs": [
        {
          "output_type": "stream",
          "name": "stdout",
          "text": [
            "Date\n",
            "2017-01-31         NaN\n",
            "2017-02-28   -0.261768\n",
            "2017-03-31    1.754959\n",
            "2017-04-30    2.427052\n",
            "2017-05-31    1.661900\n",
            "2017-06-30   -0.854332\n",
            "2017-07-31    3.539406\n",
            "2017-08-31    2.317368\n",
            "2017-09-30   -0.264259\n",
            "2017-10-31    8.201942\n",
            "2017-11-30    1.333382\n",
            "2017-12-31    1.299553\n",
            "Freq: M, Name: Close, dtype: float64\n",
            "Date\n",
            "2017-01-31         NaN\n",
            "2017-02-28   -0.004364\n",
            "2017-03-31    0.029384\n",
            "2017-04-30    0.039478\n",
            "2017-05-31    0.026005\n",
            "2017-06-30   -0.013030\n",
            "2017-07-31    0.054693\n",
            "2017-08-31    0.033952\n",
            "2017-09-30   -0.003745\n",
            "2017-10-31    0.116660\n",
            "2017-11-30    0.016984\n",
            "2017-12-31    0.016277\n",
            "Freq: M, Name: Close, dtype: float64\n"
          ]
        }
      ],
      "source": [
        "print(last_day.diff())\n",
        "print(last_day.pct_change())"
      ]
    },
    {
      "cell_type": "markdown",
      "metadata": {
        "id": "RaMAOFepM6Io"
      },
      "source": [
        "Notice that we induced a NaN value while calculating percentage changes i.e. returns.\n",
        "\n",
        "When dealing with NaN values, we usually either removing the data point or fill it with a specific value. Here we fill it with 0:"
      ]
    },
    {
      "cell_type": "code",
      "execution_count": null,
      "metadata": {
        "colab": {
          "base_uri": "https://localhost:8080/"
        },
        "id": "-xyLb3A3HW99",
        "outputId": "8bdb3d0a-78ce-46b0-90cf-e2e0fb708b46"
      },
      "outputs": [
        {
          "output_type": "stream",
          "name": "stdout",
          "text": [
            "Date\n",
            "2017-01-31    0.000000\n",
            "2017-02-28   -0.004364\n",
            "2017-03-31    0.029384\n",
            "2017-04-30    0.039478\n",
            "2017-05-31    0.026005\n",
            "2017-06-30   -0.013030\n",
            "2017-07-31    0.054693\n",
            "2017-08-31    0.033952\n",
            "2017-09-30   -0.003745\n",
            "2017-10-31    0.116660\n",
            "2017-11-30    0.016984\n",
            "2017-12-31    0.016277\n",
            "Freq: M, Name: Close, dtype: float64\n"
          ]
        }
      ],
      "source": [
        "daily_return = last_day.pct_change()\n",
        "print(daily_return.fillna(0))"
      ]
    },
    {
      "cell_type": "markdown",
      "metadata": {
        "id": "BYS10Om1NQVC"
      },
      "source": [
        "Alternatively, we can fill a NaN with the next fitted value. This is called 'backward fill', or 'bfill' in short:"
      ]
    },
    {
      "cell_type": "code",
      "execution_count": null,
      "metadata": {
        "colab": {
          "base_uri": "https://localhost:8080/"
        },
        "id": "J513kHeKHW9-",
        "outputId": "95d69a91-cdc1-4795-df6f-3107d5c5f5b5"
      },
      "outputs": [
        {
          "output_type": "stream",
          "name": "stdout",
          "text": [
            "Date\n",
            "2017-01-31   -0.004364\n",
            "2017-02-28   -0.004364\n",
            "2017-03-31    0.029384\n",
            "2017-04-30    0.039478\n",
            "2017-05-31    0.026005\n",
            "2017-06-30   -0.013030\n",
            "2017-07-31    0.054693\n",
            "2017-08-31    0.033952\n",
            "2017-09-30   -0.003745\n",
            "2017-10-31    0.116660\n",
            "2017-11-30    0.016984\n",
            "2017-12-31    0.016277\n",
            "Freq: M, Name: Close, dtype: float64\n"
          ]
        }
      ],
      "source": [
        "daily_return = last_day.pct_change()\n",
        "print(daily_return.fillna(method = 'bfill'))"
      ]
    },
    {
      "cell_type": "markdown",
      "metadata": {
        "id": "bj8QUSgdNepf"
      },
      "source": [
        "As expected, since there is a 'backward fill' method, there must be a 'forward fill' method, or 'ffill' in short. However we can't use it here because the NaN is the first value.\n",
        "\n",
        "We can also simply remove NaN values by **_.dropna()_**"
      ]
    },
    {
      "cell_type": "code",
      "execution_count": null,
      "metadata": {
        "colab": {
          "base_uri": "https://localhost:8080/"
        },
        "id": "WG5ux1lqHW9-",
        "outputId": "f4bcea27-5455-4641-d152-1b75c455a7d5"
      },
      "outputs": [
        {
          "output_type": "execute_result",
          "data": {
            "text/plain": [
              "Date\n",
              "2017-02-28   -0.004364\n",
              "2017-03-31    0.029384\n",
              "2017-04-30    0.039478\n",
              "2017-05-31    0.026005\n",
              "2017-06-30   -0.013030\n",
              "2017-07-31    0.054693\n",
              "2017-08-31    0.033952\n",
              "2017-09-30   -0.003745\n",
              "2017-10-31    0.116660\n",
              "2017-11-30    0.016984\n",
              "2017-12-31    0.016277\n",
              "Freq: M, Name: Close, dtype: float64"
            ]
          },
          "metadata": {},
          "execution_count": 506
        }
      ],
      "source": [
        "daily_return = last_day.pct_change()\n",
        "daily_return.dropna()"
      ]
    },
    {
      "cell_type": "markdown",
      "metadata": {
        "id": "nQH2eBWkNjdC"
      },
      "source": [
        "# DataFrame\n",
        "The **DataFrame** is the most commonly used data structure in Pandas. It is essentially a table, just like an Excel spreadsheet.\n",
        "\n",
        "More precisely, a DataFrame is a collection of Series objects, each of which may contain different data types. A DataFrame can be created from various data types: dictionary, 2-D numpy.ndarray, a Series or another DataFrame.\n",
        "\n",
        "## Create DataFrames\n",
        "The most common method of creating a DataFrame is passing a dictionary:"
      ]
    },
    {
      "cell_type": "code",
      "execution_count": null,
      "metadata": {
        "colab": {
          "base_uri": "https://localhost:8080/"
        },
        "id": "vd5Wf1ohHW9-",
        "outputId": "bdbb082d-4543-4a06-e870-d4874526839c"
      },
      "outputs": [
        {
          "output_type": "stream",
          "name": "stdout",
          "text": [
            "              AAPL    GOOG     IBM\n",
            "2017-07-03  143.50  898.70  155.58\n",
            "2017-07-04  144.09  911.71  153.67\n",
            "2017-07-05  142.73  906.69  152.36\n",
            "2017-07-06  144.18  918.59  152.94\n",
            "2017-07-07  143.77  926.99  153.49\n"
          ]
        }
      ],
      "source": [
        "import pandas as pd\n",
        "\n",
        "dict = {'AAPL': [143.5,  144.09, 142.73, 144.18, 143.77],\n",
        "        'GOOG': [898.7,  911.71, 906.69, 918.59, 926.99],\n",
        "        'IBM':  [155.58, 153.67, 152.36, 152.94, 153.49]}\n",
        "dates = pd.date_range('2017-07-03', periods = 5, freq = 'D')\n",
        "df = pd.DataFrame(dict, index = dates)\n",
        "print(df)\n",
        "\n"
      ]
    },
    {
      "cell_type": "markdown",
      "metadata": {
        "id": "wKqE_4lc6a7F"
      },
      "source": [
        "**My own example 189**"
      ]
    },
    {
      "cell_type": "code",
      "execution_count": null,
      "metadata": {
        "colab": {
          "base_uri": "https://localhost:8080/"
        },
        "id": "l0Cesq8Z5Ow5",
        "outputId": "ac53110c-8028-4bb1-93f5-efe6c233270c"
      },
      "outputs": [
        {
          "output_type": "stream",
          "name": "stdout",
          "text": [
            "              TSLA      FB     WTC\n",
            "2017-07-03  156.50  888.70  185.58\n",
            "2017-07-04  144.09  981.71  134.67\n",
            "2017-07-05  168.73  906.69  152.36\n",
            "2017-07-06  186.18  914.59  182.94\n",
            "2017-07-07  108.77  826.99  153.49\n"
          ]
        }
      ],
      "source": [
        "import pandas as pd\n",
        "\n",
        "dict2 = {'TSLA': [156.5, 144.09, 168.73, 186.18, 108.77],'FB':[888.7, 981.71, 906.69, 914.59, 826.99],\n",
        "        'WTC':[185.58, 134.67, 152.36, 182.94, 153.49]}\n",
        "data_index = pd.date_range('2017-07-03',periods = 5, freq = 'D')\n",
        "df = pd.DataFrame(dict2, index = data_index)\n",
        "print(df)"
      ]
    },
    {
      "cell_type": "markdown",
      "metadata": {
        "id": "0uYmLQTgOPnX"
      },
      "source": [
        "## Manipulating DataFrames\n",
        "We can fetch values in a DataFrame by columns and index. Each column in a DataFrame is essentially a Pandas Series. We can fetch a column by square brackets: **df['column_name']**\n",
        "\n",
        "If a column name contains no spaces, then we can also use df.column_name to fetch a column:"
      ]
    },
    {
      "cell_type": "code",
      "execution_count": null,
      "metadata": {
        "colab": {
          "base_uri": "https://localhost:8080/"
        },
        "id": "vAcTmlkH5j2X",
        "outputId": "89352b45-d6bc-46e2-8686-04ca166aaadc"
      },
      "outputs": [
        {
          "output_type": "stream",
          "name": "stdout",
          "text": [
            "Date\n",
            "2017-12-22    41.792450\n",
            "2017-12-26    40.732189\n",
            "2017-12-27    40.739349\n",
            "2017-12-28    40.853973\n",
            "2017-12-29    40.412186\n",
            "Name: Close, dtype: float64\n",
            "Date\n",
            "2017-12-22     65397600\n",
            "2017-12-26    132742000\n",
            "2017-12-27     85992800\n",
            "2017-12-28     65920800\n",
            "2017-12-29    103999600\n",
            "Name: Volume, dtype: int64\n"
          ]
        }
      ],
      "source": [
        "df = aapl_table\n",
        "print(df.Close.tail(5))\n",
        "print(df['Volume'].tail(5))"
      ]
    },
    {
      "cell_type": "markdown",
      "metadata": {
        "id": "xa5GvZTx6cu-"
      },
      "source": [
        "**My own example 190**"
      ]
    },
    {
      "cell_type": "code",
      "execution_count": null,
      "metadata": {
        "colab": {
          "base_uri": "https://localhost:8080/"
        },
        "id": "2pB2f7lBHW9_",
        "outputId": "261d1635-441b-4fb5-b1cf-6c080a1a088d"
      },
      "outputs": [
        {
          "output_type": "stream",
          "name": "stdout",
          "text": [
            "Date\n",
            "2018-12-21    94.791809\n",
            "2018-12-24    90.835304\n",
            "2018-12-26    97.040268\n",
            "2018-12-27    97.638557\n",
            "2018-12-28    96.876213\n",
            "Name: Close, dtype: float64\n",
            "Date\n",
            "2018-12-21    111242100\n",
            "2018-12-24     43935200\n",
            "2018-12-26     51634800\n",
            "2018-12-27     49498500\n",
            "2018-12-28     38196300\n",
            "Name: Volume, dtype: int64\n"
          ]
        }
      ],
      "source": [
        "df = msft_table\n",
        "print(df.Close.tail(5))\n",
        "print(df['Volume'].tail(5))"
      ]
    },
    {
      "cell_type": "markdown",
      "metadata": {
        "id": "z0ugOel9O4-P"
      },
      "source": [
        "All the methods we applied to a Series index such as iloc[], loc[] and resampling methods, can also be applied to a DataFrame:"
      ]
    },
    {
      "cell_type": "code",
      "execution_count": null,
      "metadata": {
        "colab": {
          "base_uri": "https://localhost:8080/"
        },
        "id": "J7uI9whz5oHo",
        "outputId": "9af12eec-b7b5-477f-9d1f-e216293b5ccd"
      },
      "outputs": [
        {
          "output_type": "stream",
          "name": "stdout",
          "text": [
            "                 Open       High        Low      Close    Volume  Dividends  \\\n",
            "Date                                                                          \n",
            "2017-01-31  60.180976  60.450056  59.624261  59.986126  25270500        0.0   \n",
            "2017-02-28  59.817708  59.929722  59.518990  59.724358  23239800        0.0   \n",
            "2017-03-31  61.283286  61.787368  61.096584  61.479317  21040300        0.0   \n",
            "2017-04-30  64.326441  64.541138  63.187588  63.906368  39548800        0.0   \n",
            "2017-05-31  66.216067  66.413221  65.540104  65.568268  30436400        0.0   \n",
            "2017-06-30  64.573109  65.136409  64.535555  64.713936  24161100        0.0   \n",
            "2017-07-31  68.816649  68.948085  67.981086  68.253342  23600100        0.0   \n",
            "2017-08-31  69.872272  70.750041  69.655193  70.570709  27652800        0.0   \n",
            "2017-09-30  69.787344  70.353645  69.730708  70.306450  17079100        0.0   \n",
            "2017-10-31  79.622121  79.622121  78.442324  78.508392  27086600        0.0   \n",
            "2017-11-30  79.215717  80.173775  79.054453  79.841774  33054600        0.0   \n",
            "2017-12-31  81.226695  81.625103  81.103383  81.141327  18717400        0.0   \n",
            "\n",
            "            Stock Splits  \n",
            "Date                      \n",
            "2017-01-31             0  \n",
            "2017-02-28             0  \n",
            "2017-03-31             0  \n",
            "2017-04-30             0  \n",
            "2017-05-31             0  \n",
            "2017-06-30             0  \n",
            "2017-07-31             0  \n",
            "2017-08-31             0  \n",
            "2017-09-30             0  \n",
            "2017-10-31             0  \n",
            "2017-11-30             0  \n",
            "2017-12-31             0  \n"
          ]
        },
        {
          "output_type": "stream",
          "name": "stderr",
          "text": [
            "/usr/local/lib/python3.7/dist-packages/ipykernel_launcher.py:1: FutureWarning: Indexing a DataFrame with a datetimelike index using a single string to slice the rows, like `frame[string]`, is deprecated and will be removed in a future version. Use `frame.loc[string]` instead.\n",
            "  \"\"\"Entry point for launching an IPython kernel.\n"
          ]
        }
      ],
      "source": [
        "aapl_2017 = df['2017']\n",
        "aapl_month = aapl_2017.resample('M').agg(lambda x: x[-1])\n",
        "print(aapl_month)"
      ]
    },
    {
      "cell_type": "markdown",
      "metadata": {
        "id": "qkCQQbAM6fqE"
      },
      "source": [
        "**My own example 191**"
      ]
    },
    {
      "cell_type": "code",
      "execution_count": null,
      "metadata": {
        "colab": {
          "base_uri": "https://localhost:8080/"
        },
        "id": "_8dfjkedHW9_",
        "outputId": "765d3260-3258-412d-ca6a-203fac19b86b"
      },
      "outputs": [
        {
          "output_type": "stream",
          "name": "stdout",
          "text": [
            "                  Open        High         Low       Close    Volume  \\\n",
            "Date                                                                   \n",
            "2018-01-31   88.929127   90.494281   88.701470   90.124336  48756300   \n",
            "2018-02-28   90.385666   91.214808   89.232497   89.365921  31167300   \n",
            "2018-03-31   85.944565   87.955466   84.248166   86.983368  45867500   \n",
            "2018-04-30   91.805715   91.872427   88.775068   89.127686  41523600   \n",
            "2018-05-31   95.036838   95.706850   94.385966   94.606110  34140900   \n",
            "2018-06-30   94.692240   95.630264   94.117943   94.385948  28053200   \n",
            "2018-07-31  101.928421  102.148572  100.865968  101.535988  27655200   \n",
            "2018-08-31  107.317073  108.364393  107.153723  107.932014  23222700   \n",
            "2018-09-30  109.719206  110.084325  109.229171  109.892159  21647800   \n",
            "2018-10-31  101.311764  103.906049  101.263719  102.628120  51062400   \n",
            "2018-11-30  106.825345  107.085899  105.532251  107.008698  33665600   \n",
            "2018-12-31   98.516708   98.825514   96.036662   96.876213  38196300   \n",
            "\n",
            "            Dividends  Stock Splits  \n",
            "Date                                 \n",
            "2018-01-31        0.0             0  \n",
            "2018-02-28        0.0             0  \n",
            "2018-03-31        0.0             0  \n",
            "2018-04-30        0.0             0  \n",
            "2018-05-31        0.0             0  \n",
            "2018-06-30        0.0             0  \n",
            "2018-07-31        0.0             0  \n",
            "2018-08-31        0.0             0  \n",
            "2018-09-30        0.0             0  \n",
            "2018-10-31        0.0             0  \n",
            "2018-11-30        0.0             0  \n",
            "2018-12-31        0.0             0  \n"
          ]
        },
        {
          "output_type": "stream",
          "name": "stderr",
          "text": [
            "/usr/local/lib/python3.7/dist-packages/ipykernel_launcher.py:1: FutureWarning: Indexing a DataFrame with a datetimelike index using a single string to slice the rows, like `frame[string]`, is deprecated and will be removed in a future version. Use `frame.loc[string]` instead.\n",
            "  \"\"\"Entry point for launching an IPython kernel.\n"
          ]
        }
      ],
      "source": [
        "msft_2018 = df['2018']\n",
        "msft_month = msft_2018.resample('M').agg(lambda x: x[-1])\n",
        "print(msft_month)"
      ]
    },
    {
      "cell_type": "markdown",
      "metadata": {
        "id": "CqrbrbFZPTJe"
      },
      "source": [
        "We may select certain columns of a DataFrame using their names:"
      ]
    },
    {
      "cell_type": "code",
      "execution_count": null,
      "metadata": {
        "colab": {
          "base_uri": "https://localhost:8080/"
        },
        "id": "fHZPM6qi5rfN",
        "outputId": "34bc87cf-4e25-4372-ad2c-bc4ceb040d8b"
      },
      "outputs": [
        {
          "output_type": "stream",
          "name": "stdout",
          "text": [
            "                 Open       High        Low      Close\n",
            "Date                                                  \n",
            "2017-01-31  60.180976  60.450056  59.624261  59.986126\n",
            "2017-02-28  59.817708  59.929722  59.518990  59.724358\n",
            "2017-03-31  61.283286  61.787368  61.096584  61.479317\n",
            "2017-04-30  64.326441  64.541138  63.187588  63.906368\n",
            "2017-05-31  66.216067  66.413221  65.540104  65.568268\n",
            "2017-06-30  64.573109  65.136409  64.535555  64.713936\n",
            "2017-07-31  68.816649  68.948085  67.981086  68.253342\n",
            "2017-08-31  69.872272  70.750041  69.655193  70.570709\n",
            "2017-09-30  69.787344  70.353645  69.730708  70.306450\n",
            "2017-10-31  79.622121  79.622121  78.442324  78.508392\n",
            "2017-11-30  79.215717  80.173775  79.054453  79.841774\n",
            "2017-12-31  81.226695  81.625103  81.103383  81.141327\n"
          ]
        }
      ],
      "source": [
        "aapl_bar = aapl_month[['Open', 'High', 'Low', 'Close']]\n",
        "print(aapl_bar)"
      ]
    },
    {
      "cell_type": "code",
      "execution_count": null,
      "metadata": {
        "colab": {
          "base_uri": "https://localhost:8080/"
        },
        "id": "TywBeNT95v1i",
        "outputId": "8be0ef2a-6b59-47b3-80bc-ed4e95c40f4e"
      },
      "outputs": [
        {
          "output_type": "stream",
          "name": "stdout",
          "text": [
            "                 Open       High        Low      Close\n",
            "Date                                                  \n",
            "2017-03-31  61.283286  61.787368  61.096584  61.479317\n",
            "2017-04-30  64.326441  64.541138  63.187588  63.906368\n",
            "2017-05-31  66.216067  66.413221  65.540104  65.568268\n",
            "2017-06-30  64.573109  65.136409  64.535555  64.713936\n"
          ]
        }
      ],
      "source": [
        "print(aapl_month.loc['2017-03':'2017-06',['Open', 'High', 'Low', 'Close']])"
      ]
    },
    {
      "cell_type": "markdown",
      "metadata": {
        "id": "6jKJOP8M6iDX"
      },
      "source": [
        "**My own example 192**"
      ]
    },
    {
      "cell_type": "code",
      "execution_count": null,
      "metadata": {
        "colab": {
          "base_uri": "https://localhost:8080/"
        },
        "id": "7bQGeyCAHW9_",
        "outputId": "ad3ef789-1adf-4f03-c8be-0b70245f91fa"
      },
      "outputs": [
        {
          "output_type": "stream",
          "name": "stdout",
          "text": [
            "                  Open        High         Low       Close\n",
            "Date                                                      \n",
            "2018-01-31   88.929127   90.494281   88.701470   90.124336\n",
            "2018-02-28   90.385666   91.214808   89.232497   89.365921\n",
            "2018-03-31   85.944565   87.955466   84.248166   86.983368\n",
            "2018-04-30   91.805715   91.872427   88.775068   89.127686\n",
            "2018-05-31   95.036838   95.706850   94.385966   94.606110\n",
            "2018-06-30   94.692240   95.630264   94.117943   94.385948\n",
            "2018-07-31  101.928421  102.148572  100.865968  101.535988\n",
            "2018-08-31  107.317073  108.364393  107.153723  107.932014\n",
            "2018-09-30  109.719206  110.084325  109.229171  109.892159\n",
            "2018-10-31  101.311764  103.906049  101.263719  102.628120\n",
            "2018-11-30  106.825345  107.085899  105.532251  107.008698\n",
            "2018-12-31   98.516708   98.825514   96.036662   96.876213\n"
          ]
        }
      ],
      "source": [
        "msft_bar = msft_month[['Open', 'High', 'Low', 'Close']]\n",
        "print(msft_bar)"
      ]
    },
    {
      "cell_type": "markdown",
      "metadata": {
        "id": "8CQaZCAQP68O"
      },
      "source": [
        "We can even specify both rows and columns using loc[]. The row indices and column names are separated by a comma:"
      ]
    },
    {
      "cell_type": "markdown",
      "metadata": {
        "id": "Pgd5FlAc6kFl"
      },
      "source": [
        "**My own example 193**"
      ]
    },
    {
      "cell_type": "code",
      "execution_count": null,
      "metadata": {
        "colab": {
          "base_uri": "https://localhost:8080/"
        },
        "id": "YjWWiHVpHW-A",
        "outputId": "8997716a-2cf8-417b-a363-6153aa107264"
      },
      "outputs": [
        {
          "output_type": "stream",
          "name": "stdout",
          "text": [
            "                 Open       High        Low      Close\n",
            "Date                                                  \n",
            "2018-01-31  88.929127  90.494281  88.701470  90.124336\n",
            "2018-02-28  90.385666  91.214808  89.232497  89.365921\n",
            "2018-03-31  85.944565  87.955466  84.248166  86.983368\n",
            "2018-04-30  91.805715  91.872427  88.775068  89.127686\n",
            "2018-05-31  95.036838  95.706850  94.385966  94.606110\n",
            "2018-06-30  94.692240  95.630264  94.117943  94.385948\n"
          ]
        }
      ],
      "source": [
        "print(msft_month.loc['2017-03':'2018-06',['Open', 'High', 'Low', 'Close']])"
      ]
    },
    {
      "cell_type": "markdown",
      "metadata": {
        "id": "Xcn_pHNLQBEH"
      },
      "source": [
        "The subset methods in DataFrame is quite useful. By writing logical statements in square brackets, we can make customized subsets:"
      ]
    },
    {
      "cell_type": "code",
      "execution_count": null,
      "metadata": {
        "colab": {
          "base_uri": "https://localhost:8080/"
        },
        "id": "c_2zzjG350Zn",
        "outputId": "a2268782-c9f1-407d-ed2c-edfc4e014458"
      },
      "outputs": [
        {
          "output_type": "stream",
          "name": "stdout",
          "text": [
            "                 Open       High        Low      Close\n",
            "Date                                                  \n",
            "2017-08-31  69.872272  70.750041  69.655193  70.570709\n",
            "2017-09-30  69.787344  70.353645  69.730708  70.306450\n",
            "2017-10-31  79.622121  79.622121  78.442324  78.508392\n",
            "2017-11-30  79.215717  80.173775  79.054453  79.841774\n",
            "2017-12-31  81.226695  81.625103  81.103383  81.141327\n"
          ]
        }
      ],
      "source": [
        "import numpy as np\n",
        "\n",
        "above = aapl_bar[aapl_bar.Close > np.mean(aapl_bar.Close)]\n",
        "print(above)"
      ]
    },
    {
      "cell_type": "markdown",
      "metadata": {
        "id": "Ze1DbQEQ6l3K"
      },
      "source": [
        "**My own example 194**"
      ]
    },
    {
      "cell_type": "code",
      "execution_count": null,
      "metadata": {
        "colab": {
          "base_uri": "https://localhost:8080/"
        },
        "id": "RxKg4dObHW-A",
        "outputId": "d1dbe941-fe32-4033-9a0e-3ca40c413a52"
      },
      "outputs": [
        {
          "output_type": "stream",
          "name": "stdout",
          "text": [
            "                  Open        High         Low       Close\n",
            "Date                                                      \n",
            "2018-07-31  101.928421  102.148572  100.865968  101.535988\n",
            "2018-08-31  107.317073  108.364393  107.153723  107.932014\n",
            "2018-09-30  109.719206  110.084325  109.229171  109.892159\n",
            "2018-10-31  101.311764  103.906049  101.263719  102.628120\n",
            "2018-11-30  106.825345  107.085899  105.532251  107.008698\n"
          ]
        }
      ],
      "source": [
        "import numpy as np\n",
        "\n",
        "above = msft_bar[msft_bar.Close > np.mean(msft_bar.Close)]\n",
        "print(above)"
      ]
    },
    {
      "cell_type": "markdown",
      "metadata": {
        "id": "wcm_UadkQLL5"
      },
      "source": [
        "## Data Validation\n",
        "As mentioned, all methods that apply to a Series can also be applied to a DataFrame. Here we add a new column to an existing DataFrame:"
      ]
    },
    {
      "cell_type": "code",
      "execution_count": null,
      "metadata": {
        "colab": {
          "base_uri": "https://localhost:8080/"
        },
        "id": "FA_Nx_rf57kd",
        "outputId": "f940b3aa-f300-43f4-d761-321f535164f5"
      },
      "outputs": [
        {
          "output_type": "stream",
          "name": "stdout",
          "text": [
            "                 Open       High        Low      Close  rate_return\n",
            "Date                                                               \n",
            "2017-01-31  60.180976  60.450056  59.624261  59.986126          NaN\n",
            "2017-02-28  59.817708  59.929722  59.518990  59.724358    -0.004364\n",
            "2017-03-31  61.283286  61.787368  61.096584  61.479317     0.029384\n",
            "2017-04-30  64.326441  64.541138  63.187588  63.906368     0.039478\n",
            "2017-05-31  66.216067  66.413221  65.540104  65.568268     0.026005\n",
            "2017-06-30  64.573109  65.136409  64.535555  64.713936    -0.013030\n",
            "2017-07-31  68.816649  68.948085  67.981086  68.253342     0.054693\n",
            "2017-08-31  69.872272  70.750041  69.655193  70.570709     0.033952\n",
            "2017-09-30  69.787344  70.353645  69.730708  70.306450    -0.003745\n",
            "2017-10-31  79.622121  79.622121  78.442324  78.508392     0.116660\n",
            "2017-11-30  79.215717  80.173775  79.054453  79.841774     0.016984\n",
            "2017-12-31  81.226695  81.625103  81.103383  81.141327     0.016277\n"
          ]
        },
        {
          "output_type": "stream",
          "name": "stderr",
          "text": [
            "/usr/local/lib/python3.7/dist-packages/ipykernel_launcher.py:1: SettingWithCopyWarning: \n",
            "A value is trying to be set on a copy of a slice from a DataFrame.\n",
            "Try using .loc[row_indexer,col_indexer] = value instead\n",
            "\n",
            "See the caveats in the documentation: https://pandas.pydata.org/pandas-docs/stable/user_guide/indexing.html#returning-a-view-versus-a-copy\n",
            "  \"\"\"Entry point for launching an IPython kernel.\n"
          ]
        }
      ],
      "source": [
        "aapl_bar['rate_return'] = aapl_bar.Close.pct_change()\n",
        "print(aapl_bar)"
      ]
    },
    {
      "cell_type": "markdown",
      "metadata": {
        "id": "7HSfD0cL6nUS"
      },
      "source": [
        "**My own example 195**"
      ]
    },
    {
      "cell_type": "code",
      "execution_count": null,
      "metadata": {
        "colab": {
          "base_uri": "https://localhost:8080/"
        },
        "id": "jZXFdOVFHW-A",
        "outputId": "4b53fc6c-1676-4d37-fb8c-48a45aae7200"
      },
      "outputs": [
        {
          "output_type": "stream",
          "name": "stdout",
          "text": [
            "                  Open        High         Low       Close  rate_return\n",
            "Date                                                                   \n",
            "2018-01-31   88.929127   90.494281   88.701470   90.124336          NaN\n",
            "2018-02-28   90.385666   91.214808   89.232497   89.365921    -0.008415\n",
            "2018-03-31   85.944565   87.955466   84.248166   86.983368    -0.026661\n",
            "2018-04-30   91.805715   91.872427   88.775068   89.127686     0.024652\n",
            "2018-05-31   95.036838   95.706850   94.385966   94.606110     0.061467\n",
            "2018-06-30   94.692240   95.630264   94.117943   94.385948    -0.002327\n",
            "2018-07-31  101.928421  102.148572  100.865968  101.535988     0.075753\n",
            "2018-08-31  107.317073  108.364393  107.153723  107.932014     0.062993\n",
            "2018-09-30  109.719206  110.084325  109.229171  109.892159     0.018161\n",
            "2018-10-31  101.311764  103.906049  101.263719  102.628120    -0.066102\n",
            "2018-11-30  106.825345  107.085899  105.532251  107.008698     0.042684\n",
            "2018-12-31   98.516708   98.825514   96.036662   96.876213    -0.094688\n"
          ]
        },
        {
          "output_type": "stream",
          "name": "stderr",
          "text": [
            "/usr/local/lib/python3.7/dist-packages/ipykernel_launcher.py:1: SettingWithCopyWarning: \n",
            "A value is trying to be set on a copy of a slice from a DataFrame.\n",
            "Try using .loc[row_indexer,col_indexer] = value instead\n",
            "\n",
            "See the caveats in the documentation: https://pandas.pydata.org/pandas-docs/stable/user_guide/indexing.html#returning-a-view-versus-a-copy\n",
            "  \"\"\"Entry point for launching an IPython kernel.\n"
          ]
        }
      ],
      "source": [
        "msft_bar['rate_return'] = msft_bar.Close.pct_change()\n",
        "print(msft_bar)"
      ]
    },
    {
      "cell_type": "markdown",
      "metadata": {
        "id": "_or6n5-LQUa-"
      },
      "source": [
        "Here the calculation introduced a NaN value. If the DataFrame is large, we would not be able to observe it. **isnull()** provides a convenient way to check abnormal values."
      ]
    },
    {
      "cell_type": "code",
      "execution_count": null,
      "metadata": {
        "colab": {
          "base_uri": "https://localhost:8080/"
        },
        "id": "M-DKzbC76Abv",
        "outputId": "75536f9c-9893-4dc6-8ccd-9caa6e273d38"
      },
      "outputs": [
        {
          "output_type": "stream",
          "name": "stdout",
          "text": [
            "             Open   High    Low  Close  rate_return\n",
            "Date                                               \n",
            "2017-01-31  False  False  False  False         True\n",
            "2017-02-28  False  False  False  False        False\n",
            "2017-03-31  False  False  False  False        False\n",
            "2017-04-30  False  False  False  False        False\n",
            "2017-05-31  False  False  False  False        False\n",
            "2017-06-30  False  False  False  False        False\n",
            "2017-07-31  False  False  False  False        False\n",
            "2017-08-31  False  False  False  False        False\n",
            "2017-09-30  False  False  False  False        False\n",
            "2017-10-31  False  False  False  False        False\n",
            "2017-11-30  False  False  False  False        False\n",
            "2017-12-31  False  False  False  False        False\n",
            "---------------------------------------------\n",
            "         Open   High    Low  Close rate_return\n",
            "count      12     12     12     12          12\n",
            "unique      1      1      1      1           2\n",
            "top     False  False  False  False       False\n",
            "freq       12     12     12     12          11\n"
          ]
        }
      ],
      "source": [
        "missing = aapl_bar.isnull()\n",
        "print(missing)\n",
        "print('---------------------------------------------')\n",
        "print(missing.describe())"
      ]
    },
    {
      "cell_type": "markdown",
      "metadata": {
        "id": "41PQnjRz6o0W"
      },
      "source": [
        "**My own example 196**"
      ]
    },
    {
      "cell_type": "code",
      "execution_count": null,
      "metadata": {
        "colab": {
          "base_uri": "https://localhost:8080/"
        },
        "id": "V5wgmhIPHW-B",
        "outputId": "19c3f48d-cb16-4549-82e1-d9fbf48ecd53"
      },
      "outputs": [
        {
          "output_type": "stream",
          "name": "stdout",
          "text": [
            "             Open   High    Low  Close  rate_return\n",
            "Date                                               \n",
            "2018-01-31  False  False  False  False         True\n",
            "2018-02-28  False  False  False  False        False\n",
            "2018-03-31  False  False  False  False        False\n",
            "2018-04-30  False  False  False  False        False\n",
            "2018-05-31  False  False  False  False        False\n",
            "2018-06-30  False  False  False  False        False\n",
            "2018-07-31  False  False  False  False        False\n",
            "2018-08-31  False  False  False  False        False\n",
            "2018-09-30  False  False  False  False        False\n",
            "2018-10-31  False  False  False  False        False\n",
            "2018-11-30  False  False  False  False        False\n",
            "2018-12-31  False  False  False  False        False\n",
            "---------------------------------------------\n",
            "         Open   High    Low  Close rate_return\n",
            "count      12     12     12     12          12\n",
            "unique      1      1      1      1           2\n",
            "top     False  False  False  False       False\n",
            "freq       12     12     12     12          11\n"
          ]
        }
      ],
      "source": [
        "missing = msft_bar.isnull()\n",
        "print(missing)\n",
        "print('---------------------------------------------')\n",
        "print(missing.describe())"
      ]
    },
    {
      "cell_type": "markdown",
      "metadata": {
        "id": "d6KFV4i0QfLW"
      },
      "source": [
        "The row labelled \"unique\" indicates the number of unique values in each column. Since the \"rate_return\" column has 2 unique values, it has at least one missing value.\n",
        "\n",
        "We can deduce the number of missing values by comparing \"count\" with \"freq\". There are 12 counts and 11 False values, so there is one True value which corresponds to the missing value.\n",
        "\n",
        "We can also find the rows with missing values easily:"
      ]
    },
    {
      "cell_type": "code",
      "execution_count": null,
      "metadata": {
        "colab": {
          "base_uri": "https://localhost:8080/"
        },
        "id": "Eo0ZAhCsHW-B",
        "outputId": "52ccd1b1-bf94-42f5-a644-4d782c6e15b4"
      },
      "outputs": [
        {
          "output_type": "stream",
          "name": "stdout",
          "text": [
            "             Open   High    Low  Close  rate_return\n",
            "Date                                               \n",
            "2018-01-31  False  False  False  False         True\n"
          ]
        }
      ],
      "source": [
        "print(missing[missing.rate_return == True])"
      ]
    },
    {
      "cell_type": "markdown",
      "metadata": {
        "id": "qgggpD8OQkZX"
      },
      "source": [
        "Usually when dealing with missing data, we either delete the whole row or fill it with some value. As we introduced in the Series chapter, the same method **dropna()** and **fillna()** can be applied to a DataFrame."
      ]
    },
    {
      "cell_type": "code",
      "execution_count": null,
      "metadata": {
        "colab": {
          "base_uri": "https://localhost:8080/"
        },
        "id": "dNCQTMAh6G3g",
        "outputId": "e7a16186-fdb0-4f4d-de98-fb7a401b809c"
      },
      "outputs": [
        {
          "output_type": "stream",
          "name": "stdout",
          "text": [
            "                 Open       High        Low      Close  rate_return\n",
            "Date                                                               \n",
            "2017-02-28  59.817708  59.929722  59.518990  59.724358    -0.004364\n",
            "2017-03-31  61.283286  61.787368  61.096584  61.479317     0.029384\n",
            "2017-04-30  64.326441  64.541138  63.187588  63.906368     0.039478\n",
            "2017-05-31  66.216067  66.413221  65.540104  65.568268     0.026005\n",
            "2017-06-30  64.573109  65.136409  64.535555  64.713936    -0.013030\n",
            "2017-07-31  68.816649  68.948085  67.981086  68.253342     0.054693\n",
            "2017-08-31  69.872272  70.750041  69.655193  70.570709     0.033952\n",
            "2017-09-30  69.787344  70.353645  69.730708  70.306450    -0.003745\n",
            "2017-10-31  79.622121  79.622121  78.442324  78.508392     0.116660\n",
            "2017-11-30  79.215717  80.173775  79.054453  79.841774     0.016984\n",
            "2017-12-31  81.226695  81.625103  81.103383  81.141327     0.016277\n",
            "\n",
            "--------------------------------------------------\n",
            "\n",
            "                 Open       High        Low      Close  rate_return\n",
            "Date                                                               \n",
            "2017-01-31  60.180976  60.450056  59.624261  59.986126     0.000000\n",
            "2017-02-28  59.817708  59.929722  59.518990  59.724358    -0.004364\n",
            "2017-03-31  61.283286  61.787368  61.096584  61.479317     0.029384\n",
            "2017-04-30  64.326441  64.541138  63.187588  63.906368     0.039478\n",
            "2017-05-31  66.216067  66.413221  65.540104  65.568268     0.026005\n",
            "2017-06-30  64.573109  65.136409  64.535555  64.713936    -0.013030\n",
            "2017-07-31  68.816649  68.948085  67.981086  68.253342     0.054693\n",
            "2017-08-31  69.872272  70.750041  69.655193  70.570709     0.033952\n",
            "2017-09-30  69.787344  70.353645  69.730708  70.306450    -0.003745\n",
            "2017-10-31  79.622121  79.622121  78.442324  78.508392     0.116660\n",
            "2017-11-30  79.215717  80.173775  79.054453  79.841774     0.016984\n",
            "2017-12-31  81.226695  81.625103  81.103383  81.141327     0.016277\n"
          ]
        }
      ],
      "source": [
        "drop = aapl_bar.dropna()\n",
        "print(drop)\n",
        "print('\\n--------------------------------------------------\\n')\n",
        "fill = aapl_bar.fillna(0)\n",
        "print(fill)"
      ]
    },
    {
      "cell_type": "markdown",
      "metadata": {
        "id": "2IU-pNe56q9K"
      },
      "source": [
        "**My own example 197**"
      ]
    },
    {
      "cell_type": "code",
      "execution_count": null,
      "metadata": {
        "colab": {
          "base_uri": "https://localhost:8080/"
        },
        "id": "j8PaIokjHW-B",
        "outputId": "d6b26cee-5c39-415b-9612-f6e6a34f8613"
      },
      "outputs": [
        {
          "output_type": "stream",
          "name": "stdout",
          "text": [
            "                  Open        High         Low       Close  rate_return\n",
            "Date                                                                   \n",
            "2018-02-28   90.385666   91.214808   89.232497   89.365921    -0.008415\n",
            "2018-03-31   85.944565   87.955466   84.248166   86.983368    -0.026661\n",
            "2018-04-30   91.805715   91.872427   88.775068   89.127686     0.024652\n",
            "2018-05-31   95.036838   95.706850   94.385966   94.606110     0.061467\n",
            "2018-06-30   94.692240   95.630264   94.117943   94.385948    -0.002327\n",
            "2018-07-31  101.928421  102.148572  100.865968  101.535988     0.075753\n",
            "2018-08-31  107.317073  108.364393  107.153723  107.932014     0.062993\n",
            "2018-09-30  109.719206  110.084325  109.229171  109.892159     0.018161\n",
            "2018-10-31  101.311764  103.906049  101.263719  102.628120    -0.066102\n",
            "2018-11-30  106.825345  107.085899  105.532251  107.008698     0.042684\n",
            "2018-12-31   98.516708   98.825514   96.036662   96.876213    -0.094688\n",
            "\n",
            "--------------------------------------------------\n",
            "\n",
            "                  Open        High         Low       Close  rate_return\n",
            "Date                                                                   \n",
            "2018-01-31   88.929127   90.494281   88.701470   90.124336     0.000000\n",
            "2018-02-28   90.385666   91.214808   89.232497   89.365921    -0.008415\n",
            "2018-03-31   85.944565   87.955466   84.248166   86.983368    -0.026661\n",
            "2018-04-30   91.805715   91.872427   88.775068   89.127686     0.024652\n",
            "2018-05-31   95.036838   95.706850   94.385966   94.606110     0.061467\n",
            "2018-06-30   94.692240   95.630264   94.117943   94.385948    -0.002327\n",
            "2018-07-31  101.928421  102.148572  100.865968  101.535988     0.075753\n",
            "2018-08-31  107.317073  108.364393  107.153723  107.932014     0.062993\n",
            "2018-09-30  109.719206  110.084325  109.229171  109.892159     0.018161\n",
            "2018-10-31  101.311764  103.906049  101.263719  102.628120    -0.066102\n",
            "2018-11-30  106.825345  107.085899  105.532251  107.008698     0.042684\n",
            "2018-12-31   98.516708   98.825514   96.036662   96.876213    -0.094688\n"
          ]
        }
      ],
      "source": [
        "drop = msft_bar.dropna()\n",
        "print(drop)\n",
        "print('\\n--------------------------------------------------\\n')\n",
        "fill = msft_bar.fillna(0)\n",
        "print(fill)"
      ]
    },
    {
      "cell_type": "markdown",
      "metadata": {
        "id": "0tvoFlKWQxYG"
      },
      "source": [
        "## DataFrame Concat\n",
        "We have seen how to extract a Series from a dataFrame. Now we need to consider how to merge a Series or a DataFrame into another one.\n",
        "\n",
        "In Pandas, the function **concat()** allows us to merge multiple Series into a DataFrame:"
      ]
    },
    {
      "cell_type": "code",
      "execution_count": null,
      "metadata": {
        "colab": {
          "base_uri": "https://localhost:8080/"
        },
        "id": "uQrmLIWKHW-C",
        "outputId": "cbfdc375-2b4b-4102-d8e6-f685d09d0481"
      },
      "outputs": [
        {
          "output_type": "stream",
          "name": "stdout",
          "text": [
            "     AAPL    GOOG\n",
            "0  143.50  898.70\n",
            "1  144.09  911.71\n",
            "2  142.73  906.69\n",
            "3  144.18  918.59\n",
            "4  143.77  926.99\n"
          ]
        }
      ],
      "source": [
        "s1 = pd.Series([143.5, 144.09, 142.73, 144.18, 143.77], name = 'AAPL')\n",
        "s2 = pd.Series([898.7, 911.71, 906.69, 918.59, 926.99], name = 'GOOG')\n",
        "data_frame = pd.concat([s1,s2], axis = 1)\n",
        "print(data_frame)"
      ]
    },
    {
      "cell_type": "markdown",
      "metadata": {
        "id": "SVJvqp976sbG"
      },
      "source": [
        "**My own example 198**"
      ]
    },
    {
      "cell_type": "code",
      "execution_count": null,
      "metadata": {
        "colab": {
          "base_uri": "https://localhost:8080/"
        },
        "id": "Zir_yxfZ6NWC",
        "outputId": "a9b8ef49-2a43-4bf9-adfd-f786b3493dd4"
      },
      "outputs": [
        {
          "output_type": "stream",
          "name": "stdout",
          "text": [
            "     TSLA      FB\n",
            "0  153.50  998.70\n",
            "1  184.09  961.71\n",
            "2  164.73  906.69\n",
            "3  144.18  912.59\n",
            "4  143.77  846.99\n"
          ]
        }
      ],
      "source": [
        "s1 = pd.Series([153.5, 184.09, 164.73, 144.18, 143.77], name = 'TSLA')\n",
        "s2 = pd.Series([998.7, 961.71, 906.69, 912.59, 846.99], name = 'FB')\n",
        "data_frame = pd.concat([s1,s2], axis = 1)\n",
        "print(data_frame)"
      ]
    },
    {
      "cell_type": "markdown",
      "metadata": {
        "id": "3ojbNYJLR2vv"
      },
      "source": [
        "The \"axis = 1\" parameter will join two DataFrames by columns:"
      ]
    },
    {
      "cell_type": "code",
      "execution_count": null,
      "metadata": {
        "colab": {
          "base_uri": "https://localhost:8080/"
        },
        "id": "DgssuYyZ6YMx",
        "outputId": "d663f15c-baf7-43fc-e5d6-f0f76045c939"
      },
      "outputs": [
        {
          "output_type": "stream",
          "name": "stdout",
          "text": [
            "Date\n",
            "2017-01-31    4.094113\n",
            "2017-02-28    4.089740\n",
            "2017-03-31    4.118701\n",
            "2017-04-30    4.157419\n",
            "2017-05-31    4.183092\n",
            "2017-06-30    4.169977\n",
            "2017-07-31    4.223226\n",
            "2017-08-31    4.256615\n",
            "2017-09-30    4.252864\n",
            "2017-10-31    4.363206\n",
            "2017-11-30    4.380047\n",
            "2017-12-31    4.396192\n",
            "Freq: M, Name: log_price, dtype: float64\n",
            "\n",
            "---------------------- separate line--------------------\n",
            "\n",
            "                 Open       High        Low      Close  rate_return  log_price\n",
            "Date                                                                          \n",
            "2017-01-31  60.180976  60.450056  59.624261  59.986126          NaN   4.094113\n",
            "2017-02-28  59.817708  59.929722  59.518990  59.724358    -0.004364   4.089740\n",
            "2017-03-31  61.283286  61.787368  61.096584  61.479317     0.029384   4.118701\n",
            "2017-04-30  64.326441  64.541138  63.187588  63.906368     0.039478   4.157419\n",
            "2017-05-31  66.216067  66.413221  65.540104  65.568268     0.026005   4.183092\n",
            "2017-06-30  64.573109  65.136409  64.535555  64.713936    -0.013030   4.169977\n",
            "2017-07-31  68.816649  68.948085  67.981086  68.253342     0.054693   4.223226\n",
            "2017-08-31  69.872272  70.750041  69.655193  70.570709     0.033952   4.256615\n",
            "2017-09-30  69.787344  70.353645  69.730708  70.306450    -0.003745   4.252864\n",
            "2017-10-31  79.622121  79.622121  78.442324  78.508392     0.116660   4.363206\n",
            "2017-11-30  79.215717  80.173775  79.054453  79.841774     0.016984   4.380047\n",
            "2017-12-31  81.226695  81.625103  81.103383  81.141327     0.016277   4.396192\n"
          ]
        }
      ],
      "source": [
        "log_price = np.log(aapl_bar.Close)\n",
        "log_price.name = 'log_price'\n",
        "print(log_price)\n",
        "print('\\n---------------------- separate line--------------------\\n')\n",
        "concat = pd.concat([aapl_bar, log_price], axis = 1)\n",
        "print(concat)"
      ]
    },
    {
      "cell_type": "markdown",
      "metadata": {
        "id": "acqWR0uP6vp3"
      },
      "source": [
        "**My own example 199**"
      ]
    },
    {
      "cell_type": "code",
      "execution_count": null,
      "metadata": {
        "colab": {
          "base_uri": "https://localhost:8080/"
        },
        "id": "DJsaLd-cRoIm",
        "outputId": "f193724f-f0e6-4e55-db55-ee31fdd93a02"
      },
      "outputs": [
        {
          "output_type": "stream",
          "name": "stdout",
          "text": [
            "Date\n",
            "2018-01-31    4.501190\n",
            "2018-02-28    4.492739\n",
            "2018-03-31    4.465717\n",
            "2018-04-30    4.490070\n",
            "2018-05-31    4.549722\n",
            "2018-06-30    4.547392\n",
            "2018-07-31    4.620413\n",
            "2018-08-31    4.681502\n",
            "2018-09-30    4.699500\n",
            "2018-10-31    4.631112\n",
            "2018-11-30    4.672910\n",
            "2018-12-31    4.573434\n",
            "Freq: M, Name: log_price, dtype: float64\n",
            "\n",
            "---------------------- separate line--------------------\n",
            "\n",
            "                  Open        High         Low       Close  rate_return  \\\n",
            "Date                                                                      \n",
            "2018-01-31   88.929127   90.494281   88.701470   90.124336          NaN   \n",
            "2018-02-28   90.385666   91.214808   89.232497   89.365921    -0.008415   \n",
            "2018-03-31   85.944565   87.955466   84.248166   86.983368    -0.026661   \n",
            "2018-04-30   91.805715   91.872427   88.775068   89.127686     0.024652   \n",
            "2018-05-31   95.036838   95.706850   94.385966   94.606110     0.061467   \n",
            "2018-06-30   94.692240   95.630264   94.117943   94.385948    -0.002327   \n",
            "2018-07-31  101.928421  102.148572  100.865968  101.535988     0.075753   \n",
            "2018-08-31  107.317073  108.364393  107.153723  107.932014     0.062993   \n",
            "2018-09-30  109.719206  110.084325  109.229171  109.892159     0.018161   \n",
            "2018-10-31  101.311764  103.906049  101.263719  102.628120    -0.066102   \n",
            "2018-11-30  106.825345  107.085899  105.532251  107.008698     0.042684   \n",
            "2018-12-31   98.516708   98.825514   96.036662   96.876213    -0.094688   \n",
            "\n",
            "            log_price  \n",
            "Date                   \n",
            "2018-01-31   4.501190  \n",
            "2018-02-28   4.492739  \n",
            "2018-03-31   4.465717  \n",
            "2018-04-30   4.490070  \n",
            "2018-05-31   4.549722  \n",
            "2018-06-30   4.547392  \n",
            "2018-07-31   4.620413  \n",
            "2018-08-31   4.681502  \n",
            "2018-09-30   4.699500  \n",
            "2018-10-31   4.631112  \n",
            "2018-11-30   4.672910  \n",
            "2018-12-31   4.573434  \n"
          ]
        }
      ],
      "source": [
        "log_price = np.log(msft_bar.Close)\n",
        "log_price.name = 'log_price'\n",
        "print(log_price)\n",
        "print('\\n---------------------- separate line--------------------\\n')\n",
        "concat = pd.concat([msft_bar, log_price], axis = 1)\n",
        "print(concat)"
      ]
    },
    {
      "cell_type": "markdown",
      "metadata": {
        "id": "mIZz-FUyR_62"
      },
      "source": [
        "We can also join two DataFrames by rows. Consider these two DataFrames:"
      ]
    },
    {
      "cell_type": "code",
      "execution_count": null,
      "metadata": {
        "colab": {
          "base_uri": "https://localhost:8080/"
        },
        "id": "-pHJlv4c6g1a",
        "outputId": "e5b4f751-a832-41ad-deb0-7254e33917d0"
      },
      "outputs": [
        {
          "output_type": "stream",
          "name": "stdout",
          "text": [
            "               Volume  Stock Splits\n",
            "Date                               \n",
            "2016-10-31  105677600             0\n",
            "2016-11-30  144649200             0\n",
            "2016-12-31  122345200             0\n",
            "2017-01-31  196804000             0\n",
            "2017-02-28   93931600             0\n",
            "2017-03-31   78646800             0\n",
            "2017-04-30   83441600             0\n",
            "\n",
            "---------------------- separate line--------------------\n",
            "\n",
            "                 Open       High        Low      Close\n",
            "Date                                                  \n",
            "2016-10-31  26.573700  26.709316  26.468479  26.547979\n",
            "2016-11-30  26.228343  26.369355  25.915764  25.974520\n",
            "2016-12-31  27.415201  27.544461  27.128475  27.220133\n",
            "2017-01-31  28.472797  28.529201  28.348236  28.519800\n",
            "2017-02-28  32.356364  32.441338  32.266668  32.335121\n",
            "2017-03-31  33.923662  34.053485  33.756072  33.909500\n",
            "2017-04-30  34.010997  34.060567  33.817446  33.907139\n"
          ]
        }
      ],
      "source": [
        "df_volume = aapl_table.loc['2016-10':'2017-04',['Volume', 'Stock Splits']].resample('M').agg(lambda x: x[-1])\n",
        "print(df_volume)\n",
        "print('\\n---------------------- separate line--------------------\\n')\n",
        "df_2017 = aapl_table.loc['2016-10':'2017-04',['Open', 'High', 'Low', 'Close']].resample('M').agg(lambda x: x[-1])\n",
        "print(df_2017)"
      ]
    },
    {
      "cell_type": "markdown",
      "metadata": {
        "id": "CuDHDZuI6yqH"
      },
      "source": [
        "**My own example 200**"
      ]
    },
    {
      "cell_type": "code",
      "execution_count": null,
      "metadata": {
        "colab": {
          "base_uri": "https://localhost:8080/"
        },
        "id": "W7uXZptLHW-C",
        "outputId": "e9263e36-a63b-42ac-b05c-abb3fb2bf486"
      },
      "outputs": [
        {
          "output_type": "stream",
          "name": "stdout",
          "text": [
            "              Volume  Stock Splits\n",
            "Date                              \n",
            "2017-01-31  25270500             0\n",
            "2017-02-28  23239800             0\n",
            "2017-03-31  21040300             0\n",
            "2017-04-30  39548800             0\n",
            "\n",
            "---------------------- separate line--------------------\n",
            "\n",
            "                 Open       High        Low      Close\n",
            "Date                                                  \n",
            "2017-01-31  60.180976  60.450056  59.624261  59.986126\n",
            "2017-02-28  59.817708  59.929722  59.518990  59.724358\n",
            "2017-03-31  61.283286  61.787368  61.096584  61.479317\n",
            "2017-04-30  64.326441  64.541138  63.187588  63.906368\n"
          ]
        }
      ],
      "source": [
        "df_volume = msft_table.loc['2016-10':'2017-04',['Volume', 'Stock Splits']].resample('M').agg(lambda x: x[-1])\n",
        "print(df_volume)\n",
        "print('\\n---------------------- separate line--------------------\\n')\n",
        "df_2017 = msft_table.loc['2016-10':'2017-04',['Open', 'High', 'Low', 'Close']].resample('M').agg(lambda x: x[-1])\n",
        "print(df_2017)"
      ]
    },
    {
      "cell_type": "markdown",
      "metadata": {
        "id": "iZk_C9aSSLeP"
      },
      "source": [
        "Now we merge the DataFrames with our DataFrame 'msft_bar'"
      ]
    },
    {
      "cell_type": "code",
      "execution_count": null,
      "metadata": {
        "colab": {
          "base_uri": "https://localhost:8080/"
        },
        "id": "wT9D5N687DXe",
        "outputId": "d045d48a-f156-4b61-b81d-0e930121a65f"
      },
      "outputs": [
        {
          "output_type": "stream",
          "name": "stdout",
          "text": [
            "                 Open       High        Low      Close  rate_return  \\\n",
            "Date                                                                  \n",
            "2017-01-31  60.180976  60.450056  59.624261  59.986126          NaN   \n",
            "2017-02-28  59.817708  59.929722  59.518990  59.724358    -0.004364   \n",
            "2017-03-31  61.283286  61.787368  61.096584  61.479317     0.029384   \n",
            "2017-04-30  64.326441  64.541138  63.187588  63.906368     0.039478   \n",
            "2017-05-31  66.216067  66.413221  65.540104  65.568268     0.026005   \n",
            "2017-06-30  64.573109  65.136409  64.535555  64.713936    -0.013030   \n",
            "2017-07-31  68.816649  68.948085  67.981086  68.253342     0.054693   \n",
            "2017-08-31  69.872272  70.750041  69.655193  70.570709     0.033952   \n",
            "2017-09-30  69.787344  70.353645  69.730708  70.306450    -0.003745   \n",
            "2017-10-31  79.622121  79.622121  78.442324  78.508392     0.116660   \n",
            "2017-11-30  79.215717  80.173775  79.054453  79.841774     0.016984   \n",
            "2017-12-31  81.226695  81.625103  81.103383  81.141327     0.016277   \n",
            "\n",
            "                Volume  Stock Splits  \n",
            "Date                                  \n",
            "2017-01-31  25270500.0           0.0  \n",
            "2017-02-28  23239800.0           0.0  \n",
            "2017-03-31  21040300.0           0.0  \n",
            "2017-04-30  39548800.0           0.0  \n",
            "2017-05-31         NaN           NaN  \n",
            "2017-06-30         NaN           NaN  \n",
            "2017-07-31         NaN           NaN  \n",
            "2017-08-31         NaN           NaN  \n",
            "2017-09-30         NaN           NaN  \n",
            "2017-10-31         NaN           NaN  \n",
            "2017-11-30         NaN           NaN  \n",
            "2017-12-31         NaN           NaN  \n"
          ]
        }
      ],
      "source": [
        "concat = pd.concat([aapl_bar, df_volume], axis = 1)\n",
        "print(concat)"
      ]
    },
    {
      "cell_type": "markdown",
      "metadata": {
        "id": "IdHEZP1E60aB"
      },
      "source": [
        "**My own example 201**"
      ]
    },
    {
      "cell_type": "code",
      "execution_count": null,
      "metadata": {
        "colab": {
          "base_uri": "https://localhost:8080/"
        },
        "id": "aFqmjokOHW-C",
        "outputId": "33b9e986-d3bb-42a2-f2b0-aca686a1e2b4"
      },
      "outputs": [
        {
          "output_type": "stream",
          "name": "stdout",
          "text": [
            "                  Open        High         Low       Close  rate_return  \\\n",
            "Date                                                                      \n",
            "2017-01-31         NaN         NaN         NaN         NaN          NaN   \n",
            "2017-02-28         NaN         NaN         NaN         NaN          NaN   \n",
            "2017-03-31         NaN         NaN         NaN         NaN          NaN   \n",
            "2017-04-30         NaN         NaN         NaN         NaN          NaN   \n",
            "2018-01-31   88.929127   90.494281   88.701470   90.124336          NaN   \n",
            "2018-02-28   90.385666   91.214808   89.232497   89.365921    -0.008415   \n",
            "2018-03-31   85.944565   87.955466   84.248166   86.983368    -0.026661   \n",
            "2018-04-30   91.805715   91.872427   88.775068   89.127686     0.024652   \n",
            "2018-05-31   95.036838   95.706850   94.385966   94.606110     0.061467   \n",
            "2018-06-30   94.692240   95.630264   94.117943   94.385948    -0.002327   \n",
            "2018-07-31  101.928421  102.148572  100.865968  101.535988     0.075753   \n",
            "2018-08-31  107.317073  108.364393  107.153723  107.932014     0.062993   \n",
            "2018-09-30  109.719206  110.084325  109.229171  109.892159     0.018161   \n",
            "2018-10-31  101.311764  103.906049  101.263719  102.628120    -0.066102   \n",
            "2018-11-30  106.825345  107.085899  105.532251  107.008698     0.042684   \n",
            "2018-12-31   98.516708   98.825514   96.036662   96.876213    -0.094688   \n",
            "\n",
            "                Volume  Stock Splits  \n",
            "Date                                  \n",
            "2017-01-31  25270500.0           0.0  \n",
            "2017-02-28  23239800.0           0.0  \n",
            "2017-03-31  21040300.0           0.0  \n",
            "2017-04-30  39548800.0           0.0  \n",
            "2018-01-31         NaN           NaN  \n",
            "2018-02-28         NaN           NaN  \n",
            "2018-03-31         NaN           NaN  \n",
            "2018-04-30         NaN           NaN  \n",
            "2018-05-31         NaN           NaN  \n",
            "2018-06-30         NaN           NaN  \n",
            "2018-07-31         NaN           NaN  \n",
            "2018-08-31         NaN           NaN  \n",
            "2018-09-30         NaN           NaN  \n",
            "2018-10-31         NaN           NaN  \n",
            "2018-11-30         NaN           NaN  \n",
            "2018-12-31         NaN           NaN  \n"
          ]
        }
      ],
      "source": [
        "concat = pd.concat([msft_bar, df_volume], axis = 1)\n",
        "print(concat)"
      ]
    },
    {
      "cell_type": "markdown",
      "metadata": {
        "id": "7yI3tgB4SR4O"
      },
      "source": [
        "By default the DataFrame are joined with all of the data. This default options results in zero information loss. We can also merge them by intersection, this is called 'inner join"
      ]
    },
    {
      "cell_type": "markdown",
      "metadata": {
        "id": "y1K67iC762R2"
      },
      "source": [
        "**My own example 202**"
      ]
    },
    {
      "cell_type": "code",
      "execution_count": null,
      "metadata": {
        "colab": {
          "base_uri": "https://localhost:8080/"
        },
        "id": "31QGLyijHW-C",
        "outputId": "e937bb4f-0a7b-4a95-a211-46f9256bcd55"
      },
      "outputs": [
        {
          "output_type": "stream",
          "name": "stdout",
          "text": [
            "Empty DataFrame\n",
            "Columns: [Open, High, Low, Close, rate_return, Volume, Stock Splits]\n",
            "Index: []\n"
          ]
        }
      ],
      "source": [
        "concat = pd.concat([msft_bar,df_volume],axis = 1, join = 'inner')\n",
        "print(concat)"
      ]
    },
    {
      "cell_type": "markdown",
      "metadata": {
        "id": "oudcWMm5Sd0u"
      },
      "source": [
        "Only the intersection part was left if use 'inner join' method. Now let's try to append a DataFrame to another one:"
      ]
    },
    {
      "cell_type": "code",
      "execution_count": null,
      "metadata": {
        "colab": {
          "base_uri": "https://localhost:8080/"
        },
        "id": "m60seHiq7HZz",
        "outputId": "f50828e4-8a34-4cba-fb5b-53bb1014879b"
      },
      "outputs": [
        {
          "output_type": "stream",
          "name": "stdout",
          "text": [
            "                 Open       High        Low      Close  rate_return    Volume  \\\n",
            "Date                                                                            \n",
            "2017-01-31  60.180976  60.450056  59.624261  59.986126          NaN  25270500   \n",
            "2017-02-28  59.817708  59.929722  59.518990  59.724358    -0.004364  23239800   \n",
            "2017-03-31  61.283286  61.787368  61.096584  61.479317     0.029384  21040300   \n",
            "2017-04-30  64.326441  64.541138  63.187588  63.906368     0.039478  39548800   \n",
            "\n",
            "            Stock Splits  \n",
            "Date                      \n",
            "2017-01-31             0  \n",
            "2017-02-28             0  \n",
            "2017-03-31             0  \n",
            "2017-04-30             0  \n"
          ]
        }
      ],
      "source": [
        "concat = pd.concat([aapl_bar,df_volume],axis = 1, join = 'inner')\n",
        "print(concat)"
      ]
    },
    {
      "cell_type": "code",
      "execution_count": null,
      "metadata": {
        "colab": {
          "base_uri": "https://localhost:8080/"
        },
        "id": "qKfJr5_a7N12",
        "outputId": "c42e6240-52c6-43cb-fed0-3be54a5d61c3"
      },
      "outputs": [
        {
          "output_type": "stream",
          "name": "stdout",
          "text": [
            "                 Open       High        Low      Close  rate_return     Change\n",
            "Date                                                                          \n",
            "2017-01-31  60.180976  60.450056  59.624261  59.986126          NaN        NaN\n",
            "2017-02-28  59.817708  59.929722  59.518990  59.724358    -0.004364        NaN\n",
            "2017-03-31  61.283286  61.787368  61.096584  61.479317     0.029384        NaN\n",
            "2017-04-30  64.326441  64.541138  63.187588  63.906368     0.039478        NaN\n",
            "2017-05-31  66.216067  66.413221  65.540104  65.568268     0.026005        NaN\n",
            "2017-06-30  64.573109  65.136409  64.535555  64.713936    -0.013030        NaN\n",
            "2017-07-31  68.816649  68.948085  67.981086  68.253342     0.054693        NaN\n",
            "2017-08-31  69.872272  70.750041  69.655193  70.570709     0.033952        NaN\n",
            "2017-09-30  69.787344  70.353645  69.730708  70.306450    -0.003745        NaN\n",
            "2017-10-31  79.622121  79.622121  78.442324  78.508392     0.116660        NaN\n",
            "2017-11-30  79.215717  80.173775  79.054453  79.841774     0.016984        NaN\n",
            "2017-12-31  81.226695  81.625103  81.103383  81.141327     0.016277        NaN\n",
            "2017-01-31        NaN  60.450056  59.624261  59.986126          NaN  60.180976\n",
            "2017-02-28        NaN  59.929722  59.518990  59.724358          NaN  59.817708\n",
            "2017-03-31        NaN  61.787368  61.096584  61.479317          NaN  61.283286\n",
            "2017-04-30        NaN  64.541138  63.187588  63.906368          NaN  64.326441\n"
          ]
        }
      ],
      "source": [
        "append = aapl_bar.append(df_2017)\n",
        "print(append)"
      ]
    },
    {
      "cell_type": "markdown",
      "metadata": {
        "id": "zXZuh92f68Po"
      },
      "source": [
        "**My own example 203**"
      ]
    },
    {
      "cell_type": "code",
      "execution_count": null,
      "metadata": {
        "colab": {
          "base_uri": "https://localhost:8080/"
        },
        "id": "lgw0qaOsHW-D",
        "outputId": "ea83579c-7ff6-4a48-c965-57048fd85ef0"
      },
      "outputs": [
        {
          "output_type": "stream",
          "name": "stdout",
          "text": [
            "                  Open        High         Low       Close  rate_return\n",
            "Date                                                                   \n",
            "2018-01-31   88.929127   90.494281   88.701470   90.124336          NaN\n",
            "2018-02-28   90.385666   91.214808   89.232497   89.365921    -0.008415\n",
            "2018-03-31   85.944565   87.955466   84.248166   86.983368    -0.026661\n",
            "2018-04-30   91.805715   91.872427   88.775068   89.127686     0.024652\n",
            "2018-05-31   95.036838   95.706850   94.385966   94.606110     0.061467\n",
            "2018-06-30   94.692240   95.630264   94.117943   94.385948    -0.002327\n",
            "2018-07-31  101.928421  102.148572  100.865968  101.535988     0.075753\n",
            "2018-08-31  107.317073  108.364393  107.153723  107.932014     0.062993\n",
            "2018-09-30  109.719206  110.084325  109.229171  109.892159     0.018161\n",
            "2018-10-31  101.311764  103.906049  101.263719  102.628120    -0.066102\n",
            "2018-11-30  106.825345  107.085899  105.532251  107.008698     0.042684\n",
            "2018-12-31   98.516708   98.825514   96.036662   96.876213    -0.094688\n",
            "2017-01-31   60.180976   60.450056   59.624261   59.986126          NaN\n",
            "2017-02-28   59.817708   59.929722   59.518990   59.724358          NaN\n",
            "2017-03-31   61.283286   61.787368   61.096584   61.479317          NaN\n",
            "2017-04-30   64.326441   64.541138   63.187588   63.906368          NaN\n"
          ]
        }
      ],
      "source": [
        "append = msft_bar.append(df_2017)\n",
        "print(append)"
      ]
    },
    {
      "cell_type": "markdown",
      "metadata": {
        "id": "zXT6cMquSq_P"
      },
      "source": [
        "'Append' is essentially to concat two DataFrames by axis = 0, thus here is an alternative way to append:"
      ]
    },
    {
      "cell_type": "code",
      "execution_count": null,
      "metadata": {
        "colab": {
          "base_uri": "https://localhost:8080/"
        },
        "id": "MaQHw4BF7Laa",
        "outputId": "3931c2cd-c684-4aea-cef5-dcba2ddd673b"
      },
      "outputs": [
        {
          "output_type": "stream",
          "name": "stdout",
          "text": [
            "                 Open       High        Low      Close  rate_return\n",
            "Date                                                               \n",
            "2017-01-31  60.180976  60.450056  59.624261  59.986126          NaN\n",
            "2017-02-28  59.817708  59.929722  59.518990  59.724358    -0.004364\n",
            "2017-03-31  61.283286  61.787368  61.096584  61.479317     0.029384\n",
            "2017-04-30  64.326441  64.541138  63.187588  63.906368     0.039478\n",
            "2017-05-31  66.216067  66.413221  65.540104  65.568268     0.026005\n",
            "2017-06-30  64.573109  65.136409  64.535555  64.713936    -0.013030\n",
            "2017-07-31  68.816649  68.948085  67.981086  68.253342     0.054693\n",
            "2017-08-31  69.872272  70.750041  69.655193  70.570709     0.033952\n",
            "2017-09-30  69.787344  70.353645  69.730708  70.306450    -0.003745\n",
            "2017-10-31  79.622121  79.622121  78.442324  78.508392     0.116660\n",
            "2017-11-30  79.215717  80.173775  79.054453  79.841774     0.016984\n",
            "2017-12-31  81.226695  81.625103  81.103383  81.141327     0.016277\n",
            "2017-01-31  60.180976  60.450056  59.624261  59.986126          NaN\n",
            "2017-02-28  59.817708  59.929722  59.518990  59.724358          NaN\n",
            "2017-03-31  61.283286  61.787368  61.096584  61.479317          NaN\n",
            "2017-04-30  64.326441  64.541138  63.187588  63.906368          NaN\n"
          ]
        }
      ],
      "source": [
        "concat = pd.concat([aapl_bar, df_2017], axis = 0)\n",
        "print(concat)"
      ]
    },
    {
      "cell_type": "markdown",
      "metadata": {
        "id": "rfmBAhxh6-Yj"
      },
      "source": [
        "**My own example 204**"
      ]
    },
    {
      "cell_type": "code",
      "execution_count": null,
      "metadata": {
        "colab": {
          "base_uri": "https://localhost:8080/"
        },
        "id": "2EuSaFO9HW-D",
        "outputId": "f9901dc6-df08-4720-a9ce-a30fc101424d"
      },
      "outputs": [
        {
          "output_type": "stream",
          "name": "stdout",
          "text": [
            "                  Open        High         Low       Close  rate_return\n",
            "Date                                                                   \n",
            "2018-01-31   88.929127   90.494281   88.701470   90.124336          NaN\n",
            "2018-02-28   90.385666   91.214808   89.232497   89.365921    -0.008415\n",
            "2018-03-31   85.944565   87.955466   84.248166   86.983368    -0.026661\n",
            "2018-04-30   91.805715   91.872427   88.775068   89.127686     0.024652\n",
            "2018-05-31   95.036838   95.706850   94.385966   94.606110     0.061467\n",
            "2018-06-30   94.692240   95.630264   94.117943   94.385948    -0.002327\n",
            "2018-07-31  101.928421  102.148572  100.865968  101.535988     0.075753\n",
            "2018-08-31  107.317073  108.364393  107.153723  107.932014     0.062993\n",
            "2018-09-30  109.719206  110.084325  109.229171  109.892159     0.018161\n",
            "2018-10-31  101.311764  103.906049  101.263719  102.628120    -0.066102\n",
            "2018-11-30  106.825345  107.085899  105.532251  107.008698     0.042684\n",
            "2018-12-31   98.516708   98.825514   96.036662   96.876213    -0.094688\n",
            "2017-01-31   60.180976   60.450056   59.624261   59.986126          NaN\n",
            "2017-02-28   59.817708   59.929722   59.518990   59.724358          NaN\n",
            "2017-03-31   61.283286   61.787368   61.096584   61.479317          NaN\n",
            "2017-04-30   64.326441   64.541138   63.187588   63.906368          NaN\n"
          ]
        }
      ],
      "source": [
        "concat = pd.concat([msft_bar, df_2017], axis = 0)\n",
        "print(concat)"
      ]
    },
    {
      "cell_type": "markdown",
      "metadata": {
        "id": "-YXL7V9ASst9"
      },
      "source": [
        "Please note that if the two DataFrame have some columns with the same column names, these columns are considered to be the same and will be merged. It's very important to have the right column names. If we change a column names here:"
      ]
    },
    {
      "cell_type": "code",
      "execution_count": null,
      "metadata": {
        "colab": {
          "base_uri": "https://localhost:8080/"
        },
        "id": "-836cHtv7WSS",
        "outputId": "f465b176-a9d8-40b8-f7b7-ff21cf8ad827"
      },
      "outputs": [
        {
          "output_type": "stream",
          "name": "stdout",
          "text": [
            "                 Open       High        Low      Close  rate_return  \\\n",
            "Date                                                                  \n",
            "2017-01-31  60.180976  60.450056  59.624261  59.986126          NaN   \n",
            "2017-02-28  59.817708  59.929722  59.518990  59.724358    -0.004364   \n",
            "2017-03-31  61.283286  61.787368  61.096584  61.479317     0.029384   \n",
            "2017-04-30  64.326441  64.541138  63.187588  63.906368     0.039478   \n",
            "2017-05-31  66.216067  66.413221  65.540104  65.568268     0.026005   \n",
            "2017-06-30  64.573109  65.136409  64.535555  64.713936    -0.013030   \n",
            "2017-07-31  68.816649  68.948085  67.981086  68.253342     0.054693   \n",
            "2017-08-31  69.872272  70.750041  69.655193  70.570709     0.033952   \n",
            "2017-09-30  69.787344  70.353645  69.730708  70.306450    -0.003745   \n",
            "2017-10-31  79.622121  79.622121  78.442324  78.508392     0.116660   \n",
            "2017-11-30  79.215717  80.173775  79.054453  79.841774     0.016984   \n",
            "2017-12-31  81.226695  81.625103  81.103383  81.141327     0.016277   \n",
            "\n",
            "               Change       High        Low      Close  \n",
            "Date                                                    \n",
            "2017-01-31  60.180976  60.450056  59.624261  59.986126  \n",
            "2017-02-28  59.817708  59.929722  59.518990  59.724358  \n",
            "2017-03-31  61.283286  61.787368  61.096584  61.479317  \n",
            "2017-04-30  64.326441  64.541138  63.187588  63.906368  \n",
            "2017-05-31        NaN        NaN        NaN        NaN  \n",
            "2017-06-30        NaN        NaN        NaN        NaN  \n",
            "2017-07-31        NaN        NaN        NaN        NaN  \n",
            "2017-08-31        NaN        NaN        NaN        NaN  \n",
            "2017-09-30        NaN        NaN        NaN        NaN  \n",
            "2017-10-31        NaN        NaN        NaN        NaN  \n",
            "2017-11-30        NaN        NaN        NaN        NaN  \n",
            "2017-12-31        NaN        NaN        NaN        NaN  \n"
          ]
        }
      ],
      "source": [
        "df_2017.columns = ['Change', 'High','Low','Close']\n",
        "concat = pd.concat([aapl_bar, df_2017], axis = 1)\n",
        "print(concat)"
      ]
    },
    {
      "cell_type": "markdown",
      "metadata": {
        "id": "UTbnbXHw7AZg"
      },
      "source": [
        "**My own example 205**"
      ]
    },
    {
      "cell_type": "code",
      "execution_count": null,
      "metadata": {
        "colab": {
          "base_uri": "https://localhost:8080/"
        },
        "id": "aT1eoa8mHW-D",
        "outputId": "d7d13f61-d927-4628-ed9f-ee5946c821e2"
      },
      "outputs": [
        {
          "output_type": "stream",
          "name": "stdout",
          "text": [
            "                  Open        High         Low       Close  rate_return  \\\n",
            "Date                                                                      \n",
            "2018-01-31   88.929127   90.494281   88.701470   90.124336          NaN   \n",
            "2018-02-28   90.385666   91.214808   89.232497   89.365921    -0.008415   \n",
            "2018-03-31   85.944565   87.955466   84.248166   86.983368    -0.026661   \n",
            "2018-04-30   91.805715   91.872427   88.775068   89.127686     0.024652   \n",
            "2018-05-31   95.036838   95.706850   94.385966   94.606110     0.061467   \n",
            "2018-06-30   94.692240   95.630264   94.117943   94.385948    -0.002327   \n",
            "2018-07-31  101.928421  102.148572  100.865968  101.535988     0.075753   \n",
            "2018-08-31  107.317073  108.364393  107.153723  107.932014     0.062993   \n",
            "2018-09-30  109.719206  110.084325  109.229171  109.892159     0.018161   \n",
            "2018-10-31  101.311764  103.906049  101.263719  102.628120    -0.066102   \n",
            "2018-11-30  106.825345  107.085899  105.532251  107.008698     0.042684   \n",
            "2018-12-31   98.516708   98.825514   96.036662   96.876213    -0.094688   \n",
            "2017-01-31         NaN   60.450056   59.624261   59.986126          NaN   \n",
            "2017-02-28         NaN   59.929722   59.518990   59.724358          NaN   \n",
            "2017-03-31         NaN   61.787368   61.096584   61.479317          NaN   \n",
            "2017-04-30         NaN   64.541138   63.187588   63.906368          NaN   \n",
            "\n",
            "               Change  \n",
            "Date                   \n",
            "2018-01-31        NaN  \n",
            "2018-02-28        NaN  \n",
            "2018-03-31        NaN  \n",
            "2018-04-30        NaN  \n",
            "2018-05-31        NaN  \n",
            "2018-06-30        NaN  \n",
            "2018-07-31        NaN  \n",
            "2018-08-31        NaN  \n",
            "2018-09-30        NaN  \n",
            "2018-10-31        NaN  \n",
            "2018-11-30        NaN  \n",
            "2018-12-31        NaN  \n",
            "2017-01-31  60.180976  \n",
            "2017-02-28  59.817708  \n",
            "2017-03-31  61.283286  \n",
            "2017-04-30  64.326441  \n"
          ]
        }
      ],
      "source": [
        "df_2017.columns = ['Change', 'High','Low','Close']\n",
        "concat = pd.concat([msft_bar, df_2017], axis = 0)\n",
        "print(concat)"
      ]
    },
    {
      "cell_type": "markdown",
      "metadata": {
        "id": "shbpOFyyS6uV"
      },
      "source": [
        "Since the column name of 'Open' has been changed, the new DataFrame has an new column named 'Change'.\n",
        "\n",
        "# Summary\n",
        "\n",
        "Hereby we introduced the most import part of python: resampling and DataFrame manipulation. We only introduced the most commonly used method in Financial data analysis. There are also many methods used in data mining, which are also beneficial. You can always check the [Pandas](https://pandas.pydata.org/pandas-docs/stable/index.html) official documentations for help."
      ]
    }
  ],
  "metadata": {
    "colab": {
      "collapsed_sections": [],
      "name": "nivalderramas_Lab1.ipynb",
      "provenance": []
    },
    "kernelspec": {
      "display_name": "Python 3 (ipykernel)",
      "language": "python",
      "name": "python3"
    },
    "language_info": {
      "codemirror_mode": {
        "name": "ipython",
        "version": 3
      },
      "file_extension": ".py",
      "mimetype": "text/x-python",
      "name": "python",
      "nbconvert_exporter": "python",
      "pygments_lexer": "ipython3",
      "version": "3.10.2"
    }
  },
  "nbformat": 4,
  "nbformat_minor": 0
}